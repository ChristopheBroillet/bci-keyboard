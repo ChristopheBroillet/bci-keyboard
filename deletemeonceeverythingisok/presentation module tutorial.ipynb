{
 "cells": [
  {
   "cell_type": "code",
   "execution_count": 11,
   "id": "75abfd32",
   "metadata": {},
   "outputs": [],
   "source": [
    "from mindaffectBCI.noisetag import Noisetag, sumstats\n",
    "nt = Noisetag()"
   ]
  },
  {
   "cell_type": "code",
   "execution_count": 12,
   "id": "5071ffa3",
   "metadata": {},
   "outputs": [],
   "source": [
    "import pyglet\n",
    "# define a simple 2-squares drawing function\n",
    "def draw_squares(col1,col2):\n",
    "    # draw square 1: @100,190 , width=100, height=100\n",
    "    x=100; y=190; w=100; h=100;\n",
    "    pyglet.graphics.draw(4,pyglet.gl.GL_QUADS,\n",
    "                         ('v2f',(x,y,x+w,y,x+w,y+h,x,y+h)),\n",
    "             ('c3f',(col1)*4))\n",
    "    # draw square 2: @440,100\n",
    "    x=640-100-100\n",
    "    pyglet.graphics.draw(4,pyglet.gl.GL_QUADS,\n",
    "                         ('v2f',(x,y,x+w,y,x+w,y+h,x,y+h)),\n",
    "             ('c3f',(col2)*4))"
   ]
  },
  {
   "cell_type": "code",
   "execution_count": 13,
   "id": "d5e4d22f",
   "metadata": {},
   "outputs": [],
   "source": [
    "# dictionary mapping from stimulus-state to colors\n",
    "state2color={0:(.2,.2,.2), # off=grey\n",
    "             1:(1,1,1),    # on=white\n",
    "             2:(0,1,0),    # cue=green\n",
    "             3:(0,0,1)}    # feedback=blue\n",
    "def draw(dt):\n",
    "    '''draw the display with colors from noisetag'''\n",
    "    # send info on the *previous* stimulus state, with the recorded vsync time (if available)\n",
    "    fliptime = window.lastfliptime if window.lastfliptime else nt.getTimeStamp()\n",
    "    nt.sendStimulusState(timestamp=fliptime)\n",
    "    # update and get the new stimulus state to display\n",
    "    try :\n",
    "        nt.updateStimulusState()\n",
    "        stimulus_state,target_state,objIDs,sendEvents=nt.getStimulusState()\n",
    "    except StopIteration :\n",
    "        pyglet.app.exit() # terminate app when noisetag is done\n",
    "        return\n",
    "\n",
    "    # draw the display with the instructed colors\n",
    "    if stimulus_state :\n",
    "        draw_squares(state2color[stimulus_state[0]],\n",
    "                     state2color[stimulus_state[1]])\n",
    "\n",
    "    # some textual logging of what's happening\n",
    "    if target_state is not None and target_state>=0:\n",
    "        print(\"*\" if target_state>0 else '.',end='',flush=True)\n",
    "    else:\n",
    "        print('.',end='',flush=True)"
   ]
  },
  {
   "cell_type": "code",
   "execution_count": 14,
   "id": "8e480af3",
   "metadata": {},
   "outputs": [],
   "source": [
    "def helloworld(objID):\n",
    "    print(\"hello world\")\n",
    "\n",
    "def printID(objID):\n",
    "    print(\"Selected: %d\"%(objID))\n",
    "\n",
    "# define a trivial selection handler\n",
    "def selectionHandler(objID):\n",
    "    selection_mapping = {\n",
    "        1:helloworld,\n",
    "        2:printID\n",
    "    }\n",
    "    func = selection_mapping.get(objID)\n",
    "    func(objID)"
   ]
  },
  {
   "cell_type": "code",
   "execution_count": 15,
   "id": "0ed9c096",
   "metadata": {},
   "outputs": [],
   "source": [
    "import types\n",
    "\n",
    "def timedflip(self):\n",
    "    '''pseudo method type which records the timestamp for window flips'''\n",
    "    type(self).flip(self) # call the 'real' flip method...\n",
    "    self.lastfliptime=nt.getTimeStamp()\n"
   ]
  },
  {
   "cell_type": "code",
   "execution_count": 16,
   "id": "33d68dc8",
   "metadata": {},
   "outputs": [
    {
     "name": "stderr",
     "output_type": "stream",
     "text": [
      "2023-04-21 17:10:17.742 Python[47290:531400] ApplePersistenceIgnoreState: Existing state will not be touched. New state will be written to /var/folders/8w/l2m8r9210g3_2wybgky04r_w0000gn/T/org.python.python.savedState\n"
     ]
    }
   ],
   "source": [
    "# Initialize the drawing window\n",
    "# make a default window, with fixed size for simplicty, and vsync for timing\n",
    "config = pyglet.gl.Config(double_buffer=True)\n",
    "window = pyglet.window.Window(fullscreen=False, width=640,height=480, vsync=True, config=config)\n",
    "\n",
    "# Setup the flip-time recording for this window\n",
    "window.flip = types.MethodType(timedflip,window)\n",
    "window.lastfliptime=None\n"
   ]
  },
  {
   "cell_type": "code",
   "execution_count": 1,
   "id": "701c9e81",
   "metadata": {},
   "outputs": [
    {
     "name": "stdout",
     "output_type": "stream",
     "text": [
      "Loading config from: /Users/Emmanuel/Documents/GitHub/pymindaffectBCI/mindaffectBCI/fake_recogniser.json\n",
      "Saving to /Users/Emmanuel/Documents/GitHub/pymindaffectBCI/mindaffectBCI/decoder/../../logs\n",
      "Running command: ('java', '-jar', 'UtopiaServer.jar', '8400', '0', '/Users/Emmanuel/Documents/GitHub/pymindaffectBCI/mindaffectBCI/decoder/../../logs/mindaffectBCI_fake_recogniser.txt')\n",
      "Server:cons\n",
      "Server:open server ports\n",
      "Server: Opening Port:8400\n",
      "Server: Opening UDP Port:8400\n",
      "Server: Utopia Server listening on: UDP:8400\n",
      "llw0->/fe80:0:0:0:24a4:73ff:fe06:24fb%llw0 ll=true\n",
      "awdl0->/fe80:0:0:0:24a4:73ff:fe06:24fb%awdl0 ll=true\n",
      "anpi0->/fe80:0:0:0:e0f2:6eff:feed:a080%anpi0 ll=true\n",
      "anpi1->/fe80:0:0:0:e0f2:6eff:feed:a081%anpi1 ll=true\n",
      "en0->/192.168.1.101 ll=false\n",
      "Server: Opening SSDP-ipv4 Port:\n",
      "llw0->/fe80:0:0:0:24a4:73ff:fe06:24fb%llw0 ll=truesl=false\n",
      "awdl0->/fe80:0:0:0:24a4:73ff:fe06:24fb%awdl0 ll=truesl=false\n",
      "anpi0->/fe80:0:0:0:e0f2:6eff:feed:a080%anpi0 ll=truesl=false\n",
      "anpi1->/fe80:0:0:0:e0f2:6eff:feed:a081%anpi1 ll=truesl=false\n",
      "en0->/192.168.1.101 ll=falsesl=true\n",
      "NIC=name:en0 (en0)\n",
      "SSDP NIC: name:en0 (en0)\n",
      "Server: Utopia Server listening on: SSDP:/0.0.0.0\n",
      "Server: Opening SSDP-v6 Port:\n",
      "llw0->/fe80:0:0:0:24a4:73ff:fe06:24fb%llw0 ll=truesl=false\n",
      "awdl0->/fe80:0:0:0:24a4:73ff:fe06:24fb%awdl0 ll=truesl=false\n",
      "anpi0->/fe80:0:0:0:e0f2:6eff:feed:a080%anpi0 ll=truesl=false\n",
      "anpi1->/fe80:0:0:0:e0f2:6eff:feed:a081%anpi1 ll=truesl=false\n",
      "en0->/192.168.1.101 ll=falsesl=true\n",
      "NIC=name:en0 (en0)\n",
      "Server: Couldn't setup SSDP server socket\n",
      "Address family not supported by protocol family\n",
      "write description.xml\n",
      "Server:writing file: ./description.xml\n",
      "Server: Ports open, waiting for connections\n",
      "setup logging file\n",
      "Server:logging new messages to file: /Users/Emmanuel/Documents/GitHub/pymindaffectBCI/mindaffectBCI/decoder/../../logs/mindaffectBCI_fake_recogniser_230421_1658.txt\n",
      "Server: Utopia Server Status: \n",
      "Listening on Address : \n",
      "\n",
      "/192.168.1.101:8400\n",
      "/127.0.0.1:8400\n",
      "\n",
      " Saving to :\n",
      "/Users/Emmanuel/Documents/GitHub/pymindaffectBCI/mindaffectBCI/decoder/../../logs/mindaffectBCI_fake_recogniser_230421_1658.txt\n",
      "Already initialized!\n",
      "Server:  Waiting for connections/messages\n",
      "h+\n",
      "H+\n",
      "h+\n",
      "Starting fakedata\n",
      "h+\n",
      "Tring to connect to: localhost:8400\n",
      "Trying to connect to: localhost:8400\n",
      "Connected!\n",
      "\n",
      "Server: New Client Connection : /127.0.0.1:61090\n",
      "\n",
      "h+\n",
      "\n",
      "Offset Update:0.0->-1.566873332E9\n",
      "ClientInfoSubscribed /127.0.0.1:61090 to : []\n",
      "HA\n",
      "Offset Update:-1.566873332E9->-1.566873336E9\n",
      "DPutting header. 4 ch @ 200 Hz\n",
      "20 2 0.049458 404.385247 (samp,blk,s,hz)\n",
      "D\n",
      "Offset Update:-1.566873336E9->-1.566873337E9\n",
      "DH+\n",
      "DDDh+\n",
      "DDDDDDh+\n",
      "DDDDDDh+\n",
      "DDMacOSX\n",
      "nbAgg\n",
      "DHDDTkAgg\n",
      "Dh+\n",
      "H+\n",
      "WebAgg\n",
      "DDDDDDh+\n",
      "DDDWX\n",
      "WXAgg\n",
      "Dagg\n",
      "DDh+\n",
      "Dpdf\n",
      "pgf\n",
      "ps\n",
      "svg\n",
      "template\n",
      "Initial backend: template\n",
      "Using backend: TkAgg\n",
      "Starting: mindaffectBCI.decoder.decoder\n",
      "DDDDh+\n",
      "DHDDDH+\n",
      "DDh+\n",
      "DDDDDh+\n",
      "DDDDDDh+\n",
      "DDDD630 63 3.099283 203.272823 (samp,blk,s,hz)\n",
      "DHDh+\n",
      "DDH+\n",
      "SSDP::Query matched.  Sending response to/192.168.1.101:54133\n",
      "DDDh+\n",
      "DDDDDDh+\n",
      "DDDDDDh+\n",
      "DDDHDDDh+\n",
      "H+\n",
      "DDDDDDh+\n",
      "DDDDDDh+\n",
      "DDDDDDHh+\n",
      "DDDH+\n",
      "DDh+\n",
      "DDDDDDh+\n",
      "DDDDD"
     ]
    },
    {
     "ename": "AttributeError",
     "evalue": "'bool' object has no attribute 'lower'",
     "output_type": "error",
     "traceback": [
      "\u001b[0;31m---------------------------------------------------------------------------\u001b[0m",
      "\u001b[0;31mAttributeError\u001b[0m                            Traceback (most recent call last)",
      "Cell \u001b[0;32mIn[1], line 3\u001b[0m\n\u001b[1;32m      1\u001b[0m \u001b[38;5;28;01mimport\u001b[39;00m \u001b[38;5;21;01mmindaffectBCI\u001b[39;00m\u001b[38;5;21;01m.\u001b[39;00m\u001b[38;5;21;01monline_bci\u001b[39;00m\n\u001b[1;32m      2\u001b[0m config \u001b[38;5;241m=\u001b[39m mindaffectBCI\u001b[38;5;241m.\u001b[39monline_bci\u001b[38;5;241m.\u001b[39mload_config(\u001b[38;5;124m'\u001b[39m\u001b[38;5;124mfake_recogniser.json\u001b[39m\u001b[38;5;124m'\u001b[39m)\n\u001b[0;32m----> 3\u001b[0m \u001b[43mmindaffectBCI\u001b[49m\u001b[38;5;241;43m.\u001b[39;49m\u001b[43monline_bci\u001b[49m\u001b[38;5;241;43m.\u001b[39;49m\u001b[43mrun\u001b[49m\u001b[43m(\u001b[49m\u001b[38;5;241;43m*\u001b[39;49m\u001b[38;5;241;43m*\u001b[39;49m\u001b[43mconfig\u001b[49m\u001b[43m)\u001b[49m\n",
      "File \u001b[0;32m~/Documents/GitHub/pymindaffectBCI/mindaffectBCI/online_bci.py:301\u001b[0m, in \u001b[0;36mrun\u001b[0;34m(label, logdir, block, acquisition, acq_args, decoder, decoder_args, presentation, presentation_args)\u001b[0m\n\u001b[1;32m    297\u001b[0m     \u001b[38;5;28;01mraise\u001b[39;00m \u001b[38;5;167;01mValueError\u001b[39;00m(\u001b[38;5;124m\"\u001b[39m\u001b[38;5;124mDecoder didn\u001b[39m\u001b[38;5;124m'\u001b[39m\u001b[38;5;124mt start correctly!\u001b[39m\u001b[38;5;124m\"\u001b[39m)\n\u001b[1;32m    299\u001b[0m \u001b[38;5;66;03m#--------------------------- PRESENTATION ------------------------------\u001b[39;00m\n\u001b[1;32m    300\u001b[0m \u001b[38;5;66;03m# run the stimulus, in a background processwith our matrix and default parameters for a noise tag\u001b[39;00m\n\u001b[0;32m--> 301\u001b[0m presentation_process \u001b[38;5;241m=\u001b[39m \u001b[43mstartPresentationProcess\u001b[49m\u001b[43m(\u001b[49m\u001b[43mpresentation\u001b[49m\u001b[43m,\u001b[49m\u001b[43m \u001b[49m\u001b[43mpresentation_args\u001b[49m\u001b[43m)\u001b[49m\n\u001b[1;32m    303\u001b[0m \u001b[38;5;28;01mif\u001b[39;00m block \u001b[38;5;241m==\u001b[39m \u001b[38;5;28;01mTrue\u001b[39;00m:\n\u001b[1;32m    304\u001b[0m     \u001b[38;5;28;01mif\u001b[39;00m presentation_process \u001b[38;5;129;01mis\u001b[39;00m \u001b[38;5;129;01mnot\u001b[39;00m \u001b[38;5;28;01mNone\u001b[39;00m:\n\u001b[1;32m    305\u001b[0m         \u001b[38;5;66;03m# wait for presentation to terminate\u001b[39;00m\n",
      "File \u001b[0;32m~/Documents/GitHub/pymindaffectBCI/mindaffectBCI/online_bci.py:174\u001b[0m, in \u001b[0;36mstartPresentationProcess\u001b[0;34m(presentation, presentation_args)\u001b[0m\n\u001b[1;32m    172\u001b[0m \u001b[38;5;28;01mdef\u001b[39;00m \u001b[38;5;21mstartPresentationProcess\u001b[39m(presentation,presentation_args):\n\u001b[1;32m    173\u001b[0m     target\u001b[38;5;241m=\u001b[39m\u001b[38;5;28;01mNone\u001b[39;00m\n\u001b[0;32m--> 174\u001b[0m     \u001b[38;5;28;01mif\u001b[39;00m \u001b[43mpresentation\u001b[49m\u001b[38;5;241;43m.\u001b[39;49m\u001b[43mlower\u001b[49m() \u001b[38;5;241m==\u001b[39m \u001b[38;5;124m'\u001b[39m\u001b[38;5;124mselectionMatrix\u001b[39m\u001b[38;5;124m'\u001b[39m\u001b[38;5;241m.\u001b[39mlower() \u001b[38;5;129;01mor\u001b[39;00m presentation\u001b[38;5;241m.\u001b[39mlower() \u001b[38;5;241m==\u001b[39m \u001b[38;5;124m'\u001b[39m\u001b[38;5;124mmindaffectBCI.examples.presentation.selectionMatrix\u001b[39m\u001b[38;5;124m'\u001b[39m\u001b[38;5;241m.\u001b[39mlower():\n\u001b[1;32m    175\u001b[0m         \u001b[38;5;28;01mif\u001b[39;00m presentation_args \u001b[38;5;129;01mis\u001b[39;00m \u001b[38;5;28;01mNone\u001b[39;00m:\n\u001b[1;32m    176\u001b[0m             presentation_args \u001b[38;5;241m=\u001b[39m \u001b[38;5;28mdict\u001b[39m(symbols\u001b[38;5;241m=\u001b[39m [[\u001b[38;5;124m'\u001b[39m\u001b[38;5;124mHello\u001b[39m\u001b[38;5;124m'\u001b[39m, \u001b[38;5;124m'\u001b[39m\u001b[38;5;124mGood bye\u001b[39m\u001b[38;5;124m'\u001b[39m], \n\u001b[1;32m    177\u001b[0m                                                [\u001b[38;5;124m'\u001b[39m\u001b[38;5;124mYes\u001b[39m\u001b[38;5;124m'\u001b[39m,   \u001b[38;5;124m'\u001b[39m\u001b[38;5;124mNo\u001b[39m\u001b[38;5;124m'\u001b[39m]])\n",
      "\u001b[0;31mAttributeError\u001b[0m: 'bool' object has no attribute 'lower'"
     ]
    },
    {
     "name": "stdout",
     "output_type": "stream",
     "text": [
      "Dh+\n",
      "D1240 124 6.149212 201.651858 (samp,blk,s,hz)\n",
      "DDHD"
     ]
    },
    {
     "name": "stderr",
     "output_type": "stream",
     "text": [
      "2023-04-21 16:58:11.355 Python[47181:529778] ApplePersistenceIgnoreState: Existing state will not be touched. New state will be written to /var/folders/8w/l2m8r9210g3_2wybgky04r_w0000gn/T/org.python.python.savedState\n",
      "2023-04-21 16:58:11.365 Python[47181:529778] *** Assertion failure in +[NSEvent otherEventWithType:location:modifierFlags:timestamp:windowNumber:context:subtype:data1:data2:], NSEvent.m:647\n",
      "2023-04-21 16:58:11.387 Python[47181:529778] *** Assertion failure in +[NSEvent otherEventWithType:location:modifierFlags:timestamp:windowNumber:context:subtype:data1:data2:], NSEvent.m:647\n",
      "2023-04-21 16:58:11.401 Python[47181:529778] *** Assertion failure in +[NSEvent otherEventWithType:location:modifierFlags:timestamp:windowNumber:context:subtype:data1:data2:], NSEvent.m:647\n",
      "2023-04-21 16:58:11.414 Python[47181:529778] *** Assertion failure in +[NSEvent otherEventWithType:location:modifierFlags:timestamp:windowNumber:context:subtype:data1:data2:], NSEvent.m:647\n",
      "2023-04-21 16:58:11.428 Python[47181:529778] *** Assertion failure in +[NSEvent otherEventWithType:location:modifierFlags:timestamp:windowNumber:context:subtype:data1:data2:], NSEvent.m:647\n",
      "2023-04-21 16:58:11.442 Python[47181:529778] *** Assertion failure in +[NSEvent otherEventWithType:location:modifierFlags:timestamp:windowNumber:context:subtype:data1:data2:], NSEvent.m:647\n",
      "2023-04-21 16:58:11.457 Python[47181:529778] *** Assertion failure in +[NSEvent otherEventWithType:location:modifierFlags:timestamp:windowNumber:context:subtype:data1:data2:], NSEvent.m:647\n",
      "2023-04-21 16:58:11.471 Python[47181:529778] *** Assertion failure in +[NSEvent otherEventWithType:location:modifierFlags:timestamp:windowNumber:context:subtype:data1:data2:], NSEvent.m:647\n",
      "2023-04-21 16:58:11.486 Python[47181:529778] *** Assertion failure in +[NSEvent otherEventWithType:location:modifierFlags:timestamp:windowNumber:context:subtype:data1:data2:], NSEvent.m:647\n",
      "2023-04-21 16:58:11.500 Python[47181:529778] *** Assertion failure in +[NSEvent otherEventWithType:location:modifierFlags:timestamp:windowNumber:context:subtype:data1:data2:], NSEvent.m:647\n",
      "2023-04-21 16:58:11.514 Python[47181:529778] *** Assertion failure in +[NSEvent otherEventWithType:location:modifierFlags:timestamp:windowNumber:context:subtype:data1:data2:], NSEvent.m:647\n",
      "2023-04-21 16:58:11.529 Python[47181:529778] *** Assertion failure in +[NSEvent otherEventWithType:location:modifierFlags:timestamp:windowNumber:context:subtype:data1:data2:], NSEvent.m:647\n",
      "2023-04-21 16:58:11.543 Python[47181:529778] *** Assertion failure in +[NSEvent otherEventWithType:location:modifierFlags:timestamp:windowNumber:context:subtype:data1:data2:], NSEvent.m:647\n"
     ]
    },
    {
     "name": "stdout",
     "output_type": "stream",
     "text": [
      "DDh+\n",
      "DH+\n",
      "D"
     ]
    },
    {
     "name": "stderr",
     "output_type": "stream",
     "text": [
      "2023-04-21 16:58:11.557 Python[47181:529778] *** Assertion failure in +[NSEvent otherEventWithType:location:modifierFlags:timestamp:windowNumber:context:subtype:data1:data2:], NSEvent.m:647\n",
      "2023-04-21 16:58:11.572 Python[47181:529778] *** Assertion failure in +[NSEvent otherEventWithType:location:modifierFlags:timestamp:windowNumber:context:subtype:data1:data2:], NSEvent.m:647\n",
      "2023-04-21 16:58:11.587 Python[47181:529778] *** Assertion failure in +[NSEvent otherEventWithType:location:modifierFlags:timestamp:windowNumber:context:subtype:data1:data2:], NSEvent.m:647\n",
      "2023-04-21 16:58:11.602 Python[47181:529778] *** Assertion failure in +[NSEvent otherEventWithType:location:modifierFlags:timestamp:windowNumber:context:subtype:data1:data2:], NSEvent.m:647\n",
      "2023-04-21 16:58:11.617 Python[47181:529778] *** Assertion failure in +[NSEvent otherEventWithType:location:modifierFlags:timestamp:windowNumber:context:subtype:data1:data2:], NSEvent.m:647\n",
      "2023-04-21 16:58:11.632 Python[47181:529778] *** Assertion failure in +[NSEvent otherEventWithType:location:modifierFlags:timestamp:windowNumber:context:subtype:data1:data2:], NSEvent.m:647\n",
      "2023-04-21 16:58:11.647 Python[47181:529778] *** Assertion failure in +[NSEvent otherEventWithType:location:modifierFlags:timestamp:windowNumber:context:subtype:data1:data2:], NSEvent.m:647\n",
      "2023-04-21 16:58:11.662 Python[47181:529778] *** Assertion failure in +[NSEvent otherEventWithType:location:modifierFlags:timestamp:windowNumber:context:subtype:data1:data2:], NSEvent.m:647\n",
      "2023-04-21 16:58:11.677 Python[47181:529778] *** Assertion failure in +[NSEvent otherEventWithType:location:modifierFlags:timestamp:windowNumber:context:subtype:data1:data2:], NSEvent.m:647\n",
      "2023-04-21 16:58:11.693 Python[47181:529778] *** Assertion failure in +[NSEvent otherEventWithType:location:modifierFlags:timestamp:windowNumber:context:subtype:data1:data2:], NSEvent.m:647\n",
      "2023-04-21 16:58:11.708 Python[47181:529778] *** Assertion failure in +[NSEvent otherEventWithType:location:modifierFlags:timestamp:windowNumber:context:subtype:data1:data2:], NSEvent.m:647\n",
      "2023-04-21 16:58:11.723 Python[47181:529778] *** Assertion failure in +[NSEvent otherEventWithType:location:modifierFlags:timestamp:windowNumber:context:subtype:data1:data2:], NSEvent.m:647\n",
      "2023-04-21 16:58:11.738 Python[47181:529778] *** Assertion failure in +[NSEvent otherEventWithType:location:modifierFlags:timestamp:windowNumber:context:subtype:data1:data2:], NSEvent.m:647\n",
      "2023-04-21 16:58:11.753 Python[47181:529778] *** Assertion failure in +[NSEvent otherEventWithType:location:modifierFlags:timestamp:windowNumber:context:subtype:data1:data2:], NSEvent.m:647\n"
     ]
    },
    {
     "name": "stdout",
     "output_type": "stream",
     "text": [
      "DDD"
     ]
    },
    {
     "name": "stderr",
     "output_type": "stream",
     "text": [
      "2023-04-21 16:58:11.769 Python[47181:529778] *** Assertion failure in +[NSEvent otherEventWithType:location:modifierFlags:timestamp:windowNumber:context:subtype:data1:data2:], NSEvent.m:647\n",
      "2023-04-21 16:58:11.784 Python[47181:529778] *** Assertion failure in +[NSEvent otherEventWithType:location:modifierFlags:timestamp:windowNumber:context:subtype:data1:data2:], NSEvent.m:647\n",
      "2023-04-21 16:58:11.799 Python[47181:529778] *** Assertion failure in +[NSEvent otherEventWithType:location:modifierFlags:timestamp:windowNumber:context:subtype:data1:data2:], NSEvent.m:647\n",
      "2023-04-21 16:58:11.813 Python[47181:529778] *** Assertion failure in +[NSEvent otherEventWithType:location:modifierFlags:timestamp:windowNumber:context:subtype:data1:data2:], NSEvent.m:647\n",
      "2023-04-21 16:58:11.829 Python[47181:529778] *** Assertion failure in +[NSEvent otherEventWithType:location:modifierFlags:timestamp:windowNumber:context:subtype:data1:data2:], NSEvent.m:647\n",
      "2023-04-21 16:58:11.843 Python[47181:529778] *** Assertion failure in +[NSEvent otherEventWithType:location:modifierFlags:timestamp:windowNumber:context:subtype:data1:data2:], NSEvent.m:647\n",
      "2023-04-21 16:58:11.858 Python[47181:529778] *** Assertion failure in +[NSEvent otherEventWithType:location:modifierFlags:timestamp:windowNumber:context:subtype:data1:data2:], NSEvent.m:647\n",
      "2023-04-21 16:58:11.874 Python[47181:529778] *** Assertion failure in +[NSEvent otherEventWithType:location:modifierFlags:timestamp:windowNumber:context:subtype:data1:data2:], NSEvent.m:647\n",
      "2023-04-21 16:58:11.888 Python[47181:529778] *** Assertion failure in +[NSEvent otherEventWithType:location:modifierFlags:timestamp:windowNumber:context:subtype:data1:data2:], NSEvent.m:647\n",
      "2023-04-21 16:58:11.903 Python[47181:529778] *** Assertion failure in +[NSEvent otherEventWithType:location:modifierFlags:timestamp:windowNumber:context:subtype:data1:data2:], NSEvent.m:647\n",
      "2023-04-21 16:58:11.918 Python[47181:529778] *** Assertion failure in +[NSEvent otherEventWithType:location:modifierFlags:timestamp:windowNumber:context:subtype:data1:data2:], NSEvent.m:647\n",
      "2023-04-21 16:58:11.933 Python[47181:529778] *** Assertion failure in +[NSEvent otherEventWithType:location:modifierFlags:timestamp:windowNumber:context:subtype:data1:data2:], NSEvent.m:647\n",
      "2023-04-21 16:58:11.949 Python[47181:529778] *** Assertion failure in +[NSEvent otherEventWithType:location:modifierFlags:timestamp:windowNumber:context:subtype:data1:data2:], NSEvent.m:647\n",
      "2023-04-21 16:58:11.963 Python[47181:529778] *** Assertion failure in +[NSEvent otherEventWithType:location:modifierFlags:timestamp:windowNumber:context:subtype:data1:data2:], NSEvent.m:647\n"
     ]
    },
    {
     "name": "stdout",
     "output_type": "stream",
     "text": [
      "Dh+\n",
      "DDDDDh+\n"
     ]
    },
    {
     "name": "stderr",
     "output_type": "stream",
     "text": [
      "2023-04-21 16:58:11.978 Python[47181:529778] *** Assertion failure in +[NSEvent otherEventWithType:location:modifierFlags:timestamp:windowNumber:context:subtype:data1:data2:], NSEvent.m:647\n",
      "2023-04-21 16:58:11.993 Python[47181:529778] *** Assertion failure in +[NSEvent otherEventWithType:location:modifierFlags:timestamp:windowNumber:context:subtype:data1:data2:], NSEvent.m:647\n",
      "2023-04-21 16:58:12.007 Python[47181:529778] *** Assertion failure in +[NSEvent otherEventWithType:location:modifierFlags:timestamp:windowNumber:context:subtype:data1:data2:], NSEvent.m:647\n",
      "2023-04-21 16:58:12.022 Python[47181:529778] *** Assertion failure in +[NSEvent otherEventWithType:location:modifierFlags:timestamp:windowNumber:context:subtype:data1:data2:], NSEvent.m:647\n",
      "2023-04-21 16:58:12.037 Python[47181:529778] *** Assertion failure in +[NSEvent otherEventWithType:location:modifierFlags:timestamp:windowNumber:context:subtype:data1:data2:], NSEvent.m:647\n",
      "2023-04-21 16:58:12.052 Python[47181:529778] *** Assertion failure in +[NSEvent otherEventWithType:location:modifierFlags:timestamp:windowNumber:context:subtype:data1:data2:], NSEvent.m:647\n",
      "2023-04-21 16:58:12.067 Python[47181:529778] *** Assertion failure in +[NSEvent otherEventWithType:location:modifierFlags:timestamp:windowNumber:context:subtype:data1:data2:], NSEvent.m:647\n",
      "2023-04-21 16:58:12.085 Python[47181:529778] *** Assertion failure in +[NSEvent otherEventWithType:location:modifierFlags:timestamp:windowNumber:context:subtype:data1:data2:], NSEvent.m:647\n",
      "2023-04-21 16:58:12.103 Python[47181:529778] *** Assertion failure in +[NSEvent otherEventWithType:location:modifierFlags:timestamp:windowNumber:context:subtype:data1:data2:], NSEvent.m:647\n",
      "2023-04-21 16:58:12.117 Python[47181:529778] *** Assertion failure in +[NSEvent otherEventWithType:location:modifierFlags:timestamp:windowNumber:context:subtype:data1:data2:], NSEvent.m:647\n",
      "2023-04-21 16:58:12.132 Python[47181:529778] *** Assertion failure in +[NSEvent otherEventWithType:location:modifierFlags:timestamp:windowNumber:context:subtype:data1:data2:], NSEvent.m:647\n",
      "2023-04-21 16:58:12.147 Python[47181:529778] *** Assertion failure in +[NSEvent otherEventWithType:location:modifierFlags:timestamp:windowNumber:context:subtype:data1:data2:], NSEvent.m:647\n",
      "2023-04-21 16:58:12.161 Python[47181:529778] *** Assertion failure in +[NSEvent otherEventWithType:location:modifierFlags:timestamp:windowNumber:context:subtype:data1:data2:], NSEvent.m:647\n",
      "2023-04-21 16:58:12.176 Python[47181:529778] *** Assertion failure in +[NSEvent otherEventWithType:location:modifierFlags:timestamp:windowNumber:context:subtype:data1:data2:], NSEvent.m:647\n"
     ]
    },
    {
     "name": "stdout",
     "output_type": "stream",
     "text": [
      "DDDD"
     ]
    },
    {
     "name": "stderr",
     "output_type": "stream",
     "text": [
      "2023-04-21 16:58:12.191 Python[47181:529778] *** Assertion failure in +[NSEvent otherEventWithType:location:modifierFlags:timestamp:windowNumber:context:subtype:data1:data2:], NSEvent.m:647\n",
      "2023-04-21 16:58:12.205 Python[47181:529778] *** Assertion failure in +[NSEvent otherEventWithType:location:modifierFlags:timestamp:windowNumber:context:subtype:data1:data2:], NSEvent.m:647\n",
      "2023-04-21 16:58:12.220 Python[47181:529778] *** Assertion failure in +[NSEvent otherEventWithType:location:modifierFlags:timestamp:windowNumber:context:subtype:data1:data2:], NSEvent.m:647\n",
      "2023-04-21 16:58:12.235 Python[47181:529778] *** Assertion failure in +[NSEvent otherEventWithType:location:modifierFlags:timestamp:windowNumber:context:subtype:data1:data2:], NSEvent.m:647\n",
      "2023-04-21 16:58:12.250 Python[47181:529778] *** Assertion failure in +[NSEvent otherEventWithType:location:modifierFlags:timestamp:windowNumber:context:subtype:data1:data2:], NSEvent.m:647\n",
      "2023-04-21 16:58:12.264 Python[47181:529778] *** Assertion failure in +[NSEvent otherEventWithType:location:modifierFlags:timestamp:windowNumber:context:subtype:data1:data2:], NSEvent.m:647\n",
      "2023-04-21 16:58:12.279 Python[47181:529778] *** Assertion failure in +[NSEvent otherEventWithType:location:modifierFlags:timestamp:windowNumber:context:subtype:data1:data2:], NSEvent.m:647\n",
      "2023-04-21 16:58:12.294 Python[47181:529778] *** Assertion failure in +[NSEvent otherEventWithType:location:modifierFlags:timestamp:windowNumber:context:subtype:data1:data2:], NSEvent.m:647\n",
      "2023-04-21 16:58:12.309 Python[47181:529778] *** Assertion failure in +[NSEvent otherEventWithType:location:modifierFlags:timestamp:windowNumber:context:subtype:data1:data2:], NSEvent.m:647\n",
      "2023-04-21 16:58:12.324 Python[47181:529778] *** Assertion failure in +[NSEvent otherEventWithType:location:modifierFlags:timestamp:windowNumber:context:subtype:data1:data2:], NSEvent.m:647\n",
      "2023-04-21 16:58:12.340 Python[47181:529778] *** Assertion failure in +[NSEvent otherEventWithType:location:modifierFlags:timestamp:windowNumber:context:subtype:data1:data2:], NSEvent.m:647\n",
      "2023-04-21 16:58:12.355 Python[47181:529778] *** Assertion failure in +[NSEvent otherEventWithType:location:modifierFlags:timestamp:windowNumber:context:subtype:data1:data2:], NSEvent.m:647\n",
      "2023-04-21 16:58:12.369 Python[47181:529778] *** Assertion failure in +[NSEvent otherEventWithType:location:modifierFlags:timestamp:windowNumber:context:subtype:data1:data2:], NSEvent.m:647\n",
      "2023-04-21 16:58:12.384 Python[47181:529778] *** Assertion failure in +[NSEvent otherEventWithType:location:modifierFlags:timestamp:windowNumber:context:subtype:data1:data2:], NSEvent.m:647\n"
     ]
    },
    {
     "name": "stdout",
     "output_type": "stream",
     "text": [
      "DDh+\n",
      "DH"
     ]
    },
    {
     "name": "stderr",
     "output_type": "stream",
     "text": [
      "2023-04-21 16:58:12.399 Python[47181:529778] *** Assertion failure in +[NSEvent otherEventWithType:location:modifierFlags:timestamp:windowNumber:context:subtype:data1:data2:], NSEvent.m:647\n",
      "2023-04-21 16:58:12.413 Python[47181:529778] *** Assertion failure in +[NSEvent otherEventWithType:location:modifierFlags:timestamp:windowNumber:context:subtype:data1:data2:], NSEvent.m:647\n",
      "2023-04-21 16:58:12.428 Python[47181:529778] *** Assertion failure in +[NSEvent otherEventWithType:location:modifierFlags:timestamp:windowNumber:context:subtype:data1:data2:], NSEvent.m:647\n",
      "2023-04-21 16:58:12.444 Python[47181:529778] *** Assertion failure in +[NSEvent otherEventWithType:location:modifierFlags:timestamp:windowNumber:context:subtype:data1:data2:], NSEvent.m:647\n",
      "2023-04-21 16:58:12.458 Python[47181:529778] *** Assertion failure in +[NSEvent otherEventWithType:location:modifierFlags:timestamp:windowNumber:context:subtype:data1:data2:], NSEvent.m:647\n",
      "2023-04-21 16:58:12.473 Python[47181:529778] *** Assertion failure in +[NSEvent otherEventWithType:location:modifierFlags:timestamp:windowNumber:context:subtype:data1:data2:], NSEvent.m:647\n",
      "2023-04-21 16:58:12.488 Python[47181:529778] *** Assertion failure in +[NSEvent otherEventWithType:location:modifierFlags:timestamp:windowNumber:context:subtype:data1:data2:], NSEvent.m:647\n",
      "2023-04-21 16:58:12.503 Python[47181:529778] *** Assertion failure in +[NSEvent otherEventWithType:location:modifierFlags:timestamp:windowNumber:context:subtype:data1:data2:], NSEvent.m:647\n",
      "2023-04-21 16:58:12.518 Python[47181:529778] *** Assertion failure in +[NSEvent otherEventWithType:location:modifierFlags:timestamp:windowNumber:context:subtype:data1:data2:], NSEvent.m:647\n",
      "2023-04-21 16:58:12.533 Python[47181:529778] *** Assertion failure in +[NSEvent otherEventWithType:location:modifierFlags:timestamp:windowNumber:context:subtype:data1:data2:], NSEvent.m:647\n",
      "2023-04-21 16:58:12.549 Python[47181:529778] *** Assertion failure in +[NSEvent otherEventWithType:location:modifierFlags:timestamp:windowNumber:context:subtype:data1:data2:], NSEvent.m:647\n",
      "2023-04-21 16:58:12.563 Python[47181:529778] *** Assertion failure in +[NSEvent otherEventWithType:location:modifierFlags:timestamp:windowNumber:context:subtype:data1:data2:], NSEvent.m:647\n",
      "2023-04-21 16:58:12.578 Python[47181:529778] *** Assertion failure in +[NSEvent otherEventWithType:location:modifierFlags:timestamp:windowNumber:context:subtype:data1:data2:], NSEvent.m:647\n",
      "2023-04-21 16:58:12.594 Python[47181:529778] *** Assertion failure in +[NSEvent otherEventWithType:location:modifierFlags:timestamp:windowNumber:context:subtype:data1:data2:], NSEvent.m:647\n"
     ]
    },
    {
     "name": "stdout",
     "output_type": "stream",
     "text": [
      "DDDDh+\n",
      "H+\n",
      "D"
     ]
    },
    {
     "name": "stderr",
     "output_type": "stream",
     "text": [
      "2023-04-21 16:58:12.609 Python[47181:529778] *** Assertion failure in +[NSEvent otherEventWithType:location:modifierFlags:timestamp:windowNumber:context:subtype:data1:data2:], NSEvent.m:647\n",
      "2023-04-21 16:58:12.624 Python[47181:529778] *** Assertion failure in +[NSEvent otherEventWithType:location:modifierFlags:timestamp:windowNumber:context:subtype:data1:data2:], NSEvent.m:647\n",
      "2023-04-21 16:58:12.639 Python[47181:529778] *** Assertion failure in +[NSEvent otherEventWithType:location:modifierFlags:timestamp:windowNumber:context:subtype:data1:data2:], NSEvent.m:647\n",
      "2023-04-21 16:58:12.655 Python[47181:529778] *** Assertion failure in +[NSEvent otherEventWithType:location:modifierFlags:timestamp:windowNumber:context:subtype:data1:data2:], NSEvent.m:647\n",
      "2023-04-21 16:58:12.670 Python[47181:529778] *** Assertion failure in +[NSEvent otherEventWithType:location:modifierFlags:timestamp:windowNumber:context:subtype:data1:data2:], NSEvent.m:647\n",
      "2023-04-21 16:58:12.685 Python[47181:529778] *** Assertion failure in +[NSEvent otherEventWithType:location:modifierFlags:timestamp:windowNumber:context:subtype:data1:data2:], NSEvent.m:647\n",
      "2023-04-21 16:58:12.700 Python[47181:529778] *** Assertion failure in +[NSEvent otherEventWithType:location:modifierFlags:timestamp:windowNumber:context:subtype:data1:data2:], NSEvent.m:647\n",
      "2023-04-21 16:58:12.715 Python[47181:529778] *** Assertion failure in +[NSEvent otherEventWithType:location:modifierFlags:timestamp:windowNumber:context:subtype:data1:data2:], NSEvent.m:647\n",
      "2023-04-21 16:58:12.730 Python[47181:529778] *** Assertion failure in +[NSEvent otherEventWithType:location:modifierFlags:timestamp:windowNumber:context:subtype:data1:data2:], NSEvent.m:647\n",
      "2023-04-21 16:58:12.744 Python[47181:529778] *** Assertion failure in +[NSEvent otherEventWithType:location:modifierFlags:timestamp:windowNumber:context:subtype:data1:data2:], NSEvent.m:647\n",
      "2023-04-21 16:58:12.759 Python[47181:529778] *** Assertion failure in +[NSEvent otherEventWithType:location:modifierFlags:timestamp:windowNumber:context:subtype:data1:data2:], NSEvent.m:647\n",
      "2023-04-21 16:58:12.775 Python[47181:529778] *** Assertion failure in +[NSEvent otherEventWithType:location:modifierFlags:timestamp:windowNumber:context:subtype:data1:data2:], NSEvent.m:647\n",
      "2023-04-21 16:58:12.790 Python[47181:529778] *** Assertion failure in +[NSEvent otherEventWithType:location:modifierFlags:timestamp:windowNumber:context:subtype:data1:data2:], NSEvent.m:647\n",
      "2023-04-21 16:58:12.805 Python[47181:529778] *** Assertion failure in +[NSEvent otherEventWithType:location:modifierFlags:timestamp:windowNumber:context:subtype:data1:data2:], NSEvent.m:647\n"
     ]
    },
    {
     "name": "stdout",
     "output_type": "stream",
     "text": [
      "DDDDDh+\n"
     ]
    },
    {
     "name": "stderr",
     "output_type": "stream",
     "text": [
      "2023-04-21 16:58:12.820 Python[47181:529778] *** Assertion failure in +[NSEvent otherEventWithType:location:modifierFlags:timestamp:windowNumber:context:subtype:data1:data2:], NSEvent.m:647\n",
      "2023-04-21 16:58:12.835 Python[47181:529778] *** Assertion failure in +[NSEvent otherEventWithType:location:modifierFlags:timestamp:windowNumber:context:subtype:data1:data2:], NSEvent.m:647\n",
      "2023-04-21 16:58:12.851 Python[47181:529778] *** Assertion failure in +[NSEvent otherEventWithType:location:modifierFlags:timestamp:windowNumber:context:subtype:data1:data2:], NSEvent.m:647\n",
      "2023-04-21 16:58:12.866 Python[47181:529778] *** Assertion failure in +[NSEvent otherEventWithType:location:modifierFlags:timestamp:windowNumber:context:subtype:data1:data2:], NSEvent.m:647\n",
      "2023-04-21 16:58:12.881 Python[47181:529778] *** Assertion failure in +[NSEvent otherEventWithType:location:modifierFlags:timestamp:windowNumber:context:subtype:data1:data2:], NSEvent.m:647\n",
      "2023-04-21 16:58:12.896 Python[47181:529778] *** Assertion failure in +[NSEvent otherEventWithType:location:modifierFlags:timestamp:windowNumber:context:subtype:data1:data2:], NSEvent.m:647\n",
      "2023-04-21 16:58:12.912 Python[47181:529778] *** Assertion failure in +[NSEvent otherEventWithType:location:modifierFlags:timestamp:windowNumber:context:subtype:data1:data2:], NSEvent.m:647\n",
      "2023-04-21 16:58:12.927 Python[47181:529778] *** Assertion failure in +[NSEvent otherEventWithType:location:modifierFlags:timestamp:windowNumber:context:subtype:data1:data2:], NSEvent.m:647\n",
      "2023-04-21 16:58:12.942 Python[47181:529778] *** Assertion failure in +[NSEvent otherEventWithType:location:modifierFlags:timestamp:windowNumber:context:subtype:data1:data2:], NSEvent.m:647\n",
      "2023-04-21 16:58:12.958 Python[47181:529778] *** Assertion failure in +[NSEvent otherEventWithType:location:modifierFlags:timestamp:windowNumber:context:subtype:data1:data2:], NSEvent.m:647\n",
      "2023-04-21 16:58:12.973 Python[47181:529778] *** Assertion failure in +[NSEvent otherEventWithType:location:modifierFlags:timestamp:windowNumber:context:subtype:data1:data2:], NSEvent.m:647\n",
      "2023-04-21 16:58:12.988 Python[47181:529778] *** Assertion failure in +[NSEvent otherEventWithType:location:modifierFlags:timestamp:windowNumber:context:subtype:data1:data2:], NSEvent.m:647\n",
      "2023-04-21 16:58:13.003 Python[47181:529778] *** Assertion failure in +[NSEvent otherEventWithType:location:modifierFlags:timestamp:windowNumber:context:subtype:data1:data2:], NSEvent.m:647\n",
      "2023-04-21 16:58:13.018 Python[47181:529778] *** Assertion failure in +[NSEvent otherEventWithType:location:modifierFlags:timestamp:windowNumber:context:subtype:data1:data2:], NSEvent.m:647\n"
     ]
    },
    {
     "name": "stdout",
     "output_type": "stream",
     "text": [
      "DDD"
     ]
    },
    {
     "name": "stderr",
     "output_type": "stream",
     "text": [
      "2023-04-21 16:58:13.033 Python[47181:529778] *** Assertion failure in +[NSEvent otherEventWithType:location:modifierFlags:timestamp:windowNumber:context:subtype:data1:data2:], NSEvent.m:647\n",
      "2023-04-21 16:58:13.048 Python[47181:529778] *** Assertion failure in +[NSEvent otherEventWithType:location:modifierFlags:timestamp:windowNumber:context:subtype:data1:data2:], NSEvent.m:647\n",
      "2023-04-21 16:58:13.063 Python[47181:529778] *** Assertion failure in +[NSEvent otherEventWithType:location:modifierFlags:timestamp:windowNumber:context:subtype:data1:data2:], NSEvent.m:647\n",
      "2023-04-21 16:58:13.078 Python[47181:529778] *** Assertion failure in +[NSEvent otherEventWithType:location:modifierFlags:timestamp:windowNumber:context:subtype:data1:data2:], NSEvent.m:647\n",
      "2023-04-21 16:58:13.094 Python[47181:529778] *** Assertion failure in +[NSEvent otherEventWithType:location:modifierFlags:timestamp:windowNumber:context:subtype:data1:data2:], NSEvent.m:647\n",
      "2023-04-21 16:58:13.109 Python[47181:529778] *** Assertion failure in +[NSEvent otherEventWithType:location:modifierFlags:timestamp:windowNumber:context:subtype:data1:data2:], NSEvent.m:647\n",
      "2023-04-21 16:58:13.123 Python[47181:529778] *** Assertion failure in +[NSEvent otherEventWithType:location:modifierFlags:timestamp:windowNumber:context:subtype:data1:data2:], NSEvent.m:647\n",
      "2023-04-21 16:58:13.138 Python[47181:529778] *** Assertion failure in +[NSEvent otherEventWithType:location:modifierFlags:timestamp:windowNumber:context:subtype:data1:data2:], NSEvent.m:647\n",
      "2023-04-21 16:58:13.153 Python[47181:529778] *** Assertion failure in +[NSEvent otherEventWithType:location:modifierFlags:timestamp:windowNumber:context:subtype:data1:data2:], NSEvent.m:647\n",
      "2023-04-21 16:58:13.167 Python[47181:529778] *** Assertion failure in +[NSEvent otherEventWithType:location:modifierFlags:timestamp:windowNumber:context:subtype:data1:data2:], NSEvent.m:647\n",
      "2023-04-21 16:58:13.182 Python[47181:529778] *** Assertion failure in +[NSEvent otherEventWithType:location:modifierFlags:timestamp:windowNumber:context:subtype:data1:data2:], NSEvent.m:647\n",
      "2023-04-21 16:58:13.197 Python[47181:529778] *** Assertion failure in +[NSEvent otherEventWithType:location:modifierFlags:timestamp:windowNumber:context:subtype:data1:data2:], NSEvent.m:647\n",
      "2023-04-21 16:58:13.213 Python[47181:529778] *** Assertion failure in +[NSEvent otherEventWithType:location:modifierFlags:timestamp:windowNumber:context:subtype:data1:data2:], NSEvent.m:647\n",
      "2023-04-21 16:58:13.228 Python[47181:529778] *** Assertion failure in +[NSEvent otherEventWithType:location:modifierFlags:timestamp:windowNumber:context:subtype:data1:data2:], NSEvent.m:647\n"
     ]
    },
    {
     "name": "stdout",
     "output_type": "stream",
     "text": [
      "DDDh+\n",
      "DD"
     ]
    },
    {
     "name": "stderr",
     "output_type": "stream",
     "text": [
      "2023-04-21 16:58:13.243 Python[47181:529778] *** Assertion failure in +[NSEvent otherEventWithType:location:modifierFlags:timestamp:windowNumber:context:subtype:data1:data2:], NSEvent.m:647\n",
      "2023-04-21 16:58:13.258 Python[47181:529778] *** Assertion failure in +[NSEvent otherEventWithType:location:modifierFlags:timestamp:windowNumber:context:subtype:data1:data2:], NSEvent.m:647\n",
      "2023-04-21 16:58:13.273 Python[47181:529778] *** Assertion failure in +[NSEvent otherEventWithType:location:modifierFlags:timestamp:windowNumber:context:subtype:data1:data2:], NSEvent.m:647\n",
      "2023-04-21 16:58:13.288 Python[47181:529778] *** Assertion failure in +[NSEvent otherEventWithType:location:modifierFlags:timestamp:windowNumber:context:subtype:data1:data2:], NSEvent.m:647\n",
      "2023-04-21 16:58:13.304 Python[47181:529778] *** Assertion failure in +[NSEvent otherEventWithType:location:modifierFlags:timestamp:windowNumber:context:subtype:data1:data2:], NSEvent.m:647\n",
      "2023-04-21 16:58:13.319 Python[47181:529778] *** Assertion failure in +[NSEvent otherEventWithType:location:modifierFlags:timestamp:windowNumber:context:subtype:data1:data2:], NSEvent.m:647\n",
      "2023-04-21 16:58:13.334 Python[47181:529778] *** Assertion failure in +[NSEvent otherEventWithType:location:modifierFlags:timestamp:windowNumber:context:subtype:data1:data2:], NSEvent.m:647\n",
      "2023-04-21 16:58:13.349 Python[47181:529778] *** Assertion failure in +[NSEvent otherEventWithType:location:modifierFlags:timestamp:windowNumber:context:subtype:data1:data2:], NSEvent.m:647\n",
      "2023-04-21 16:58:13.363 Python[47181:529778] *** Assertion failure in +[NSEvent otherEventWithType:location:modifierFlags:timestamp:windowNumber:context:subtype:data1:data2:], NSEvent.m:647\n",
      "2023-04-21 16:58:13.378 Python[47181:529778] *** Assertion failure in +[NSEvent otherEventWithType:location:modifierFlags:timestamp:windowNumber:context:subtype:data1:data2:], NSEvent.m:647\n",
      "2023-04-21 16:58:13.393 Python[47181:529778] *** Assertion failure in +[NSEvent otherEventWithType:location:modifierFlags:timestamp:windowNumber:context:subtype:data1:data2:], NSEvent.m:647\n",
      "2023-04-21 16:58:13.408 Python[47181:529778] *** Assertion failure in +[NSEvent otherEventWithType:location:modifierFlags:timestamp:windowNumber:context:subtype:data1:data2:], NSEvent.m:647\n",
      "2023-04-21 16:58:13.424 Python[47181:529778] *** Assertion failure in +[NSEvent otherEventWithType:location:modifierFlags:timestamp:windowNumber:context:subtype:data1:data2:], NSEvent.m:647\n",
      "2023-04-21 16:58:13.438 Python[47181:529778] *** Assertion failure in +[NSEvent otherEventWithType:location:modifierFlags:timestamp:windowNumber:context:subtype:data1:data2:], NSEvent.m:647\n"
     ]
    },
    {
     "name": "stdout",
     "output_type": "stream",
     "text": [
      "DDHMacOSX\n",
      "nbAgg\n",
      "TkAgg\n",
      "WebAgg\n",
      "WX\n",
      "WXAgg\n",
      "agg\n",
      "pdf\n",
      "pgf\n",
      "ps\n",
      "svg\n",
      "template\n",
      "Initial backend: template\n",
      "Using backend: TkAgg\n",
      "LOGDIR=/Users/Emmanuel/Documents/GitHub/pymindaffectBCI/mindaffectBCI/decoder/../../logs/\n",
      "Trying to auto-discover the utopia-hub server\n",
      "making discovery object\n",
      "Using inteface: 192.168.1.101\n",
      "Got location: 192.168.1.101\n",
      ".\n",
      ".\n",
      ".\n",
      ".\n",
      ".\n",
      ".\n",
      "Discovery returned 1 utopia-hub servers\n",
      "Discovered utopia-hub on 192.168.1.101 ...\n",
      "Tring to connect to: 192.168.1.101:-1\n",
      "Trying to connect to: 192.168.1.101:8400\n",
      "Connected!\n",
      "\n",
      "Server: New Client Connection : /192.168.1.101:61103\n",
      "\n",
      "\n",
      "Offset Update:0.0->-1.566873336E9\n",
      "ClientInfoSubscribed /192.168.1.101:61103 to : [DEMSN]\n",
      "HDDh+\n"
     ]
    },
    {
     "name": "stderr",
     "output_type": "stream",
     "text": [
      "2023-04-21 16:58:13.453 Python[47181:529778] *** Assertion failure in +[NSEvent otherEventWithType:location:modifierFlags:timestamp:windowNumber:context:subtype:data1:data2:], NSEvent.m:647\n",
      "2023-04-21 16:58:13.469 Python[47181:529778] *** Assertion failure in +[NSEvent otherEventWithType:location:modifierFlags:timestamp:windowNumber:context:subtype:data1:data2:], NSEvent.m:647\n",
      "2023-04-21 16:58:13.484 Python[47181:529778] *** Assertion failure in +[NSEvent otherEventWithType:location:modifierFlags:timestamp:windowNumber:context:subtype:data1:data2:], NSEvent.m:647\n",
      "2023-04-21 16:58:13.499 Python[47181:529778] *** Assertion failure in +[NSEvent otherEventWithType:location:modifierFlags:timestamp:windowNumber:context:subtype:data1:data2:], NSEvent.m:647\n",
      "2023-04-21 16:58:13.513 Python[47181:529778] *** Assertion failure in +[NSEvent otherEventWithType:location:modifierFlags:timestamp:windowNumber:context:subtype:data1:data2:], NSEvent.m:647\n",
      "2023-04-21 16:58:13.528 Python[47181:529778] *** Assertion failure in +[NSEvent otherEventWithType:location:modifierFlags:timestamp:windowNumber:context:subtype:data1:data2:], NSEvent.m:647\n",
      "2023-04-21 16:58:13.542 Python[47181:529778] *** Assertion failure in +[NSEvent otherEventWithType:location:modifierFlags:timestamp:windowNumber:context:subtype:data1:data2:], NSEvent.m:647\n",
      "2023-04-21 16:58:13.557 Python[47181:529778] *** Assertion failure in +[NSEvent otherEventWithType:location:modifierFlags:timestamp:windowNumber:context:subtype:data1:data2:], NSEvent.m:647\n",
      "2023-04-21 16:58:13.572 Python[47181:529778] *** Assertion failure in +[NSEvent otherEventWithType:location:modifierFlags:timestamp:windowNumber:context:subtype:data1:data2:], NSEvent.m:647\n",
      "2023-04-21 16:58:13.587 Python[47181:529778] *** Assertion failure in +[NSEvent otherEventWithType:location:modifierFlags:timestamp:windowNumber:context:subtype:data1:data2:], NSEvent.m:647\n",
      "2023-04-21 16:58:13.602 Python[47181:529778] *** Assertion failure in +[NSEvent otherEventWithType:location:modifierFlags:timestamp:windowNumber:context:subtype:data1:data2:], NSEvent.m:647\n",
      "2023-04-21 16:58:13.617 Python[47181:529778] *** Assertion failure in +[NSEvent otherEventWithType:location:modifierFlags:timestamp:windowNumber:context:subtype:data1:data2:], NSEvent.m:647\n",
      "2023-04-21 16:58:13.632 Python[47181:529778] *** Assertion failure in +[NSEvent otherEventWithType:location:modifierFlags:timestamp:windowNumber:context:subtype:data1:data2:], NSEvent.m:647\n",
      "2023-04-21 16:58:13.647 Python[47181:529778] *** Assertion failure in +[NSEvent otherEventWithType:location:modifierFlags:timestamp:windowNumber:context:subtype:data1:data2:], NSEvent.m:647\n"
     ]
    },
    {
     "name": "stdout",
     "output_type": "stream",
     "text": [
      "DD"
     ]
    },
    {
     "name": "stderr",
     "output_type": "stream",
     "text": [
      "2023-04-21 16:58:13.662 Python[47181:529778] *** Assertion failure in +[NSEvent otherEventWithType:location:modifierFlags:timestamp:windowNumber:context:subtype:data1:data2:], NSEvent.m:647\n",
      "2023-04-21 16:58:13.677 Python[47181:529778] *** Assertion failure in +[NSEvent otherEventWithType:location:modifierFlags:timestamp:windowNumber:context:subtype:data1:data2:], NSEvent.m:647\n",
      "2023-04-21 16:58:13.691 Python[47181:529778] *** Assertion failure in +[NSEvent otherEventWithType:location:modifierFlags:timestamp:windowNumber:context:subtype:data1:data2:], NSEvent.m:647\n",
      "2023-04-21 16:58:13.706 Python[47181:529778] *** Assertion failure in +[NSEvent otherEventWithType:location:modifierFlags:timestamp:windowNumber:context:subtype:data1:data2:], NSEvent.m:647\n",
      "2023-04-21 16:58:13.721 Python[47181:529778] *** Assertion failure in +[NSEvent otherEventWithType:location:modifierFlags:timestamp:windowNumber:context:subtype:data1:data2:], NSEvent.m:647\n",
      "2023-04-21 16:58:13.736 Python[47181:529778] *** Assertion failure in +[NSEvent otherEventWithType:location:modifierFlags:timestamp:windowNumber:context:subtype:data1:data2:], NSEvent.m:647\n",
      "2023-04-21 16:58:13.751 Python[47181:529778] *** Assertion failure in +[NSEvent otherEventWithType:location:modifierFlags:timestamp:windowNumber:context:subtype:data1:data2:], NSEvent.m:647\n",
      "2023-04-21 16:58:13.766 Python[47181:529778] *** Assertion failure in +[NSEvent otherEventWithType:location:modifierFlags:timestamp:windowNumber:context:subtype:data1:data2:], NSEvent.m:647\n",
      "2023-04-21 16:58:13.781 Python[47181:529778] *** Assertion failure in +[NSEvent otherEventWithType:location:modifierFlags:timestamp:windowNumber:context:subtype:data1:data2:], NSEvent.m:647\n",
      "2023-04-21 16:58:13.796 Python[47181:529778] *** Assertion failure in +[NSEvent otherEventWithType:location:modifierFlags:timestamp:windowNumber:context:subtype:data1:data2:], NSEvent.m:647\n",
      "2023-04-21 16:58:13.812 Python[47181:529778] *** Assertion failure in +[NSEvent otherEventWithType:location:modifierFlags:timestamp:windowNumber:context:subtype:data1:data2:], NSEvent.m:647\n",
      "2023-04-21 16:58:13.826 Python[47181:529778] *** Assertion failure in +[NSEvent otherEventWithType:location:modifierFlags:timestamp:windowNumber:context:subtype:data1:data2:], NSEvent.m:647\n",
      "2023-04-21 16:58:13.841 Python[47181:529778] *** Assertion failure in +[NSEvent otherEventWithType:location:modifierFlags:timestamp:windowNumber:context:subtype:data1:data2:], NSEvent.m:647\n",
      "2023-04-21 16:58:13.856 Python[47181:529778] *** Assertion failure in +[NSEvent otherEventWithType:location:modifierFlags:timestamp:windowNumber:context:subtype:data1:data2:], NSEvent.m:647\n"
     ]
    },
    {
     "name": "stdout",
     "output_type": "stream",
     "text": [
      "DH+\n",
      "DDDh+\n",
      "D"
     ]
    },
    {
     "name": "stderr",
     "output_type": "stream",
     "text": [
      "2023-04-21 16:58:13.871 Python[47181:529778] *** Assertion failure in +[NSEvent otherEventWithType:location:modifierFlags:timestamp:windowNumber:context:subtype:data1:data2:], NSEvent.m:647\n",
      "2023-04-21 16:58:13.887 Python[47181:529778] *** Assertion failure in +[NSEvent otherEventWithType:location:modifierFlags:timestamp:windowNumber:context:subtype:data1:data2:], NSEvent.m:647\n",
      "2023-04-21 16:58:13.902 Python[47181:529778] *** Assertion failure in +[NSEvent otherEventWithType:location:modifierFlags:timestamp:windowNumber:context:subtype:data1:data2:], NSEvent.m:647\n",
      "2023-04-21 16:58:13.917 Python[47181:529778] *** Assertion failure in +[NSEvent otherEventWithType:location:modifierFlags:timestamp:windowNumber:context:subtype:data1:data2:], NSEvent.m:647\n",
      "2023-04-21 16:58:13.932 Python[47181:529778] *** Assertion failure in +[NSEvent otherEventWithType:location:modifierFlags:timestamp:windowNumber:context:subtype:data1:data2:], NSEvent.m:647\n",
      "2023-04-21 16:58:13.947 Python[47181:529778] *** Assertion failure in +[NSEvent otherEventWithType:location:modifierFlags:timestamp:windowNumber:context:subtype:data1:data2:], NSEvent.m:647\n",
      "2023-04-21 16:58:13.962 Python[47181:529778] *** Assertion failure in +[NSEvent otherEventWithType:location:modifierFlags:timestamp:windowNumber:context:subtype:data1:data2:], NSEvent.m:647\n",
      "2023-04-21 16:58:13.977 Python[47181:529778] *** Assertion failure in +[NSEvent otherEventWithType:location:modifierFlags:timestamp:windowNumber:context:subtype:data1:data2:], NSEvent.m:647\n",
      "2023-04-21 16:58:13.992 Python[47181:529778] *** Assertion failure in +[NSEvent otherEventWithType:location:modifierFlags:timestamp:windowNumber:context:subtype:data1:data2:], NSEvent.m:647\n",
      "2023-04-21 16:58:14.007 Python[47181:529778] *** Assertion failure in +[NSEvent otherEventWithType:location:modifierFlags:timestamp:windowNumber:context:subtype:data1:data2:], NSEvent.m:647\n",
      "2023-04-21 16:58:14.022 Python[47181:529778] *** Assertion failure in +[NSEvent otherEventWithType:location:modifierFlags:timestamp:windowNumber:context:subtype:data1:data2:], NSEvent.m:647\n",
      "2023-04-21 16:58:14.038 Python[47181:529778] *** Assertion failure in +[NSEvent otherEventWithType:location:modifierFlags:timestamp:windowNumber:context:subtype:data1:data2:], NSEvent.m:647\n",
      "2023-04-21 16:58:14.053 Python[47181:529778] *** Assertion failure in +[NSEvent otherEventWithType:location:modifierFlags:timestamp:windowNumber:context:subtype:data1:data2:], NSEvent.m:647\n",
      "2023-04-21 16:58:14.068 Python[47181:529778] *** Assertion failure in +[NSEvent otherEventWithType:location:modifierFlags:timestamp:windowNumber:context:subtype:data1:data2:], NSEvent.m:647\n"
     ]
    },
    {
     "name": "stdout",
     "output_type": "stream",
     "text": [
      "DDDDD"
     ]
    },
    {
     "name": "stderr",
     "output_type": "stream",
     "text": [
      "2023-04-21 16:58:14.084 Python[47181:529778] *** Assertion failure in +[NSEvent otherEventWithType:location:modifierFlags:timestamp:windowNumber:context:subtype:data1:data2:], NSEvent.m:647\n",
      "2023-04-21 16:58:14.100 Python[47181:529778] *** Assertion failure in +[NSEvent otherEventWithType:location:modifierFlags:timestamp:windowNumber:context:subtype:data1:data2:], NSEvent.m:647\n",
      "2023-04-21 16:58:14.115 Python[47181:529778] *** Assertion failure in +[NSEvent otherEventWithType:location:modifierFlags:timestamp:windowNumber:context:subtype:data1:data2:], NSEvent.m:647\n",
      "2023-04-21 16:58:14.130 Python[47181:529778] *** Assertion failure in +[NSEvent otherEventWithType:location:modifierFlags:timestamp:windowNumber:context:subtype:data1:data2:], NSEvent.m:647\n",
      "2023-04-21 16:58:14.145 Python[47181:529778] *** Assertion failure in +[NSEvent otherEventWithType:location:modifierFlags:timestamp:windowNumber:context:subtype:data1:data2:], NSEvent.m:647\n",
      "2023-04-21 16:58:14.159 Python[47181:529778] *** Assertion failure in +[NSEvent otherEventWithType:location:modifierFlags:timestamp:windowNumber:context:subtype:data1:data2:], NSEvent.m:647\n",
      "2023-04-21 16:58:14.173 Python[47181:529778] *** Assertion failure in +[NSEvent otherEventWithType:location:modifierFlags:timestamp:windowNumber:context:subtype:data1:data2:], NSEvent.m:647\n",
      "2023-04-21 16:58:14.188 Python[47181:529778] *** Assertion failure in +[NSEvent otherEventWithType:location:modifierFlags:timestamp:windowNumber:context:subtype:data1:data2:], NSEvent.m:647\n",
      "2023-04-21 16:58:14.204 Python[47181:529778] *** Assertion failure in +[NSEvent otherEventWithType:location:modifierFlags:timestamp:windowNumber:context:subtype:data1:data2:], NSEvent.m:647\n",
      "2023-04-21 16:58:14.220 Python[47181:529778] *** Assertion failure in +[NSEvent otherEventWithType:location:modifierFlags:timestamp:windowNumber:context:subtype:data1:data2:], NSEvent.m:647\n",
      "2023-04-21 16:58:14.236 Python[47181:529778] *** Assertion failure in +[NSEvent otherEventWithType:location:modifierFlags:timestamp:windowNumber:context:subtype:data1:data2:], NSEvent.m:647\n",
      "2023-04-21 16:58:14.252 Python[47181:529778] *** Assertion failure in +[NSEvent otherEventWithType:location:modifierFlags:timestamp:windowNumber:context:subtype:data1:data2:], NSEvent.m:647\n",
      "2023-04-21 16:58:14.266 Python[47181:529778] *** Assertion failure in +[NSEvent otherEventWithType:location:modifierFlags:timestamp:windowNumber:context:subtype:data1:data2:], NSEvent.m:647\n",
      "2023-04-21 16:58:14.280 Python[47181:529778] *** Assertion failure in +[NSEvent otherEventWithType:location:modifierFlags:timestamp:windowNumber:context:subtype:data1:data2:], NSEvent.m:647\n"
     ]
    },
    {
     "name": "stdout",
     "output_type": "stream",
     "text": [
      "h+\n",
      "DDD1840 184 9.149553 201.102724 (samp,blk,s,hz)\n",
      "D"
     ]
    },
    {
     "name": "stderr",
     "output_type": "stream",
     "text": [
      "2023-04-21 16:58:14.294 Python[47181:529778] *** Assertion failure in +[NSEvent otherEventWithType:location:modifierFlags:timestamp:windowNumber:context:subtype:data1:data2:], NSEvent.m:647\n",
      "2023-04-21 16:58:14.308 Python[47181:529778] *** Assertion failure in +[NSEvent otherEventWithType:location:modifierFlags:timestamp:windowNumber:context:subtype:data1:data2:], NSEvent.m:647\n",
      "2023-04-21 16:58:14.324 Python[47181:529778] *** Assertion failure in +[NSEvent otherEventWithType:location:modifierFlags:timestamp:windowNumber:context:subtype:data1:data2:], NSEvent.m:647\n",
      "2023-04-21 16:58:14.339 Python[47181:529778] *** Assertion failure in +[NSEvent otherEventWithType:location:modifierFlags:timestamp:windowNumber:context:subtype:data1:data2:], NSEvent.m:647\n",
      "2023-04-21 16:58:14.355 Python[47181:529778] *** Assertion failure in +[NSEvent otherEventWithType:location:modifierFlags:timestamp:windowNumber:context:subtype:data1:data2:], NSEvent.m:647\n",
      "2023-04-21 16:58:14.370 Python[47181:529778] *** Assertion failure in +[NSEvent otherEventWithType:location:modifierFlags:timestamp:windowNumber:context:subtype:data1:data2:], NSEvent.m:647\n",
      "2023-04-21 16:58:14.386 Python[47181:529778] *** Assertion failure in +[NSEvent otherEventWithType:location:modifierFlags:timestamp:windowNumber:context:subtype:data1:data2:], NSEvent.m:647\n",
      "2023-04-21 16:58:14.401 Python[47181:529778] *** Assertion failure in +[NSEvent otherEventWithType:location:modifierFlags:timestamp:windowNumber:context:subtype:data1:data2:], NSEvent.m:647\n",
      "2023-04-21 16:58:14.417 Python[47181:529778] *** Assertion failure in +[NSEvent otherEventWithType:location:modifierFlags:timestamp:windowNumber:context:subtype:data1:data2:], NSEvent.m:647\n",
      "2023-04-21 16:58:14.432 Python[47181:529778] *** Assertion failure in +[NSEvent otherEventWithType:location:modifierFlags:timestamp:windowNumber:context:subtype:data1:data2:], NSEvent.m:647\n",
      "2023-04-21 16:58:14.447 Python[47181:529778] *** Assertion failure in +[NSEvent otherEventWithType:location:modifierFlags:timestamp:windowNumber:context:subtype:data1:data2:], NSEvent.m:647\n",
      "2023-04-21 16:58:14.462 Python[47181:529778] *** Assertion failure in +[NSEvent otherEventWithType:location:modifierFlags:timestamp:windowNumber:context:subtype:data1:data2:], NSEvent.m:647\n",
      "2023-04-21 16:58:14.477 Python[47181:529778] *** Assertion failure in +[NSEvent otherEventWithType:location:modifierFlags:timestamp:windowNumber:context:subtype:data1:data2:], NSEvent.m:647\n",
      "2023-04-21 16:58:14.493 Python[47181:529778] *** Assertion failure in +[NSEvent otherEventWithType:location:modifierFlags:timestamp:windowNumber:context:subtype:data1:data2:], NSEvent.m:647\n"
     ]
    },
    {
     "name": "stdout",
     "output_type": "stream",
     "text": [
      "DDh+\n",
      "\n",
      "Offset Update:-1.566873337E9->-1.566873338E9\n",
      "DH\n",
      "Offset Update:-1.566873336E9->-1.566873337E9\n",
      "HDD"
     ]
    },
    {
     "name": "stderr",
     "output_type": "stream",
     "text": [
      "2023-04-21 16:58:14.508 Python[47181:529778] *** Assertion failure in +[NSEvent otherEventWithType:location:modifierFlags:timestamp:windowNumber:context:subtype:data1:data2:], NSEvent.m:647\n",
      "2023-04-21 16:58:14.523 Python[47181:529778] *** Assertion failure in +[NSEvent otherEventWithType:location:modifierFlags:timestamp:windowNumber:context:subtype:data1:data2:], NSEvent.m:647\n",
      "2023-04-21 16:58:14.538 Python[47181:529778] *** Assertion failure in +[NSEvent otherEventWithType:location:modifierFlags:timestamp:windowNumber:context:subtype:data1:data2:], NSEvent.m:647\n",
      "2023-04-21 16:58:14.554 Python[47181:529778] *** Assertion failure in +[NSEvent otherEventWithType:location:modifierFlags:timestamp:windowNumber:context:subtype:data1:data2:], NSEvent.m:647\n",
      "2023-04-21 16:58:14.569 Python[47181:529778] *** Assertion failure in +[NSEvent otherEventWithType:location:modifierFlags:timestamp:windowNumber:context:subtype:data1:data2:], NSEvent.m:647\n",
      "2023-04-21 16:58:14.584 Python[47181:529778] *** Assertion failure in +[NSEvent otherEventWithType:location:modifierFlags:timestamp:windowNumber:context:subtype:data1:data2:], NSEvent.m:647\n",
      "2023-04-21 16:58:14.599 Python[47181:529778] *** Assertion failure in +[NSEvent otherEventWithType:location:modifierFlags:timestamp:windowNumber:context:subtype:data1:data2:], NSEvent.m:647\n",
      "2023-04-21 16:58:14.614 Python[47181:529778] *** Assertion failure in +[NSEvent otherEventWithType:location:modifierFlags:timestamp:windowNumber:context:subtype:data1:data2:], NSEvent.m:647\n",
      "2023-04-21 16:58:14.630 Python[47181:529778] *** Assertion failure in +[NSEvent otherEventWithType:location:modifierFlags:timestamp:windowNumber:context:subtype:data1:data2:], NSEvent.m:647\n",
      "2023-04-21 16:58:14.645 Python[47181:529778] *** Assertion failure in +[NSEvent otherEventWithType:location:modifierFlags:timestamp:windowNumber:context:subtype:data1:data2:], NSEvent.m:647\n",
      "2023-04-21 16:58:14.660 Python[47181:529778] *** Assertion failure in +[NSEvent otherEventWithType:location:modifierFlags:timestamp:windowNumber:context:subtype:data1:data2:], NSEvent.m:647\n",
      "2023-04-21 16:58:14.676 Python[47181:529778] *** Assertion failure in +[NSEvent otherEventWithType:location:modifierFlags:timestamp:windowNumber:context:subtype:data1:data2:], NSEvent.m:647\n",
      "2023-04-21 16:58:14.691 Python[47181:529778] *** Assertion failure in +[NSEvent otherEventWithType:location:modifierFlags:timestamp:windowNumber:context:subtype:data1:data2:], NSEvent.m:647\n",
      "2023-04-21 16:58:14.705 Python[47181:529778] *** Assertion failure in +[NSEvent otherEventWithType:location:modifierFlags:timestamp:windowNumber:context:subtype:data1:data2:], NSEvent.m:647\n"
     ]
    },
    {
     "name": "stdout",
     "output_type": "stream",
     "text": [
      "DDh+\n",
      "DH+\n",
      "D"
     ]
    },
    {
     "name": "stderr",
     "output_type": "stream",
     "text": [
      "2023-04-21 16:58:14.720 Python[47181:529778] *** Assertion failure in +[NSEvent otherEventWithType:location:modifierFlags:timestamp:windowNumber:context:subtype:data1:data2:], NSEvent.m:647\n",
      "2023-04-21 16:58:14.734 Python[47181:529778] *** Assertion failure in +[NSEvent otherEventWithType:location:modifierFlags:timestamp:windowNumber:context:subtype:data1:data2:], NSEvent.m:647\n",
      "2023-04-21 16:58:14.750 Python[47181:529778] *** Assertion failure in +[NSEvent otherEventWithType:location:modifierFlags:timestamp:windowNumber:context:subtype:data1:data2:], NSEvent.m:647\n",
      "2023-04-21 16:58:14.765 Python[47181:529778] *** Assertion failure in +[NSEvent otherEventWithType:location:modifierFlags:timestamp:windowNumber:context:subtype:data1:data2:], NSEvent.m:647\n",
      "2023-04-21 16:58:14.780 Python[47181:529778] *** Assertion failure in +[NSEvent otherEventWithType:location:modifierFlags:timestamp:windowNumber:context:subtype:data1:data2:], NSEvent.m:647\n",
      "2023-04-21 16:58:14.795 Python[47181:529778] *** Assertion failure in +[NSEvent otherEventWithType:location:modifierFlags:timestamp:windowNumber:context:subtype:data1:data2:], NSEvent.m:647\n",
      "2023-04-21 16:58:14.810 Python[47181:529778] *** Assertion failure in +[NSEvent otherEventWithType:location:modifierFlags:timestamp:windowNumber:context:subtype:data1:data2:], NSEvent.m:647\n",
      "2023-04-21 16:58:14.825 Python[47181:529778] *** Assertion failure in +[NSEvent otherEventWithType:location:modifierFlags:timestamp:windowNumber:context:subtype:data1:data2:], NSEvent.m:647\n",
      "2023-04-21 16:58:14.840 Python[47181:529778] *** Assertion failure in +[NSEvent otherEventWithType:location:modifierFlags:timestamp:windowNumber:context:subtype:data1:data2:], NSEvent.m:647\n",
      "2023-04-21 16:58:14.855 Python[47181:529778] *** Assertion failure in +[NSEvent otherEventWithType:location:modifierFlags:timestamp:windowNumber:context:subtype:data1:data2:], NSEvent.m:647\n",
      "2023-04-21 16:58:14.869 Python[47181:529778] *** Assertion failure in +[NSEvent otherEventWithType:location:modifierFlags:timestamp:windowNumber:context:subtype:data1:data2:], NSEvent.m:647\n",
      "2023-04-21 16:58:14.885 Python[47181:529778] *** Assertion failure in +[NSEvent otherEventWithType:location:modifierFlags:timestamp:windowNumber:context:subtype:data1:data2:], NSEvent.m:647\n",
      "2023-04-21 16:58:14.899 Python[47181:529778] *** Assertion failure in +[NSEvent otherEventWithType:location:modifierFlags:timestamp:windowNumber:context:subtype:data1:data2:], NSEvent.m:647\n",
      "2023-04-21 16:58:14.914 Python[47181:529778] *** Assertion failure in +[NSEvent otherEventWithType:location:modifierFlags:timestamp:windowNumber:context:subtype:data1:data2:], NSEvent.m:647\n"
     ]
    },
    {
     "name": "stdout",
     "output_type": "stream",
     "text": [
      "DDDDh+\n",
      "D"
     ]
    },
    {
     "name": "stderr",
     "output_type": "stream",
     "text": [
      "2023-04-21 16:58:14.929 Python[47181:529778] *** Assertion failure in +[NSEvent otherEventWithType:location:modifierFlags:timestamp:windowNumber:context:subtype:data1:data2:], NSEvent.m:647\n",
      "2023-04-21 16:58:14.944 Python[47181:529778] *** Assertion failure in +[NSEvent otherEventWithType:location:modifierFlags:timestamp:windowNumber:context:subtype:data1:data2:], NSEvent.m:647\n",
      "2023-04-21 16:58:14.959 Python[47181:529778] *** Assertion failure in +[NSEvent otherEventWithType:location:modifierFlags:timestamp:windowNumber:context:subtype:data1:data2:], NSEvent.m:647\n",
      "2023-04-21 16:58:14.974 Python[47181:529778] *** Assertion failure in +[NSEvent otherEventWithType:location:modifierFlags:timestamp:windowNumber:context:subtype:data1:data2:], NSEvent.m:647\n",
      "2023-04-21 16:58:14.990 Python[47181:529778] *** Assertion failure in +[NSEvent otherEventWithType:location:modifierFlags:timestamp:windowNumber:context:subtype:data1:data2:], NSEvent.m:647\n",
      "2023-04-21 16:58:15.005 Python[47181:529778] *** Assertion failure in +[NSEvent otherEventWithType:location:modifierFlags:timestamp:windowNumber:context:subtype:data1:data2:], NSEvent.m:647\n",
      "2023-04-21 16:58:15.019 Python[47181:529778] *** Assertion failure in +[NSEvent otherEventWithType:location:modifierFlags:timestamp:windowNumber:context:subtype:data1:data2:], NSEvent.m:647\n",
      "2023-04-21 16:58:15.034 Python[47181:529778] *** Assertion failure in +[NSEvent otherEventWithType:location:modifierFlags:timestamp:windowNumber:context:subtype:data1:data2:], NSEvent.m:647\n",
      "2023-04-21 16:58:15.050 Python[47181:529778] *** Assertion failure in +[NSEvent otherEventWithType:location:modifierFlags:timestamp:windowNumber:context:subtype:data1:data2:], NSEvent.m:647\n",
      "2023-04-21 16:58:15.065 Python[47181:529778] *** Assertion failure in +[NSEvent otherEventWithType:location:modifierFlags:timestamp:windowNumber:context:subtype:data1:data2:], NSEvent.m:647\n",
      "2023-04-21 16:58:15.080 Python[47181:529778] *** Assertion failure in +[NSEvent otherEventWithType:location:modifierFlags:timestamp:windowNumber:context:subtype:data1:data2:], NSEvent.m:647\n",
      "2023-04-21 16:58:15.095 Python[47181:529778] *** Assertion failure in +[NSEvent otherEventWithType:location:modifierFlags:timestamp:windowNumber:context:subtype:data1:data2:], NSEvent.m:647\n",
      "2023-04-21 16:58:15.110 Python[47181:529778] *** Assertion failure in +[NSEvent otherEventWithType:location:modifierFlags:timestamp:windowNumber:context:subtype:data1:data2:], NSEvent.m:647\n",
      "2023-04-21 16:58:15.125 Python[47181:529778] *** Assertion failure in +[NSEvent otherEventWithType:location:modifierFlags:timestamp:windowNumber:context:subtype:data1:data2:], NSEvent.m:647\n",
      "2023-04-21 16:58:15.141 Python[47181:529778] *** Assertion failure in +[NSEvent otherEventWithType:location:modifierFlags:timestamp:windowNumber:context:subtype:data1:data2:], NSEvent.m:647\n",
      "2023-04-21 16:58:15.156 Python[47181:529778] *** Assertion failure in +[NSEvent otherEventWithType:location:modifierFlags:timestamp:windowNumber:context:subtype:data1:data2:], NSEvent.m:647\n",
      "2023-04-21 16:58:15.171 Python[47181:529778] *** Assertion failure in +[NSEvent otherEventWithType:location:modifierFlags:timestamp:windowNumber:context:subtype:data1:data2:], NSEvent.m:647\n",
      "2023-04-21 16:58:15.187 Python[47181:529778] *** Assertion failure in +[NSEvent otherEventWithType:location:modifierFlags:timestamp:windowNumber:context:subtype:data1:data2:], NSEvent.m:647\n",
      "2023-04-21 16:58:15.201 Python[47181:529778] *** Assertion failure in +[NSEvent otherEventWithType:location:modifierFlags:timestamp:windowNumber:context:subtype:data1:data2:], NSEvent.m:647\n",
      "2023-04-21 16:58:15.217 Python[47181:529778] *** Assertion failure in +[NSEvent otherEventWithType:location:modifierFlags:timestamp:windowNumber:context:subtype:data1:data2:], NSEvent.m:647\n",
      "2023-04-21 16:58:15.231 Python[47181:529778] *** Assertion failure in +[NSEvent otherEventWithType:location:modifierFlags:timestamp:windowNumber:context:subtype:data1:data2:], NSEvent.m:647\n",
      "2023-04-21 16:58:15.246 Python[47181:529778] *** Assertion failure in +[NSEvent otherEventWithType:location:modifierFlags:timestamp:windowNumber:context:subtype:data1:data2:], NSEvent.m:647\n",
      "2023-04-21 16:58:15.261 Python[47181:529778] *** Assertion failure in +[NSEvent otherEventWithType:location:modifierFlags:timestamp:windowNumber:context:subtype:data1:data2:], NSEvent.m:647\n",
      "2023-04-21 16:58:15.276 Python[47181:529778] *** Assertion failure in +[NSEvent otherEventWithType:location:modifierFlags:timestamp:windowNumber:context:subtype:data1:data2:], NSEvent.m:647\n",
      "2023-04-21 16:58:15.291 Python[47181:529778] *** Assertion failure in +[NSEvent otherEventWithType:location:modifierFlags:timestamp:windowNumber:context:subtype:data1:data2:], NSEvent.m:647\n",
      "2023-04-21 16:58:15.306 Python[47181:529778] *** Assertion failure in +[NSEvent otherEventWithType:location:modifierFlags:timestamp:windowNumber:context:subtype:data1:data2:], NSEvent.m:647\n",
      "2023-04-21 16:58:15.322 Python[47181:529778] *** Assertion failure in +[NSEvent otherEventWithType:location:modifierFlags:timestamp:windowNumber:context:subtype:data1:data2:], NSEvent.m:647\n",
      "2023-04-21 16:58:15.336 Python[47181:529778] *** Assertion failure in +[NSEvent otherEventWithType:location:modifierFlags:timestamp:windowNumber:context:subtype:data1:data2:], NSEvent.m:647\n"
     ]
    },
    {
     "name": "stdout",
     "output_type": "stream",
     "text": [
      "DDDDh+\n",
      "D"
     ]
    },
    {
     "name": "stderr",
     "output_type": "stream",
     "text": [
      "2023-04-21 16:58:15.351 Python[47181:529778] *** Assertion failure in +[NSEvent otherEventWithType:location:modifierFlags:timestamp:windowNumber:context:subtype:data1:data2:], NSEvent.m:647\n",
      "2023-04-21 16:58:15.367 Python[47181:529778] *** Assertion failure in +[NSEvent otherEventWithType:location:modifierFlags:timestamp:windowNumber:context:subtype:data1:data2:], NSEvent.m:647\n",
      "2023-04-21 16:58:15.382 Python[47181:529778] *** Assertion failure in +[NSEvent otherEventWithType:location:modifierFlags:timestamp:windowNumber:context:subtype:data1:data2:], NSEvent.m:647\n",
      "2023-04-21 16:58:15.397 Python[47181:529778] *** Assertion failure in +[NSEvent otherEventWithType:location:modifierFlags:timestamp:windowNumber:context:subtype:data1:data2:], NSEvent.m:647\n",
      "2023-04-21 16:58:15.411 Python[47181:529778] *** Assertion failure in +[NSEvent otherEventWithType:location:modifierFlags:timestamp:windowNumber:context:subtype:data1:data2:], NSEvent.m:647\n",
      "2023-04-21 16:58:15.426 Python[47181:529778] *** Assertion failure in +[NSEvent otherEventWithType:location:modifierFlags:timestamp:windowNumber:context:subtype:data1:data2:], NSEvent.m:647\n",
      "2023-04-21 16:58:15.442 Python[47181:529778] *** Assertion failure in +[NSEvent otherEventWithType:location:modifierFlags:timestamp:windowNumber:context:subtype:data1:data2:], NSEvent.m:647\n",
      "2023-04-21 16:58:15.457 Python[47181:529778] *** Assertion failure in +[NSEvent otherEventWithType:location:modifierFlags:timestamp:windowNumber:context:subtype:data1:data2:], NSEvent.m:647\n",
      "2023-04-21 16:58:15.472 Python[47181:529778] *** Assertion failure in +[NSEvent otherEventWithType:location:modifierFlags:timestamp:windowNumber:context:subtype:data1:data2:], NSEvent.m:647\n",
      "2023-04-21 16:58:15.486 Python[47181:529778] *** Assertion failure in +[NSEvent otherEventWithType:location:modifierFlags:timestamp:windowNumber:context:subtype:data1:data2:], NSEvent.m:647\n",
      "2023-04-21 16:58:15.502 Python[47181:529778] *** Assertion failure in +[NSEvent otherEventWithType:location:modifierFlags:timestamp:windowNumber:context:subtype:data1:data2:], NSEvent.m:647\n",
      "2023-04-21 16:58:15.516 Python[47181:529778] *** Assertion failure in +[NSEvent otherEventWithType:location:modifierFlags:timestamp:windowNumber:context:subtype:data1:data2:], NSEvent.m:647\n",
      "2023-04-21 16:58:15.530 Python[47181:529778] *** Assertion failure in +[NSEvent otherEventWithType:location:modifierFlags:timestamp:windowNumber:context:subtype:data1:data2:], NSEvent.m:647\n",
      "2023-04-21 16:58:15.546 Python[47181:529778] *** Assertion failure in +[NSEvent otherEventWithType:location:modifierFlags:timestamp:windowNumber:context:subtype:data1:data2:], NSEvent.m:647\n"
     ]
    },
    {
     "name": "stdout",
     "output_type": "stream",
     "text": [
      "DDDD"
     ]
    },
    {
     "name": "stderr",
     "output_type": "stream",
     "text": [
      "2023-04-21 16:58:15.561 Python[47181:529778] *** Assertion failure in +[NSEvent otherEventWithType:location:modifierFlags:timestamp:windowNumber:context:subtype:data1:data2:], NSEvent.m:647\n",
      "2023-04-21 16:58:15.575 Python[47181:529778] *** Assertion failure in +[NSEvent otherEventWithType:location:modifierFlags:timestamp:windowNumber:context:subtype:data1:data2:], NSEvent.m:647\n",
      "2023-04-21 16:58:15.591 Python[47181:529778] *** Assertion failure in +[NSEvent otherEventWithType:location:modifierFlags:timestamp:windowNumber:context:subtype:data1:data2:], NSEvent.m:647\n",
      "2023-04-21 16:58:15.605 Python[47181:529778] *** Assertion failure in +[NSEvent otherEventWithType:location:modifierFlags:timestamp:windowNumber:context:subtype:data1:data2:], NSEvent.m:647\n",
      "2023-04-21 16:58:15.620 Python[47181:529778] *** Assertion failure in +[NSEvent otherEventWithType:location:modifierFlags:timestamp:windowNumber:context:subtype:data1:data2:], NSEvent.m:647\n",
      "2023-04-21 16:58:15.635 Python[47181:529778] *** Assertion failure in +[NSEvent otherEventWithType:location:modifierFlags:timestamp:windowNumber:context:subtype:data1:data2:], NSEvent.m:647\n",
      "2023-04-21 16:58:15.650 Python[47181:529778] *** Assertion failure in +[NSEvent otherEventWithType:location:modifierFlags:timestamp:windowNumber:context:subtype:data1:data2:], NSEvent.m:647\n",
      "2023-04-21 16:58:15.665 Python[47181:529778] *** Assertion failure in +[NSEvent otherEventWithType:location:modifierFlags:timestamp:windowNumber:context:subtype:data1:data2:], NSEvent.m:647\n",
      "2023-04-21 16:58:15.680 Python[47181:529778] *** Assertion failure in +[NSEvent otherEventWithType:location:modifierFlags:timestamp:windowNumber:context:subtype:data1:data2:], NSEvent.m:647\n",
      "2023-04-21 16:58:15.695 Python[47181:529778] *** Assertion failure in +[NSEvent otherEventWithType:location:modifierFlags:timestamp:windowNumber:context:subtype:data1:data2:], NSEvent.m:647\n",
      "2023-04-21 16:58:15.711 Python[47181:529778] *** Assertion failure in +[NSEvent otherEventWithType:location:modifierFlags:timestamp:windowNumber:context:subtype:data1:data2:], NSEvent.m:647\n",
      "2023-04-21 16:58:15.725 Python[47181:529778] *** Assertion failure in +[NSEvent otherEventWithType:location:modifierFlags:timestamp:windowNumber:context:subtype:data1:data2:], NSEvent.m:647\n",
      "2023-04-21 16:58:15.740 Python[47181:529778] *** Assertion failure in +[NSEvent otherEventWithType:location:modifierFlags:timestamp:windowNumber:context:subtype:data1:data2:], NSEvent.m:647\n",
      "2023-04-21 16:58:15.755 Python[47181:529778] *** Assertion failure in +[NSEvent otherEventWithType:location:modifierFlags:timestamp:windowNumber:context:subtype:data1:data2:], NSEvent.m:647\n"
     ]
    },
    {
     "name": "stdout",
     "output_type": "stream",
     "text": [
      "DHh+\n",
      "HDDDD"
     ]
    },
    {
     "name": "stderr",
     "output_type": "stream",
     "text": [
      "2023-04-21 16:58:15.770 Python[47181:529778] *** Assertion failure in +[NSEvent otherEventWithType:location:modifierFlags:timestamp:windowNumber:context:subtype:data1:data2:], NSEvent.m:647\n",
      "2023-04-21 16:58:15.785 Python[47181:529778] *** Assertion failure in +[NSEvent otherEventWithType:location:modifierFlags:timestamp:windowNumber:context:subtype:data1:data2:], NSEvent.m:647\n",
      "2023-04-21 16:58:15.800 Python[47181:529778] *** Assertion failure in +[NSEvent otherEventWithType:location:modifierFlags:timestamp:windowNumber:context:subtype:data1:data2:], NSEvent.m:647\n",
      "2023-04-21 16:58:15.815 Python[47181:529778] *** Assertion failure in +[NSEvent otherEventWithType:location:modifierFlags:timestamp:windowNumber:context:subtype:data1:data2:], NSEvent.m:647\n",
      "2023-04-21 16:58:15.830 Python[47181:529778] *** Assertion failure in +[NSEvent otherEventWithType:location:modifierFlags:timestamp:windowNumber:context:subtype:data1:data2:], NSEvent.m:647\n",
      "2023-04-21 16:58:15.845 Python[47181:529778] *** Assertion failure in +[NSEvent otherEventWithType:location:modifierFlags:timestamp:windowNumber:context:subtype:data1:data2:], NSEvent.m:647\n",
      "2023-04-21 16:58:15.860 Python[47181:529778] *** Assertion failure in +[NSEvent otherEventWithType:location:modifierFlags:timestamp:windowNumber:context:subtype:data1:data2:], NSEvent.m:647\n",
      "2023-04-21 16:58:15.876 Python[47181:529778] *** Assertion failure in +[NSEvent otherEventWithType:location:modifierFlags:timestamp:windowNumber:context:subtype:data1:data2:], NSEvent.m:647\n",
      "2023-04-21 16:58:15.891 Python[47181:529778] *** Assertion failure in +[NSEvent otherEventWithType:location:modifierFlags:timestamp:windowNumber:context:subtype:data1:data2:], NSEvent.m:647\n",
      "2023-04-21 16:58:15.906 Python[47181:529778] *** Assertion failure in +[NSEvent otherEventWithType:location:modifierFlags:timestamp:windowNumber:context:subtype:data1:data2:], NSEvent.m:647\n",
      "2023-04-21 16:58:15.921 Python[47181:529778] *** Assertion failure in +[NSEvent otherEventWithType:location:modifierFlags:timestamp:windowNumber:context:subtype:data1:data2:], NSEvent.m:647\n",
      "2023-04-21 16:58:15.937 Python[47181:529778] *** Assertion failure in +[NSEvent otherEventWithType:location:modifierFlags:timestamp:windowNumber:context:subtype:data1:data2:], NSEvent.m:647\n",
      "2023-04-21 16:58:15.952 Python[47181:529778] *** Assertion failure in +[NSEvent otherEventWithType:location:modifierFlags:timestamp:windowNumber:context:subtype:data1:data2:], NSEvent.m:647\n",
      "2023-04-21 16:58:15.967 Python[47181:529778] *** Assertion failure in +[NSEvent otherEventWithType:location:modifierFlags:timestamp:windowNumber:context:subtype:data1:data2:], NSEvent.m:647\n"
     ]
    },
    {
     "name": "stdout",
     "output_type": "stream",
     "text": [
      "DH+\n",
      "Dh+\n",
      "DDD"
     ]
    },
    {
     "name": "stderr",
     "output_type": "stream",
     "text": [
      "2023-04-21 16:58:15.983 Python[47181:529778] *** Assertion failure in +[NSEvent otherEventWithType:location:modifierFlags:timestamp:windowNumber:context:subtype:data1:data2:], NSEvent.m:647\n",
      "2023-04-21 16:58:15.997 Python[47181:529778] *** Assertion failure in +[NSEvent otherEventWithType:location:modifierFlags:timestamp:windowNumber:context:subtype:data1:data2:], NSEvent.m:647\n",
      "2023-04-21 16:58:16.012 Python[47181:529778] *** Assertion failure in +[NSEvent otherEventWithType:location:modifierFlags:timestamp:windowNumber:context:subtype:data1:data2:], NSEvent.m:647\n",
      "2023-04-21 16:58:16.027 Python[47181:529778] *** Assertion failure in +[NSEvent otherEventWithType:location:modifierFlags:timestamp:windowNumber:context:subtype:data1:data2:], NSEvent.m:647\n",
      "2023-04-21 16:58:16.042 Python[47181:529778] *** Assertion failure in +[NSEvent otherEventWithType:location:modifierFlags:timestamp:windowNumber:context:subtype:data1:data2:], NSEvent.m:647\n",
      "2023-04-21 16:58:16.057 Python[47181:529778] *** Assertion failure in +[NSEvent otherEventWithType:location:modifierFlags:timestamp:windowNumber:context:subtype:data1:data2:], NSEvent.m:647\n",
      "2023-04-21 16:58:16.071 Python[47181:529778] *** Assertion failure in +[NSEvent otherEventWithType:location:modifierFlags:timestamp:windowNumber:context:subtype:data1:data2:], NSEvent.m:647\n",
      "2023-04-21 16:58:16.087 Python[47181:529778] *** Assertion failure in +[NSEvent otherEventWithType:location:modifierFlags:timestamp:windowNumber:context:subtype:data1:data2:], NSEvent.m:647\n",
      "2023-04-21 16:58:16.101 Python[47181:529778] *** Assertion failure in +[NSEvent otherEventWithType:location:modifierFlags:timestamp:windowNumber:context:subtype:data1:data2:], NSEvent.m:647\n",
      "2023-04-21 16:58:16.115 Python[47181:529778] *** Assertion failure in +[NSEvent otherEventWithType:location:modifierFlags:timestamp:windowNumber:context:subtype:data1:data2:], NSEvent.m:647\n",
      "2023-04-21 16:58:16.130 Python[47181:529778] *** Assertion failure in +[NSEvent otherEventWithType:location:modifierFlags:timestamp:windowNumber:context:subtype:data1:data2:], NSEvent.m:647\n",
      "2023-04-21 16:58:16.145 Python[47181:529778] *** Assertion failure in +[NSEvent otherEventWithType:location:modifierFlags:timestamp:windowNumber:context:subtype:data1:data2:], NSEvent.m:647\n",
      "2023-04-21 16:58:16.160 Python[47181:529778] *** Assertion failure in +[NSEvent otherEventWithType:location:modifierFlags:timestamp:windowNumber:context:subtype:data1:data2:], NSEvent.m:647\n",
      "2023-04-21 16:58:16.175 Python[47181:529778] *** Assertion failure in +[NSEvent otherEventWithType:location:modifierFlags:timestamp:windowNumber:context:subtype:data1:data2:], NSEvent.m:647\n"
     ]
    },
    {
     "name": "stdout",
     "output_type": "stream",
     "text": [
      "DDDh+\n",
      "DD"
     ]
    },
    {
     "name": "stderr",
     "output_type": "stream",
     "text": [
      "2023-04-21 16:58:16.190 Python[47181:529778] *** Assertion failure in +[NSEvent otherEventWithType:location:modifierFlags:timestamp:windowNumber:context:subtype:data1:data2:], NSEvent.m:647\n",
      "2023-04-21 16:58:16.205 Python[47181:529778] *** Assertion failure in +[NSEvent otherEventWithType:location:modifierFlags:timestamp:windowNumber:context:subtype:data1:data2:], NSEvent.m:647\n",
      "2023-04-21 16:58:16.219 Python[47181:529778] *** Assertion failure in +[NSEvent otherEventWithType:location:modifierFlags:timestamp:windowNumber:context:subtype:data1:data2:], NSEvent.m:647\n",
      "2023-04-21 16:58:16.235 Python[47181:529778] *** Assertion failure in +[NSEvent otherEventWithType:location:modifierFlags:timestamp:windowNumber:context:subtype:data1:data2:], NSEvent.m:647\n",
      "2023-04-21 16:58:16.249 Python[47181:529778] *** Assertion failure in +[NSEvent otherEventWithType:location:modifierFlags:timestamp:windowNumber:context:subtype:data1:data2:], NSEvent.m:647\n",
      "2023-04-21 16:58:16.264 Python[47181:529778] *** Assertion failure in +[NSEvent otherEventWithType:location:modifierFlags:timestamp:windowNumber:context:subtype:data1:data2:], NSEvent.m:647\n",
      "2023-04-21 16:58:16.278 Python[47181:529778] *** Assertion failure in +[NSEvent otherEventWithType:location:modifierFlags:timestamp:windowNumber:context:subtype:data1:data2:], NSEvent.m:647\n",
      "2023-04-21 16:58:16.294 Python[47181:529778] *** Assertion failure in +[NSEvent otherEventWithType:location:modifierFlags:timestamp:windowNumber:context:subtype:data1:data2:], NSEvent.m:647\n",
      "2023-04-21 16:58:16.309 Python[47181:529778] *** Assertion failure in +[NSEvent otherEventWithType:location:modifierFlags:timestamp:windowNumber:context:subtype:data1:data2:], NSEvent.m:647\n",
      "2023-04-21 16:58:16.324 Python[47181:529778] *** Assertion failure in +[NSEvent otherEventWithType:location:modifierFlags:timestamp:windowNumber:context:subtype:data1:data2:], NSEvent.m:647\n",
      "2023-04-21 16:58:16.339 Python[47181:529778] *** Assertion failure in +[NSEvent otherEventWithType:location:modifierFlags:timestamp:windowNumber:context:subtype:data1:data2:], NSEvent.m:647\n",
      "2023-04-21 16:58:16.354 Python[47181:529778] *** Assertion failure in +[NSEvent otherEventWithType:location:modifierFlags:timestamp:windowNumber:context:subtype:data1:data2:], NSEvent.m:647\n",
      "2023-04-21 16:58:16.370 Python[47181:529778] *** Assertion failure in +[NSEvent otherEventWithType:location:modifierFlags:timestamp:windowNumber:context:subtype:data1:data2:], NSEvent.m:647\n",
      "2023-04-21 16:58:16.385 Python[47181:529778] *** Assertion failure in +[NSEvent otherEventWithType:location:modifierFlags:timestamp:windowNumber:context:subtype:data1:data2:], NSEvent.m:647\n"
     ]
    },
    {
     "name": "stdout",
     "output_type": "stream",
     "text": [
      "DDDh+\n",
      "DD"
     ]
    },
    {
     "name": "stderr",
     "output_type": "stream",
     "text": [
      "2023-04-21 16:58:16.400 Python[47181:529778] *** Assertion failure in +[NSEvent otherEventWithType:location:modifierFlags:timestamp:windowNumber:context:subtype:data1:data2:], NSEvent.m:647\n",
      "2023-04-21 16:58:16.415 Python[47181:529778] *** Assertion failure in +[NSEvent otherEventWithType:location:modifierFlags:timestamp:windowNumber:context:subtype:data1:data2:], NSEvent.m:647\n",
      "2023-04-21 16:58:16.430 Python[47181:529778] *** Assertion failure in +[NSEvent otherEventWithType:location:modifierFlags:timestamp:windowNumber:context:subtype:data1:data2:], NSEvent.m:647\n",
      "2023-04-21 16:58:16.445 Python[47181:529778] *** Assertion failure in +[NSEvent otherEventWithType:location:modifierFlags:timestamp:windowNumber:context:subtype:data1:data2:], NSEvent.m:647\n",
      "2023-04-21 16:58:16.461 Python[47181:529778] *** Assertion failure in +[NSEvent otherEventWithType:location:modifierFlags:timestamp:windowNumber:context:subtype:data1:data2:], NSEvent.m:647\n",
      "2023-04-21 16:58:16.475 Python[47181:529778] *** Assertion failure in +[NSEvent otherEventWithType:location:modifierFlags:timestamp:windowNumber:context:subtype:data1:data2:], NSEvent.m:647\n",
      "2023-04-21 16:58:16.491 Python[47181:529778] *** Assertion failure in +[NSEvent otherEventWithType:location:modifierFlags:timestamp:windowNumber:context:subtype:data1:data2:], NSEvent.m:647\n",
      "2023-04-21 16:58:16.505 Python[47181:529778] *** Assertion failure in +[NSEvent otherEventWithType:location:modifierFlags:timestamp:windowNumber:context:subtype:data1:data2:], NSEvent.m:647\n",
      "2023-04-21 16:58:16.520 Python[47181:529778] *** Assertion failure in +[NSEvent otherEventWithType:location:modifierFlags:timestamp:windowNumber:context:subtype:data1:data2:], NSEvent.m:647\n",
      "2023-04-21 16:58:16.535 Python[47181:529778] *** Assertion failure in +[NSEvent otherEventWithType:location:modifierFlags:timestamp:windowNumber:context:subtype:data1:data2:], NSEvent.m:647\n",
      "2023-04-21 16:58:16.551 Python[47181:529778] *** Assertion failure in +[NSEvent otherEventWithType:location:modifierFlags:timestamp:windowNumber:context:subtype:data1:data2:], NSEvent.m:647\n",
      "2023-04-21 16:58:16.566 Python[47181:529778] *** Assertion failure in +[NSEvent otherEventWithType:location:modifierFlags:timestamp:windowNumber:context:subtype:data1:data2:], NSEvent.m:647\n",
      "2023-04-21 16:58:16.581 Python[47181:529778] *** Assertion failure in +[NSEvent otherEventWithType:location:modifierFlags:timestamp:windowNumber:context:subtype:data1:data2:], NSEvent.m:647\n",
      "2023-04-21 16:58:16.597 Python[47181:529778] *** Assertion failure in +[NSEvent otherEventWithType:location:modifierFlags:timestamp:windowNumber:context:subtype:data1:data2:], NSEvent.m:647\n",
      "2023-04-21 16:58:16.612 Python[47181:529778] *** Assertion failure in +[NSEvent otherEventWithType:location:modifierFlags:timestamp:windowNumber:context:subtype:data1:data2:], NSEvent.m:647\n",
      "2023-04-21 16:58:16.627 Python[47181:529778] *** Assertion failure in +[NSEvent otherEventWithType:location:modifierFlags:timestamp:windowNumber:context:subtype:data1:data2:], NSEvent.m:647\n",
      "2023-04-21 16:58:16.642 Python[47181:529778] *** Assertion failure in +[NSEvent otherEventWithType:location:modifierFlags:timestamp:windowNumber:context:subtype:data1:data2:], NSEvent.m:647\n",
      "2023-04-21 16:58:16.656 Python[47181:529778] *** Assertion failure in +[NSEvent otherEventWithType:location:modifierFlags:timestamp:windowNumber:context:subtype:data1:data2:], NSEvent.m:647\n",
      "2023-04-21 16:58:16.670 Python[47181:529778] *** Assertion failure in +[NSEvent otherEventWithType:location:modifierFlags:timestamp:windowNumber:context:subtype:data1:data2:], NSEvent.m:647\n",
      "2023-04-21 16:58:16.684 Python[47181:529778] *** Assertion failure in +[NSEvent otherEventWithType:location:modifierFlags:timestamp:windowNumber:context:subtype:data1:data2:], NSEvent.m:647\n",
      "2023-04-21 16:58:16.698 Python[47181:529778] *** Assertion failure in +[NSEvent otherEventWithType:location:modifierFlags:timestamp:windowNumber:context:subtype:data1:data2:], NSEvent.m:647\n",
      "2023-04-21 16:58:16.713 Python[47181:529778] *** Assertion failure in +[NSEvent otherEventWithType:location:modifierFlags:timestamp:windowNumber:context:subtype:data1:data2:], NSEvent.m:647\n",
      "2023-04-21 16:58:16.727 Python[47181:529778] *** Assertion failure in +[NSEvent otherEventWithType:location:modifierFlags:timestamp:windowNumber:context:subtype:data1:data2:], NSEvent.m:647\n",
      "2023-04-21 16:58:16.741 Python[47181:529778] *** Assertion failure in +[NSEvent otherEventWithType:location:modifierFlags:timestamp:windowNumber:context:subtype:data1:data2:], NSEvent.m:647\n",
      "2023-04-21 16:58:16.755 Python[47181:529778] *** Assertion failure in +[NSEvent otherEventWithType:location:modifierFlags:timestamp:windowNumber:context:subtype:data1:data2:], NSEvent.m:647\n",
      "2023-04-21 16:58:16.769 Python[47181:529778] *** Assertion failure in +[NSEvent otherEventWithType:location:modifierFlags:timestamp:windowNumber:context:subtype:data1:data2:], NSEvent.m:647\n",
      "2023-04-21 16:58:16.783 Python[47181:529778] *** Assertion failure in +[NSEvent otherEventWithType:location:modifierFlags:timestamp:windowNumber:context:subtype:data1:data2:], NSEvent.m:647\n",
      "2023-04-21 16:58:16.797 Python[47181:529778] *** Assertion failure in +[NSEvent otherEventWithType:location:modifierFlags:timestamp:windowNumber:context:subtype:data1:data2:], NSEvent.m:647\n",
      "2023-04-21 16:58:16.812 Python[47181:529778] *** Assertion failure in +[NSEvent otherEventWithType:location:modifierFlags:timestamp:windowNumber:context:subtype:data1:data2:], NSEvent.m:647\n"
     ]
    },
    {
     "name": "stdout",
     "output_type": "stream",
     "text": [
      "D\n",
      "Offset Update:-1.566873337E9->-1.566873338E9\n",
      "QHQQDHgeting some initial data to setup the ring buffer\n",
      "Estimated sample rate 620 samp in 3.049 s =200.0\n",
      "resample: 200.0->100.0hz rsrate=2.0\n",
      "Estimated pre-processed sample rate=100.0\n",
      "resample: 200.0->100.0hz rsrate=2.0\n",
      "SigQ:\n",
      "raw_power=([0.8798124 0.7346469 0.6743824 1.3162252]/10)\n",
      "pp_power=([0.06380457 0.1521344  0.20305957 0.41410062]/5)\n",
      "noise2sig=[12.789176    3.82893357  2.32110616  2.17851533]\n",
      "SigQ:\n",
      "raw_power=([0.88773084 0.96649265 1.0132583  1.0054663 ]/10)\n",
      "pp_power=([0.40812889 0.44529711 0.53179967 0.50025549]/5)\n",
      "noise2sig=[1.17512373 1.17044449 0.90533841 1.00990567]\n",
      "SigQ:\n",
      "raw_power=([0.99261343 0.95832926 0.99599254 1.0119482 ]/10)\n",
      "pp_power=([0.43076453 0.4628196  0.46537904 0.47022474]/5)\n",
      "noise2sig=[1.30430633 1.07063241 1.14017489 1.15205231]\n",
      "clsfr=MultiCCA(evtlabs=['re', 'fe'], tau=45)\n",
      ".DHD.DQh+\n",
      "DSigQ:\n",
      "raw_power=([0.9510665  0.9512099  0.97646946 1.0134908 ]/10)\n",
      "pp_power=([0.42596993 0.40585288 0.43473632 0.41976492]/5)\n",
      "noise2sig=[1.23270804 1.34373079 1.24611887 1.4144247 ]\n",
      "..DD.D"
     ]
    },
    {
     "name": "stderr",
     "output_type": "stream",
     "text": [
      "2023-04-21 16:58:16.826 Python[47181:529778] *** Assertion failure in +[NSEvent otherEventWithType:location:modifierFlags:timestamp:windowNumber:context:subtype:data1:data2:], NSEvent.m:647\n",
      "2023-04-21 16:58:16.840 Python[47181:529778] *** Assertion failure in +[NSEvent otherEventWithType:location:modifierFlags:timestamp:windowNumber:context:subtype:data1:data2:], NSEvent.m:647\n",
      "2023-04-21 16:58:16.855 Python[47181:529778] *** Assertion failure in +[NSEvent otherEventWithType:location:modifierFlags:timestamp:windowNumber:context:subtype:data1:data2:], NSEvent.m:647\n",
      "2023-04-21 16:58:16.870 Python[47181:529778] *** Assertion failure in +[NSEvent otherEventWithType:location:modifierFlags:timestamp:windowNumber:context:subtype:data1:data2:], NSEvent.m:647\n",
      "2023-04-21 16:58:16.885 Python[47181:529778] *** Assertion failure in +[NSEvent otherEventWithType:location:modifierFlags:timestamp:windowNumber:context:subtype:data1:data2:], NSEvent.m:647\n",
      "2023-04-21 16:58:16.900 Python[47181:529778] *** Assertion failure in +[NSEvent otherEventWithType:location:modifierFlags:timestamp:windowNumber:context:subtype:data1:data2:], NSEvent.m:647\n",
      "2023-04-21 16:58:16.915 Python[47181:529778] *** Assertion failure in +[NSEvent otherEventWithType:location:modifierFlags:timestamp:windowNumber:context:subtype:data1:data2:], NSEvent.m:647\n",
      "2023-04-21 16:58:16.930 Python[47181:529778] *** Assertion failure in +[NSEvent otherEventWithType:location:modifierFlags:timestamp:windowNumber:context:subtype:data1:data2:], NSEvent.m:647\n",
      "2023-04-21 16:58:16.945 Python[47181:529778] *** Assertion failure in +[NSEvent otherEventWithType:location:modifierFlags:timestamp:windowNumber:context:subtype:data1:data2:], NSEvent.m:647\n",
      "2023-04-21 16:58:16.960 Python[47181:529778] *** Assertion failure in +[NSEvent otherEventWithType:location:modifierFlags:timestamp:windowNumber:context:subtype:data1:data2:], NSEvent.m:647\n",
      "2023-04-21 16:58:16.975 Python[47181:529778] *** Assertion failure in +[NSEvent otherEventWithType:location:modifierFlags:timestamp:windowNumber:context:subtype:data1:data2:], NSEvent.m:647\n",
      "2023-04-21 16:58:16.990 Python[47181:529778] *** Assertion failure in +[NSEvent otherEventWithType:location:modifierFlags:timestamp:windowNumber:context:subtype:data1:data2:], NSEvent.m:647\n",
      "2023-04-21 16:58:17.005 Python[47181:529778] *** Assertion failure in +[NSEvent otherEventWithType:location:modifierFlags:timestamp:windowNumber:context:subtype:data1:data2:], NSEvent.m:647\n",
      "2023-04-21 16:58:17.019 Python[47181:529778] *** Assertion failure in +[NSEvent otherEventWithType:location:modifierFlags:timestamp:windowNumber:context:subtype:data1:data2:], NSEvent.m:647\n"
     ]
    },
    {
     "name": "stdout",
     "output_type": "stream",
     "text": [
      "D..DDH+\n",
      ".D.HD..DD.Dh+\n",
      "D"
     ]
    },
    {
     "name": "stderr",
     "output_type": "stream",
     "text": [
      "2023-04-21 16:58:17.034 Python[47181:529778] *** Assertion failure in +[NSEvent otherEventWithType:location:modifierFlags:timestamp:windowNumber:context:subtype:data1:data2:], NSEvent.m:647\n",
      "2023-04-21 16:58:17.050 Python[47181:529778] *** Assertion failure in +[NSEvent otherEventWithType:location:modifierFlags:timestamp:windowNumber:context:subtype:data1:data2:], NSEvent.m:647\n",
      "2023-04-21 16:58:17.065 Python[47181:529778] *** Assertion failure in +[NSEvent otherEventWithType:location:modifierFlags:timestamp:windowNumber:context:subtype:data1:data2:], NSEvent.m:647\n",
      "2023-04-21 16:58:17.080 Python[47181:529778] *** Assertion failure in +[NSEvent otherEventWithType:location:modifierFlags:timestamp:windowNumber:context:subtype:data1:data2:], NSEvent.m:647\n",
      "2023-04-21 16:58:17.095 Python[47181:529778] *** Assertion failure in +[NSEvent otherEventWithType:location:modifierFlags:timestamp:windowNumber:context:subtype:data1:data2:], NSEvent.m:647\n",
      "2023-04-21 16:58:17.110 Python[47181:529778] *** Assertion failure in +[NSEvent otherEventWithType:location:modifierFlags:timestamp:windowNumber:context:subtype:data1:data2:], NSEvent.m:647\n",
      "2023-04-21 16:58:17.125 Python[47181:529778] *** Assertion failure in +[NSEvent otherEventWithType:location:modifierFlags:timestamp:windowNumber:context:subtype:data1:data2:], NSEvent.m:647\n",
      "2023-04-21 16:58:17.140 Python[47181:529778] *** Assertion failure in +[NSEvent otherEventWithType:location:modifierFlags:timestamp:windowNumber:context:subtype:data1:data2:], NSEvent.m:647\n",
      "2023-04-21 16:58:17.155 Python[47181:529778] *** Assertion failure in +[NSEvent otherEventWithType:location:modifierFlags:timestamp:windowNumber:context:subtype:data1:data2:], NSEvent.m:647\n",
      "2023-04-21 16:58:17.169 Python[47181:529778] *** Assertion failure in +[NSEvent otherEventWithType:location:modifierFlags:timestamp:windowNumber:context:subtype:data1:data2:], NSEvent.m:647\n",
      "2023-04-21 16:58:17.184 Python[47181:529778] *** Assertion failure in +[NSEvent otherEventWithType:location:modifierFlags:timestamp:windowNumber:context:subtype:data1:data2:], NSEvent.m:647\n",
      "2023-04-21 16:58:17.200 Python[47181:529778] *** Assertion failure in +[NSEvent otherEventWithType:location:modifierFlags:timestamp:windowNumber:context:subtype:data1:data2:], NSEvent.m:647\n",
      "2023-04-21 16:58:17.215 Python[47181:529778] *** Assertion failure in +[NSEvent otherEventWithType:location:modifierFlags:timestamp:windowNumber:context:subtype:data1:data2:], NSEvent.m:647\n",
      "2023-04-21 16:58:17.230 Python[47181:529778] *** Assertion failure in +[NSEvent otherEventWithType:location:modifierFlags:timestamp:windowNumber:context:subtype:data1:data2:], NSEvent.m:647\n"
     ]
    },
    {
     "name": "stdout",
     "output_type": "stream",
     "text": [
      "..DD.DD..DD.DD"
     ]
    },
    {
     "name": "stderr",
     "output_type": "stream",
     "text": [
      "2023-04-21 16:58:17.245 Python[47181:529778] *** Assertion failure in +[NSEvent otherEventWithType:location:modifierFlags:timestamp:windowNumber:context:subtype:data1:data2:], NSEvent.m:647\n",
      "2023-04-21 16:58:17.260 Python[47181:529778] *** Assertion failure in +[NSEvent otherEventWithType:location:modifierFlags:timestamp:windowNumber:context:subtype:data1:data2:], NSEvent.m:647\n",
      "2023-04-21 16:58:17.275 Python[47181:529778] *** Assertion failure in +[NSEvent otherEventWithType:location:modifierFlags:timestamp:windowNumber:context:subtype:data1:data2:], NSEvent.m:647\n",
      "2023-04-21 16:58:17.290 Python[47181:529778] *** Assertion failure in +[NSEvent otherEventWithType:location:modifierFlags:timestamp:windowNumber:context:subtype:data1:data2:], NSEvent.m:647\n",
      "2023-04-21 16:58:17.305 Python[47181:529778] *** Assertion failure in +[NSEvent otherEventWithType:location:modifierFlags:timestamp:windowNumber:context:subtype:data1:data2:], NSEvent.m:647\n",
      "2023-04-21 16:58:17.320 Python[47181:529778] *** Assertion failure in +[NSEvent otherEventWithType:location:modifierFlags:timestamp:windowNumber:context:subtype:data1:data2:], NSEvent.m:647\n",
      "2023-04-21 16:58:17.334 Python[47181:529778] *** Assertion failure in +[NSEvent otherEventWithType:location:modifierFlags:timestamp:windowNumber:context:subtype:data1:data2:], NSEvent.m:647\n",
      "2023-04-21 16:58:17.350 Python[47181:529778] *** Assertion failure in +[NSEvent otherEventWithType:location:modifierFlags:timestamp:windowNumber:context:subtype:data1:data2:], NSEvent.m:647\n",
      "2023-04-21 16:58:17.364 Python[47181:529778] *** Assertion failure in +[NSEvent otherEventWithType:location:modifierFlags:timestamp:windowNumber:context:subtype:data1:data2:], NSEvent.m:647\n",
      "2023-04-21 16:58:17.379 Python[47181:529778] *** Assertion failure in +[NSEvent otherEventWithType:location:modifierFlags:timestamp:windowNumber:context:subtype:data1:data2:], NSEvent.m:647\n",
      "2023-04-21 16:58:17.394 Python[47181:529778] *** Assertion failure in +[NSEvent otherEventWithType:location:modifierFlags:timestamp:windowNumber:context:subtype:data1:data2:], NSEvent.m:647\n",
      "2023-04-21 16:58:17.409 Python[47181:529778] *** Assertion failure in +[NSEvent otherEventWithType:location:modifierFlags:timestamp:windowNumber:context:subtype:data1:data2:], NSEvent.m:647\n",
      "2023-04-21 16:58:17.424 Python[47181:529778] *** Assertion failure in +[NSEvent otherEventWithType:location:modifierFlags:timestamp:windowNumber:context:subtype:data1:data2:], NSEvent.m:647\n",
      "2023-04-21 16:58:17.438 Python[47181:529778] *** Assertion failure in +[NSEvent otherEventWithType:location:modifierFlags:timestamp:windowNumber:context:subtype:data1:data2:], NSEvent.m:647\n"
     ]
    },
    {
     "name": "stdout",
     "output_type": "stream",
     "text": [
      "..DDh+\n",
      ".DD..DD.D2450 245 12.199115 200.834240 (samp,blk,s,hz)\n",
      "D"
     ]
    },
    {
     "name": "stderr",
     "output_type": "stream",
     "text": [
      "2023-04-21 16:58:17.453 Python[47181:529778] *** Assertion failure in +[NSEvent otherEventWithType:location:modifierFlags:timestamp:windowNumber:context:subtype:data1:data2:], NSEvent.m:647\n",
      "2023-04-21 16:58:17.468 Python[47181:529778] *** Assertion failure in +[NSEvent otherEventWithType:location:modifierFlags:timestamp:windowNumber:context:subtype:data1:data2:], NSEvent.m:647\n",
      "2023-04-21 16:58:17.483 Python[47181:529778] *** Assertion failure in +[NSEvent otherEventWithType:location:modifierFlags:timestamp:windowNumber:context:subtype:data1:data2:], NSEvent.m:647\n",
      "2023-04-21 16:58:17.499 Python[47181:529778] *** Assertion failure in +[NSEvent otherEventWithType:location:modifierFlags:timestamp:windowNumber:context:subtype:data1:data2:], NSEvent.m:647\n",
      "2023-04-21 16:58:17.513 Python[47181:529778] *** Assertion failure in +[NSEvent otherEventWithType:location:modifierFlags:timestamp:windowNumber:context:subtype:data1:data2:], NSEvent.m:647\n",
      "2023-04-21 16:58:17.528 Python[47181:529778] *** Assertion failure in +[NSEvent otherEventWithType:location:modifierFlags:timestamp:windowNumber:context:subtype:data1:data2:], NSEvent.m:647\n",
      "2023-04-21 16:58:17.543 Python[47181:529778] *** Assertion failure in +[NSEvent otherEventWithType:location:modifierFlags:timestamp:windowNumber:context:subtype:data1:data2:], NSEvent.m:647\n",
      "2023-04-21 16:58:17.559 Python[47181:529778] *** Assertion failure in +[NSEvent otherEventWithType:location:modifierFlags:timestamp:windowNumber:context:subtype:data1:data2:], NSEvent.m:647\n",
      "2023-04-21 16:58:17.574 Python[47181:529778] *** Assertion failure in +[NSEvent otherEventWithType:location:modifierFlags:timestamp:windowNumber:context:subtype:data1:data2:], NSEvent.m:647\n",
      "2023-04-21 16:58:17.588 Python[47181:529778] *** Assertion failure in +[NSEvent otherEventWithType:location:modifierFlags:timestamp:windowNumber:context:subtype:data1:data2:], NSEvent.m:647\n",
      "2023-04-21 16:58:17.602 Python[47181:529778] *** Assertion failure in +[NSEvent otherEventWithType:location:modifierFlags:timestamp:windowNumber:context:subtype:data1:data2:], NSEvent.m:647\n",
      "2023-04-21 16:58:17.618 Python[47181:529778] *** Assertion failure in +[NSEvent otherEventWithType:location:modifierFlags:timestamp:windowNumber:context:subtype:data1:data2:], NSEvent.m:647\n",
      "2023-04-21 16:58:17.633 Python[47181:529778] *** Assertion failure in +[NSEvent otherEventWithType:location:modifierFlags:timestamp:windowNumber:context:subtype:data1:data2:], NSEvent.m:647\n",
      "2023-04-21 16:58:17.648 Python[47181:529778] *** Assertion failure in +[NSEvent otherEventWithType:location:modifierFlags:timestamp:windowNumber:context:subtype:data1:data2:], NSEvent.m:647\n"
     ]
    },
    {
     "name": "stdout",
     "output_type": "stream",
     "text": [
      "..DD.DDh+\n",
      "..DD.DHD..D"
     ]
    },
    {
     "name": "stderr",
     "output_type": "stream",
     "text": [
      "2023-04-21 16:58:17.663 Python[47181:529778] *** Assertion failure in +[NSEvent otherEventWithType:location:modifierFlags:timestamp:windowNumber:context:subtype:data1:data2:], NSEvent.m:647\n",
      "2023-04-21 16:58:17.678 Python[47181:529778] *** Assertion failure in +[NSEvent otherEventWithType:location:modifierFlags:timestamp:windowNumber:context:subtype:data1:data2:], NSEvent.m:647\n",
      "2023-04-21 16:58:17.694 Python[47181:529778] *** Assertion failure in +[NSEvent otherEventWithType:location:modifierFlags:timestamp:windowNumber:context:subtype:data1:data2:], NSEvent.m:647\n",
      "2023-04-21 16:58:17.709 Python[47181:529778] *** Assertion failure in +[NSEvent otherEventWithType:location:modifierFlags:timestamp:windowNumber:context:subtype:data1:data2:], NSEvent.m:647\n",
      "2023-04-21 16:58:17.724 Python[47181:529778] *** Assertion failure in +[NSEvent otherEventWithType:location:modifierFlags:timestamp:windowNumber:context:subtype:data1:data2:], NSEvent.m:647\n",
      "2023-04-21 16:58:17.739 Python[47181:529778] *** Assertion failure in +[NSEvent otherEventWithType:location:modifierFlags:timestamp:windowNumber:context:subtype:data1:data2:], NSEvent.m:647\n",
      "2023-04-21 16:58:17.755 Python[47181:529778] *** Assertion failure in +[NSEvent otherEventWithType:location:modifierFlags:timestamp:windowNumber:context:subtype:data1:data2:], NSEvent.m:647\n",
      "2023-04-21 16:58:17.770 Python[47181:529778] *** Assertion failure in +[NSEvent otherEventWithType:location:modifierFlags:timestamp:windowNumber:context:subtype:data1:data2:], NSEvent.m:647\n",
      "2023-04-21 16:58:17.785 Python[47181:529778] *** Assertion failure in +[NSEvent otherEventWithType:location:modifierFlags:timestamp:windowNumber:context:subtype:data1:data2:], NSEvent.m:647\n",
      "2023-04-21 16:58:17.800 Python[47181:529778] *** Assertion failure in +[NSEvent otherEventWithType:location:modifierFlags:timestamp:windowNumber:context:subtype:data1:data2:], NSEvent.m:647\n",
      "2023-04-21 16:58:17.816 Python[47181:529778] *** Assertion failure in +[NSEvent otherEventWithType:location:modifierFlags:timestamp:windowNumber:context:subtype:data1:data2:], NSEvent.m:647\n",
      "2023-04-21 16:58:17.832 Python[47181:529778] *** Assertion failure in +[NSEvent otherEventWithType:location:modifierFlags:timestamp:windowNumber:context:subtype:data1:data2:], NSEvent.m:647\n",
      "2023-04-21 16:58:17.847 Python[47181:529778] *** Assertion failure in +[NSEvent otherEventWithType:location:modifierFlags:timestamp:windowNumber:context:subtype:data1:data2:], NSEvent.m:647\n",
      "2023-04-21 16:58:17.862 Python[47181:529778] *** Assertion failure in +[NSEvent otherEventWithType:location:modifierFlags:timestamp:windowNumber:context:subtype:data1:data2:], NSEvent.m:647\n"
     ]
    },
    {
     "name": "stdout",
     "output_type": "stream",
     "text": [
      "DH.D.HDD..DQh+\n",
      "SigQ:\n",
      "raw_power=([0.99344367 1.033685   0.98336303 0.9966854 ]/10)\n",
      "pp_power=([0.47757147 0.49248518 0.3878733  0.41401202]/5)\n",
      "noise2sig=[1.08019895 1.09891587 1.53526871 1.40738273]\n",
      "DD"
     ]
    },
    {
     "name": "stderr",
     "output_type": "stream",
     "text": [
      "2023-04-21 16:58:17.877 Python[47181:529778] *** Assertion failure in +[NSEvent otherEventWithType:location:modifierFlags:timestamp:windowNumber:context:subtype:data1:data2:], NSEvent.m:647\n",
      "2023-04-21 16:58:17.893 Python[47181:529778] *** Assertion failure in +[NSEvent otherEventWithType:location:modifierFlags:timestamp:windowNumber:context:subtype:data1:data2:], NSEvent.m:647\n",
      "2023-04-21 16:58:17.908 Python[47181:529778] *** Assertion failure in +[NSEvent otherEventWithType:location:modifierFlags:timestamp:windowNumber:context:subtype:data1:data2:], NSEvent.m:647\n",
      "2023-04-21 16:58:17.924 Python[47181:529778] *** Assertion failure in +[NSEvent otherEventWithType:location:modifierFlags:timestamp:windowNumber:context:subtype:data1:data2:], NSEvent.m:647\n",
      "2023-04-21 16:58:17.940 Python[47181:529778] *** Assertion failure in +[NSEvent otherEventWithType:location:modifierFlags:timestamp:windowNumber:context:subtype:data1:data2:], NSEvent.m:647\n",
      "2023-04-21 16:58:17.955 Python[47181:529778] *** Assertion failure in +[NSEvent otherEventWithType:location:modifierFlags:timestamp:windowNumber:context:subtype:data1:data2:], NSEvent.m:647\n",
      "2023-04-21 16:58:17.970 Python[47181:529778] *** Assertion failure in +[NSEvent otherEventWithType:location:modifierFlags:timestamp:windowNumber:context:subtype:data1:data2:], NSEvent.m:647\n",
      "2023-04-21 16:58:17.985 Python[47181:529778] *** Assertion failure in +[NSEvent otherEventWithType:location:modifierFlags:timestamp:windowNumber:context:subtype:data1:data2:], NSEvent.m:647\n",
      "2023-04-21 16:58:18.000 Python[47181:529778] *** Assertion failure in +[NSEvent otherEventWithType:location:modifierFlags:timestamp:windowNumber:context:subtype:data1:data2:], NSEvent.m:647\n",
      "2023-04-21 16:58:18.015 Python[47181:529778] *** Assertion failure in +[NSEvent otherEventWithType:location:modifierFlags:timestamp:windowNumber:context:subtype:data1:data2:], NSEvent.m:647\n",
      "2023-04-21 16:58:18.030 Python[47181:529778] *** Assertion failure in +[NSEvent otherEventWithType:location:modifierFlags:timestamp:windowNumber:context:subtype:data1:data2:], NSEvent.m:647\n",
      "2023-04-21 16:58:18.045 Python[47181:529778] *** Assertion failure in +[NSEvent otherEventWithType:location:modifierFlags:timestamp:windowNumber:context:subtype:data1:data2:], NSEvent.m:647\n",
      "2023-04-21 16:58:18.061 Python[47181:529778] *** Assertion failure in +[NSEvent otherEventWithType:location:modifierFlags:timestamp:windowNumber:context:subtype:data1:data2:], NSEvent.m:647\n",
      "2023-04-21 16:58:18.076 Python[47181:529778] *** Assertion failure in +[NSEvent otherEventWithType:location:modifierFlags:timestamp:windowNumber:context:subtype:data1:data2:], NSEvent.m:647\n"
     ]
    },
    {
     "name": "stdout",
     "output_type": "stream",
     "text": [
      "DH+\n",
      "..DDHDD..DDDDh+\n"
     ]
    },
    {
     "name": "stderr",
     "output_type": "stream",
     "text": [
      "2023-04-21 16:58:18.091 Python[47181:529778] *** Assertion failure in +[NSEvent otherEventWithType:location:modifierFlags:timestamp:windowNumber:context:subtype:data1:data2:], NSEvent.m:647\n",
      "2023-04-21 16:58:18.106 Python[47181:529778] *** Assertion failure in +[NSEvent otherEventWithType:location:modifierFlags:timestamp:windowNumber:context:subtype:data1:data2:], NSEvent.m:647\n",
      "2023-04-21 16:58:18.122 Python[47181:529778] *** Assertion failure in +[NSEvent otherEventWithType:location:modifierFlags:timestamp:windowNumber:context:subtype:data1:data2:], NSEvent.m:647\n",
      "2023-04-21 16:58:18.136 Python[47181:529778] *** Assertion failure in +[NSEvent otherEventWithType:location:modifierFlags:timestamp:windowNumber:context:subtype:data1:data2:], NSEvent.m:647\n",
      "2023-04-21 16:58:18.151 Python[47181:529778] *** Assertion failure in +[NSEvent otherEventWithType:location:modifierFlags:timestamp:windowNumber:context:subtype:data1:data2:], NSEvent.m:647\n",
      "2023-04-21 16:58:18.166 Python[47181:529778] *** Assertion failure in +[NSEvent otherEventWithType:location:modifierFlags:timestamp:windowNumber:context:subtype:data1:data2:], NSEvent.m:647\n",
      "2023-04-21 16:58:18.181 Python[47181:529778] *** Assertion failure in +[NSEvent otherEventWithType:location:modifierFlags:timestamp:windowNumber:context:subtype:data1:data2:], NSEvent.m:647\n",
      "2023-04-21 16:58:18.196 Python[47181:529778] *** Assertion failure in +[NSEvent otherEventWithType:location:modifierFlags:timestamp:windowNumber:context:subtype:data1:data2:], NSEvent.m:647\n",
      "2023-04-21 16:58:18.212 Python[47181:529778] *** Assertion failure in +[NSEvent otherEventWithType:location:modifierFlags:timestamp:windowNumber:context:subtype:data1:data2:], NSEvent.m:647\n",
      "2023-04-21 16:58:18.227 Python[47181:529778] *** Assertion failure in +[NSEvent otherEventWithType:location:modifierFlags:timestamp:windowNumber:context:subtype:data1:data2:], NSEvent.m:647\n",
      "2023-04-21 16:58:18.241 Python[47181:529778] *** Assertion failure in +[NSEvent otherEventWithType:location:modifierFlags:timestamp:windowNumber:context:subtype:data1:data2:], NSEvent.m:647\n",
      "2023-04-21 16:58:18.256 Python[47181:529778] *** Assertion failure in +[NSEvent otherEventWithType:location:modifierFlags:timestamp:windowNumber:context:subtype:data1:data2:], NSEvent.m:647\n",
      "2023-04-21 16:58:18.271 Python[47181:529778] *** Assertion failure in +[NSEvent otherEventWithType:location:modifierFlags:timestamp:windowNumber:context:subtype:data1:data2:], NSEvent.m:647\n",
      "2023-04-21 16:58:18.286 Python[47181:529778] *** Assertion failure in +[NSEvent otherEventWithType:location:modifierFlags:timestamp:windowNumber:context:subtype:data1:data2:], NSEvent.m:647\n"
     ]
    },
    {
     "name": "stdout",
     "output_type": "stream",
     "text": [
      "..DDDD..DDDD"
     ]
    },
    {
     "name": "stderr",
     "output_type": "stream",
     "text": [
      "2023-04-21 16:58:18.302 Python[47181:529778] *** Assertion failure in +[NSEvent otherEventWithType:location:modifierFlags:timestamp:windowNumber:context:subtype:data1:data2:], NSEvent.m:647\n",
      "2023-04-21 16:58:18.316 Python[47181:529778] *** Assertion failure in +[NSEvent otherEventWithType:location:modifierFlags:timestamp:windowNumber:context:subtype:data1:data2:], NSEvent.m:647\n",
      "2023-04-21 16:58:18.330 Python[47181:529778] *** Assertion failure in +[NSEvent otherEventWithType:location:modifierFlags:timestamp:windowNumber:context:subtype:data1:data2:], NSEvent.m:647\n",
      "2023-04-21 16:58:18.344 Python[47181:529778] *** Assertion failure in +[NSEvent otherEventWithType:location:modifierFlags:timestamp:windowNumber:context:subtype:data1:data2:], NSEvent.m:647\n",
      "2023-04-21 16:58:18.359 Python[47181:529778] *** Assertion failure in +[NSEvent otherEventWithType:location:modifierFlags:timestamp:windowNumber:context:subtype:data1:data2:], NSEvent.m:647\n",
      "2023-04-21 16:58:18.373 Python[47181:529778] *** Assertion failure in +[NSEvent otherEventWithType:location:modifierFlags:timestamp:windowNumber:context:subtype:data1:data2:], NSEvent.m:647\n",
      "2023-04-21 16:58:18.388 Python[47181:529778] *** Assertion failure in +[NSEvent otherEventWithType:location:modifierFlags:timestamp:windowNumber:context:subtype:data1:data2:], NSEvent.m:647\n",
      "2023-04-21 16:58:18.402 Python[47181:529778] *** Assertion failure in +[NSEvent otherEventWithType:location:modifierFlags:timestamp:windowNumber:context:subtype:data1:data2:], NSEvent.m:647\n",
      "2023-04-21 16:58:18.416 Python[47181:529778] *** Assertion failure in +[NSEvent otherEventWithType:location:modifierFlags:timestamp:windowNumber:context:subtype:data1:data2:], NSEvent.m:647\n",
      "2023-04-21 16:58:18.430 Python[47181:529778] *** Assertion failure in +[NSEvent otherEventWithType:location:modifierFlags:timestamp:windowNumber:context:subtype:data1:data2:], NSEvent.m:647\n",
      "2023-04-21 16:58:18.445 Python[47181:529778] *** Assertion failure in +[NSEvent otherEventWithType:location:modifierFlags:timestamp:windowNumber:context:subtype:data1:data2:], NSEvent.m:647\n",
      "2023-04-21 16:58:18.459 Python[47181:529778] *** Assertion failure in +[NSEvent otherEventWithType:location:modifierFlags:timestamp:windowNumber:context:subtype:data1:data2:], NSEvent.m:647\n",
      "2023-04-21 16:58:18.473 Python[47181:529778] *** Assertion failure in +[NSEvent otherEventWithType:location:modifierFlags:timestamp:windowNumber:context:subtype:data1:data2:], NSEvent.m:647\n",
      "2023-04-21 16:58:18.487 Python[47181:529778] *** Assertion failure in +[NSEvent otherEventWithType:location:modifierFlags:timestamp:windowNumber:context:subtype:data1:data2:], NSEvent.m:647\n",
      "2023-04-21 16:58:18.501 Python[47181:529778] *** Assertion failure in +[NSEvent otherEventWithType:location:modifierFlags:timestamp:windowNumber:context:subtype:data1:data2:], NSEvent.m:647\n"
     ]
    },
    {
     "name": "stdout",
     "output_type": "stream",
     "text": [
      "..DDDDh+\n",
      "..DDDD"
     ]
    },
    {
     "name": "stderr",
     "output_type": "stream",
     "text": [
      "2023-04-21 16:58:18.516 Python[47181:529778] *** Assertion failure in +[NSEvent otherEventWithType:location:modifierFlags:timestamp:windowNumber:context:subtype:data1:data2:], NSEvent.m:647\n",
      "2023-04-21 16:58:18.530 Python[47181:529778] *** Assertion failure in +[NSEvent otherEventWithType:location:modifierFlags:timestamp:windowNumber:context:subtype:data1:data2:], NSEvent.m:647\n",
      "2023-04-21 16:58:18.544 Python[47181:529778] *** Assertion failure in +[NSEvent otherEventWithType:location:modifierFlags:timestamp:windowNumber:context:subtype:data1:data2:], NSEvent.m:647\n",
      "2023-04-21 16:58:18.559 Python[47181:529778] *** Assertion failure in +[NSEvent otherEventWithType:location:modifierFlags:timestamp:windowNumber:context:subtype:data1:data2:], NSEvent.m:647\n",
      "2023-04-21 16:58:18.573 Python[47181:529778] *** Assertion failure in +[NSEvent otherEventWithType:location:modifierFlags:timestamp:windowNumber:context:subtype:data1:data2:], NSEvent.m:647\n",
      "2023-04-21 16:58:18.587 Python[47181:529778] *** Assertion failure in +[NSEvent otherEventWithType:location:modifierFlags:timestamp:windowNumber:context:subtype:data1:data2:], NSEvent.m:647\n",
      "2023-04-21 16:58:18.601 Python[47181:529778] *** Assertion failure in +[NSEvent otherEventWithType:location:modifierFlags:timestamp:windowNumber:context:subtype:data1:data2:], NSEvent.m:647\n",
      "2023-04-21 16:58:18.615 Python[47181:529778] *** Assertion failure in +[NSEvent otherEventWithType:location:modifierFlags:timestamp:windowNumber:context:subtype:data1:data2:], NSEvent.m:647\n",
      "2023-04-21 16:58:18.629 Python[47181:529778] *** Assertion failure in +[NSEvent otherEventWithType:location:modifierFlags:timestamp:windowNumber:context:subtype:data1:data2:], NSEvent.m:647\n",
      "2023-04-21 16:58:18.643 Python[47181:529778] *** Assertion failure in +[NSEvent otherEventWithType:location:modifierFlags:timestamp:windowNumber:context:subtype:data1:data2:], NSEvent.m:647\n",
      "2023-04-21 16:58:18.657 Python[47181:529778] *** Assertion failure in +[NSEvent otherEventWithType:location:modifierFlags:timestamp:windowNumber:context:subtype:data1:data2:], NSEvent.m:647\n",
      "2023-04-21 16:58:18.671 Python[47181:529778] *** Assertion failure in +[NSEvent otherEventWithType:location:modifierFlags:timestamp:windowNumber:context:subtype:data1:data2:], NSEvent.m:647\n",
      "2023-04-21 16:58:18.685 Python[47181:529778] *** Assertion failure in +[NSEvent otherEventWithType:location:modifierFlags:timestamp:windowNumber:context:subtype:data1:data2:], NSEvent.m:647\n",
      "2023-04-21 16:58:18.699 Python[47181:529778] *** Assertion failure in +[NSEvent otherEventWithType:location:modifierFlags:timestamp:windowNumber:context:subtype:data1:data2:], NSEvent.m:647\n",
      "2023-04-21 16:58:18.712 Python[47181:529778] *** Assertion failure in +[NSEvent otherEventWithType:location:modifierFlags:timestamp:windowNumber:context:subtype:data1:data2:], NSEvent.m:647\n"
     ]
    },
    {
     "name": "stdout",
     "output_type": "stream",
     "text": [
      "..DDD.DD.DD.DH\n",
      "DHh+\n"
     ]
    },
    {
     "name": "stderr",
     "output_type": "stream",
     "text": [
      "2023-04-21 16:58:18.726 Python[47181:529778] *** Assertion failure in +[NSEvent otherEventWithType:location:modifierFlags:timestamp:windowNumber:context:subtype:data1:data2:], NSEvent.m:647\n",
      "2023-04-21 16:58:18.740 Python[47181:529778] *** Assertion failure in +[NSEvent otherEventWithType:location:modifierFlags:timestamp:windowNumber:context:subtype:data1:data2:], NSEvent.m:647\n",
      "2023-04-21 16:58:18.754 Python[47181:529778] *** Assertion failure in +[NSEvent otherEventWithType:location:modifierFlags:timestamp:windowNumber:context:subtype:data1:data2:], NSEvent.m:647\n",
      "2023-04-21 16:58:18.769 Python[47181:529778] *** Assertion failure in +[NSEvent otherEventWithType:location:modifierFlags:timestamp:windowNumber:context:subtype:data1:data2:], NSEvent.m:647\n",
      "2023-04-21 16:58:18.783 Python[47181:529778] *** Assertion failure in +[NSEvent otherEventWithType:location:modifierFlags:timestamp:windowNumber:context:subtype:data1:data2:], NSEvent.m:647\n",
      "2023-04-21 16:58:18.796 Python[47181:529778] *** Assertion failure in +[NSEvent otherEventWithType:location:modifierFlags:timestamp:windowNumber:context:subtype:data1:data2:], NSEvent.m:647\n",
      "2023-04-21 16:58:18.811 Python[47181:529778] *** Assertion failure in +[NSEvent otherEventWithType:location:modifierFlags:timestamp:windowNumber:context:subtype:data1:data2:], NSEvent.m:647\n",
      "2023-04-21 16:58:18.826 Python[47181:529778] *** Assertion failure in +[NSEvent otherEventWithType:location:modifierFlags:timestamp:windowNumber:context:subtype:data1:data2:], NSEvent.m:647\n",
      "2023-04-21 16:58:18.841 Python[47181:529778] *** Assertion failure in +[NSEvent otherEventWithType:location:modifierFlags:timestamp:windowNumber:context:subtype:data1:data2:], NSEvent.m:647\n",
      "2023-04-21 16:58:18.855 Python[47181:529778] *** Assertion failure in +[NSEvent otherEventWithType:location:modifierFlags:timestamp:windowNumber:context:subtype:data1:data2:], NSEvent.m:647\n",
      "2023-04-21 16:58:18.869 Python[47181:529778] *** Assertion failure in +[NSEvent otherEventWithType:location:modifierFlags:timestamp:windowNumber:context:subtype:data1:data2:], NSEvent.m:647\n",
      "2023-04-21 16:58:18.884 Python[47181:529778] *** Assertion failure in +[NSEvent otherEventWithType:location:modifierFlags:timestamp:windowNumber:context:subtype:data1:data2:], NSEvent.m:647\n",
      "2023-04-21 16:58:18.898 Python[47181:529778] *** Assertion failure in +[NSEvent otherEventWithType:location:modifierFlags:timestamp:windowNumber:context:subtype:data1:data2:], NSEvent.m:647\n",
      "2023-04-21 16:58:18.912 Python[47181:529778] *** Assertion failure in +[NSEvent otherEventWithType:location:modifierFlags:timestamp:windowNumber:context:subtype:data1:data2:], NSEvent.m:647\n",
      "2023-04-21 16:58:18.926 Python[47181:529778] *** Assertion failure in +[NSEvent otherEventWithType:location:modifierFlags:timestamp:windowNumber:context:subtype:data1:data2:], NSEvent.m:647\n"
     ]
    },
    {
     "name": "stdout",
     "output_type": "stream",
     "text": [
      ".DHD.DD.DQDSigQ:\n",
      "raw_power=([0.9990101  0.9866128  0.96596247 1.0268246 ]/10)\n",
      "pp_power=([0.46649686 0.49975166 0.41960082 0.50236254]/5)\n",
      "noise2sig=[1.14151512 0.97420613 1.3020986  1.04399117]\n",
      ".DD.D"
     ]
    },
    {
     "name": "stderr",
     "output_type": "stream",
     "text": [
      "2023-04-21 16:58:18.940 Python[47181:529778] *** Assertion failure in +[NSEvent otherEventWithType:location:modifierFlags:timestamp:windowNumber:context:subtype:data1:data2:], NSEvent.m:647\n",
      "2023-04-21 16:58:18.954 Python[47181:529778] *** Assertion failure in +[NSEvent otherEventWithType:location:modifierFlags:timestamp:windowNumber:context:subtype:data1:data2:], NSEvent.m:647\n",
      "2023-04-21 16:58:18.968 Python[47181:529778] *** Assertion failure in +[NSEvent otherEventWithType:location:modifierFlags:timestamp:windowNumber:context:subtype:data1:data2:], NSEvent.m:647\n",
      "2023-04-21 16:58:18.982 Python[47181:529778] *** Assertion failure in +[NSEvent otherEventWithType:location:modifierFlags:timestamp:windowNumber:context:subtype:data1:data2:], NSEvent.m:647\n",
      "2023-04-21 16:58:18.996 Python[47181:529778] *** Assertion failure in +[NSEvent otherEventWithType:location:modifierFlags:timestamp:windowNumber:context:subtype:data1:data2:], NSEvent.m:647\n",
      "2023-04-21 16:58:19.010 Python[47181:529778] *** Assertion failure in +[NSEvent otherEventWithType:location:modifierFlags:timestamp:windowNumber:context:subtype:data1:data2:], NSEvent.m:647\n",
      "2023-04-21 16:58:19.024 Python[47181:529778] *** Assertion failure in +[NSEvent otherEventWithType:location:modifierFlags:timestamp:windowNumber:context:subtype:data1:data2:], NSEvent.m:647\n",
      "2023-04-21 16:58:19.037 Python[47181:529778] *** Assertion failure in +[NSEvent otherEventWithType:location:modifierFlags:timestamp:windowNumber:context:subtype:data1:data2:], NSEvent.m:647\n",
      "2023-04-21 16:58:19.051 Python[47181:529778] *** Assertion failure in +[NSEvent otherEventWithType:location:modifierFlags:timestamp:windowNumber:context:subtype:data1:data2:], NSEvent.m:647\n",
      "2023-04-21 16:58:19.065 Python[47181:529778] *** Assertion failure in +[NSEvent otherEventWithType:location:modifierFlags:timestamp:windowNumber:context:subtype:data1:data2:], NSEvent.m:647\n",
      "2023-04-21 16:58:19.079 Python[47181:529778] *** Assertion failure in +[NSEvent otherEventWithType:location:modifierFlags:timestamp:windowNumber:context:subtype:data1:data2:], NSEvent.m:647\n",
      "2023-04-21 16:58:19.093 Python[47181:529778] *** Assertion failure in +[NSEvent otherEventWithType:location:modifierFlags:timestamp:windowNumber:context:subtype:data1:data2:], NSEvent.m:647\n",
      "2023-04-21 16:58:19.107 Python[47181:529778] *** Assertion failure in +[NSEvent otherEventWithType:location:modifierFlags:timestamp:windowNumber:context:subtype:data1:data2:], NSEvent.m:647\n",
      "2023-04-21 16:58:19.121 Python[47181:529778] *** Assertion failure in +[NSEvent otherEventWithType:location:modifierFlags:timestamp:windowNumber:context:subtype:data1:data2:], NSEvent.m:647\n",
      "2023-04-21 16:58:19.135 Python[47181:529778] *** Assertion failure in +[NSEvent otherEventWithType:location:modifierFlags:timestamp:windowNumber:context:subtype:data1:data2:], NSEvent.m:647\n"
     ]
    },
    {
     "name": "stdout",
     "output_type": "stream",
     "text": [
      "DH+\n",
      ".DHDh+\n",
      ".DD.DD.DD.D"
     ]
    },
    {
     "name": "stderr",
     "output_type": "stream",
     "text": [
      "2023-04-21 16:58:19.149 Python[47181:529778] *** Assertion failure in +[NSEvent otherEventWithType:location:modifierFlags:timestamp:windowNumber:context:subtype:data1:data2:], NSEvent.m:647\n",
      "2023-04-21 16:58:19.163 Python[47181:529778] *** Assertion failure in +[NSEvent otherEventWithType:location:modifierFlags:timestamp:windowNumber:context:subtype:data1:data2:], NSEvent.m:647\n",
      "2023-04-21 16:58:19.177 Python[47181:529778] *** Assertion failure in +[NSEvent otherEventWithType:location:modifierFlags:timestamp:windowNumber:context:subtype:data1:data2:], NSEvent.m:647\n",
      "2023-04-21 16:58:19.190 Python[47181:529778] *** Assertion failure in +[NSEvent otherEventWithType:location:modifierFlags:timestamp:windowNumber:context:subtype:data1:data2:], NSEvent.m:647\n",
      "2023-04-21 16:58:19.204 Python[47181:529778] *** Assertion failure in +[NSEvent otherEventWithType:location:modifierFlags:timestamp:windowNumber:context:subtype:data1:data2:], NSEvent.m:647\n",
      "2023-04-21 16:58:19.218 Python[47181:529778] *** Assertion failure in +[NSEvent otherEventWithType:location:modifierFlags:timestamp:windowNumber:context:subtype:data1:data2:], NSEvent.m:647\n",
      "2023-04-21 16:58:19.232 Python[47181:529778] *** Assertion failure in +[NSEvent otherEventWithType:location:modifierFlags:timestamp:windowNumber:context:subtype:data1:data2:], NSEvent.m:647\n",
      "2023-04-21 16:58:19.246 Python[47181:529778] *** Assertion failure in +[NSEvent otherEventWithType:location:modifierFlags:timestamp:windowNumber:context:subtype:data1:data2:], NSEvent.m:647\n",
      "2023-04-21 16:58:19.259 Python[47181:529778] *** Assertion failure in +[NSEvent otherEventWithType:location:modifierFlags:timestamp:windowNumber:context:subtype:data1:data2:], NSEvent.m:647\n",
      "2023-04-21 16:58:19.273 Python[47181:529778] *** Assertion failure in +[NSEvent otherEventWithType:location:modifierFlags:timestamp:windowNumber:context:subtype:data1:data2:], NSEvent.m:647\n",
      "2023-04-21 16:58:19.287 Python[47181:529778] *** Assertion failure in +[NSEvent otherEventWithType:location:modifierFlags:timestamp:windowNumber:context:subtype:data1:data2:], NSEvent.m:647\n",
      "2023-04-21 16:58:19.301 Python[47181:529778] *** Assertion failure in +[NSEvent otherEventWithType:location:modifierFlags:timestamp:windowNumber:context:subtype:data1:data2:], NSEvent.m:647\n",
      "2023-04-21 16:58:19.316 Python[47181:529778] *** Assertion failure in +[NSEvent otherEventWithType:location:modifierFlags:timestamp:windowNumber:context:subtype:data1:data2:], NSEvent.m:647\n",
      "2023-04-21 16:58:19.330 Python[47181:529778] *** Assertion failure in +[NSEvent otherEventWithType:location:modifierFlags:timestamp:windowNumber:context:subtype:data1:data2:], NSEvent.m:647\n",
      "2023-04-21 16:58:19.343 Python[47181:529778] *** Assertion failure in +[NSEvent otherEventWithType:location:modifierFlags:timestamp:windowNumber:context:subtype:data1:data2:], NSEvent.m:647\n"
     ]
    },
    {
     "name": "stdout",
     "output_type": "stream",
     "text": [
      "D.DDh+\n",
      ".DD.DD.DD"
     ]
    },
    {
     "name": "stderr",
     "output_type": "stream",
     "text": [
      "2023-04-21 16:58:19.357 Python[47181:529778] *** Assertion failure in +[NSEvent otherEventWithType:location:modifierFlags:timestamp:windowNumber:context:subtype:data1:data2:], NSEvent.m:647\n",
      "2023-04-21 16:58:19.371 Python[47181:529778] *** Assertion failure in +[NSEvent otherEventWithType:location:modifierFlags:timestamp:windowNumber:context:subtype:data1:data2:], NSEvent.m:647\n",
      "2023-04-21 16:58:19.386 Python[47181:529778] *** Assertion failure in +[NSEvent otherEventWithType:location:modifierFlags:timestamp:windowNumber:context:subtype:data1:data2:], NSEvent.m:647\n",
      "2023-04-21 16:58:19.400 Python[47181:529778] *** Assertion failure in +[NSEvent otherEventWithType:location:modifierFlags:timestamp:windowNumber:context:subtype:data1:data2:], NSEvent.m:647\n",
      "2023-04-21 16:58:19.415 Python[47181:529778] *** Assertion failure in +[NSEvent otherEventWithType:location:modifierFlags:timestamp:windowNumber:context:subtype:data1:data2:], NSEvent.m:647\n",
      "2023-04-21 16:58:19.429 Python[47181:529778] *** Assertion failure in +[NSEvent otherEventWithType:location:modifierFlags:timestamp:windowNumber:context:subtype:data1:data2:], NSEvent.m:647\n",
      "2023-04-21 16:58:19.443 Python[47181:529778] *** Assertion failure in +[NSEvent otherEventWithType:location:modifierFlags:timestamp:windowNumber:context:subtype:data1:data2:], NSEvent.m:647\n",
      "2023-04-21 16:58:19.458 Python[47181:529778] *** Assertion failure in +[NSEvent otherEventWithType:location:modifierFlags:timestamp:windowNumber:context:subtype:data1:data2:], NSEvent.m:647\n",
      "2023-04-21 16:58:19.472 Python[47181:529778] *** Assertion failure in +[NSEvent otherEventWithType:location:modifierFlags:timestamp:windowNumber:context:subtype:data1:data2:], NSEvent.m:647\n",
      "2023-04-21 16:58:19.486 Python[47181:529778] *** Assertion failure in +[NSEvent otherEventWithType:location:modifierFlags:timestamp:windowNumber:context:subtype:data1:data2:], NSEvent.m:647\n",
      "2023-04-21 16:58:19.500 Python[47181:529778] *** Assertion failure in +[NSEvent otherEventWithType:location:modifierFlags:timestamp:windowNumber:context:subtype:data1:data2:], NSEvent.m:647\n",
      "2023-04-21 16:58:19.513 Python[47181:529778] *** Assertion failure in +[NSEvent otherEventWithType:location:modifierFlags:timestamp:windowNumber:context:subtype:data1:data2:], NSEvent.m:647\n",
      "2023-04-21 16:58:19.527 Python[47181:529778] *** Assertion failure in +[NSEvent otherEventWithType:location:modifierFlags:timestamp:windowNumber:context:subtype:data1:data2:], NSEvent.m:647\n",
      "2023-04-21 16:58:19.541 Python[47181:529778] *** Assertion failure in +[NSEvent otherEventWithType:location:modifierFlags:timestamp:windowNumber:context:subtype:data1:data2:], NSEvent.m:647\n",
      "2023-04-21 16:58:19.555 Python[47181:529778] *** Assertion failure in +[NSEvent otherEventWithType:location:modifierFlags:timestamp:windowNumber:context:subtype:data1:data2:], NSEvent.m:647\n"
     ]
    },
    {
     "name": "stdout",
     "output_type": "stream",
     "text": [
      "..DD.DD..DDh+\n",
      ".DD..D"
     ]
    },
    {
     "name": "stderr",
     "output_type": "stream",
     "text": [
      "2023-04-21 16:58:19.569 Python[47181:529778] *** Assertion failure in +[NSEvent otherEventWithType:location:modifierFlags:timestamp:windowNumber:context:subtype:data1:data2:], NSEvent.m:647\n",
      "2023-04-21 16:58:19.583 Python[47181:529778] *** Assertion failure in +[NSEvent otherEventWithType:location:modifierFlags:timestamp:windowNumber:context:subtype:data1:data2:], NSEvent.m:647\n",
      "2023-04-21 16:58:19.596 Python[47181:529778] *** Assertion failure in +[NSEvent otherEventWithType:location:modifierFlags:timestamp:windowNumber:context:subtype:data1:data2:], NSEvent.m:647\n",
      "2023-04-21 16:58:19.610 Python[47181:529778] *** Assertion failure in +[NSEvent otherEventWithType:location:modifierFlags:timestamp:windowNumber:context:subtype:data1:data2:], NSEvent.m:647\n",
      "2023-04-21 16:58:19.625 Python[47181:529778] *** Assertion failure in +[NSEvent otherEventWithType:location:modifierFlags:timestamp:windowNumber:context:subtype:data1:data2:], NSEvent.m:647\n",
      "2023-04-21 16:58:19.639 Python[47181:529778] *** Assertion failure in +[NSEvent otherEventWithType:location:modifierFlags:timestamp:windowNumber:context:subtype:data1:data2:], NSEvent.m:647\n",
      "2023-04-21 16:58:19.654 Python[47181:529778] *** Assertion failure in +[NSEvent otherEventWithType:location:modifierFlags:timestamp:windowNumber:context:subtype:data1:data2:], NSEvent.m:647\n",
      "2023-04-21 16:58:19.668 Python[47181:529778] *** Assertion failure in +[NSEvent otherEventWithType:location:modifierFlags:timestamp:windowNumber:context:subtype:data1:data2:], NSEvent.m:647\n",
      "2023-04-21 16:58:19.683 Python[47181:529778] *** Assertion failure in +[NSEvent otherEventWithType:location:modifierFlags:timestamp:windowNumber:context:subtype:data1:data2:], NSEvent.m:647\n",
      "2023-04-21 16:58:19.697 Python[47181:529778] *** Assertion failure in +[NSEvent otherEventWithType:location:modifierFlags:timestamp:windowNumber:context:subtype:data1:data2:], NSEvent.m:647\n",
      "2023-04-21 16:58:19.712 Python[47181:529778] *** Assertion failure in +[NSEvent otherEventWithType:location:modifierFlags:timestamp:windowNumber:context:subtype:data1:data2:], NSEvent.m:647\n",
      "2023-04-21 16:58:19.727 Python[47181:529778] *** Assertion failure in +[NSEvent otherEventWithType:location:modifierFlags:timestamp:windowNumber:context:subtype:data1:data2:], NSEvent.m:647\n",
      "2023-04-21 16:58:19.741 Python[47181:529778] *** Assertion failure in +[NSEvent otherEventWithType:location:modifierFlags:timestamp:windowNumber:context:subtype:data1:data2:], NSEvent.m:647\n",
      "2023-04-21 16:58:19.756 Python[47181:529778] *** Assertion failure in +[NSEvent otherEventWithType:location:modifierFlags:timestamp:windowNumber:context:subtype:data1:data2:], NSEvent.m:647\n"
     ]
    },
    {
     "name": "stdout",
     "output_type": "stream",
     "text": [
      "D.DD.DHDH.DDh+\n",
      ".HDD.DQ"
     ]
    },
    {
     "name": "stderr",
     "output_type": "stream",
     "text": [
      "2023-04-21 16:58:19.771 Python[47181:529778] *** Assertion failure in +[NSEvent otherEventWithType:location:modifierFlags:timestamp:windowNumber:context:subtype:data1:data2:], NSEvent.m:647\n",
      "2023-04-21 16:58:19.786 Python[47181:529778] *** Assertion failure in +[NSEvent otherEventWithType:location:modifierFlags:timestamp:windowNumber:context:subtype:data1:data2:], NSEvent.m:647\n",
      "2023-04-21 16:58:19.802 Python[47181:529778] *** Assertion failure in +[NSEvent otherEventWithType:location:modifierFlags:timestamp:windowNumber:context:subtype:data1:data2:], NSEvent.m:647\n",
      "2023-04-21 16:58:19.817 Python[47181:529778] *** Assertion failure in +[NSEvent otherEventWithType:location:modifierFlags:timestamp:windowNumber:context:subtype:data1:data2:], NSEvent.m:647\n",
      "2023-04-21 16:58:19.831 Python[47181:529778] *** Assertion failure in +[NSEvent otherEventWithType:location:modifierFlags:timestamp:windowNumber:context:subtype:data1:data2:], NSEvent.m:647\n",
      "2023-04-21 16:58:19.846 Python[47181:529778] *** Assertion failure in +[NSEvent otherEventWithType:location:modifierFlags:timestamp:windowNumber:context:subtype:data1:data2:], NSEvent.m:647\n",
      "2023-04-21 16:58:19.861 Python[47181:529778] *** Assertion failure in +[NSEvent otherEventWithType:location:modifierFlags:timestamp:windowNumber:context:subtype:data1:data2:], NSEvent.m:647\n",
      "2023-04-21 16:58:19.876 Python[47181:529778] *** Assertion failure in +[NSEvent otherEventWithType:location:modifierFlags:timestamp:windowNumber:context:subtype:data1:data2:], NSEvent.m:647\n",
      "2023-04-21 16:58:19.891 Python[47181:529778] *** Assertion failure in +[NSEvent otherEventWithType:location:modifierFlags:timestamp:windowNumber:context:subtype:data1:data2:], NSEvent.m:647\n",
      "2023-04-21 16:58:19.905 Python[47181:529778] *** Assertion failure in +[NSEvent otherEventWithType:location:modifierFlags:timestamp:windowNumber:context:subtype:data1:data2:], NSEvent.m:647\n",
      "2023-04-21 16:58:19.920 Python[47181:529778] *** Assertion failure in +[NSEvent otherEventWithType:location:modifierFlags:timestamp:windowNumber:context:subtype:data1:data2:], NSEvent.m:647\n",
      "2023-04-21 16:58:19.935 Python[47181:529778] *** Assertion failure in +[NSEvent otherEventWithType:location:modifierFlags:timestamp:windowNumber:context:subtype:data1:data2:], NSEvent.m:647\n",
      "2023-04-21 16:58:19.949 Python[47181:529778] *** Assertion failure in +[NSEvent otherEventWithType:location:modifierFlags:timestamp:windowNumber:context:subtype:data1:data2:], NSEvent.m:647\n",
      "2023-04-21 16:58:19.965 Python[47181:529778] *** Assertion failure in +[NSEvent otherEventWithType:location:modifierFlags:timestamp:windowNumber:context:subtype:data1:data2:], NSEvent.m:647\n"
     ]
    },
    {
     "name": "stdout",
     "output_type": "stream",
     "text": [
      "DSigQ:\n",
      "raw_power=([1.0244476 1.01142   1.027984  1.0024312]/10)\n",
      "pp_power=([0.42139141 0.48867799 0.51124387 0.46727902]/5)\n",
      "noise2sig=[1.43110689 1.06970648 1.01075079 1.14525178]\n",
      "..DD.DDH+\n",
      "..DHD.DDh+\n"
     ]
    },
    {
     "name": "stderr",
     "output_type": "stream",
     "text": [
      "2023-04-21 16:58:19.980 Python[47181:529778] *** Assertion failure in +[NSEvent otherEventWithType:location:modifierFlags:timestamp:windowNumber:context:subtype:data1:data2:], NSEvent.m:647\n",
      "2023-04-21 16:58:19.995 Python[47181:529778] *** Assertion failure in +[NSEvent otherEventWithType:location:modifierFlags:timestamp:windowNumber:context:subtype:data1:data2:], NSEvent.m:647\n",
      "2023-04-21 16:58:20.010 Python[47181:529778] *** Assertion failure in +[NSEvent otherEventWithType:location:modifierFlags:timestamp:windowNumber:context:subtype:data1:data2:], NSEvent.m:647\n",
      "2023-04-21 16:58:20.025 Python[47181:529778] *** Assertion failure in +[NSEvent otherEventWithType:location:modifierFlags:timestamp:windowNumber:context:subtype:data1:data2:], NSEvent.m:647\n",
      "2023-04-21 16:58:20.040 Python[47181:529778] *** Assertion failure in +[NSEvent otherEventWithType:location:modifierFlags:timestamp:windowNumber:context:subtype:data1:data2:], NSEvent.m:647\n",
      "2023-04-21 16:58:20.055 Python[47181:529778] *** Assertion failure in +[NSEvent otherEventWithType:location:modifierFlags:timestamp:windowNumber:context:subtype:data1:data2:], NSEvent.m:647\n",
      "2023-04-21 16:58:20.070 Python[47181:529778] *** Assertion failure in +[NSEvent otherEventWithType:location:modifierFlags:timestamp:windowNumber:context:subtype:data1:data2:], NSEvent.m:647\n",
      "2023-04-21 16:58:20.085 Python[47181:529778] *** Assertion failure in +[NSEvent otherEventWithType:location:modifierFlags:timestamp:windowNumber:context:subtype:data1:data2:], NSEvent.m:647\n",
      "2023-04-21 16:58:20.100 Python[47181:529778] *** Assertion failure in +[NSEvent otherEventWithType:location:modifierFlags:timestamp:windowNumber:context:subtype:data1:data2:], NSEvent.m:647\n",
      "2023-04-21 16:58:20.116 Python[47181:529778] *** Assertion failure in +[NSEvent otherEventWithType:location:modifierFlags:timestamp:windowNumber:context:subtype:data1:data2:], NSEvent.m:647\n",
      "2023-04-21 16:58:20.131 Python[47181:529778] *** Assertion failure in +[NSEvent otherEventWithType:location:modifierFlags:timestamp:windowNumber:context:subtype:data1:data2:], NSEvent.m:647\n",
      "2023-04-21 16:58:20.146 Python[47181:529778] *** Assertion failure in +[NSEvent otherEventWithType:location:modifierFlags:timestamp:windowNumber:context:subtype:data1:data2:], NSEvent.m:647\n",
      "2023-04-21 16:58:20.162 Python[47181:529778] *** Assertion failure in +[NSEvent otherEventWithType:location:modifierFlags:timestamp:windowNumber:context:subtype:data1:data2:], NSEvent.m:647\n",
      "2023-04-21 16:58:20.177 Python[47181:529778] *** Assertion failure in +[NSEvent otherEventWithType:location:modifierFlags:timestamp:windowNumber:context:subtype:data1:data2:], NSEvent.m:647\n"
     ]
    },
    {
     "name": "stdout",
     "output_type": "stream",
     "text": [
      "..DD.DD..DD.DD..D"
     ]
    },
    {
     "name": "stderr",
     "output_type": "stream",
     "text": [
      "2023-04-21 16:58:20.192 Python[47181:529778] *** Assertion failure in +[NSEvent otherEventWithType:location:modifierFlags:timestamp:windowNumber:context:subtype:data1:data2:], NSEvent.m:647\n",
      "2023-04-21 16:58:20.207 Python[47181:529778] *** Assertion failure in +[NSEvent otherEventWithType:location:modifierFlags:timestamp:windowNumber:context:subtype:data1:data2:], NSEvent.m:647\n",
      "2023-04-21 16:58:20.221 Python[47181:529778] *** Assertion failure in +[NSEvent otherEventWithType:location:modifierFlags:timestamp:windowNumber:context:subtype:data1:data2:], NSEvent.m:647\n",
      "2023-04-21 16:58:20.236 Python[47181:529778] *** Assertion failure in +[NSEvent otherEventWithType:location:modifierFlags:timestamp:windowNumber:context:subtype:data1:data2:], NSEvent.m:647\n",
      "2023-04-21 16:58:20.252 Python[47181:529778] *** Assertion failure in +[NSEvent otherEventWithType:location:modifierFlags:timestamp:windowNumber:context:subtype:data1:data2:], NSEvent.m:647\n",
      "2023-04-21 16:58:20.267 Python[47181:529778] *** Assertion failure in +[NSEvent otherEventWithType:location:modifierFlags:timestamp:windowNumber:context:subtype:data1:data2:], NSEvent.m:647\n",
      "2023-04-21 16:58:20.283 Python[47181:529778] *** Assertion failure in +[NSEvent otherEventWithType:location:modifierFlags:timestamp:windowNumber:context:subtype:data1:data2:], NSEvent.m:647\n",
      "2023-04-21 16:58:20.299 Python[47181:529778] *** Assertion failure in +[NSEvent otherEventWithType:location:modifierFlags:timestamp:windowNumber:context:subtype:data1:data2:], NSEvent.m:647\n",
      "2023-04-21 16:58:20.315 Python[47181:529778] *** Assertion failure in +[NSEvent otherEventWithType:location:modifierFlags:timestamp:windowNumber:context:subtype:data1:data2:], NSEvent.m:647\n",
      "2023-04-21 16:58:20.330 Python[47181:529778] *** Assertion failure in +[NSEvent otherEventWithType:location:modifierFlags:timestamp:windowNumber:context:subtype:data1:data2:], NSEvent.m:647\n",
      "2023-04-21 16:58:20.346 Python[47181:529778] *** Assertion failure in +[NSEvent otherEventWithType:location:modifierFlags:timestamp:windowNumber:context:subtype:data1:data2:], NSEvent.m:647\n",
      "2023-04-21 16:58:20.361 Python[47181:529778] *** Assertion failure in +[NSEvent otherEventWithType:location:modifierFlags:timestamp:windowNumber:context:subtype:data1:data2:], NSEvent.m:647\n",
      "2023-04-21 16:58:20.377 Python[47181:529778] *** Assertion failure in +[NSEvent otherEventWithType:location:modifierFlags:timestamp:windowNumber:context:subtype:data1:data2:], NSEvent.m:647\n",
      "2023-04-21 16:58:20.392 Python[47181:529778] *** Assertion failure in +[NSEvent otherEventWithType:location:modifierFlags:timestamp:windowNumber:context:subtype:data1:data2:], NSEvent.m:647\n"
     ]
    },
    {
     "name": "stdout",
     "output_type": "stream",
     "text": [
      "D.DDh+\n",
      "..D3050 305 15.199193 200.668552 (samp,blk,s,hz)\n",
      "D.DD..DD.D"
     ]
    },
    {
     "name": "stderr",
     "output_type": "stream",
     "text": [
      "2023-04-21 16:58:20.408 Python[47181:529778] *** Assertion failure in +[NSEvent otherEventWithType:location:modifierFlags:timestamp:windowNumber:context:subtype:data1:data2:], NSEvent.m:647\n",
      "2023-04-21 16:58:20.423 Python[47181:529778] *** Assertion failure in +[NSEvent otherEventWithType:location:modifierFlags:timestamp:windowNumber:context:subtype:data1:data2:], NSEvent.m:647\n",
      "2023-04-21 16:58:20.439 Python[47181:529778] *** Assertion failure in +[NSEvent otherEventWithType:location:modifierFlags:timestamp:windowNumber:context:subtype:data1:data2:], NSEvent.m:647\n",
      "2023-04-21 16:58:20.455 Python[47181:529778] *** Assertion failure in +[NSEvent otherEventWithType:location:modifierFlags:timestamp:windowNumber:context:subtype:data1:data2:], NSEvent.m:647\n",
      "2023-04-21 16:58:20.470 Python[47181:529778] *** Assertion failure in +[NSEvent otherEventWithType:location:modifierFlags:timestamp:windowNumber:context:subtype:data1:data2:], NSEvent.m:647\n",
      "2023-04-21 16:58:20.486 Python[47181:529778] *** Assertion failure in +[NSEvent otherEventWithType:location:modifierFlags:timestamp:windowNumber:context:subtype:data1:data2:], NSEvent.m:647\n",
      "2023-04-21 16:58:20.502 Python[47181:529778] *** Assertion failure in +[NSEvent otherEventWithType:location:modifierFlags:timestamp:windowNumber:context:subtype:data1:data2:], NSEvent.m:647\n",
      "2023-04-21 16:58:20.517 Python[47181:529778] *** Assertion failure in +[NSEvent otherEventWithType:location:modifierFlags:timestamp:windowNumber:context:subtype:data1:data2:], NSEvent.m:647\n",
      "2023-04-21 16:58:20.533 Python[47181:529778] *** Assertion failure in +[NSEvent otherEventWithType:location:modifierFlags:timestamp:windowNumber:context:subtype:data1:data2:], NSEvent.m:647\n",
      "2023-04-21 16:58:20.549 Python[47181:529778] *** Assertion failure in +[NSEvent otherEventWithType:location:modifierFlags:timestamp:windowNumber:context:subtype:data1:data2:], NSEvent.m:647\n",
      "2023-04-21 16:58:20.565 Python[47181:529778] *** Assertion failure in +[NSEvent otherEventWithType:location:modifierFlags:timestamp:windowNumber:context:subtype:data1:data2:], NSEvent.m:647\n",
      "2023-04-21 16:58:20.582 Python[47181:529778] *** Assertion failure in +[NSEvent otherEventWithType:location:modifierFlags:timestamp:windowNumber:context:subtype:data1:data2:], NSEvent.m:647\n",
      "2023-04-21 16:58:20.598 Python[47181:529778] *** Assertion failure in +[NSEvent otherEventWithType:location:modifierFlags:timestamp:windowNumber:context:subtype:data1:data2:], NSEvent.m:647\n",
      "2023-04-21 16:58:20.614 Python[47181:529778] *** Assertion failure in +[NSEvent otherEventWithType:location:modifierFlags:timestamp:windowNumber:context:subtype:data1:data2:], NSEvent.m:647\n",
      "2023-04-21 16:58:20.629 Python[47181:529778] *** Assertion failure in +[NSEvent otherEventWithType:location:modifierFlags:timestamp:windowNumber:context:subtype:data1:data2:], NSEvent.m:647\n",
      "2023-04-21 16:58:20.646 Python[47181:529778] *** Assertion failure in +[NSEvent otherEventWithType:location:modifierFlags:timestamp:windowNumber:context:subtype:data1:data2:], NSEvent.m:647\n",
      "2023-04-21 16:58:20.662 Python[47181:529778] *** Assertion failure in +[NSEvent otherEventWithType:location:modifierFlags:timestamp:windowNumber:context:subtype:data1:data2:], NSEvent.m:647\n",
      "2023-04-21 16:58:20.677 Python[47181:529778] *** Assertion failure in +[NSEvent otherEventWithType:location:modifierFlags:timestamp:windowNumber:context:subtype:data1:data2:], NSEvent.m:647\n",
      "2023-04-21 16:58:20.693 Python[47181:529778] *** Assertion failure in +[NSEvent otherEventWithType:location:modifierFlags:timestamp:windowNumber:context:subtype:data1:data2:], NSEvent.m:647\n",
      "2023-04-21 16:58:20.708 Python[47181:529778] *** Assertion failure in +[NSEvent otherEventWithType:location:modifierFlags:timestamp:windowNumber:context:subtype:data1:data2:], NSEvent.m:647\n",
      "2023-04-21 16:58:20.724 Python[47181:529778] *** Assertion failure in +[NSEvent otherEventWithType:location:modifierFlags:timestamp:windowNumber:context:subtype:data1:data2:], NSEvent.m:647\n",
      "2023-04-21 16:58:20.740 Python[47181:529778] *** Assertion failure in +[NSEvent otherEventWithType:location:modifierFlags:timestamp:windowNumber:context:subtype:data1:data2:], NSEvent.m:647\n",
      "2023-04-21 16:58:20.755 Python[47181:529778] *** Assertion failure in +[NSEvent otherEventWithType:location:modifierFlags:timestamp:windowNumber:context:subtype:data1:data2:], NSEvent.m:647\n",
      "2023-04-21 16:58:20.771 Python[47181:529778] *** Assertion failure in +[NSEvent otherEventWithType:location:modifierFlags:timestamp:windowNumber:context:subtype:data1:data2:], NSEvent.m:647\n",
      "2023-04-21 16:58:20.786 Python[47181:529778] *** Assertion failure in +[NSEvent otherEventWithType:location:modifierFlags:timestamp:windowNumber:context:subtype:data1:data2:], NSEvent.m:647\n",
      "2023-04-21 16:58:20.802 Python[47181:529778] *** Assertion failure in +[NSEvent otherEventWithType:location:modifierFlags:timestamp:windowNumber:context:subtype:data1:data2:], NSEvent.m:647\n"
     ]
    },
    {
     "name": "stdout",
     "output_type": "stream",
     "text": [
      "D..DD.D.\n",
      "Dh+\n",
      ".DHDH.D.HD"
     ]
    },
    {
     "name": "stderr",
     "output_type": "stream",
     "text": [
      "2023-04-21 16:58:20.818 Python[47181:529778] *** Assertion failure in +[NSEvent otherEventWithType:location:modifierFlags:timestamp:windowNumber:context:subtype:data1:data2:], NSEvent.m:647\n",
      "2023-04-21 16:58:20.834 Python[47181:529778] *** Assertion failure in +[NSEvent otherEventWithType:location:modifierFlags:timestamp:windowNumber:context:subtype:data1:data2:], NSEvent.m:647\n",
      "2023-04-21 16:58:20.849 Python[47181:529778] *** Assertion failure in +[NSEvent otherEventWithType:location:modifierFlags:timestamp:windowNumber:context:subtype:data1:data2:], NSEvent.m:647\n",
      "2023-04-21 16:58:20.865 Python[47181:529778] *** Assertion failure in +[NSEvent otherEventWithType:location:modifierFlags:timestamp:windowNumber:context:subtype:data1:data2:], NSEvent.m:647\n",
      "2023-04-21 16:58:20.880 Python[47181:529778] *** Assertion failure in +[NSEvent otherEventWithType:location:modifierFlags:timestamp:windowNumber:context:subtype:data1:data2:], NSEvent.m:647\n",
      "2023-04-21 16:58:20.896 Python[47181:529778] *** Assertion failure in +[NSEvent otherEventWithType:location:modifierFlags:timestamp:windowNumber:context:subtype:data1:data2:], NSEvent.m:647\n",
      "2023-04-21 16:58:20.911 Python[47181:529778] *** Assertion failure in +[NSEvent otherEventWithType:location:modifierFlags:timestamp:windowNumber:context:subtype:data1:data2:], NSEvent.m:647\n",
      "2023-04-21 16:58:20.927 Python[47181:529778] *** Assertion failure in +[NSEvent otherEventWithType:location:modifierFlags:timestamp:windowNumber:context:subtype:data1:data2:], NSEvent.m:647\n",
      "2023-04-21 16:58:20.943 Python[47181:529778] *** Assertion failure in +[NSEvent otherEventWithType:location:modifierFlags:timestamp:windowNumber:context:subtype:data1:data2:], NSEvent.m:647\n",
      "2023-04-21 16:58:20.959 Python[47181:529778] *** Assertion failure in +[NSEvent otherEventWithType:location:modifierFlags:timestamp:windowNumber:context:subtype:data1:data2:], NSEvent.m:647\n",
      "2023-04-21 16:58:20.974 Python[47181:529778] *** Assertion failure in +[NSEvent otherEventWithType:location:modifierFlags:timestamp:windowNumber:context:subtype:data1:data2:], NSEvent.m:647\n",
      "2023-04-21 16:58:20.990 Python[47181:529778] *** Assertion failure in +[NSEvent otherEventWithType:location:modifierFlags:timestamp:windowNumber:context:subtype:data1:data2:], NSEvent.m:647\n",
      "2023-04-21 16:58:21.005 Python[47181:529778] *** Assertion failure in +[NSEvent otherEventWithType:location:modifierFlags:timestamp:windowNumber:context:subtype:data1:data2:], NSEvent.m:647\n"
     ]
    },
    {
     "name": "stdout",
     "output_type": "stream",
     "text": [
      "..DD.DD..DQDSigQ:\n",
      "raw_power=([1.0377066  0.94951016 1.0142949  1.0415114 ]/10)\n",
      "pp_power=([0.52949582 0.44083163 0.48937468 0.51209863]/5)\n",
      "noise2sig=[0.95980131 1.15390659 1.07263455 1.0338102 ]\n",
      ".DDh+\n",
      "H+\n"
     ]
    },
    {
     "name": "stderr",
     "output_type": "stream",
     "text": [
      "2023-04-21 16:58:21.020 Python[47181:529778] *** Assertion failure in +[NSEvent otherEventWithType:location:modifierFlags:timestamp:windowNumber:context:subtype:data1:data2:], NSEvent.m:647\n",
      "2023-04-21 16:58:21.036 Python[47181:529778] *** Assertion failure in +[NSEvent otherEventWithType:location:modifierFlags:timestamp:windowNumber:context:subtype:data1:data2:], NSEvent.m:647\n",
      "2023-04-21 16:58:21.051 Python[47181:529778] *** Assertion failure in +[NSEvent otherEventWithType:location:modifierFlags:timestamp:windowNumber:context:subtype:data1:data2:], NSEvent.m:647\n",
      "2023-04-21 16:58:21.067 Python[47181:529778] *** Assertion failure in +[NSEvent otherEventWithType:location:modifierFlags:timestamp:windowNumber:context:subtype:data1:data2:], NSEvent.m:647\n",
      "2023-04-21 16:58:21.083 Python[47181:529778] *** Assertion failure in +[NSEvent otherEventWithType:location:modifierFlags:timestamp:windowNumber:context:subtype:data1:data2:], NSEvent.m:647\n",
      "2023-04-21 16:58:21.097 Python[47181:529778] *** Assertion failure in +[NSEvent otherEventWithType:location:modifierFlags:timestamp:windowNumber:context:subtype:data1:data2:], NSEvent.m:647\n",
      "2023-04-21 16:58:21.112 Python[47181:529778] *** Assertion failure in +[NSEvent otherEventWithType:location:modifierFlags:timestamp:windowNumber:context:subtype:data1:data2:], NSEvent.m:647\n",
      "2023-04-21 16:58:21.127 Python[47181:529778] *** Assertion failure in +[NSEvent otherEventWithType:location:modifierFlags:timestamp:windowNumber:context:subtype:data1:data2:], NSEvent.m:647\n",
      "2023-04-21 16:58:21.143 Python[47181:529778] *** Assertion failure in +[NSEvent otherEventWithType:location:modifierFlags:timestamp:windowNumber:context:subtype:data1:data2:], NSEvent.m:647\n",
      "2023-04-21 16:58:21.158 Python[47181:529778] *** Assertion failure in +[NSEvent otherEventWithType:location:modifierFlags:timestamp:windowNumber:context:subtype:data1:data2:], NSEvent.m:647\n",
      "2023-04-21 16:58:21.174 Python[47181:529778] *** Assertion failure in +[NSEvent otherEventWithType:location:modifierFlags:timestamp:windowNumber:context:subtype:data1:data2:], NSEvent.m:647\n",
      "2023-04-21 16:58:21.188 Python[47181:529778] *** Assertion failure in +[NSEvent otherEventWithType:location:modifierFlags:timestamp:windowNumber:context:subtype:data1:data2:], NSEvent.m:647\n",
      "2023-04-21 16:58:21.203 Python[47181:529778] *** Assertion failure in +[NSEvent otherEventWithType:location:modifierFlags:timestamp:windowNumber:context:subtype:data1:data2:], NSEvent.m:647\n",
      "2023-04-21 16:58:21.218 Python[47181:529778] *** Assertion failure in +[NSEvent otherEventWithType:location:modifierFlags:timestamp:windowNumber:context:subtype:data1:data2:], NSEvent.m:647\n"
     ]
    },
    {
     "name": "stdout",
     "output_type": "stream",
     "text": [
      "..DHD.DD..DD.DD..D"
     ]
    },
    {
     "name": "stderr",
     "output_type": "stream",
     "text": [
      "2023-04-21 16:58:21.234 Python[47181:529778] *** Assertion failure in +[NSEvent otherEventWithType:location:modifierFlags:timestamp:windowNumber:context:subtype:data1:data2:], NSEvent.m:647\n",
      "2023-04-21 16:58:21.249 Python[47181:529778] *** Assertion failure in +[NSEvent otherEventWithType:location:modifierFlags:timestamp:windowNumber:context:subtype:data1:data2:], NSEvent.m:647\n",
      "2023-04-21 16:58:21.265 Python[47181:529778] *** Assertion failure in +[NSEvent otherEventWithType:location:modifierFlags:timestamp:windowNumber:context:subtype:data1:data2:], NSEvent.m:647\n",
      "2023-04-21 16:58:21.280 Python[47181:529778] *** Assertion failure in +[NSEvent otherEventWithType:location:modifierFlags:timestamp:windowNumber:context:subtype:data1:data2:], NSEvent.m:647\n",
      "2023-04-21 16:58:21.295 Python[47181:529778] *** Assertion failure in +[NSEvent otherEventWithType:location:modifierFlags:timestamp:windowNumber:context:subtype:data1:data2:], NSEvent.m:647\n",
      "2023-04-21 16:58:21.310 Python[47181:529778] *** Assertion failure in +[NSEvent otherEventWithType:location:modifierFlags:timestamp:windowNumber:context:subtype:data1:data2:], NSEvent.m:647\n",
      "2023-04-21 16:58:21.325 Python[47181:529778] *** Assertion failure in +[NSEvent otherEventWithType:location:modifierFlags:timestamp:windowNumber:context:subtype:data1:data2:], NSEvent.m:647\n",
      "2023-04-21 16:58:21.340 Python[47181:529778] *** Assertion failure in +[NSEvent otherEventWithType:location:modifierFlags:timestamp:windowNumber:context:subtype:data1:data2:], NSEvent.m:647\n",
      "2023-04-21 16:58:21.355 Python[47181:529778] *** Assertion failure in +[NSEvent otherEventWithType:location:modifierFlags:timestamp:windowNumber:context:subtype:data1:data2:], NSEvent.m:647\n",
      "2023-04-21 16:58:21.370 Python[47181:529778] *** Assertion failure in +[NSEvent otherEventWithType:location:modifierFlags:timestamp:windowNumber:context:subtype:data1:data2:], NSEvent.m:647\n",
      "2023-04-21 16:58:21.385 Python[47181:529778] *** Assertion failure in +[NSEvent otherEventWithType:location:modifierFlags:timestamp:windowNumber:context:subtype:data1:data2:], NSEvent.m:647\n",
      "2023-04-21 16:58:21.401 Python[47181:529778] *** Assertion failure in +[NSEvent otherEventWithType:location:modifierFlags:timestamp:windowNumber:context:subtype:data1:data2:], NSEvent.m:647\n",
      "2023-04-21 16:58:21.416 Python[47181:529778] *** Assertion failure in +[NSEvent otherEventWithType:location:modifierFlags:timestamp:windowNumber:context:subtype:data1:data2:], NSEvent.m:647\n",
      "2023-04-21 16:58:21.430 Python[47181:529778] *** Assertion failure in +[NSEvent otherEventWithType:location:modifierFlags:timestamp:windowNumber:context:subtype:data1:data2:], NSEvent.m:647\n"
     ]
    },
    {
     "name": "stdout",
     "output_type": "stream",
     "text": [
      "D.DDh+\n",
      "..DD.DD..DD.D"
     ]
    },
    {
     "name": "stderr",
     "output_type": "stream",
     "text": [
      "2023-04-21 16:58:21.444 Python[47181:529778] *** Assertion failure in +[NSEvent otherEventWithType:location:modifierFlags:timestamp:windowNumber:context:subtype:data1:data2:], NSEvent.m:647\n",
      "2023-04-21 16:58:21.459 Python[47181:529778] *** Assertion failure in +[NSEvent otherEventWithType:location:modifierFlags:timestamp:windowNumber:context:subtype:data1:data2:], NSEvent.m:647\n",
      "2023-04-21 16:58:21.474 Python[47181:529778] *** Assertion failure in +[NSEvent otherEventWithType:location:modifierFlags:timestamp:windowNumber:context:subtype:data1:data2:], NSEvent.m:647\n",
      "2023-04-21 16:58:21.488 Python[47181:529778] *** Assertion failure in +[NSEvent otherEventWithType:location:modifierFlags:timestamp:windowNumber:context:subtype:data1:data2:], NSEvent.m:647\n",
      "2023-04-21 16:58:21.503 Python[47181:529778] *** Assertion failure in +[NSEvent otherEventWithType:location:modifierFlags:timestamp:windowNumber:context:subtype:data1:data2:], NSEvent.m:647\n",
      "2023-04-21 16:58:21.517 Python[47181:529778] *** Assertion failure in +[NSEvent otherEventWithType:location:modifierFlags:timestamp:windowNumber:context:subtype:data1:data2:], NSEvent.m:647\n",
      "2023-04-21 16:58:21.532 Python[47181:529778] *** Assertion failure in +[NSEvent otherEventWithType:location:modifierFlags:timestamp:windowNumber:context:subtype:data1:data2:], NSEvent.m:647\n",
      "2023-04-21 16:58:21.546 Python[47181:529778] *** Assertion failure in +[NSEvent otherEventWithType:location:modifierFlags:timestamp:windowNumber:context:subtype:data1:data2:], NSEvent.m:647\n",
      "2023-04-21 16:58:21.561 Python[47181:529778] *** Assertion failure in +[NSEvent otherEventWithType:location:modifierFlags:timestamp:windowNumber:context:subtype:data1:data2:], NSEvent.m:647\n",
      "2023-04-21 16:58:21.576 Python[47181:529778] *** Assertion failure in +[NSEvent otherEventWithType:location:modifierFlags:timestamp:windowNumber:context:subtype:data1:data2:], NSEvent.m:647\n",
      "2023-04-21 16:58:21.591 Python[47181:529778] *** Assertion failure in +[NSEvent otherEventWithType:location:modifierFlags:timestamp:windowNumber:context:subtype:data1:data2:], NSEvent.m:647\n",
      "2023-04-21 16:58:21.606 Python[47181:529778] *** Assertion failure in +[NSEvent otherEventWithType:location:modifierFlags:timestamp:windowNumber:context:subtype:data1:data2:], NSEvent.m:647\n",
      "2023-04-21 16:58:21.621 Python[47181:529778] *** Assertion failure in +[NSEvent otherEventWithType:location:modifierFlags:timestamp:windowNumber:context:subtype:data1:data2:], NSEvent.m:647\n",
      "2023-04-21 16:58:21.635 Python[47181:529778] *** Assertion failure in +[NSEvent otherEventWithType:location:modifierFlags:timestamp:windowNumber:context:subtype:data1:data2:], NSEvent.m:647\n"
     ]
    },
    {
     "name": "stdout",
     "output_type": "stream",
     "text": [
      "D..DDh+\n",
      ".DD..DD.DD"
     ]
    },
    {
     "name": "stderr",
     "output_type": "stream",
     "text": [
      "2023-04-21 16:58:21.651 Python[47181:529778] *** Assertion failure in +[NSEvent otherEventWithType:location:modifierFlags:timestamp:windowNumber:context:subtype:data1:data2:], NSEvent.m:647\n",
      "2023-04-21 16:58:21.666 Python[47181:529778] *** Assertion failure in +[NSEvent otherEventWithType:location:modifierFlags:timestamp:windowNumber:context:subtype:data1:data2:], NSEvent.m:647\n",
      "2023-04-21 16:58:21.681 Python[47181:529778] *** Assertion failure in +[NSEvent otherEventWithType:location:modifierFlags:timestamp:windowNumber:context:subtype:data1:data2:], NSEvent.m:647\n",
      "2023-04-21 16:58:21.695 Python[47181:529778] *** Assertion failure in +[NSEvent otherEventWithType:location:modifierFlags:timestamp:windowNumber:context:subtype:data1:data2:], NSEvent.m:647\n",
      "2023-04-21 16:58:21.711 Python[47181:529778] *** Assertion failure in +[NSEvent otherEventWithType:location:modifierFlags:timestamp:windowNumber:context:subtype:data1:data2:], NSEvent.m:647\n",
      "2023-04-21 16:58:21.727 Python[47181:529778] *** Assertion failure in +[NSEvent otherEventWithType:location:modifierFlags:timestamp:windowNumber:context:subtype:data1:data2:], NSEvent.m:647\n",
      "2023-04-21 16:58:21.742 Python[47181:529778] *** Assertion failure in +[NSEvent otherEventWithType:location:modifierFlags:timestamp:windowNumber:context:subtype:data1:data2:], NSEvent.m:647\n",
      "2023-04-21 16:58:21.757 Python[47181:529778] *** Assertion failure in +[NSEvent otherEventWithType:location:modifierFlags:timestamp:windowNumber:context:subtype:data1:data2:], NSEvent.m:647\n",
      "2023-04-21 16:58:21.772 Python[47181:529778] *** Assertion failure in +[NSEvent otherEventWithType:location:modifierFlags:timestamp:windowNumber:context:subtype:data1:data2:], NSEvent.m:647\n",
      "2023-04-21 16:58:21.788 Python[47181:529778] *** Assertion failure in +[NSEvent otherEventWithType:location:modifierFlags:timestamp:windowNumber:context:subtype:data1:data2:], NSEvent.m:647\n",
      "2023-04-21 16:58:21.802 Python[47181:529778] *** Assertion failure in +[NSEvent otherEventWithType:location:modifierFlags:timestamp:windowNumber:context:subtype:data1:data2:], NSEvent.m:647\n",
      "2023-04-21 16:58:21.815 Python[47181:529778] *** Assertion failure in +[NSEvent otherEventWithType:location:modifierFlags:timestamp:windowNumber:context:subtype:data1:data2:], NSEvent.m:647\n",
      "2023-04-21 16:58:21.829 Python[47181:529778] *** Assertion failure in +[NSEvent otherEventWithType:location:modifierFlags:timestamp:windowNumber:context:subtype:data1:data2:], NSEvent.m:647\n",
      "2023-04-21 16:58:21.842 Python[47181:529778] *** Assertion failure in +[NSEvent otherEventWithType:location:modifierFlags:timestamp:windowNumber:context:subtype:data1:data2:], NSEvent.m:647\n"
     ]
    },
    {
     "name": "stdout",
     "output_type": "stream",
     "text": [
      "..DHD.DDH..DHDh+\n",
      ".DD"
     ]
    },
    {
     "name": "stderr",
     "output_type": "stream",
     "text": [
      "2023-04-21 16:58:21.863 Python[47181:529778] *** Assertion failure in +[NSEvent otherEventWithType:location:modifierFlags:timestamp:windowNumber:context:subtype:data1:data2:], NSEvent.m:647\n",
      "2023-04-21 16:58:21.877 Python[47181:529778] *** Assertion failure in +[NSEvent otherEventWithType:location:modifierFlags:timestamp:windowNumber:context:subtype:data1:data2:], NSEvent.m:647\n",
      "2023-04-21 16:58:21.891 Python[47181:529778] *** Assertion failure in +[NSEvent otherEventWithType:location:modifierFlags:timestamp:windowNumber:context:subtype:data1:data2:], NSEvent.m:647\n",
      "2023-04-21 16:58:21.904 Python[47181:529778] *** Assertion failure in +[NSEvent otherEventWithType:location:modifierFlags:timestamp:windowNumber:context:subtype:data1:data2:], NSEvent.m:647\n",
      "2023-04-21 16:58:21.918 Python[47181:529778] *** Assertion failure in +[NSEvent otherEventWithType:location:modifierFlags:timestamp:windowNumber:context:subtype:data1:data2:], NSEvent.m:647\n",
      "2023-04-21 16:58:21.932 Python[47181:529778] *** Assertion failure in +[NSEvent otherEventWithType:location:modifierFlags:timestamp:windowNumber:context:subtype:data1:data2:], NSEvent.m:647\n",
      "2023-04-21 16:58:21.946 Python[47181:529778] *** Assertion failure in +[NSEvent otherEventWithType:location:modifierFlags:timestamp:windowNumber:context:subtype:data1:data2:], NSEvent.m:647\n",
      "2023-04-21 16:58:21.961 Python[47181:529778] *** Assertion failure in +[NSEvent otherEventWithType:location:modifierFlags:timestamp:windowNumber:context:subtype:data1:data2:], NSEvent.m:647\n",
      "2023-04-21 16:58:21.976 Python[47181:529778] *** Assertion failure in +[NSEvent otherEventWithType:location:modifierFlags:timestamp:windowNumber:context:subtype:data1:data2:], NSEvent.m:647\n",
      "2023-04-21 16:58:21.990 Python[47181:529778] *** Assertion failure in +[NSEvent otherEventWithType:location:modifierFlags:timestamp:windowNumber:context:subtype:data1:data2:], NSEvent.m:647\n",
      "2023-04-21 16:58:22.004 Python[47181:529778] *** Assertion failure in +[NSEvent otherEventWithType:location:modifierFlags:timestamp:windowNumber:context:subtype:data1:data2:], NSEvent.m:647\n",
      "2023-04-21 16:58:22.019 Python[47181:529778] *** Assertion failure in +[NSEvent otherEventWithType:location:modifierFlags:timestamp:windowNumber:context:subtype:data1:data2:], NSEvent.m:647\n",
      "2023-04-21 16:58:22.034 Python[47181:529778] *** Assertion failure in +[NSEvent otherEventWithType:location:modifierFlags:timestamp:windowNumber:context:subtype:data1:data2:], NSEvent.m:647\n",
      "2023-04-21 16:58:22.049 Python[47181:529778] *** Assertion failure in +[NSEvent otherEventWithType:location:modifierFlags:timestamp:windowNumber:context:subtype:data1:data2:], NSEvent.m:647\n",
      "2023-04-21 16:58:22.064 Python[47181:529778] *** Assertion failure in +[NSEvent otherEventWithType:location:modifierFlags:timestamp:windowNumber:context:subtype:data1:data2:], NSEvent.m:647\n"
     ]
    },
    {
     "name": "stdout",
     "output_type": "stream",
     "text": [
      "..DD.DQDSigQ:\n",
      "raw_power=([0.9951466 0.9508237 0.9745687 0.950406 ]/10)\n",
      "pp_power=([0.42786943 0.44283923 0.48518769 0.42557636]/5)\n",
      "noise2sig=[1.32581834 1.14710815 1.00864271 1.23322087]\n",
      "..DD.DH+\n",
      ".HD..D"
     ]
    },
    {
     "name": "stderr",
     "output_type": "stream",
     "text": [
      "2023-04-21 16:58:22.079 Python[47181:529778] *** Assertion failure in +[NSEvent otherEventWithType:location:modifierFlags:timestamp:windowNumber:context:subtype:data1:data2:], NSEvent.m:647\n",
      "2023-04-21 16:58:22.095 Python[47181:529778] *** Assertion failure in +[NSEvent otherEventWithType:location:modifierFlags:timestamp:windowNumber:context:subtype:data1:data2:], NSEvent.m:647\n",
      "2023-04-21 16:58:22.111 Python[47181:529778] *** Assertion failure in +[NSEvent otherEventWithType:location:modifierFlags:timestamp:windowNumber:context:subtype:data1:data2:], NSEvent.m:647\n",
      "2023-04-21 16:58:22.127 Python[47181:529778] *** Assertion failure in +[NSEvent otherEventWithType:location:modifierFlags:timestamp:windowNumber:context:subtype:data1:data2:], NSEvent.m:647\n",
      "2023-04-21 16:58:22.142 Python[47181:529778] *** Assertion failure in +[NSEvent otherEventWithType:location:modifierFlags:timestamp:windowNumber:context:subtype:data1:data2:], NSEvent.m:647\n",
      "2023-04-21 16:58:22.159 Python[47181:529778] *** Assertion failure in +[NSEvent otherEventWithType:location:modifierFlags:timestamp:windowNumber:context:subtype:data1:data2:], NSEvent.m:647\n",
      "2023-04-21 16:58:22.175 Python[47181:529778] *** Assertion failure in +[NSEvent otherEventWithType:location:modifierFlags:timestamp:windowNumber:context:subtype:data1:data2:], NSEvent.m:647\n",
      "2023-04-21 16:58:22.196 Python[47181:529778] *** Assertion failure in +[NSEvent otherEventWithType:location:modifierFlags:timestamp:windowNumber:context:subtype:data1:data2:], NSEvent.m:647\n",
      "2023-04-21 16:58:22.210 Python[47181:529778] *** Assertion failure in +[NSEvent otherEventWithType:location:modifierFlags:timestamp:windowNumber:context:subtype:data1:data2:], NSEvent.m:647\n",
      "2023-04-21 16:58:22.224 Python[47181:529778] *** Assertion failure in +[NSEvent otherEventWithType:location:modifierFlags:timestamp:windowNumber:context:subtype:data1:data2:], NSEvent.m:647\n",
      "2023-04-21 16:58:22.238 Python[47181:529778] *** Assertion failure in +[NSEvent otherEventWithType:location:modifierFlags:timestamp:windowNumber:context:subtype:data1:data2:], NSEvent.m:647\n",
      "2023-04-21 16:58:22.254 Python[47181:529778] *** Assertion failure in +[NSEvent otherEventWithType:location:modifierFlags:timestamp:windowNumber:context:subtype:data1:data2:], NSEvent.m:647\n",
      "2023-04-21 16:58:22.270 Python[47181:529778] *** Assertion failure in +[NSEvent otherEventWithType:location:modifierFlags:timestamp:windowNumber:context:subtype:data1:data2:], NSEvent.m:647\n"
     ]
    },
    {
     "name": "stdout",
     "output_type": "stream",
     "text": [
      "Dh+\n",
      ".DD..DD.DD..DD.D"
     ]
    },
    {
     "name": "stderr",
     "output_type": "stream",
     "text": [
      "2023-04-21 16:58:22.284 Python[47181:529778] *** Assertion failure in +[NSEvent otherEventWithType:location:modifierFlags:timestamp:windowNumber:context:subtype:data1:data2:], NSEvent.m:647\n",
      "2023-04-21 16:58:22.300 Python[47181:529778] *** Assertion failure in +[NSEvent otherEventWithType:location:modifierFlags:timestamp:windowNumber:context:subtype:data1:data2:], NSEvent.m:647\n",
      "2023-04-21 16:58:22.316 Python[47181:529778] *** Assertion failure in +[NSEvent otherEventWithType:location:modifierFlags:timestamp:windowNumber:context:subtype:data1:data2:], NSEvent.m:647\n",
      "2023-04-21 16:58:22.332 Python[47181:529778] *** Assertion failure in +[NSEvent otherEventWithType:location:modifierFlags:timestamp:windowNumber:context:subtype:data1:data2:], NSEvent.m:647\n",
      "2023-04-21 16:58:22.349 Python[47181:529778] *** Assertion failure in +[NSEvent otherEventWithType:location:modifierFlags:timestamp:windowNumber:context:subtype:data1:data2:], NSEvent.m:647\n",
      "2023-04-21 16:58:22.365 Python[47181:529778] *** Assertion failure in +[NSEvent otherEventWithType:location:modifierFlags:timestamp:windowNumber:context:subtype:data1:data2:], NSEvent.m:647\n",
      "2023-04-21 16:58:22.380 Python[47181:529778] *** Assertion failure in +[NSEvent otherEventWithType:location:modifierFlags:timestamp:windowNumber:context:subtype:data1:data2:], NSEvent.m:647\n",
      "2023-04-21 16:58:22.396 Python[47181:529778] *** Assertion failure in +[NSEvent otherEventWithType:location:modifierFlags:timestamp:windowNumber:context:subtype:data1:data2:], NSEvent.m:647\n",
      "2023-04-21 16:58:22.412 Python[47181:529778] *** Assertion failure in +[NSEvent otherEventWithType:location:modifierFlags:timestamp:windowNumber:context:subtype:data1:data2:], NSEvent.m:647\n",
      "2023-04-21 16:58:22.428 Python[47181:529778] *** Assertion failure in +[NSEvent otherEventWithType:location:modifierFlags:timestamp:windowNumber:context:subtype:data1:data2:], NSEvent.m:647\n",
      "2023-04-21 16:58:22.444 Python[47181:529778] *** Assertion failure in +[NSEvent otherEventWithType:location:modifierFlags:timestamp:windowNumber:context:subtype:data1:data2:], NSEvent.m:647\n",
      "2023-04-21 16:58:22.459 Python[47181:529778] *** Assertion failure in +[NSEvent otherEventWithType:location:modifierFlags:timestamp:windowNumber:context:subtype:data1:data2:], NSEvent.m:647\n",
      "2023-04-21 16:58:22.475 Python[47181:529778] *** Assertion failure in +[NSEvent otherEventWithType:location:modifierFlags:timestamp:windowNumber:context:subtype:data1:data2:], NSEvent.m:647\n"
     ]
    },
    {
     "name": "stdout",
     "output_type": "stream",
     "text": [
      "D..DDh+\n",
      ".DD..DD.DD"
     ]
    },
    {
     "name": "stderr",
     "output_type": "stream",
     "text": [
      "2023-04-21 16:58:22.491 Python[47181:529778] *** Assertion failure in +[NSEvent otherEventWithType:location:modifierFlags:timestamp:windowNumber:context:subtype:data1:data2:], NSEvent.m:647\n",
      "2023-04-21 16:58:22.507 Python[47181:529778] *** Assertion failure in +[NSEvent otherEventWithType:location:modifierFlags:timestamp:windowNumber:context:subtype:data1:data2:], NSEvent.m:647\n",
      "2023-04-21 16:58:22.523 Python[47181:529778] *** Assertion failure in +[NSEvent otherEventWithType:location:modifierFlags:timestamp:windowNumber:context:subtype:data1:data2:], NSEvent.m:647\n",
      "2023-04-21 16:58:22.539 Python[47181:529778] *** Assertion failure in +[NSEvent otherEventWithType:location:modifierFlags:timestamp:windowNumber:context:subtype:data1:data2:], NSEvent.m:647\n",
      "2023-04-21 16:58:22.554 Python[47181:529778] *** Assertion failure in +[NSEvent otherEventWithType:location:modifierFlags:timestamp:windowNumber:context:subtype:data1:data2:], NSEvent.m:647\n",
      "2023-04-21 16:58:22.570 Python[47181:529778] *** Assertion failure in +[NSEvent otherEventWithType:location:modifierFlags:timestamp:windowNumber:context:subtype:data1:data2:], NSEvent.m:647\n",
      "2023-04-21 16:58:22.585 Python[47181:529778] *** Assertion failure in +[NSEvent otherEventWithType:location:modifierFlags:timestamp:windowNumber:context:subtype:data1:data2:], NSEvent.m:647\n",
      "2023-04-21 16:58:22.599 Python[47181:529778] *** Assertion failure in +[NSEvent otherEventWithType:location:modifierFlags:timestamp:windowNumber:context:subtype:data1:data2:], NSEvent.m:647\n",
      "2023-04-21 16:58:22.614 Python[47181:529778] *** Assertion failure in +[NSEvent otherEventWithType:location:modifierFlags:timestamp:windowNumber:context:subtype:data1:data2:], NSEvent.m:647\n",
      "2023-04-21 16:58:22.627 Python[47181:529778] *** Assertion failure in +[NSEvent otherEventWithType:location:modifierFlags:timestamp:windowNumber:context:subtype:data1:data2:], NSEvent.m:647\n",
      "2023-04-21 16:58:22.644 Python[47181:529778] *** Assertion failure in +[NSEvent otherEventWithType:location:modifierFlags:timestamp:windowNumber:context:subtype:data1:data2:], NSEvent.m:647\n",
      "2023-04-21 16:58:22.661 Python[47181:529778] *** Assertion failure in +[NSEvent otherEventWithType:location:modifierFlags:timestamp:windowNumber:context:subtype:data1:data2:], NSEvent.m:647\n",
      "2023-04-21 16:58:22.677 Python[47181:529778] *** Assertion failure in +[NSEvent otherEventWithType:location:modifierFlags:timestamp:windowNumber:context:subtype:data1:data2:], NSEvent.m:647\n",
      "2023-04-21 16:58:22.692 Python[47181:529778] *** Assertion failure in +[NSEvent otherEventWithType:location:modifierFlags:timestamp:windowNumber:context:subtype:data1:data2:], NSEvent.m:647\n"
     ]
    },
    {
     "name": "stdout",
     "output_type": "stream",
     "text": [
      "..DD.D.\n",
      "D.DHh+\n",
      "D.DDH..DH"
     ]
    },
    {
     "name": "stderr",
     "output_type": "stream",
     "text": [
      "2023-04-21 16:58:22.707 Python[47181:529778] *** Assertion failure in +[NSEvent otherEventWithType:location:modifierFlags:timestamp:windowNumber:context:subtype:data1:data2:], NSEvent.m:647\n",
      "2023-04-21 16:58:22.720 Python[47181:529778] *** Assertion failure in +[NSEvent otherEventWithType:location:modifierFlags:timestamp:windowNumber:context:subtype:data1:data2:], NSEvent.m:647\n",
      "2023-04-21 16:58:22.734 Python[47181:529778] *** Assertion failure in +[NSEvent otherEventWithType:location:modifierFlags:timestamp:windowNumber:context:subtype:data1:data2:], NSEvent.m:647\n",
      "2023-04-21 16:58:22.747 Python[47181:529778] *** Assertion failure in +[NSEvent otherEventWithType:location:modifierFlags:timestamp:windowNumber:context:subtype:data1:data2:], NSEvent.m:647\n",
      "2023-04-21 16:58:22.765 Python[47181:529778] *** Assertion failure in +[NSEvent otherEventWithType:location:modifierFlags:timestamp:windowNumber:context:subtype:data1:data2:], NSEvent.m:647\n",
      "2023-04-21 16:58:22.783 Python[47181:529778] *** Assertion failure in +[NSEvent otherEventWithType:location:modifierFlags:timestamp:windowNumber:context:subtype:data1:data2:], NSEvent.m:647\n",
      "2023-04-21 16:58:22.802 Python[47181:529778] *** Assertion failure in +[NSEvent otherEventWithType:location:modifierFlags:timestamp:windowNumber:context:subtype:data1:data2:], NSEvent.m:647\n",
      "2023-04-21 16:58:22.820 Python[47181:529778] *** Assertion failure in +[NSEvent otherEventWithType:location:modifierFlags:timestamp:windowNumber:context:subtype:data1:data2:], NSEvent.m:647\n",
      "2023-04-21 16:58:22.838 Python[47181:529778] *** Assertion failure in +[NSEvent otherEventWithType:location:modifierFlags:timestamp:windowNumber:context:subtype:data1:data2:], NSEvent.m:647\n",
      "2023-04-21 16:58:22.855 Python[47181:529778] *** Assertion failure in +[NSEvent otherEventWithType:location:modifierFlags:timestamp:windowNumber:context:subtype:data1:data2:], NSEvent.m:647\n",
      "2023-04-21 16:58:22.873 Python[47181:529778] *** Assertion failure in +[NSEvent otherEventWithType:location:modifierFlags:timestamp:windowNumber:context:subtype:data1:data2:], NSEvent.m:647\n",
      "2023-04-21 16:58:22.890 Python[47181:529778] *** Assertion failure in +[NSEvent otherEventWithType:location:modifierFlags:timestamp:windowNumber:context:subtype:data1:data2:], NSEvent.m:647\n"
     ]
    },
    {
     "name": "stdout",
     "output_type": "stream",
     "text": [
      "D.DD..DD.DDh+\n",
      "..DQDSigQ:\n",
      "raw_power=([0.9704753  0.9450569  0.99911124 0.90289104]/10)\n",
      "pp_power=([0.42548385 0.39016982 0.46320011 0.37123101]/5)\n",
      "noise2sig=[1.28087464 1.42216819 1.15697536 1.43215415]\n",
      ".D"
     ]
    },
    {
     "name": "stderr",
     "output_type": "stream",
     "text": [
      "2023-04-21 16:58:22.909 Python[47181:529778] *** Assertion failure in +[NSEvent otherEventWithType:location:modifierFlags:timestamp:windowNumber:context:subtype:data1:data2:], NSEvent.m:647\n",
      "2023-04-21 16:58:22.927 Python[47181:529778] *** Assertion failure in +[NSEvent otherEventWithType:location:modifierFlags:timestamp:windowNumber:context:subtype:data1:data2:], NSEvent.m:647\n",
      "2023-04-21 16:58:22.944 Python[47181:529778] *** Assertion failure in +[NSEvent otherEventWithType:location:modifierFlags:timestamp:windowNumber:context:subtype:data1:data2:], NSEvent.m:647\n",
      "2023-04-21 16:58:22.961 Python[47181:529778] *** Assertion failure in +[NSEvent otherEventWithType:location:modifierFlags:timestamp:windowNumber:context:subtype:data1:data2:], NSEvent.m:647\n",
      "2023-04-21 16:58:22.979 Python[47181:529778] *** Assertion failure in +[NSEvent otherEventWithType:location:modifierFlags:timestamp:windowNumber:context:subtype:data1:data2:], NSEvent.m:647\n",
      "2023-04-21 16:58:22.996 Python[47181:529778] *** Assertion failure in +[NSEvent otherEventWithType:location:modifierFlags:timestamp:windowNumber:context:subtype:data1:data2:], NSEvent.m:647\n",
      "2023-04-21 16:58:23.014 Python[47181:529778] *** Assertion failure in +[NSEvent otherEventWithType:location:modifierFlags:timestamp:windowNumber:context:subtype:data1:data2:], NSEvent.m:647\n",
      "2023-04-21 16:58:23.031 Python[47181:529778] *** Assertion failure in +[NSEvent otherEventWithType:location:modifierFlags:timestamp:windowNumber:context:subtype:data1:data2:], NSEvent.m:647\n",
      "2023-04-21 16:58:23.050 Python[47181:529778] *** Assertion failure in +[NSEvent otherEventWithType:location:modifierFlags:timestamp:windowNumber:context:subtype:data1:data2:], NSEvent.m:647\n",
      "2023-04-21 16:58:23.067 Python[47181:529778] *** Assertion failure in +[NSEvent otherEventWithType:location:modifierFlags:timestamp:windowNumber:context:subtype:data1:data2:], NSEvent.m:647\n",
      "2023-04-21 16:58:23.084 Python[47181:529778] *** Assertion failure in +[NSEvent otherEventWithType:location:modifierFlags:timestamp:windowNumber:context:subtype:data1:data2:], NSEvent.m:647\n",
      "2023-04-21 16:58:23.102 Python[47181:529778] *** Assertion failure in +[NSEvent otherEventWithType:location:modifierFlags:timestamp:windowNumber:context:subtype:data1:data2:], NSEvent.m:647\n",
      "2023-04-21 16:58:23.120 Python[47181:529778] *** Assertion failure in +[NSEvent otherEventWithType:location:modifierFlags:timestamp:windowNumber:context:subtype:data1:data2:], NSEvent.m:647\n",
      "2023-04-21 16:58:23.137 Python[47181:529778] *** Assertion failure in +[NSEvent otherEventWithType:location:modifierFlags:timestamp:windowNumber:context:subtype:data1:data2:], NSEvent.m:647\n",
      "2023-04-21 16:58:23.155 Python[47181:529778] *** Assertion failure in +[NSEvent otherEventWithType:location:modifierFlags:timestamp:windowNumber:context:subtype:data1:data2:], NSEvent.m:647\n",
      "2023-04-21 16:58:23.172 Python[47181:529778] *** Assertion failure in +[NSEvent otherEventWithType:location:modifierFlags:timestamp:windowNumber:context:subtype:data1:data2:], NSEvent.m:647\n",
      "2023-04-21 16:58:23.190 Python[47181:529778] *** Assertion failure in +[NSEvent otherEventWithType:location:modifierFlags:timestamp:windowNumber:context:subtype:data1:data2:], NSEvent.m:647\n",
      "2023-04-21 16:58:23.208 Python[47181:529778] *** Assertion failure in +[NSEvent otherEventWithType:location:modifierFlags:timestamp:windowNumber:context:subtype:data1:data2:], NSEvent.m:647\n",
      "2023-04-21 16:58:23.226 Python[47181:529778] *** Assertion failure in +[NSEvent otherEventWithType:location:modifierFlags:timestamp:windowNumber:context:subtype:data1:data2:], NSEvent.m:647\n",
      "2023-04-21 16:58:23.243 Python[47181:529778] *** Assertion failure in +[NSEvent otherEventWithType:location:modifierFlags:timestamp:windowNumber:context:subtype:data1:data2:], NSEvent.m:647\n",
      "2023-04-21 16:58:23.261 Python[47181:529778] *** Assertion failure in +[NSEvent otherEventWithType:location:modifierFlags:timestamp:windowNumber:context:subtype:data1:data2:], NSEvent.m:647\n",
      "2023-04-21 16:58:23.278 Python[47181:529778] *** Assertion failure in +[NSEvent otherEventWithType:location:modifierFlags:timestamp:windowNumber:context:subtype:data1:data2:], NSEvent.m:647\n",
      "2023-04-21 16:58:23.295 Python[47181:529778] *** Assertion failure in +[NSEvent otherEventWithType:location:modifierFlags:timestamp:windowNumber:context:subtype:data1:data2:], NSEvent.m:647\n",
      "2023-04-21 16:58:23.313 Python[47181:529778] *** Assertion failure in +[NSEvent otherEventWithType:location:modifierFlags:timestamp:windowNumber:context:subtype:data1:data2:], NSEvent.m:647\n"
     ]
    },
    {
     "name": "stdout",
     "output_type": "stream",
     "text": [
      "DH+\n",
      "..DHD.DD..DD.DDh+\n"
     ]
    },
    {
     "name": "stderr",
     "output_type": "stream",
     "text": [
      "2023-04-21 16:58:23.330 Python[47181:529778] *** Assertion failure in +[NSEvent otherEventWithType:location:modifierFlags:timestamp:windowNumber:context:subtype:data1:data2:], NSEvent.m:647\n",
      "2023-04-21 16:58:23.348 Python[47181:529778] *** Assertion failure in +[NSEvent otherEventWithType:location:modifierFlags:timestamp:windowNumber:context:subtype:data1:data2:], NSEvent.m:647\n",
      "2023-04-21 16:58:23.365 Python[47181:529778] *** Assertion failure in +[NSEvent otherEventWithType:location:modifierFlags:timestamp:windowNumber:context:subtype:data1:data2:], NSEvent.m:647\n",
      "2023-04-21 16:58:23.383 Python[47181:529778] *** Assertion failure in +[NSEvent otherEventWithType:location:modifierFlags:timestamp:windowNumber:context:subtype:data1:data2:], NSEvent.m:647\n",
      "2023-04-21 16:58:23.401 Python[47181:529778] *** Assertion failure in +[NSEvent otherEventWithType:location:modifierFlags:timestamp:windowNumber:context:subtype:data1:data2:], NSEvent.m:647\n",
      "2023-04-21 16:58:23.419 Python[47181:529778] *** Assertion failure in +[NSEvent otherEventWithType:location:modifierFlags:timestamp:windowNumber:context:subtype:data1:data2:], NSEvent.m:647\n",
      "2023-04-21 16:58:23.438 Python[47181:529778] *** Assertion failure in +[NSEvent otherEventWithType:location:modifierFlags:timestamp:windowNumber:context:subtype:data1:data2:], NSEvent.m:647\n",
      "2023-04-21 16:58:23.455 Python[47181:529778] *** Assertion failure in +[NSEvent otherEventWithType:location:modifierFlags:timestamp:windowNumber:context:subtype:data1:data2:], NSEvent.m:647\n",
      "2023-04-21 16:58:23.473 Python[47181:529778] *** Assertion failure in +[NSEvent otherEventWithType:location:modifierFlags:timestamp:windowNumber:context:subtype:data1:data2:], NSEvent.m:647\n",
      "2023-04-21 16:58:23.490 Python[47181:529778] *** Assertion failure in +[NSEvent otherEventWithType:location:modifierFlags:timestamp:windowNumber:context:subtype:data1:data2:], NSEvent.m:647\n",
      "2023-04-21 16:58:23.508 Python[47181:529778] *** Assertion failure in +[NSEvent otherEventWithType:location:modifierFlags:timestamp:windowNumber:context:subtype:data1:data2:], NSEvent.m:647\n",
      "2023-04-21 16:58:23.526 Python[47181:529778] *** Assertion failure in +[NSEvent otherEventWithType:location:modifierFlags:timestamp:windowNumber:context:subtype:data1:data2:], NSEvent.m:647\n"
     ]
    },
    {
     "name": "stdout",
     "output_type": "stream",
     "text": [
      "..DD.DD..DD.DD3660 366 18.248436 200.565134 (samp,blk,s,hz)\n"
     ]
    },
    {
     "name": "stderr",
     "output_type": "stream",
     "text": [
      "2023-04-21 16:58:23.544 Python[47181:529778] *** Assertion failure in +[NSEvent otherEventWithType:location:modifierFlags:timestamp:windowNumber:context:subtype:data1:data2:], NSEvent.m:647\n",
      "2023-04-21 16:58:23.562 Python[47181:529778] *** Assertion failure in +[NSEvent otherEventWithType:location:modifierFlags:timestamp:windowNumber:context:subtype:data1:data2:], NSEvent.m:647\n",
      "2023-04-21 16:58:23.578 Python[47181:529778] *** Assertion failure in +[NSEvent otherEventWithType:location:modifierFlags:timestamp:windowNumber:context:subtype:data1:data2:], NSEvent.m:647\n",
      "2023-04-21 16:58:23.595 Python[47181:529778] *** Assertion failure in +[NSEvent otherEventWithType:location:modifierFlags:timestamp:windowNumber:context:subtype:data1:data2:], NSEvent.m:647\n",
      "2023-04-21 16:58:23.613 Python[47181:529778] *** Assertion failure in +[NSEvent otherEventWithType:location:modifierFlags:timestamp:windowNumber:context:subtype:data1:data2:], NSEvent.m:647\n",
      "2023-04-21 16:58:23.631 Python[47181:529778] *** Assertion failure in +[NSEvent otherEventWithType:location:modifierFlags:timestamp:windowNumber:context:subtype:data1:data2:], NSEvent.m:647\n",
      "2023-04-21 16:58:23.648 Python[47181:529778] *** Assertion failure in +[NSEvent otherEventWithType:location:modifierFlags:timestamp:windowNumber:context:subtype:data1:data2:], NSEvent.m:647\n",
      "2023-04-21 16:58:23.666 Python[47181:529778] *** Assertion failure in +[NSEvent otherEventWithType:location:modifierFlags:timestamp:windowNumber:context:subtype:data1:data2:], NSEvent.m:647\n",
      "2023-04-21 16:58:23.683 Python[47181:529778] *** Assertion failure in +[NSEvent otherEventWithType:location:modifierFlags:timestamp:windowNumber:context:subtype:data1:data2:], NSEvent.m:647\n",
      "2023-04-21 16:58:23.703 Python[47181:529778] *** Assertion failure in +[NSEvent otherEventWithType:location:modifierFlags:timestamp:windowNumber:context:subtype:data1:data2:], NSEvent.m:647\n",
      "2023-04-21 16:58:23.722 Python[47181:529778] *** Assertion failure in +[NSEvent otherEventWithType:location:modifierFlags:timestamp:windowNumber:context:subtype:data1:data2:], NSEvent.m:647\n",
      "2023-04-21 16:58:23.740 Python[47181:529778] *** Assertion failure in +[NSEvent otherEventWithType:location:modifierFlags:timestamp:windowNumber:context:subtype:data1:data2:], NSEvent.m:647\n"
     ]
    },
    {
     "name": "stdout",
     "output_type": "stream",
     "text": [
      "..DD.DDh+\n",
      "..DD.DD..DH"
     ]
    },
    {
     "name": "stderr",
     "output_type": "stream",
     "text": [
      "2023-04-21 16:58:23.758 Python[47181:529778] *** Assertion failure in +[NSEvent otherEventWithType:location:modifierFlags:timestamp:windowNumber:context:subtype:data1:data2:], NSEvent.m:647\n",
      "2023-04-21 16:58:23.775 Python[47181:529778] *** Assertion failure in +[NSEvent otherEventWithType:location:modifierFlags:timestamp:windowNumber:context:subtype:data1:data2:], NSEvent.m:647\n",
      "2023-04-21 16:58:23.793 Python[47181:529778] *** Assertion failure in +[NSEvent otherEventWithType:location:modifierFlags:timestamp:windowNumber:context:subtype:data1:data2:], NSEvent.m:647\n",
      "2023-04-21 16:58:23.811 Python[47181:529778] *** Assertion failure in +[NSEvent otherEventWithType:location:modifierFlags:timestamp:windowNumber:context:subtype:data1:data2:], NSEvent.m:647\n",
      "2023-04-21 16:58:23.828 Python[47181:529778] *** Assertion failure in +[NSEvent otherEventWithType:location:modifierFlags:timestamp:windowNumber:context:subtype:data1:data2:], NSEvent.m:647\n",
      "2023-04-21 16:58:23.845 Python[47181:529778] *** Assertion failure in +[NSEvent otherEventWithType:location:modifierFlags:timestamp:windowNumber:context:subtype:data1:data2:], NSEvent.m:647\n",
      "2023-04-21 16:58:23.863 Python[47181:529778] *** Assertion failure in +[NSEvent otherEventWithType:location:modifierFlags:timestamp:windowNumber:context:subtype:data1:data2:], NSEvent.m:647\n",
      "2023-04-21 16:58:23.880 Python[47181:529778] *** Assertion failure in +[NSEvent otherEventWithType:location:modifierFlags:timestamp:windowNumber:context:subtype:data1:data2:], NSEvent.m:647\n",
      "2023-04-21 16:58:23.898 Python[47181:529778] *** Assertion failure in +[NSEvent otherEventWithType:location:modifierFlags:timestamp:windowNumber:context:subtype:data1:data2:], NSEvent.m:647\n",
      "2023-04-21 16:58:23.914 Python[47181:529778] *** Assertion failure in +[NSEvent otherEventWithType:location:modifierFlags:timestamp:windowNumber:context:subtype:data1:data2:], NSEvent.m:647\n",
      "2023-04-21 16:58:23.930 Python[47181:529778] *** Assertion failure in +[NSEvent otherEventWithType:location:modifierFlags:timestamp:windowNumber:context:subtype:data1:data2:], NSEvent.m:647\n",
      "2023-04-21 16:58:23.947 Python[47181:529778] *** Assertion failure in +[NSEvent otherEventWithType:location:modifierFlags:timestamp:windowNumber:context:subtype:data1:data2:], NSEvent.m:647\n"
     ]
    },
    {
     "name": "stdout",
     "output_type": "stream",
     "text": [
      "D.DD..DDH.DHDh+\n",
      "D"
     ]
    },
    {
     "name": "stderr",
     "output_type": "stream",
     "text": [
      "2023-04-21 16:58:23.965 Python[47181:529778] *** Assertion failure in +[NSEvent otherEventWithType:location:modifierFlags:timestamp:windowNumber:context:subtype:data1:data2:], NSEvent.m:647\n",
      "2023-04-21 16:58:23.982 Python[47181:529778] *** Assertion failure in +[NSEvent otherEventWithType:location:modifierFlags:timestamp:windowNumber:context:subtype:data1:data2:], NSEvent.m:647\n",
      "2023-04-21 16:58:24.000 Python[47181:529778] *** Assertion failure in +[NSEvent otherEventWithType:location:modifierFlags:timestamp:windowNumber:context:subtype:data1:data2:], NSEvent.m:647\n",
      "2023-04-21 16:58:24.018 Python[47181:529778] *** Assertion failure in +[NSEvent otherEventWithType:location:modifierFlags:timestamp:windowNumber:context:subtype:data1:data2:], NSEvent.m:647\n",
      "2023-04-21 16:58:24.036 Python[47181:529778] *** Assertion failure in +[NSEvent otherEventWithType:location:modifierFlags:timestamp:windowNumber:context:subtype:data1:data2:], NSEvent.m:647\n",
      "2023-04-21 16:58:24.053 Python[47181:529778] *** Assertion failure in +[NSEvent otherEventWithType:location:modifierFlags:timestamp:windowNumber:context:subtype:data1:data2:], NSEvent.m:647\n",
      "2023-04-21 16:58:24.070 Python[47181:529778] *** Assertion failure in +[NSEvent otherEventWithType:location:modifierFlags:timestamp:windowNumber:context:subtype:data1:data2:], NSEvent.m:647\n",
      "2023-04-21 16:58:24.087 Python[47181:529778] *** Assertion failure in +[NSEvent otherEventWithType:location:modifierFlags:timestamp:windowNumber:context:subtype:data1:data2:], NSEvent.m:647\n",
      "2023-04-21 16:58:24.104 Python[47181:529778] *** Assertion failure in +[NSEvent otherEventWithType:location:modifierFlags:timestamp:windowNumber:context:subtype:data1:data2:], NSEvent.m:647\n",
      "2023-04-21 16:58:24.122 Python[47181:529778] *** Assertion failure in +[NSEvent otherEventWithType:location:modifierFlags:timestamp:windowNumber:context:subtype:data1:data2:], NSEvent.m:647\n",
      "2023-04-21 16:58:24.138 Python[47181:529778] *** Assertion failure in +[NSEvent otherEventWithType:location:modifierFlags:timestamp:windowNumber:context:subtype:data1:data2:], NSEvent.m:647\n",
      "2023-04-21 16:58:24.156 Python[47181:529778] *** Assertion failure in +[NSEvent otherEventWithType:location:modifierFlags:timestamp:windowNumber:context:subtype:data1:data2:], NSEvent.m:647\n"
     ]
    },
    {
     "name": "stdout",
     "output_type": "stream",
     "text": [
      "..DDDD..DQSigQ:\n",
      "raw_power=([0.9707592 0.9580338 1.0222511 0.9690086]/10)\n",
      "pp_power=([0.38427695 0.42804868 0.47927622 0.37830212]/5)\n",
      "noise2sig=[1.52619684 1.23814215 1.132906   1.56146763]\n",
      "DD..DD.DH+\n",
      ".HDh+\n",
      "D..DDDD"
     ]
    },
    {
     "name": "stderr",
     "output_type": "stream",
     "text": [
      "2023-04-21 16:58:24.174 Python[47181:529778] *** Assertion failure in +[NSEvent otherEventWithType:location:modifierFlags:timestamp:windowNumber:context:subtype:data1:data2:], NSEvent.m:647\n",
      "2023-04-21 16:58:24.194 Python[47181:529778] *** Assertion failure in +[NSEvent otherEventWithType:location:modifierFlags:timestamp:windowNumber:context:subtype:data1:data2:], NSEvent.m:647\n",
      "2023-04-21 16:58:24.212 Python[47181:529778] *** Assertion failure in +[NSEvent otherEventWithType:location:modifierFlags:timestamp:windowNumber:context:subtype:data1:data2:], NSEvent.m:647\n",
      "2023-04-21 16:58:24.230 Python[47181:529778] *** Assertion failure in +[NSEvent otherEventWithType:location:modifierFlags:timestamp:windowNumber:context:subtype:data1:data2:], NSEvent.m:647\n",
      "2023-04-21 16:58:24.247 Python[47181:529778] *** Assertion failure in +[NSEvent otherEventWithType:location:modifierFlags:timestamp:windowNumber:context:subtype:data1:data2:], NSEvent.m:647\n",
      "2023-04-21 16:58:24.265 Python[47181:529778] *** Assertion failure in +[NSEvent otherEventWithType:location:modifierFlags:timestamp:windowNumber:context:subtype:data1:data2:], NSEvent.m:647\n",
      "2023-04-21 16:58:24.283 Python[47181:529778] *** Assertion failure in +[NSEvent otherEventWithType:location:modifierFlags:timestamp:windowNumber:context:subtype:data1:data2:], NSEvent.m:647\n",
      "2023-04-21 16:58:24.301 Python[47181:529778] *** Assertion failure in +[NSEvent otherEventWithType:location:modifierFlags:timestamp:windowNumber:context:subtype:data1:data2:], NSEvent.m:647\n",
      "2023-04-21 16:58:24.318 Python[47181:529778] *** Assertion failure in +[NSEvent otherEventWithType:location:modifierFlags:timestamp:windowNumber:context:subtype:data1:data2:], NSEvent.m:647\n",
      "2023-04-21 16:58:24.334 Python[47181:529778] *** Assertion failure in +[NSEvent otherEventWithType:location:modifierFlags:timestamp:windowNumber:context:subtype:data1:data2:], NSEvent.m:647\n",
      "2023-04-21 16:58:24.352 Python[47181:529778] *** Assertion failure in +[NSEvent otherEventWithType:location:modifierFlags:timestamp:windowNumber:context:subtype:data1:data2:], NSEvent.m:647\n",
      "2023-04-21 16:58:24.369 Python[47181:529778] *** Assertion failure in +[NSEvent otherEventWithType:location:modifierFlags:timestamp:windowNumber:context:subtype:data1:data2:], NSEvent.m:647\n"
     ]
    },
    {
     "name": "stdout",
     "output_type": "stream",
     "text": [
      "..DDDD..DDDh+\n",
      "D..D"
     ]
    },
    {
     "name": "stderr",
     "output_type": "stream",
     "text": [
      "2023-04-21 16:58:24.387 Python[47181:529778] *** Assertion failure in +[NSEvent otherEventWithType:location:modifierFlags:timestamp:windowNumber:context:subtype:data1:data2:], NSEvent.m:647\n",
      "2023-04-21 16:58:24.404 Python[47181:529778] *** Assertion failure in +[NSEvent otherEventWithType:location:modifierFlags:timestamp:windowNumber:context:subtype:data1:data2:], NSEvent.m:647\n",
      "2023-04-21 16:58:24.421 Python[47181:529778] *** Assertion failure in +[NSEvent otherEventWithType:location:modifierFlags:timestamp:windowNumber:context:subtype:data1:data2:], NSEvent.m:647\n",
      "2023-04-21 16:58:24.438 Python[47181:529778] *** Assertion failure in +[NSEvent otherEventWithType:location:modifierFlags:timestamp:windowNumber:context:subtype:data1:data2:], NSEvent.m:647\n",
      "2023-04-21 16:58:24.455 Python[47181:529778] *** Assertion failure in +[NSEvent otherEventWithType:location:modifierFlags:timestamp:windowNumber:context:subtype:data1:data2:], NSEvent.m:647\n",
      "2023-04-21 16:58:24.473 Python[47181:529778] *** Assertion failure in +[NSEvent otherEventWithType:location:modifierFlags:timestamp:windowNumber:context:subtype:data1:data2:], NSEvent.m:647\n",
      "2023-04-21 16:58:24.490 Python[47181:529778] *** Assertion failure in +[NSEvent otherEventWithType:location:modifierFlags:timestamp:windowNumber:context:subtype:data1:data2:], NSEvent.m:647\n",
      "2023-04-21 16:58:24.508 Python[47181:529778] *** Assertion failure in +[NSEvent otherEventWithType:location:modifierFlags:timestamp:windowNumber:context:subtype:data1:data2:], NSEvent.m:647\n",
      "2023-04-21 16:58:24.526 Python[47181:529778] *** Assertion failure in +[NSEvent otherEventWithType:location:modifierFlags:timestamp:windowNumber:context:subtype:data1:data2:], NSEvent.m:647\n",
      "2023-04-21 16:58:24.544 Python[47181:529778] *** Assertion failure in +[NSEvent otherEventWithType:location:modifierFlags:timestamp:windowNumber:context:subtype:data1:data2:], NSEvent.m:647\n",
      "2023-04-21 16:58:24.561 Python[47181:529778] *** Assertion failure in +[NSEvent otherEventWithType:location:modifierFlags:timestamp:windowNumber:context:subtype:data1:data2:], NSEvent.m:647\n",
      "2023-04-21 16:58:24.578 Python[47181:529778] *** Assertion failure in +[NSEvent otherEventWithType:location:modifierFlags:timestamp:windowNumber:context:subtype:data1:data2:], NSEvent.m:647\n"
     ]
    },
    {
     "name": "stdout",
     "output_type": "stream",
     "text": [
      "DDD..DDD.D\n",
      "D"
     ]
    },
    {
     "name": "stderr",
     "output_type": "stream",
     "text": [
      "2023-04-21 16:58:24.596 Python[47181:529778] *** Assertion failure in +[NSEvent otherEventWithType:location:modifierFlags:timestamp:windowNumber:context:subtype:data1:data2:], NSEvent.m:647\n",
      "2023-04-21 16:58:24.614 Python[47181:529778] *** Assertion failure in +[NSEvent otherEventWithType:location:modifierFlags:timestamp:windowNumber:context:subtype:data1:data2:], NSEvent.m:647\n",
      "2023-04-21 16:58:24.630 Python[47181:529778] *** Assertion failure in +[NSEvent otherEventWithType:location:modifierFlags:timestamp:windowNumber:context:subtype:data1:data2:], NSEvent.m:647\n",
      "2023-04-21 16:58:24.647 Python[47181:529778] *** Assertion failure in +[NSEvent otherEventWithType:location:modifierFlags:timestamp:windowNumber:context:subtype:data1:data2:], NSEvent.m:647\n",
      "2023-04-21 16:58:24.663 Python[47181:529778] *** Assertion failure in +[NSEvent otherEventWithType:location:modifierFlags:timestamp:windowNumber:context:subtype:data1:data2:], NSEvent.m:647\n",
      "2023-04-21 16:58:24.677 Python[47181:529778] *** Assertion failure in +[NSEvent otherEventWithType:location:modifierFlags:timestamp:windowNumber:context:subtype:data1:data2:], NSEvent.m:647\n",
      "2023-04-21 16:58:24.692 Python[47181:529778] *** Assertion failure in +[NSEvent otherEventWithType:location:modifierFlags:timestamp:windowNumber:context:subtype:data1:data2:], NSEvent.m:647\n",
      "2023-04-21 16:58:24.707 Python[47181:529778] *** Assertion failure in +[NSEvent otherEventWithType:location:modifierFlags:timestamp:windowNumber:context:subtype:data1:data2:], NSEvent.m:647\n",
      "2023-04-21 16:58:24.721 Python[47181:529778] *** Assertion failure in +[NSEvent otherEventWithType:location:modifierFlags:timestamp:windowNumber:context:subtype:data1:data2:], NSEvent.m:647\n",
      "2023-04-21 16:58:24.736 Python[47181:529778] *** Assertion failure in +[NSEvent otherEventWithType:location:modifierFlags:timestamp:windowNumber:context:subtype:data1:data2:], NSEvent.m:647\n",
      "2023-04-21 16:58:24.750 Python[47181:529778] *** Assertion failure in +[NSEvent otherEventWithType:location:modifierFlags:timestamp:windowNumber:context:subtype:data1:data2:], NSEvent.m:647\n",
      "2023-04-21 16:58:24.763 Python[47181:529778] *** Assertion failure in +[NSEvent otherEventWithType:location:modifierFlags:timestamp:windowNumber:context:subtype:data1:data2:], NSEvent.m:647\n",
      "2023-04-21 16:58:24.777 Python[47181:529778] *** Assertion failure in +[NSEvent otherEventWithType:location:modifierFlags:timestamp:windowNumber:context:subtype:data1:data2:], NSEvent.m:647\n",
      "2023-04-21 16:58:24.791 Python[47181:529778] *** Assertion failure in +[NSEvent otherEventWithType:location:modifierFlags:timestamp:windowNumber:context:subtype:data1:data2:], NSEvent.m:647\n"
     ]
    },
    {
     "name": "stdout",
     "output_type": "stream",
     "text": [
      ".DHh+\n",
      "D.DD.DDH.D.HD"
     ]
    },
    {
     "name": "stderr",
     "output_type": "stream",
     "text": [
      "2023-04-21 16:58:24.805 Python[47181:529778] *** Assertion failure in +[NSEvent otherEventWithType:location:modifierFlags:timestamp:windowNumber:context:subtype:data1:data2:], NSEvent.m:647\n",
      "2023-04-21 16:58:24.818 Python[47181:529778] *** Assertion failure in +[NSEvent otherEventWithType:location:modifierFlags:timestamp:windowNumber:context:subtype:data1:data2:], NSEvent.m:647\n",
      "2023-04-21 16:58:24.831 Python[47181:529778] *** Assertion failure in +[NSEvent otherEventWithType:location:modifierFlags:timestamp:windowNumber:context:subtype:data1:data2:], NSEvent.m:647\n",
      "2023-04-21 16:58:24.844 Python[47181:529778] *** Assertion failure in +[NSEvent otherEventWithType:location:modifierFlags:timestamp:windowNumber:context:subtype:data1:data2:], NSEvent.m:647\n",
      "2023-04-21 16:58:24.857 Python[47181:529778] *** Assertion failure in +[NSEvent otherEventWithType:location:modifierFlags:timestamp:windowNumber:context:subtype:data1:data2:], NSEvent.m:647\n",
      "2023-04-21 16:58:24.871 Python[47181:529778] *** Assertion failure in +[NSEvent otherEventWithType:location:modifierFlags:timestamp:windowNumber:context:subtype:data1:data2:], NSEvent.m:647\n",
      "2023-04-21 16:58:24.885 Python[47181:529778] *** Assertion failure in +[NSEvent otherEventWithType:location:modifierFlags:timestamp:windowNumber:context:subtype:data1:data2:], NSEvent.m:647\n",
      "2023-04-21 16:58:24.899 Python[47181:529778] *** Assertion failure in +[NSEvent otherEventWithType:location:modifierFlags:timestamp:windowNumber:context:subtype:data1:data2:], NSEvent.m:647\n",
      "2023-04-21 16:58:24.912 Python[47181:529778] *** Assertion failure in +[NSEvent otherEventWithType:location:modifierFlags:timestamp:windowNumber:context:subtype:data1:data2:], NSEvent.m:647\n",
      "2023-04-21 16:58:24.929 Python[47181:529778] *** Assertion failure in +[NSEvent otherEventWithType:location:modifierFlags:timestamp:windowNumber:context:subtype:data1:data2:], NSEvent.m:647\n",
      "2023-04-21 16:58:24.946 Python[47181:529778] *** Assertion failure in +[NSEvent otherEventWithType:location:modifierFlags:timestamp:windowNumber:context:subtype:data1:data2:], NSEvent.m:647\n",
      "2023-04-21 16:58:24.964 Python[47181:529778] *** Assertion failure in +[NSEvent otherEventWithType:location:modifierFlags:timestamp:windowNumber:context:subtype:data1:data2:], NSEvent.m:647\n",
      "2023-04-21 16:58:24.980 Python[47181:529778] *** Assertion failure in +[NSEvent otherEventWithType:location:modifierFlags:timestamp:windowNumber:context:subtype:data1:data2:], NSEvent.m:647\n",
      "2023-04-21 16:58:24.996 Python[47181:529778] *** Assertion failure in +[NSEvent otherEventWithType:location:modifierFlags:timestamp:windowNumber:context:subtype:data1:data2:], NSEvent.m:647\n"
     ]
    },
    {
     "name": "stdout",
     "output_type": "stream",
     "text": [
      "..DD.DDh+\n",
      "..DQDSigQ:\n",
      "raw_power=([1.0024022 1.0449846 1.064241  0.96148  ]/10)\n",
      "pp_power=([0.40704492 0.51915839 0.45151568 0.41868661]/5)\n",
      "noise2sig=[1.46263284 1.01284348 1.35704118 1.29641935]\n",
      ".DD"
     ]
    },
    {
     "name": "stderr",
     "output_type": "stream",
     "text": [
      "2023-04-21 16:58:25.013 Python[47181:529778] *** Assertion failure in +[NSEvent otherEventWithType:location:modifierFlags:timestamp:windowNumber:context:subtype:data1:data2:], NSEvent.m:647\n",
      "2023-04-21 16:58:25.030 Python[47181:529778] *** Assertion failure in +[NSEvent otherEventWithType:location:modifierFlags:timestamp:windowNumber:context:subtype:data1:data2:], NSEvent.m:647\n",
      "2023-04-21 16:58:25.047 Python[47181:529778] *** Assertion failure in +[NSEvent otherEventWithType:location:modifierFlags:timestamp:windowNumber:context:subtype:data1:data2:], NSEvent.m:647\n",
      "2023-04-21 16:58:25.065 Python[47181:529778] *** Assertion failure in +[NSEvent otherEventWithType:location:modifierFlags:timestamp:windowNumber:context:subtype:data1:data2:], NSEvent.m:647\n",
      "2023-04-21 16:58:25.083 Python[47181:529778] *** Assertion failure in +[NSEvent otherEventWithType:location:modifierFlags:timestamp:windowNumber:context:subtype:data1:data2:], NSEvent.m:647\n",
      "2023-04-21 16:58:25.100 Python[47181:529778] *** Assertion failure in +[NSEvent otherEventWithType:location:modifierFlags:timestamp:windowNumber:context:subtype:data1:data2:], NSEvent.m:647\n",
      "2023-04-21 16:58:25.117 Python[47181:529778] *** Assertion failure in +[NSEvent otherEventWithType:location:modifierFlags:timestamp:windowNumber:context:subtype:data1:data2:], NSEvent.m:647\n",
      "2023-04-21 16:58:25.134 Python[47181:529778] *** Assertion failure in +[NSEvent otherEventWithType:location:modifierFlags:timestamp:windowNumber:context:subtype:data1:data2:], NSEvent.m:647\n",
      "2023-04-21 16:58:25.150 Python[47181:529778] *** Assertion failure in +[NSEvent otherEventWithType:location:modifierFlags:timestamp:windowNumber:context:subtype:data1:data2:], NSEvent.m:647\n",
      "2023-04-21 16:58:25.167 Python[47181:529778] *** Assertion failure in +[NSEvent otherEventWithType:location:modifierFlags:timestamp:windowNumber:context:subtype:data1:data2:], NSEvent.m:647\n",
      "2023-04-21 16:58:25.183 Python[47181:529778] *** Assertion failure in +[NSEvent otherEventWithType:location:modifierFlags:timestamp:windowNumber:context:subtype:data1:data2:], NSEvent.m:647\n",
      "2023-04-21 16:58:25.199 Python[47181:529778] *** Assertion failure in +[NSEvent otherEventWithType:location:modifierFlags:timestamp:windowNumber:context:subtype:data1:data2:], NSEvent.m:647\n"
     ]
    },
    {
     "name": "stdout",
     "output_type": "stream",
     "text": [
      "..DD.DH+\n",
      ".HD..DD.DDh+\n"
     ]
    },
    {
     "name": "stderr",
     "output_type": "stream",
     "text": [
      "2023-04-21 16:58:25.216 Python[47181:529778] *** Assertion failure in +[NSEvent otherEventWithType:location:modifierFlags:timestamp:windowNumber:context:subtype:data1:data2:], NSEvent.m:647\n",
      "2023-04-21 16:58:25.232 Python[47181:529778] *** Assertion failure in +[NSEvent otherEventWithType:location:modifierFlags:timestamp:windowNumber:context:subtype:data1:data2:], NSEvent.m:647\n",
      "2023-04-21 16:58:25.249 Python[47181:529778] *** Assertion failure in +[NSEvent otherEventWithType:location:modifierFlags:timestamp:windowNumber:context:subtype:data1:data2:], NSEvent.m:647\n",
      "2023-04-21 16:58:25.265 Python[47181:529778] *** Assertion failure in +[NSEvent otherEventWithType:location:modifierFlags:timestamp:windowNumber:context:subtype:data1:data2:], NSEvent.m:647\n",
      "2023-04-21 16:58:25.281 Python[47181:529778] *** Assertion failure in +[NSEvent otherEventWithType:location:modifierFlags:timestamp:windowNumber:context:subtype:data1:data2:], NSEvent.m:647\n",
      "2023-04-21 16:58:25.298 Python[47181:529778] *** Assertion failure in +[NSEvent otherEventWithType:location:modifierFlags:timestamp:windowNumber:context:subtype:data1:data2:], NSEvent.m:647\n",
      "2023-04-21 16:58:25.315 Python[47181:529778] *** Assertion failure in +[NSEvent otherEventWithType:location:modifierFlags:timestamp:windowNumber:context:subtype:data1:data2:], NSEvent.m:647\n",
      "2023-04-21 16:58:25.331 Python[47181:529778] *** Assertion failure in +[NSEvent otherEventWithType:location:modifierFlags:timestamp:windowNumber:context:subtype:data1:data2:], NSEvent.m:647\n",
      "2023-04-21 16:58:25.348 Python[47181:529778] *** Assertion failure in +[NSEvent otherEventWithType:location:modifierFlags:timestamp:windowNumber:context:subtype:data1:data2:], NSEvent.m:647\n",
      "2023-04-21 16:58:25.364 Python[47181:529778] *** Assertion failure in +[NSEvent otherEventWithType:location:modifierFlags:timestamp:windowNumber:context:subtype:data1:data2:], NSEvent.m:647\n",
      "2023-04-21 16:58:25.381 Python[47181:529778] *** Assertion failure in +[NSEvent otherEventWithType:location:modifierFlags:timestamp:windowNumber:context:subtype:data1:data2:], NSEvent.m:647\n",
      "2023-04-21 16:58:25.398 Python[47181:529778] *** Assertion failure in +[NSEvent otherEventWithType:location:modifierFlags:timestamp:windowNumber:context:subtype:data1:data2:], NSEvent.m:647\n",
      "2023-04-21 16:58:25.413 Python[47181:529778] *** Assertion failure in +[NSEvent otherEventWithType:location:modifierFlags:timestamp:windowNumber:context:subtype:data1:data2:], NSEvent.m:647\n"
     ]
    },
    {
     "name": "stdout",
     "output_type": "stream",
     "text": [
      "..DD.DD..DD.DD"
     ]
    },
    {
     "name": "stderr",
     "output_type": "stream",
     "text": [
      "2023-04-21 16:58:25.428 Python[47181:529778] *** Assertion failure in +[NSEvent otherEventWithType:location:modifierFlags:timestamp:windowNumber:context:subtype:data1:data2:], NSEvent.m:647\n",
      "2023-04-21 16:58:25.442 Python[47181:529778] *** Assertion failure in +[NSEvent otherEventWithType:location:modifierFlags:timestamp:windowNumber:context:subtype:data1:data2:], NSEvent.m:647\n",
      "2023-04-21 16:58:25.455 Python[47181:529778] *** Assertion failure in +[NSEvent otherEventWithType:location:modifierFlags:timestamp:windowNumber:context:subtype:data1:data2:], NSEvent.m:647\n",
      "2023-04-21 16:58:25.468 Python[47181:529778] *** Assertion failure in +[NSEvent otherEventWithType:location:modifierFlags:timestamp:windowNumber:context:subtype:data1:data2:], NSEvent.m:647\n",
      "2023-04-21 16:58:25.482 Python[47181:529778] *** Assertion failure in +[NSEvent otherEventWithType:location:modifierFlags:timestamp:windowNumber:context:subtype:data1:data2:], NSEvent.m:647\n",
      "2023-04-21 16:58:25.499 Python[47181:529778] *** Assertion failure in +[NSEvent otherEventWithType:location:modifierFlags:timestamp:windowNumber:context:subtype:data1:data2:], NSEvent.m:647\n",
      "2023-04-21 16:58:25.513 Python[47181:529778] *** Assertion failure in +[NSEvent otherEventWithType:location:modifierFlags:timestamp:windowNumber:context:subtype:data1:data2:], NSEvent.m:647\n",
      "2023-04-21 16:58:25.528 Python[47181:529778] *** Assertion failure in +[NSEvent otherEventWithType:location:modifierFlags:timestamp:windowNumber:context:subtype:data1:data2:], NSEvent.m:647\n",
      "2023-04-21 16:58:25.545 Python[47181:529778] *** Assertion failure in +[NSEvent otherEventWithType:location:modifierFlags:timestamp:windowNumber:context:subtype:data1:data2:], NSEvent.m:647\n",
      "2023-04-21 16:58:25.561 Python[47181:529778] *** Assertion failure in +[NSEvent otherEventWithType:location:modifierFlags:timestamp:windowNumber:context:subtype:data1:data2:], NSEvent.m:647\n",
      "2023-04-21 16:58:25.578 Python[47181:529778] *** Assertion failure in +[NSEvent otherEventWithType:location:modifierFlags:timestamp:windowNumber:context:subtype:data1:data2:], NSEvent.m:647\n",
      "2023-04-21 16:58:25.595 Python[47181:529778] *** Assertion failure in +[NSEvent otherEventWithType:location:modifierFlags:timestamp:windowNumber:context:subtype:data1:data2:], NSEvent.m:647\n",
      "2023-04-21 16:58:25.613 Python[47181:529778] *** Assertion failure in +[NSEvent otherEventWithType:location:modifierFlags:timestamp:windowNumber:context:subtype:data1:data2:], NSEvent.m:647\n"
     ]
    },
    {
     "name": "stdout",
     "output_type": "stream",
     "text": [
      "..DD.DDh+\n",
      "..DD.DD"
     ]
    },
    {
     "name": "stderr",
     "output_type": "stream",
     "text": [
      "2023-04-21 16:58:25.630 Python[47181:529778] *** Assertion failure in +[NSEvent otherEventWithType:location:modifierFlags:timestamp:windowNumber:context:subtype:data1:data2:], NSEvent.m:647\n",
      "2023-04-21 16:58:25.646 Python[47181:529778] *** Assertion failure in +[NSEvent otherEventWithType:location:modifierFlags:timestamp:windowNumber:context:subtype:data1:data2:], NSEvent.m:647\n",
      "2023-04-21 16:58:25.663 Python[47181:529778] *** Assertion failure in +[NSEvent otherEventWithType:location:modifierFlags:timestamp:windowNumber:context:subtype:data1:data2:], NSEvent.m:647\n",
      "2023-04-21 16:58:25.679 Python[47181:529778] *** Assertion failure in +[NSEvent otherEventWithType:location:modifierFlags:timestamp:windowNumber:context:subtype:data1:data2:], NSEvent.m:647\n",
      "2023-04-21 16:58:25.696 Python[47181:529778] *** Assertion failure in +[NSEvent otherEventWithType:location:modifierFlags:timestamp:windowNumber:context:subtype:data1:data2:], NSEvent.m:647\n",
      "2023-04-21 16:58:25.711 Python[47181:529778] *** Assertion failure in +[NSEvent otherEventWithType:location:modifierFlags:timestamp:windowNumber:context:subtype:data1:data2:], NSEvent.m:647\n",
      "2023-04-21 16:58:25.728 Python[47181:529778] *** Assertion failure in +[NSEvent otherEventWithType:location:modifierFlags:timestamp:windowNumber:context:subtype:data1:data2:], NSEvent.m:647\n",
      "2023-04-21 16:58:25.744 Python[47181:529778] *** Assertion failure in +[NSEvent otherEventWithType:location:modifierFlags:timestamp:windowNumber:context:subtype:data1:data2:], NSEvent.m:647\n",
      "2023-04-21 16:58:25.760 Python[47181:529778] *** Assertion failure in +[NSEvent otherEventWithType:location:modifierFlags:timestamp:windowNumber:context:subtype:data1:data2:], NSEvent.m:647\n",
      "2023-04-21 16:58:25.775 Python[47181:529778] *** Assertion failure in +[NSEvent otherEventWithType:location:modifierFlags:timestamp:windowNumber:context:subtype:data1:data2:], NSEvent.m:647\n",
      "2023-04-21 16:58:25.791 Python[47181:529778] *** Assertion failure in +[NSEvent otherEventWithType:location:modifierFlags:timestamp:windowNumber:context:subtype:data1:data2:], NSEvent.m:647\n",
      "2023-04-21 16:58:25.806 Python[47181:529778] *** Assertion failure in +[NSEvent otherEventWithType:location:modifierFlags:timestamp:windowNumber:context:subtype:data1:data2:], NSEvent.m:647\n",
      "2023-04-21 16:58:25.821 Python[47181:529778] *** Assertion failure in +[NSEvent otherEventWithType:location:modifierFlags:timestamp:windowNumber:context:subtype:data1:data2:], NSEvent.m:647\n"
     ]
    },
    {
     "name": "stdout",
     "output_type": "stream",
     "text": [
      "..DHD.DD..DDH.D.HDh+\n"
     ]
    },
    {
     "name": "stderr",
     "output_type": "stream",
     "text": [
      "2023-04-21 16:58:25.836 Python[47181:529778] *** Assertion failure in +[NSEvent otherEventWithType:location:modifierFlags:timestamp:windowNumber:context:subtype:data1:data2:], NSEvent.m:647\n",
      "2023-04-21 16:58:25.850 Python[47181:529778] *** Assertion failure in +[NSEvent otherEventWithType:location:modifierFlags:timestamp:windowNumber:context:subtype:data1:data2:], NSEvent.m:647\n",
      "2023-04-21 16:58:25.865 Python[47181:529778] *** Assertion failure in +[NSEvent otherEventWithType:location:modifierFlags:timestamp:windowNumber:context:subtype:data1:data2:], NSEvent.m:647\n",
      "2023-04-21 16:58:25.880 Python[47181:529778] *** Assertion failure in +[NSEvent otherEventWithType:location:modifierFlags:timestamp:windowNumber:context:subtype:data1:data2:], NSEvent.m:647\n",
      "2023-04-21 16:58:25.894 Python[47181:529778] *** Assertion failure in +[NSEvent otherEventWithType:location:modifierFlags:timestamp:windowNumber:context:subtype:data1:data2:], NSEvent.m:647\n",
      "2023-04-21 16:58:25.909 Python[47181:529778] *** Assertion failure in +[NSEvent otherEventWithType:location:modifierFlags:timestamp:windowNumber:context:subtype:data1:data2:], NSEvent.m:647\n",
      "2023-04-21 16:58:25.924 Python[47181:529778] *** Assertion failure in +[NSEvent otherEventWithType:location:modifierFlags:timestamp:windowNumber:context:subtype:data1:data2:], NSEvent.m:647\n",
      "2023-04-21 16:58:25.938 Python[47181:529778] *** Assertion failure in +[NSEvent otherEventWithType:location:modifierFlags:timestamp:windowNumber:context:subtype:data1:data2:], NSEvent.m:647\n",
      "2023-04-21 16:58:25.953 Python[47181:529778] *** Assertion failure in +[NSEvent otherEventWithType:location:modifierFlags:timestamp:windowNumber:context:subtype:data1:data2:], NSEvent.m:647\n",
      "2023-04-21 16:58:25.968 Python[47181:529778] *** Assertion failure in +[NSEvent otherEventWithType:location:modifierFlags:timestamp:windowNumber:context:subtype:data1:data2:], NSEvent.m:647\n",
      "2023-04-21 16:58:25.982 Python[47181:529778] *** Assertion failure in +[NSEvent otherEventWithType:location:modifierFlags:timestamp:windowNumber:context:subtype:data1:data2:], NSEvent.m:647\n",
      "2023-04-21 16:58:25.996 Python[47181:529778] *** Assertion failure in +[NSEvent otherEventWithType:location:modifierFlags:timestamp:windowNumber:context:subtype:data1:data2:], NSEvent.m:647\n",
      "2023-04-21 16:58:26.011 Python[47181:529778] *** Assertion failure in +[NSEvent otherEventWithType:location:modifierFlags:timestamp:windowNumber:context:subtype:data1:data2:], NSEvent.m:647\n",
      "2023-04-21 16:58:26.026 Python[47181:529778] *** Assertion failure in +[NSEvent otherEventWithType:location:modifierFlags:timestamp:windowNumber:context:subtype:data1:data2:], NSEvent.m:647\n"
     ]
    },
    {
     "name": "stdout",
     "output_type": "stream",
     "text": [
      "..DD.DD..DQDSigQ:\n",
      "raw_power=([0.939702  0.9694103 1.0098102 1.0930821]/10)\n",
      "pp_power=([0.40312045 0.43746794 0.453351   0.48876442]/5)\n",
      "noise2sig=[1.33106997 1.21595733 1.22743574 1.23641907]\n",
      ".DD..D"
     ]
    },
    {
     "name": "stderr",
     "output_type": "stream",
     "text": [
      "2023-04-21 16:58:26.041 Python[47181:529778] *** Assertion failure in +[NSEvent otherEventWithType:location:modifierFlags:timestamp:windowNumber:context:subtype:data1:data2:], NSEvent.m:647\n",
      "2023-04-21 16:58:26.055 Python[47181:529778] *** Assertion failure in +[NSEvent otherEventWithType:location:modifierFlags:timestamp:windowNumber:context:subtype:data1:data2:], NSEvent.m:647\n",
      "2023-04-21 16:58:26.071 Python[47181:529778] *** Assertion failure in +[NSEvent otherEventWithType:location:modifierFlags:timestamp:windowNumber:context:subtype:data1:data2:], NSEvent.m:647\n",
      "2023-04-21 16:58:26.085 Python[47181:529778] *** Assertion failure in +[NSEvent otherEventWithType:location:modifierFlags:timestamp:windowNumber:context:subtype:data1:data2:], NSEvent.m:647\n",
      "2023-04-21 16:58:26.099 Python[47181:529778] *** Assertion failure in +[NSEvent otherEventWithType:location:modifierFlags:timestamp:windowNumber:context:subtype:data1:data2:], NSEvent.m:647\n",
      "2023-04-21 16:58:26.112 Python[47181:529778] *** Assertion failure in +[NSEvent otherEventWithType:location:modifierFlags:timestamp:windowNumber:context:subtype:data1:data2:], NSEvent.m:647\n",
      "2023-04-21 16:58:26.125 Python[47181:529778] *** Assertion failure in +[NSEvent otherEventWithType:location:modifierFlags:timestamp:windowNumber:context:subtype:data1:data2:], NSEvent.m:647\n",
      "2023-04-21 16:58:26.139 Python[47181:529778] *** Assertion failure in +[NSEvent otherEventWithType:location:modifierFlags:timestamp:windowNumber:context:subtype:data1:data2:], NSEvent.m:647\n",
      "2023-04-21 16:58:26.152 Python[47181:529778] *** Assertion failure in +[NSEvent otherEventWithType:location:modifierFlags:timestamp:windowNumber:context:subtype:data1:data2:], NSEvent.m:647\n",
      "2023-04-21 16:58:26.166 Python[47181:529778] *** Assertion failure in +[NSEvent otherEventWithType:location:modifierFlags:timestamp:windowNumber:context:subtype:data1:data2:], NSEvent.m:647\n",
      "2023-04-21 16:58:26.180 Python[47181:529778] *** Assertion failure in +[NSEvent otherEventWithType:location:modifierFlags:timestamp:windowNumber:context:subtype:data1:data2:], NSEvent.m:647\n",
      "2023-04-21 16:58:26.193 Python[47181:529778] *** Assertion failure in +[NSEvent otherEventWithType:location:modifierFlags:timestamp:windowNumber:context:subtype:data1:data2:], NSEvent.m:647\n",
      "2023-04-21 16:58:26.207 Python[47181:529778] *** Assertion failure in +[NSEvent otherEventWithType:location:modifierFlags:timestamp:windowNumber:context:subtype:data1:data2:], NSEvent.m:647\n",
      "2023-04-21 16:58:26.221 Python[47181:529778] *** Assertion failure in +[NSEvent otherEventWithType:location:modifierFlags:timestamp:windowNumber:context:subtype:data1:data2:], NSEvent.m:647\n",
      "2023-04-21 16:58:26.238 Python[47181:529778] *** Assertion failure in +[NSEvent otherEventWithType:location:modifierFlags:timestamp:windowNumber:context:subtype:data1:data2:], NSEvent.m:647\n"
     ]
    },
    {
     "name": "stdout",
     "output_type": "stream",
     "text": [
      "D.DDh+\n",
      "H+\n",
      "..DHD.DD..DD.D"
     ]
    },
    {
     "name": "stderr",
     "output_type": "stream",
     "text": [
      "2023-04-21 16:58:26.253 Python[47181:529778] *** Assertion failure in +[NSEvent otherEventWithType:location:modifierFlags:timestamp:windowNumber:context:subtype:data1:data2:], NSEvent.m:647\n",
      "2023-04-21 16:58:26.270 Python[47181:529778] *** Assertion failure in +[NSEvent otherEventWithType:location:modifierFlags:timestamp:windowNumber:context:subtype:data1:data2:], NSEvent.m:647\n",
      "2023-04-21 16:58:26.286 Python[47181:529778] *** Assertion failure in +[NSEvent otherEventWithType:location:modifierFlags:timestamp:windowNumber:context:subtype:data1:data2:], NSEvent.m:647\n",
      "2023-04-21 16:58:26.303 Python[47181:529778] *** Assertion failure in +[NSEvent otherEventWithType:location:modifierFlags:timestamp:windowNumber:context:subtype:data1:data2:], NSEvent.m:647\n",
      "2023-04-21 16:58:26.321 Python[47181:529778] *** Assertion failure in +[NSEvent otherEventWithType:location:modifierFlags:timestamp:windowNumber:context:subtype:data1:data2:], NSEvent.m:647\n",
      "2023-04-21 16:58:26.337 Python[47181:529778] *** Assertion failure in +[NSEvent otherEventWithType:location:modifierFlags:timestamp:windowNumber:context:subtype:data1:data2:], NSEvent.m:647\n",
      "2023-04-21 16:58:26.353 Python[47181:529778] *** Assertion failure in +[NSEvent otherEventWithType:location:modifierFlags:timestamp:windowNumber:context:subtype:data1:data2:], NSEvent.m:647\n",
      "2023-04-21 16:58:26.370 Python[47181:529778] *** Assertion failure in +[NSEvent otherEventWithType:location:modifierFlags:timestamp:windowNumber:context:subtype:data1:data2:], NSEvent.m:647\n",
      "2023-04-21 16:58:26.386 Python[47181:529778] *** Assertion failure in +[NSEvent otherEventWithType:location:modifierFlags:timestamp:windowNumber:context:subtype:data1:data2:], NSEvent.m:647\n",
      "2023-04-21 16:58:26.402 Python[47181:529778] *** Assertion failure in +[NSEvent otherEventWithType:location:modifierFlags:timestamp:windowNumber:context:subtype:data1:data2:], NSEvent.m:647\n",
      "2023-04-21 16:58:26.417 Python[47181:529778] *** Assertion failure in +[NSEvent otherEventWithType:location:modifierFlags:timestamp:windowNumber:context:subtype:data1:data2:], NSEvent.m:647\n",
      "2023-04-21 16:58:26.433 Python[47181:529778] *** Assertion failure in +[NSEvent otherEventWithType:location:modifierFlags:timestamp:windowNumber:context:subtype:data1:data2:], NSEvent.m:647\n",
      "2023-04-21 16:58:26.449 Python[47181:529778] *** Assertion failure in +[NSEvent otherEventWithType:location:modifierFlags:timestamp:windowNumber:context:subtype:data1:data2:], NSEvent.m:647\n"
     ]
    }
   ],
   "source": [
    "import mindaffectBCI.online_bci\n",
    "config = mindaffectBCI.online_bci.load_config('fake_recogniser.json')\n",
    "mindaffectBCI.online_bci.run(**config)"
   ]
  },
  {
   "cell_type": "code",
   "execution_count": 3,
   "id": "f0d4375b",
   "metadata": {},
   "outputs": [
    {
     "name": "stdout",
     "output_type": "stream",
     "text": [
      "Trying to auto-discover the utopia-hub server\n",
      "making discovery object\n",
      "Using inteface: 192.168.1.101\n",
      ".\n",
      ".\n",
      ".\n",
      ".\n",
      ".\n",
      "Discovery returned 0 utopia-hub servers\n",
      "Error:: couldnt autodiscover the decoder!\n",
      "Tring to connect to: localhost:-1\n",
      "Trying to connect to: localhost:8400\n",
      "Connection refused...  Waiting\n",
      "[Errno 61] Connection refused\n",
      "Tring to connect to: localhost:-1\n",
      "Trying to connect to: localhost:8400\n",
      "Connection refused...  Waiting\n",
      "[Errno 61] Connection refused\n",
      "Tring to connect to: localhost:-1\n",
      "Trying to connect to: localhost:8400\n",
      "Connection refused...  Waiting\n",
      "[Errno 61] Connection refused\n",
      "Tring to connect to: localhost:-1\n",
      "Trying to connect to: localhost:8400\n",
      "Connection refused...  Waiting\n",
      "[Errno 61] Connection refused\n",
      "Tring to connect to: localhost:-1\n",
      "Trying to connect to: localhost:8400\n",
      "Connection refused...  Waiting\n",
      "[Errno 61] Connection refused\n",
      "Could not auto-connect.  Trying manual\n"
     ]
    },
    {
     "ename": "KeyboardInterrupt",
     "evalue": "Interrupted by user",
     "output_type": "error",
     "traceback": [
      "\u001b[0;31m---------------------------------------------------------------------------\u001b[0m",
      "\u001b[0;31mKeyboardInterrupt\u001b[0m                         Traceback (most recent call last)",
      "Cell \u001b[0;32mIn[3], line 5\u001b[0m\n\u001b[1;32m      2\u001b[0m nt \u001b[38;5;241m=\u001b[39m Noisetag()\n\u001b[1;32m      4\u001b[0m \u001b[38;5;66;03m# Initialize the noise-tagging connection\u001b[39;00m\n\u001b[0;32m----> 5\u001b[0m \u001b[43mnt\u001b[49m\u001b[38;5;241;43m.\u001b[39;49m\u001b[43mconnect\u001b[49m\u001b[43m(\u001b[49m\u001b[43mtimeout_ms\u001b[49m\u001b[38;5;241;43m=\u001b[39;49m\u001b[38;5;241;43m5000\u001b[39;49m\u001b[43m)\u001b[49m\n\u001b[1;32m      6\u001b[0m nt\u001b[38;5;241m.\u001b[39maddSelectionHandler(selectionHandler)\n\u001b[1;32m      8\u001b[0m \u001b[38;5;66;03m# tell the noisetag framework to run a full : calibrate->prediction sequence\u001b[39;00m\n",
      "File \u001b[0;32m~/Documents/GitHub/pymindaffectBCI/mindaffectBCI/noisetag.py:725\u001b[0m, in \u001b[0;36mNoisetag.connect\u001b[0;34m(self, host, port, queryifhostnotfound, timeout_ms)\u001b[0m\n\u001b[1;32m    723\u001b[0m \u001b[38;5;28;01mif\u001b[39;00m \u001b[38;5;28mself\u001b[39m\u001b[38;5;241m.\u001b[39mutopiaController\u001b[38;5;241m.\u001b[39misConnected() :\n\u001b[1;32m    724\u001b[0m     \u001b[38;5;28;01mreturn\u001b[39;00m \u001b[38;5;28;01mTrue\u001b[39;00m\n\u001b[0;32m--> 725\u001b[0m \u001b[38;5;28;43mself\u001b[39;49m\u001b[38;5;241;43m.\u001b[39;49m\u001b[43mutopiaController\u001b[49m\u001b[38;5;241;43m.\u001b[39;49m\u001b[43mautoconnect\u001b[49m\u001b[43m(\u001b[49m\u001b[43mhost\u001b[49m\u001b[43m,\u001b[49m\u001b[43mport\u001b[49m\u001b[43m,\u001b[49m\n\u001b[1;32m    726\u001b[0m \u001b[43m                                  \u001b[49m\u001b[43mqueryifhostnotfound\u001b[49m\u001b[38;5;241;43m=\u001b[39;49m\u001b[43mqueryifhostnotfound\u001b[49m\u001b[43m,\u001b[49m\n\u001b[1;32m    727\u001b[0m \u001b[43m                                  \u001b[49m\u001b[43mlocalhostifhostnotfound\u001b[49m\u001b[38;5;241;43m=\u001b[39;49m\u001b[38;5;28;43;01mTrue\u001b[39;49;00m\u001b[43m,\u001b[49m\n\u001b[1;32m    728\u001b[0m \u001b[43m                                  \u001b[49m\u001b[43mtimeout_ms\u001b[49m\u001b[38;5;241;43m=\u001b[39;49m\u001b[43mtimeout_ms\u001b[49m\u001b[43m)\u001b[49m\n\u001b[1;32m    729\u001b[0m \u001b[38;5;28;01mreturn\u001b[39;00m \u001b[38;5;28mself\u001b[39m\u001b[38;5;241m.\u001b[39mutopiaController\u001b[38;5;241m.\u001b[39misConnected()\n",
      "File \u001b[0;32m~/Documents/GitHub/pymindaffectBCI/mindaffectBCI/utopiaController.py:110\u001b[0m, in \u001b[0;36mUtopiaController.autoconnect\u001b[0;34m(self, host, port, timeout_ms, localhostifhostnotfound, queryifhostnotfound, scanifhostnotfound)\u001b[0m\n\u001b[1;32m     99\u001b[0m \u001b[38;5;250m\u001b[39m\u001b[38;5;124;03m\"\"\"[summary]\u001b[39;00m\n\u001b[1;32m    100\u001b[0m \n\u001b[1;32m    101\u001b[0m \u001b[38;5;124;03mArgs:\u001b[39;00m\n\u001b[0;32m   (...)\u001b[0m\n\u001b[1;32m    107\u001b[0m \u001b[38;5;124;03m    scanifhostnotfound (bool, optional): [description]. Defaults to False.\u001b[39;00m\n\u001b[1;32m    108\u001b[0m \u001b[38;5;124;03m\"\"\"\u001b[39;00m                    \n\u001b[1;32m    109\u001b[0m \u001b[38;5;28;01mtry\u001b[39;00m:\n\u001b[0;32m--> 110\u001b[0m     \u001b[38;5;28;43mself\u001b[39;49m\u001b[38;5;241;43m.\u001b[39;49m\u001b[43mclient\u001b[49m\u001b[38;5;241;43m.\u001b[39;49m\u001b[43mautoconnect\u001b[49m\u001b[43m(\u001b[49m\u001b[43mhost\u001b[49m\u001b[43m,\u001b[49m\u001b[43m \u001b[49m\u001b[43mport\u001b[49m\u001b[43m,\u001b[49m\u001b[43m \u001b[49m\u001b[43mtimeout_ms\u001b[49m\u001b[38;5;241;43m=\u001b[39;49m\u001b[43mtimeout_ms\u001b[49m\u001b[43m,\u001b[49m\u001b[43m \u001b[49m\u001b[43mlocalhostifhostnotfound\u001b[49m\u001b[38;5;241;43m=\u001b[39;49m\u001b[43mlocalhostifhostnotfound\u001b[49m\u001b[43m,\u001b[49m\u001b[43m \u001b[49m\u001b[43mqueryifhostnotfound\u001b[49m\u001b[38;5;241;43m=\u001b[39;49m\u001b[43mqueryifhostnotfound\u001b[49m\u001b[43m,\u001b[49m\u001b[43m \u001b[49m\u001b[43mscanifhostnotfound\u001b[49m\u001b[38;5;241;43m=\u001b[39;49m\u001b[43mscanifhostnotfound\u001b[49m\u001b[43m)\u001b[49m\n\u001b[1;32m    111\u001b[0m \u001b[38;5;28;01mexcept\u001b[39;00m socket\u001b[38;5;241m.\u001b[39merror \u001b[38;5;28;01mas\u001b[39;00m ex:\n\u001b[1;32m    112\u001b[0m     \u001b[38;5;28mprint\u001b[39m(\u001b[38;5;124m\"\u001b[39m\u001b[38;5;124mSocket error connecting: \u001b[39m\u001b[38;5;124m\"\u001b[39m)\n",
      "File \u001b[0;32m~/Documents/GitHub/pymindaffectBCI/mindaffectBCI/utopiaclient.py:1141\u001b[0m, in \u001b[0;36mUtopiaClient.autoconnect\u001b[0;34m(self, hostname, port, timeout_ms, queryifhostnotfound, localhostifhostnotfound, scanifhostnotfound)\u001b[0m\n\u001b[1;32m   1138\u001b[0m \u001b[38;5;28;01mif\u001b[39;00m \u001b[38;5;129;01mnot\u001b[39;00m \u001b[38;5;28mself\u001b[39m\u001b[38;5;241m.\u001b[39misConnected \u001b[38;5;129;01mand\u001b[39;00m queryifhostnotfound:\n\u001b[1;32m   1139\u001b[0m     \u001b[38;5;66;03m# ask user for host\u001b[39;00m\n\u001b[1;32m   1140\u001b[0m     \u001b[38;5;28mprint\u001b[39m(\u001b[38;5;124m\"\u001b[39m\u001b[38;5;124mCould not auto-connect.  Trying manual\u001b[39m\u001b[38;5;124m\"\u001b[39m)\n\u001b[0;32m-> 1141\u001b[0m     hostname \u001b[38;5;241m=\u001b[39m \u001b[38;5;28;43minput\u001b[39;49m\u001b[43m(\u001b[49m\u001b[38;5;124;43m\"\u001b[39;49m\u001b[38;5;124;43mEnter the hostname/IP of the Utopia-HUB: \u001b[39;49m\u001b[38;5;124;43m\"\u001b[39;49m\u001b[43m)\u001b[49m\n\u001b[1;32m   1142\u001b[0m     \u001b[38;5;28mself\u001b[39m\u001b[38;5;241m.\u001b[39mtry_connect(hostname,port,timeout_ms)\n\u001b[1;32m   1144\u001b[0m \u001b[38;5;28;01mif\u001b[39;00m \u001b[38;5;129;01mnot\u001b[39;00m \u001b[38;5;28mself\u001b[39m\u001b[38;5;241m.\u001b[39misConnected \u001b[38;5;129;01mand\u001b[39;00m scanifhostnotfound:\n",
      "File \u001b[0;32m/Library/Frameworks/Python.framework/Versions/3.10/lib/python3.10/site-packages/ipykernel/kernelbase.py:1182\u001b[0m, in \u001b[0;36mKernel.raw_input\u001b[0;34m(self, prompt)\u001b[0m\n\u001b[1;32m   1180\u001b[0m     msg \u001b[38;5;241m=\u001b[39m \u001b[38;5;124m\"\u001b[39m\u001b[38;5;124mraw_input was called, but this frontend does not support input requests.\u001b[39m\u001b[38;5;124m\"\u001b[39m\n\u001b[1;32m   1181\u001b[0m     \u001b[38;5;28;01mraise\u001b[39;00m StdinNotImplementedError(msg)\n\u001b[0;32m-> 1182\u001b[0m \u001b[38;5;28;01mreturn\u001b[39;00m \u001b[38;5;28;43mself\u001b[39;49m\u001b[38;5;241;43m.\u001b[39;49m\u001b[43m_input_request\u001b[49m\u001b[43m(\u001b[49m\n\u001b[1;32m   1183\u001b[0m \u001b[43m    \u001b[49m\u001b[38;5;28;43mstr\u001b[39;49m\u001b[43m(\u001b[49m\u001b[43mprompt\u001b[49m\u001b[43m)\u001b[49m\u001b[43m,\u001b[49m\n\u001b[1;32m   1184\u001b[0m \u001b[43m    \u001b[49m\u001b[38;5;28;43mself\u001b[39;49m\u001b[38;5;241;43m.\u001b[39;49m\u001b[43m_parent_ident\u001b[49m\u001b[43m[\u001b[49m\u001b[38;5;124;43m\"\u001b[39;49m\u001b[38;5;124;43mshell\u001b[39;49m\u001b[38;5;124;43m\"\u001b[39;49m\u001b[43m]\u001b[49m\u001b[43m,\u001b[49m\n\u001b[1;32m   1185\u001b[0m \u001b[43m    \u001b[49m\u001b[38;5;28;43mself\u001b[39;49m\u001b[38;5;241;43m.\u001b[39;49m\u001b[43mget_parent\u001b[49m\u001b[43m(\u001b[49m\u001b[38;5;124;43m\"\u001b[39;49m\u001b[38;5;124;43mshell\u001b[39;49m\u001b[38;5;124;43m\"\u001b[39;49m\u001b[43m)\u001b[49m\u001b[43m,\u001b[49m\n\u001b[1;32m   1186\u001b[0m \u001b[43m    \u001b[49m\u001b[43mpassword\u001b[49m\u001b[38;5;241;43m=\u001b[39;49m\u001b[38;5;28;43;01mFalse\u001b[39;49;00m\u001b[43m,\u001b[49m\n\u001b[1;32m   1187\u001b[0m \u001b[43m\u001b[49m\u001b[43m)\u001b[49m\n",
      "File \u001b[0;32m/Library/Frameworks/Python.framework/Versions/3.10/lib/python3.10/site-packages/ipykernel/kernelbase.py:1225\u001b[0m, in \u001b[0;36mKernel._input_request\u001b[0;34m(self, prompt, ident, parent, password)\u001b[0m\n\u001b[1;32m   1222\u001b[0m \u001b[38;5;28;01mexcept\u001b[39;00m \u001b[38;5;167;01mKeyboardInterrupt\u001b[39;00m:\n\u001b[1;32m   1223\u001b[0m     \u001b[38;5;66;03m# re-raise KeyboardInterrupt, to truncate traceback\u001b[39;00m\n\u001b[1;32m   1224\u001b[0m     msg \u001b[38;5;241m=\u001b[39m \u001b[38;5;124m\"\u001b[39m\u001b[38;5;124mInterrupted by user\u001b[39m\u001b[38;5;124m\"\u001b[39m\n\u001b[0;32m-> 1225\u001b[0m     \u001b[38;5;28;01mraise\u001b[39;00m \u001b[38;5;167;01mKeyboardInterrupt\u001b[39;00m(msg) \u001b[38;5;28;01mfrom\u001b[39;00m \u001b[38;5;28mNone\u001b[39m\n\u001b[1;32m   1226\u001b[0m \u001b[38;5;28;01mexcept\u001b[39;00m \u001b[38;5;167;01mException\u001b[39;00m:\n\u001b[1;32m   1227\u001b[0m     \u001b[38;5;28mself\u001b[39m\u001b[38;5;241m.\u001b[39mlog\u001b[38;5;241m.\u001b[39mwarning(\u001b[38;5;124m\"\u001b[39m\u001b[38;5;124mInvalid Message:\u001b[39m\u001b[38;5;124m\"\u001b[39m, exc_info\u001b[38;5;241m=\u001b[39m\u001b[38;5;28;01mTrue\u001b[39;00m)\n",
      "\u001b[0;31mKeyboardInterrupt\u001b[0m: Interrupted by user"
     ]
    }
   ],
   "source": [
    "from mindaffectBCI.noisetag import Noisetag, sumstats\n",
    "nt = Noisetag()\n",
    "\n",
    "# Initialize the noise-tagging connection\n",
    "nt.connect(timeout_ms=5000)\n",
    "nt.addSelectionHandler(selectionHandler)\n",
    "\n",
    "# tell the noisetag framework to run a full : calibrate->prediction sequence\n",
    "nt.setnumActiveObjIDs(2)\n",
    "nt.startExpt(nCal=4,nPred=10,duration=4)\n",
    "\n",
    "# run the pyglet main loop\n",
    "pyglet.clock.schedule(draw)\n",
    "pyglet.app.run()"
   ]
  },
  {
   "cell_type": "code",
   "execution_count": 10,
   "id": "52b3bf11",
   "metadata": {},
   "outputs": [
    {
     "ename": "NameError",
     "evalue": "name 'hub_process' is not defined",
     "output_type": "error",
     "traceback": [
      "\u001b[0;31m---------------------------------------------------------------------------\u001b[0m",
      "\u001b[0;31mNameError\u001b[0m                                 Traceback (most recent call last)",
      "Cell \u001b[0;32mIn[10], line 2\u001b[0m\n\u001b[1;32m      1\u001b[0m \u001b[38;5;28;01mimport\u001b[39;00m \u001b[38;5;21;01mmindaffectBCI\u001b[39;00m\u001b[38;5;21;01m.\u001b[39;00m\u001b[38;5;21;01monline_bci\u001b[39;00m\n\u001b[0;32m----> 2\u001b[0m \u001b[43mmindaffectBCI\u001b[49m\u001b[38;5;241;43m.\u001b[39;49m\u001b[43monline_bci\u001b[49m\u001b[38;5;241;43m.\u001b[39;49m\u001b[43mshutdown\u001b[49m\u001b[43m(\u001b[49m\u001b[43m)\u001b[49m\n",
      "File \u001b[0;32m~/Documents/GitHub/pymindaffectBCI/mindaffectBCI/online_bci.py:364\u001b[0m, in \u001b[0;36mshutdown\u001b[0;34m(hub, acquisition, decoder)\u001b[0m\n\u001b[1;32m    362\u001b[0m \u001b[38;5;28;01mif\u001b[39;00m hub \u001b[38;5;129;01mis\u001b[39;00m \u001b[38;5;28;01mNone\u001b[39;00m: \n\u001b[1;32m    363\u001b[0m     \u001b[38;5;28;01mglobal\u001b[39;00m hub_process\n\u001b[0;32m--> 364\u001b[0m     hub \u001b[38;5;241m=\u001b[39m \u001b[43mhub_process\u001b[49m\n\u001b[1;32m    365\u001b[0m \u001b[38;5;28;01mif\u001b[39;00m acquisition \u001b[38;5;129;01mis\u001b[39;00m \u001b[38;5;28;01mNone\u001b[39;00m:\n\u001b[1;32m    366\u001b[0m     \u001b[38;5;28;01mglobal\u001b[39;00m acquisition_process\n",
      "\u001b[0;31mNameError\u001b[0m: name 'hub_process' is not defined"
     ]
    }
   ],
   "source": [
    "import mindaffectBCI.online_bci\n",
    "mindaffectBCI.online_bci.shutdown()"
   ]
  },
  {
   "cell_type": "markdown",
   "id": "1201fb29",
   "metadata": {},
   "source": [
    "Running Custom Presentation\n",
    "This tutorial shows how to integerate a custom presentation module (such as the custom presentation module made in the Simple Presentation Tutorial), with the rest of the BCI run with the online_bci.py module. By the end of this tutorial you will know: * How to start the mindaffectBCI without automatically starting a presentation module * How to run your presentation module * How to cleanly shutdown the mindaffetBCI when you finish"
   ]
  },
  {
   "cell_type": "code",
   "execution_count": 1,
   "id": "6bdb8914",
   "metadata": {},
   "outputs": [
    {
     "name": "stderr",
     "output_type": "stream",
     "text": [
      "ERROR:root:\n",
      "    Could not load requested Qt binding. Please ensure that\n",
      "    PyQt4 >= 4.7, PyQt5, PySide >= 1.0.3 or PySide2 is available,\n",
      "    and only one is imported per session.\n",
      "\n",
      "    Currently-imported Qt library:                              None\n",
      "    PyQt4 available (requires QtCore, QtGui, QtSvg):            False\n",
      "    PyQt5 available (requires QtCore, QtGui, QtSvg, QtWidgets): False\n",
      "    PySide >= 1.0.3 installed:                                  False\n",
      "    PySide2 installed:                                          False\n",
      "    Tried to load:                                              ['pyqtdefault', 'pyqt6', 'pyside6', 'pyqt5', 'pyside2', 'pyqt', 'pyside']\n",
      "    \n"
     ]
    }
   ],
   "source": [
    "# Import the mindaffectBCI decoder and other required modules.\n",
    "%load_ext autoreload\n",
    "%autoreload 2\n",
    "%gui qt\n",
    "import mindaffectBCI.online_bci"
   ]
  },
  {
   "cell_type": "code",
   "execution_count": 2,
   "id": "1342b42c",
   "metadata": {},
   "outputs": [
    {
     "name": "stdout",
     "output_type": "stream",
     "text": [
      "Loading config from: /Users/Emmanuel/Documents/GitHub/pymindaffectBCI/mindaffectBCI/noisetag_bci.json\n"
     ]
    }
   ],
   "source": [
    "# load the config-file to use.  Here we use the default noisetag config file:\n",
    "config = mindaffectBCI.online_bci.load_config(\"noisetag_bci\")"
   ]
  },
  {
   "cell_type": "code",
   "execution_count": 3,
   "id": "53281ea4",
   "metadata": {},
   "outputs": [
    {
     "name": "stdout",
     "output_type": "stream",
     "text": [
      "Saving to /Users/Emmanuel/Documents/GitHub/pymindaffectBCI/mindaffectBCI/decoder/../../logs\n",
      "Running command: ('java', '-jar', 'UtopiaServer.jar', '8400', '0', '/Users/Emmanuel/Documents/GitHub/pymindaffectBCI/mindaffectBCI/decoder/../../logs/mindaffectBCI_noisetag_bci.txt')\n",
      "Server:cons\n",
      "Server:open server ports\n",
      "Server: Opening Port:8400\n",
      "Server: Opening UDP Port:8400\n",
      "Server: Utopia Server listening on: UDP:8400\n",
      "llw0->/fe80:0:0:0:9c5c:90ff:fef4:2e07%llw0 ll=true\n",
      "awdl0->/fe80:0:0:0:9c5c:90ff:fef4:2e07%awdl0 ll=true\n",
      "anpi0->/fe80:0:0:0:e0f2:6eff:feed:a080%anpi0 ll=true\n",
      "anpi1->/fe80:0:0:0:e0f2:6eff:feed:a081%anpi1 ll=true\n",
      "en0->/192.168.1.101 ll=false\n",
      "Server: Opening SSDP-ipv4 Port:\n",
      "llw0->/fe80:0:0:0:9c5c:90ff:fef4:2e07%llw0 ll=truesl=false\n",
      "awdl0->/fe80:0:0:0:9c5c:90ff:fef4:2e07%awdl0 ll=truesl=false\n",
      "anpi0->/fe80:0:0:0:e0f2:6eff:feed:a080%anpi0 ll=truesl=false\n",
      "anpi1->/fe80:0:0:0:e0f2:6eff:feed:a081%anpi1 ll=truesl=false\n",
      "en0->/192.168.1.101 ll=falsesl=true\n",
      "NIC=name:en0 (en0)\n",
      "SSDP NIC: name:en0 (en0)\n",
      "Server: Utopia Server listening on: SSDP:/0.0.0.0\n",
      "Server: Opening SSDP-v6 Port:\n",
      "llw0->/fe80:0:0:0:9c5c:90ff:fef4:2e07%llw0 ll=truesl=false\n",
      "awdl0->/fe80:0:0:0:9c5c:90ff:fef4:2e07%awdl0 ll=truesl=false\n",
      "anpi0->/fe80:0:0:0:e0f2:6eff:feed:a080%anpi0 ll=truesl=false\n",
      "anpi1->/fe80:0:0:0:e0f2:6eff:feed:a081%anpi1 ll=truesl=false\n",
      "en0->/192.168.1.101 ll=falsesl=true\n",
      "NIC=name:en0 (en0)\n",
      "Server: Couldn't setup SSDP server socket\n",
      "Address family not supported by protocol family\n",
      "write description.xml\n",
      "Server:writing file: ./description.xml\n",
      "Server: Ports open, waiting for connections\n",
      "setup logging file\n",
      "Server:logging new messages to file: /Users/Emmanuel/Documents/GitHub/pymindaffectBCI/mindaffectBCI/decoder/../../logs/mindaffectBCI_noisetag_bci_230421_1716.txt\n",
      "Server: Utopia Server Status: \n",
      "Listening on Address : \n",
      "\n",
      "/192.168.1.101:8400\n",
      "/127.0.0.1:8400\n",
      "\n",
      " Saving to :\n",
      "/Users/Emmanuel/Documents/GitHub/pymindaffectBCI/mindaffectBCI/decoder/../../logs/mindaffectBCI_noisetag_bci_230421_1716.txt\n",
      "Already initialized!\n",
      "Server:  Waiting for connections/messages\n",
      "h+\n",
      "H+\n",
      "h+\n",
      "h+\n",
      "h+\n",
      "Starting fakedata\n",
      "H+\n",
      "Tring to connect to: localhost:8400\n",
      "Trying to connect to: localhost:8400\n",
      "Connected!\n",
      "\n",
      "Server: New Client Connection : /127.0.0.1:62941\n",
      "\n",
      "\n",
      "Offset Update:0.0->-1.566873396E9\n",
      "ClientInfoSubscribed /127.0.0.1:62941 to : []\n",
      "HA\n",
      "Offset Update:-1.566873396E9->-1.5668734E9\n",
      "Dh+\n",
      "Putting header. 4 ch @ 200 Hz\n",
      "20 2 0.050181 398.556028 (samp,blk,s,hz)\n",
      "DDD\n",
      "Offset Update:-1.5668734E9->-1.566873401E9\n",
      "DDDh+\n",
      "DMacOSX\n",
      "nbAgg\n",
      "TkAgg\n",
      "DWebAgg\n",
      "DWX\n",
      "WXAgg\n",
      "agg\n",
      "DDpdf\n",
      "pgf\n",
      "ps\n",
      "svg\n",
      "template\n",
      "Initial backend: template\n",
      "Using backend: TkAgg\n",
      "Starting: mindaffectBCI.decoder.decoder\n",
      "Dh+\n",
      "DDDDDH+\n",
      "Dh+\n",
      "DDHDDDDh+\n",
      "DDDDDDh+\n",
      "DDDDDDh+\n",
      "DDH+\n",
      "DDSSDP::Query matched.  Sending response to/192.168.1.101:61208\n",
      "DHDh+\n",
      "DDDDDh+\n",
      "DDDDDDh+\n",
      "DSSDP::Query matched.  Sending response to/192.168.1.1:1900\n",
      "DDDDH+\n",
      "Dh+\n",
      "DDH630 63 3.100865 203.169107 (samp,blk,s,hz)\n",
      "DDDDh+\n",
      "DDDDDDh+\n",
      "DDDDDh+\n",
      "DDH+\n",
      "DDDDHh+\n",
      "DDDDDh+\n",
      "DDDDDDh+\n",
      "D"
     ]
    },
    {
     "ename": "AttributeError",
     "evalue": "'NoneType' object has no attribute 'lower'",
     "output_type": "error",
     "traceback": [
      "\u001b[0;31m---------------------------------------------------------------------------\u001b[0m",
      "\u001b[0;31mAttributeError\u001b[0m                            Traceback (most recent call last)",
      "Cell \u001b[0;32mIn[3], line 4\u001b[0m\n\u001b[1;32m      2\u001b[0m \u001b[38;5;66;03m#uncomment the following line to use to the fakedata acquisition\u001b[39;00m\n\u001b[1;32m      3\u001b[0m config[\u001b[38;5;124m'\u001b[39m\u001b[38;5;124macquisition\u001b[39m\u001b[38;5;124m'\u001b[39m]\u001b[38;5;241m=\u001b[39m\u001b[38;5;124m'\u001b[39m\u001b[38;5;124mfakedata\u001b[39m\u001b[38;5;124m'\u001b[39m\n\u001b[0;32m----> 4\u001b[0m \u001b[43mmindaffectBCI\u001b[49m\u001b[38;5;241;43m.\u001b[39;49m\u001b[43monline_bci\u001b[49m\u001b[38;5;241;43m.\u001b[39;49m\u001b[43mrun\u001b[49m\u001b[43m(\u001b[49m\u001b[38;5;241;43m*\u001b[39;49m\u001b[38;5;241;43m*\u001b[39;49m\u001b[43mconfig\u001b[49m\u001b[43m)\u001b[49m\n",
      "File \u001b[0;32m~/Documents/GitHub/pymindaffectBCI/mindaffectBCI/online_bci.py:301\u001b[0m, in \u001b[0;36mrun\u001b[0;34m(label, logdir, block, acquisition, acq_args, decoder, decoder_args, presentation, presentation_args)\u001b[0m\n\u001b[1;32m    297\u001b[0m     \u001b[38;5;28;01mraise\u001b[39;00m \u001b[38;5;167;01mValueError\u001b[39;00m(\u001b[38;5;124m\"\u001b[39m\u001b[38;5;124mDecoder didn\u001b[39m\u001b[38;5;124m'\u001b[39m\u001b[38;5;124mt start correctly!\u001b[39m\u001b[38;5;124m\"\u001b[39m)\n\u001b[1;32m    299\u001b[0m \u001b[38;5;66;03m#--------------------------- PRESENTATION ------------------------------\u001b[39;00m\n\u001b[1;32m    300\u001b[0m \u001b[38;5;66;03m# run the stimulus, in a background processwith our matrix and default parameters for a noise tag\u001b[39;00m\n\u001b[0;32m--> 301\u001b[0m presentation_process \u001b[38;5;241m=\u001b[39m \u001b[43mstartPresentationProcess\u001b[49m\u001b[43m(\u001b[49m\u001b[43mpresentation\u001b[49m\u001b[43m,\u001b[49m\u001b[43m \u001b[49m\u001b[43mpresentation_args\u001b[49m\u001b[43m)\u001b[49m\n\u001b[1;32m    303\u001b[0m \u001b[38;5;28;01mif\u001b[39;00m block \u001b[38;5;241m==\u001b[39m \u001b[38;5;28;01mTrue\u001b[39;00m:\n\u001b[1;32m    304\u001b[0m     \u001b[38;5;28;01mif\u001b[39;00m presentation_process \u001b[38;5;129;01mis\u001b[39;00m \u001b[38;5;129;01mnot\u001b[39;00m \u001b[38;5;28;01mNone\u001b[39;00m:\n\u001b[1;32m    305\u001b[0m         \u001b[38;5;66;03m# wait for presentation to terminate\u001b[39;00m\n",
      "File \u001b[0;32m~/Documents/GitHub/pymindaffectBCI/mindaffectBCI/online_bci.py:174\u001b[0m, in \u001b[0;36mstartPresentationProcess\u001b[0;34m(presentation, presentation_args)\u001b[0m\n\u001b[1;32m    172\u001b[0m \u001b[38;5;28;01mdef\u001b[39;00m \u001b[38;5;21mstartPresentationProcess\u001b[39m(presentation,presentation_args):\n\u001b[1;32m    173\u001b[0m     target\u001b[38;5;241m=\u001b[39m\u001b[38;5;28;01mNone\u001b[39;00m\n\u001b[0;32m--> 174\u001b[0m     \u001b[38;5;28;01mif\u001b[39;00m \u001b[43mpresentation\u001b[49m\u001b[38;5;241;43m.\u001b[39;49m\u001b[43mlower\u001b[49m() \u001b[38;5;241m==\u001b[39m \u001b[38;5;124m'\u001b[39m\u001b[38;5;124mselectionMatrix\u001b[39m\u001b[38;5;124m'\u001b[39m\u001b[38;5;241m.\u001b[39mlower() \u001b[38;5;129;01mor\u001b[39;00m presentation\u001b[38;5;241m.\u001b[39mlower() \u001b[38;5;241m==\u001b[39m \u001b[38;5;124m'\u001b[39m\u001b[38;5;124mmindaffectBCI.examples.presentation.selectionMatrix\u001b[39m\u001b[38;5;124m'\u001b[39m\u001b[38;5;241m.\u001b[39mlower():\n\u001b[1;32m    175\u001b[0m         \u001b[38;5;28;01mif\u001b[39;00m presentation_args \u001b[38;5;129;01mis\u001b[39;00m \u001b[38;5;28;01mNone\u001b[39;00m:\n\u001b[1;32m    176\u001b[0m             presentation_args \u001b[38;5;241m=\u001b[39m \u001b[38;5;28mdict\u001b[39m(symbols\u001b[38;5;241m=\u001b[39m [[\u001b[38;5;124m'\u001b[39m\u001b[38;5;124mHello\u001b[39m\u001b[38;5;124m'\u001b[39m, \u001b[38;5;124m'\u001b[39m\u001b[38;5;124mGood bye\u001b[39m\u001b[38;5;124m'\u001b[39m], \n\u001b[1;32m    177\u001b[0m                                                [\u001b[38;5;124m'\u001b[39m\u001b[38;5;124mYes\u001b[39m\u001b[38;5;124m'\u001b[39m,   \u001b[38;5;124m'\u001b[39m\u001b[38;5;124mNo\u001b[39m\u001b[38;5;124m'\u001b[39m]])\n",
      "\u001b[0;31mAttributeError\u001b[0m: 'NoneType' object has no attribute 'lower'"
     ]
    },
    {
     "name": "stdout",
     "output_type": "stream",
     "text": [
      "DDDDh+\n",
      "DH+\n"
     ]
    },
    {
     "name": "stderr",
     "output_type": "stream",
     "text": [
      "2023-04-21 17:16:57.689 Python[49082:550336] ApplePersistenceIgnoreState: Existing state will not be touched. New state will be written to /var/folders/8w/l2m8r9210g3_2wybgky04r_w0000gn/T/org.python.python.savedState\n",
      "2023-04-21 17:16:57.700 Python[49082:550336] *** Assertion failure in +[NSEvent otherEventWithType:location:modifierFlags:timestamp:windowNumber:context:subtype:data1:data2:], NSEvent.m:647\n",
      "2023-04-21 17:16:57.721 Python[49082:550336] *** Assertion failure in +[NSEvent otherEventWithType:location:modifierFlags:timestamp:windowNumber:context:subtype:data1:data2:], NSEvent.m:647\n",
      "2023-04-21 17:16:57.734 Python[49082:550336] *** Assertion failure in +[NSEvent otherEventWithType:location:modifierFlags:timestamp:windowNumber:context:subtype:data1:data2:], NSEvent.m:647\n",
      "2023-04-21 17:16:57.748 Python[49082:550336] *** Assertion failure in +[NSEvent otherEventWithType:location:modifierFlags:timestamp:windowNumber:context:subtype:data1:data2:], NSEvent.m:647\n",
      "2023-04-21 17:16:57.762 Python[49082:550336] *** Assertion failure in +[NSEvent otherEventWithType:location:modifierFlags:timestamp:windowNumber:context:subtype:data1:data2:], NSEvent.m:647\n",
      "2023-04-21 17:16:57.775 Python[49082:550336] *** Assertion failure in +[NSEvent otherEventWithType:location:modifierFlags:timestamp:windowNumber:context:subtype:data1:data2:], NSEvent.m:647\n",
      "2023-04-21 17:16:57.789 Python[49082:550336] *** Assertion failure in +[NSEvent otherEventWithType:location:modifierFlags:timestamp:windowNumber:context:subtype:data1:data2:], NSEvent.m:647\n",
      "2023-04-21 17:16:57.803 Python[49082:550336] *** Assertion failure in +[NSEvent otherEventWithType:location:modifierFlags:timestamp:windowNumber:context:subtype:data1:data2:], NSEvent.m:647\n",
      "2023-04-21 17:16:57.817 Python[49082:550336] *** Assertion failure in +[NSEvent otherEventWithType:location:modifierFlags:timestamp:windowNumber:context:subtype:data1:data2:], NSEvent.m:647\n",
      "2023-04-21 17:16:57.832 Python[49082:550336] *** Assertion failure in +[NSEvent otherEventWithType:location:modifierFlags:timestamp:windowNumber:context:subtype:data1:data2:], NSEvent.m:647\n",
      "2023-04-21 17:16:57.847 Python[49082:550336] *** Assertion failure in +[NSEvent otherEventWithType:location:modifierFlags:timestamp:windowNumber:context:subtype:data1:data2:], NSEvent.m:647\n",
      "2023-04-21 17:16:57.862 Python[49082:550336] *** Assertion failure in +[NSEvent otherEventWithType:location:modifierFlags:timestamp:windowNumber:context:subtype:data1:data2:], NSEvent.m:647\n",
      "2023-04-21 17:16:57.878 Python[49082:550336] *** Assertion failure in +[NSEvent otherEventWithType:location:modifierFlags:timestamp:windowNumber:context:subtype:data1:data2:], NSEvent.m:647\n"
     ]
    },
    {
     "name": "stdout",
     "output_type": "stream",
     "text": [
      "DDD"
     ]
    },
    {
     "name": "stderr",
     "output_type": "stream",
     "text": [
      "2023-04-21 17:16:57.894 Python[49082:550336] *** Assertion failure in +[NSEvent otherEventWithType:location:modifierFlags:timestamp:windowNumber:context:subtype:data1:data2:], NSEvent.m:647\n",
      "2023-04-21 17:16:57.910 Python[49082:550336] *** Assertion failure in +[NSEvent otherEventWithType:location:modifierFlags:timestamp:windowNumber:context:subtype:data1:data2:], NSEvent.m:647\n",
      "2023-04-21 17:16:57.927 Python[49082:550336] *** Assertion failure in +[NSEvent otherEventWithType:location:modifierFlags:timestamp:windowNumber:context:subtype:data1:data2:], NSEvent.m:647\n",
      "2023-04-21 17:16:57.945 Python[49082:550336] *** Assertion failure in +[NSEvent otherEventWithType:location:modifierFlags:timestamp:windowNumber:context:subtype:data1:data2:], NSEvent.m:647\n",
      "2023-04-21 17:16:57.962 Python[49082:550336] *** Assertion failure in +[NSEvent otherEventWithType:location:modifierFlags:timestamp:windowNumber:context:subtype:data1:data2:], NSEvent.m:647\n",
      "2023-04-21 17:16:57.979 Python[49082:550336] *** Assertion failure in +[NSEvent otherEventWithType:location:modifierFlags:timestamp:windowNumber:context:subtype:data1:data2:], NSEvent.m:647\n",
      "2023-04-21 17:16:57.997 Python[49082:550336] *** Assertion failure in +[NSEvent otherEventWithType:location:modifierFlags:timestamp:windowNumber:context:subtype:data1:data2:], NSEvent.m:647\n",
      "2023-04-21 17:16:58.014 Python[49082:550336] *** Assertion failure in +[NSEvent otherEventWithType:location:modifierFlags:timestamp:windowNumber:context:subtype:data1:data2:], NSEvent.m:647\n",
      "2023-04-21 17:16:58.032 Python[49082:550336] *** Assertion failure in +[NSEvent otherEventWithType:location:modifierFlags:timestamp:windowNumber:context:subtype:data1:data2:], NSEvent.m:647\n",
      "2023-04-21 17:16:58.050 Python[49082:550336] *** Assertion failure in +[NSEvent otherEventWithType:location:modifierFlags:timestamp:windowNumber:context:subtype:data1:data2:], NSEvent.m:647\n",
      "2023-04-21 17:16:58.068 Python[49082:550336] *** Assertion failure in +[NSEvent otherEventWithType:location:modifierFlags:timestamp:windowNumber:context:subtype:data1:data2:], NSEvent.m:647\n",
      "2023-04-21 17:16:58.087 Python[49082:550336] *** Assertion failure in +[NSEvent otherEventWithType:location:modifierFlags:timestamp:windowNumber:context:subtype:data1:data2:], NSEvent.m:647\n"
     ]
    },
    {
     "name": "stdout",
     "output_type": "stream",
     "text": [
      "DHDh+\n",
      "DDD"
     ]
    },
    {
     "name": "stderr",
     "output_type": "stream",
     "text": [
      "2023-04-21 17:16:58.106 Python[49082:550336] *** Assertion failure in +[NSEvent otherEventWithType:location:modifierFlags:timestamp:windowNumber:context:subtype:data1:data2:], NSEvent.m:647\n",
      "2023-04-21 17:16:58.124 Python[49082:550336] *** Assertion failure in +[NSEvent otherEventWithType:location:modifierFlags:timestamp:windowNumber:context:subtype:data1:data2:], NSEvent.m:647\n",
      "2023-04-21 17:16:58.141 Python[49082:550336] *** Assertion failure in +[NSEvent otherEventWithType:location:modifierFlags:timestamp:windowNumber:context:subtype:data1:data2:], NSEvent.m:647\n",
      "2023-04-21 17:16:58.159 Python[49082:550336] *** Assertion failure in +[NSEvent otherEventWithType:location:modifierFlags:timestamp:windowNumber:context:subtype:data1:data2:], NSEvent.m:647\n",
      "2023-04-21 17:16:58.177 Python[49082:550336] *** Assertion failure in +[NSEvent otherEventWithType:location:modifierFlags:timestamp:windowNumber:context:subtype:data1:data2:], NSEvent.m:647\n",
      "2023-04-21 17:16:58.196 Python[49082:550336] *** Assertion failure in +[NSEvent otherEventWithType:location:modifierFlags:timestamp:windowNumber:context:subtype:data1:data2:], NSEvent.m:647\n",
      "2023-04-21 17:16:58.213 Python[49082:550336] *** Assertion failure in +[NSEvent otherEventWithType:location:modifierFlags:timestamp:windowNumber:context:subtype:data1:data2:], NSEvent.m:647\n",
      "2023-04-21 17:16:58.232 Python[49082:550336] *** Assertion failure in +[NSEvent otherEventWithType:location:modifierFlags:timestamp:windowNumber:context:subtype:data1:data2:], NSEvent.m:647\n",
      "2023-04-21 17:16:58.250 Python[49082:550336] *** Assertion failure in +[NSEvent otherEventWithType:location:modifierFlags:timestamp:windowNumber:context:subtype:data1:data2:], NSEvent.m:647\n",
      "2023-04-21 17:16:58.268 Python[49082:550336] *** Assertion failure in +[NSEvent otherEventWithType:location:modifierFlags:timestamp:windowNumber:context:subtype:data1:data2:], NSEvent.m:647\n",
      "2023-04-21 17:16:58.288 Python[49082:550336] *** Assertion failure in +[NSEvent otherEventWithType:location:modifierFlags:timestamp:windowNumber:context:subtype:data1:data2:], NSEvent.m:647\n",
      "2023-04-21 17:16:58.305 Python[49082:550336] *** Assertion failure in +[NSEvent otherEventWithType:location:modifierFlags:timestamp:windowNumber:context:subtype:data1:data2:], NSEvent.m:647\n"
     ]
    },
    {
     "name": "stdout",
     "output_type": "stream",
     "text": [
      "DDDh+\n",
      "DD"
     ]
    },
    {
     "name": "stderr",
     "output_type": "stream",
     "text": [
      "2023-04-21 17:16:58.322 Python[49082:550336] *** Assertion failure in +[NSEvent otherEventWithType:location:modifierFlags:timestamp:windowNumber:context:subtype:data1:data2:], NSEvent.m:647\n",
      "2023-04-21 17:16:58.340 Python[49082:550336] *** Assertion failure in +[NSEvent otherEventWithType:location:modifierFlags:timestamp:windowNumber:context:subtype:data1:data2:], NSEvent.m:647\n",
      "2023-04-21 17:16:58.359 Python[49082:550336] *** Assertion failure in +[NSEvent otherEventWithType:location:modifierFlags:timestamp:windowNumber:context:subtype:data1:data2:], NSEvent.m:647\n",
      "2023-04-21 17:16:58.377 Python[49082:550336] *** Assertion failure in +[NSEvent otherEventWithType:location:modifierFlags:timestamp:windowNumber:context:subtype:data1:data2:], NSEvent.m:647\n",
      "2023-04-21 17:16:58.394 Python[49082:550336] *** Assertion failure in +[NSEvent otherEventWithType:location:modifierFlags:timestamp:windowNumber:context:subtype:data1:data2:], NSEvent.m:647\n",
      "2023-04-21 17:16:58.413 Python[49082:550336] *** Assertion failure in +[NSEvent otherEventWithType:location:modifierFlags:timestamp:windowNumber:context:subtype:data1:data2:], NSEvent.m:647\n",
      "2023-04-21 17:16:58.432 Python[49082:550336] *** Assertion failure in +[NSEvent otherEventWithType:location:modifierFlags:timestamp:windowNumber:context:subtype:data1:data2:], NSEvent.m:647\n",
      "2023-04-21 17:16:58.451 Python[49082:550336] *** Assertion failure in +[NSEvent otherEventWithType:location:modifierFlags:timestamp:windowNumber:context:subtype:data1:data2:], NSEvent.m:647\n",
      "2023-04-21 17:16:58.470 Python[49082:550336] *** Assertion failure in +[NSEvent otherEventWithType:location:modifierFlags:timestamp:windowNumber:context:subtype:data1:data2:], NSEvent.m:647\n",
      "2023-04-21 17:16:58.488 Python[49082:550336] *** Assertion failure in +[NSEvent otherEventWithType:location:modifierFlags:timestamp:windowNumber:context:subtype:data1:data2:], NSEvent.m:647\n",
      "2023-04-21 17:16:58.507 Python[49082:550336] *** Assertion failure in +[NSEvent otherEventWithType:location:modifierFlags:timestamp:windowNumber:context:subtype:data1:data2:], NSEvent.m:647\n"
     ]
    },
    {
     "name": "stdout",
     "output_type": "stream",
     "text": [
      "DD"
     ]
    },
    {
     "name": "stderr",
     "output_type": "stream",
     "text": [
      "2023-04-21 17:16:58.525 Python[49082:550336] *** Assertion failure in +[NSEvent otherEventWithType:location:modifierFlags:timestamp:windowNumber:context:subtype:data1:data2:], NSEvent.m:647\n",
      "2023-04-21 17:16:58.542 Python[49082:550336] *** Assertion failure in +[NSEvent otherEventWithType:location:modifierFlags:timestamp:windowNumber:context:subtype:data1:data2:], NSEvent.m:647\n",
      "2023-04-21 17:16:58.560 Python[49082:550336] *** Assertion failure in +[NSEvent otherEventWithType:location:modifierFlags:timestamp:windowNumber:context:subtype:data1:data2:], NSEvent.m:647\n",
      "2023-04-21 17:16:58.578 Python[49082:550336] *** Assertion failure in +[NSEvent otherEventWithType:location:modifierFlags:timestamp:windowNumber:context:subtype:data1:data2:], NSEvent.m:647\n",
      "2023-04-21 17:16:58.596 Python[49082:550336] *** Assertion failure in +[NSEvent otherEventWithType:location:modifierFlags:timestamp:windowNumber:context:subtype:data1:data2:], NSEvent.m:647\n",
      "2023-04-21 17:16:58.613 Python[49082:550336] *** Assertion failure in +[NSEvent otherEventWithType:location:modifierFlags:timestamp:windowNumber:context:subtype:data1:data2:], NSEvent.m:647\n",
      "2023-04-21 17:16:58.631 Python[49082:550336] *** Assertion failure in +[NSEvent otherEventWithType:location:modifierFlags:timestamp:windowNumber:context:subtype:data1:data2:], NSEvent.m:647\n",
      "2023-04-21 17:16:58.650 Python[49082:550336] *** Assertion failure in +[NSEvent otherEventWithType:location:modifierFlags:timestamp:windowNumber:context:subtype:data1:data2:], NSEvent.m:647\n",
      "2023-04-21 17:16:58.668 Python[49082:550336] *** Assertion failure in +[NSEvent otherEventWithType:location:modifierFlags:timestamp:windowNumber:context:subtype:data1:data2:], NSEvent.m:647\n",
      "2023-04-21 17:16:58.686 Python[49082:550336] *** Assertion failure in +[NSEvent otherEventWithType:location:modifierFlags:timestamp:windowNumber:context:subtype:data1:data2:], NSEvent.m:647\n",
      "2023-04-21 17:16:58.704 Python[49082:550336] *** Assertion failure in +[NSEvent otherEventWithType:location:modifierFlags:timestamp:windowNumber:context:subtype:data1:data2:], NSEvent.m:647\n",
      "2023-04-21 17:16:58.723 Python[49082:550336] *** Assertion failure in +[NSEvent otherEventWithType:location:modifierFlags:timestamp:windowNumber:context:subtype:data1:data2:], NSEvent.m:647\n"
     ]
    },
    {
     "name": "stdout",
     "output_type": "stream",
     "text": [
      "Dh+\n",
      "DDDD"
     ]
    },
    {
     "name": "stderr",
     "output_type": "stream",
     "text": [
      "2023-04-21 17:16:58.746 Python[49082:550336] *** Assertion failure in +[NSEvent otherEventWithType:location:modifierFlags:timestamp:windowNumber:context:subtype:data1:data2:], NSEvent.m:647\n",
      "2023-04-21 17:16:58.763 Python[49082:550336] *** Assertion failure in +[NSEvent otherEventWithType:location:modifierFlags:timestamp:windowNumber:context:subtype:data1:data2:], NSEvent.m:647\n",
      "2023-04-21 17:16:58.780 Python[49082:550336] *** Assertion failure in +[NSEvent otherEventWithType:location:modifierFlags:timestamp:windowNumber:context:subtype:data1:data2:], NSEvent.m:647\n",
      "2023-04-21 17:16:58.798 Python[49082:550336] *** Assertion failure in +[NSEvent otherEventWithType:location:modifierFlags:timestamp:windowNumber:context:subtype:data1:data2:], NSEvent.m:647\n",
      "2023-04-21 17:16:58.817 Python[49082:550336] *** Assertion failure in +[NSEvent otherEventWithType:location:modifierFlags:timestamp:windowNumber:context:subtype:data1:data2:], NSEvent.m:647\n",
      "2023-04-21 17:16:58.835 Python[49082:550336] *** Assertion failure in +[NSEvent otherEventWithType:location:modifierFlags:timestamp:windowNumber:context:subtype:data1:data2:], NSEvent.m:647\n",
      "2023-04-21 17:16:58.853 Python[49082:550336] *** Assertion failure in +[NSEvent otherEventWithType:location:modifierFlags:timestamp:windowNumber:context:subtype:data1:data2:], NSEvent.m:647\n",
      "2023-04-21 17:16:58.871 Python[49082:550336] *** Assertion failure in +[NSEvent otherEventWithType:location:modifierFlags:timestamp:windowNumber:context:subtype:data1:data2:], NSEvent.m:647\n",
      "2023-04-21 17:16:58.888 Python[49082:550336] *** Assertion failure in +[NSEvent otherEventWithType:location:modifierFlags:timestamp:windowNumber:context:subtype:data1:data2:], NSEvent.m:647\n",
      "2023-04-21 17:16:58.905 Python[49082:550336] *** Assertion failure in +[NSEvent otherEventWithType:location:modifierFlags:timestamp:windowNumber:context:subtype:data1:data2:], NSEvent.m:647\n",
      "2023-04-21 17:16:58.923 Python[49082:550336] *** Assertion failure in +[NSEvent otherEventWithType:location:modifierFlags:timestamp:windowNumber:context:subtype:data1:data2:], NSEvent.m:647\n",
      "2023-04-21 17:16:58.940 Python[49082:550336] *** Assertion failure in +[NSEvent otherEventWithType:location:modifierFlags:timestamp:windowNumber:context:subtype:data1:data2:], NSEvent.m:647\n"
     ]
    },
    {
     "name": "stdout",
     "output_type": "stream",
     "text": [
      "DH+\n",
      "Dh+\n",
      "D1240 124 6.149816 201.632040 (samp,blk,s,hz)\n",
      "DDH"
     ]
    },
    {
     "name": "stderr",
     "output_type": "stream",
     "text": [
      "2023-04-21 17:16:58.958 Python[49082:550336] *** Assertion failure in +[NSEvent otherEventWithType:location:modifierFlags:timestamp:windowNumber:context:subtype:data1:data2:], NSEvent.m:647\n",
      "2023-04-21 17:16:58.976 Python[49082:550336] *** Assertion failure in +[NSEvent otherEventWithType:location:modifierFlags:timestamp:windowNumber:context:subtype:data1:data2:], NSEvent.m:647\n",
      "2023-04-21 17:16:58.994 Python[49082:550336] *** Assertion failure in +[NSEvent otherEventWithType:location:modifierFlags:timestamp:windowNumber:context:subtype:data1:data2:], NSEvent.m:647\n",
      "2023-04-21 17:16:59.012 Python[49082:550336] *** Assertion failure in +[NSEvent otherEventWithType:location:modifierFlags:timestamp:windowNumber:context:subtype:data1:data2:], NSEvent.m:647\n",
      "2023-04-21 17:16:59.029 Python[49082:550336] *** Assertion failure in +[NSEvent otherEventWithType:location:modifierFlags:timestamp:windowNumber:context:subtype:data1:data2:], NSEvent.m:647\n",
      "2023-04-21 17:16:59.048 Python[49082:550336] *** Assertion failure in +[NSEvent otherEventWithType:location:modifierFlags:timestamp:windowNumber:context:subtype:data1:data2:], NSEvent.m:647\n",
      "2023-04-21 17:16:59.066 Python[49082:550336] *** Assertion failure in +[NSEvent otherEventWithType:location:modifierFlags:timestamp:windowNumber:context:subtype:data1:data2:], NSEvent.m:647\n",
      "2023-04-21 17:16:59.085 Python[49082:550336] *** Assertion failure in +[NSEvent otherEventWithType:location:modifierFlags:timestamp:windowNumber:context:subtype:data1:data2:], NSEvent.m:647\n",
      "2023-04-21 17:16:59.103 Python[49082:550336] *** Assertion failure in +[NSEvent otherEventWithType:location:modifierFlags:timestamp:windowNumber:context:subtype:data1:data2:], NSEvent.m:647\n",
      "2023-04-21 17:16:59.121 Python[49082:550336] *** Assertion failure in +[NSEvent otherEventWithType:location:modifierFlags:timestamp:windowNumber:context:subtype:data1:data2:], NSEvent.m:647\n",
      "2023-04-21 17:16:59.138 Python[49082:550336] *** Assertion failure in +[NSEvent otherEventWithType:location:modifierFlags:timestamp:windowNumber:context:subtype:data1:data2:], NSEvent.m:647\n",
      "2023-04-21 17:16:59.156 Python[49082:550336] *** Assertion failure in +[NSEvent otherEventWithType:location:modifierFlags:timestamp:windowNumber:context:subtype:data1:data2:], NSEvent.m:647\n"
     ]
    },
    {
     "name": "stdout",
     "output_type": "stream",
     "text": [
      "DDDh+\n",
      "DD"
     ]
    },
    {
     "name": "stderr",
     "output_type": "stream",
     "text": [
      "2023-04-21 17:16:59.175 Python[49082:550336] *** Assertion failure in +[NSEvent otherEventWithType:location:modifierFlags:timestamp:windowNumber:context:subtype:data1:data2:], NSEvent.m:647\n",
      "2023-04-21 17:16:59.192 Python[49082:550336] *** Assertion failure in +[NSEvent otherEventWithType:location:modifierFlags:timestamp:windowNumber:context:subtype:data1:data2:], NSEvent.m:647\n",
      "2023-04-21 17:16:59.210 Python[49082:550336] *** Assertion failure in +[NSEvent otherEventWithType:location:modifierFlags:timestamp:windowNumber:context:subtype:data1:data2:], NSEvent.m:647\n",
      "2023-04-21 17:16:59.229 Python[49082:550336] *** Assertion failure in +[NSEvent otherEventWithType:location:modifierFlags:timestamp:windowNumber:context:subtype:data1:data2:], NSEvent.m:647\n",
      "2023-04-21 17:16:59.248 Python[49082:550336] *** Assertion failure in +[NSEvent otherEventWithType:location:modifierFlags:timestamp:windowNumber:context:subtype:data1:data2:], NSEvent.m:647\n",
      "2023-04-21 17:16:59.269 Python[49082:550336] *** Assertion failure in +[NSEvent otherEventWithType:location:modifierFlags:timestamp:windowNumber:context:subtype:data1:data2:], NSEvent.m:647\n",
      "2023-04-21 17:16:59.287 Python[49082:550336] *** Assertion failure in +[NSEvent otherEventWithType:location:modifierFlags:timestamp:windowNumber:context:subtype:data1:data2:], NSEvent.m:647\n",
      "2023-04-21 17:16:59.306 Python[49082:550336] *** Assertion failure in +[NSEvent otherEventWithType:location:modifierFlags:timestamp:windowNumber:context:subtype:data1:data2:], NSEvent.m:647\n",
      "2023-04-21 17:16:59.324 Python[49082:550336] *** Assertion failure in +[NSEvent otherEventWithType:location:modifierFlags:timestamp:windowNumber:context:subtype:data1:data2:], NSEvent.m:647\n",
      "2023-04-21 17:16:59.343 Python[49082:550336] *** Assertion failure in +[NSEvent otherEventWithType:location:modifierFlags:timestamp:windowNumber:context:subtype:data1:data2:], NSEvent.m:647\n",
      "2023-04-21 17:16:59.363 Python[49082:550336] *** Assertion failure in +[NSEvent otherEventWithType:location:modifierFlags:timestamp:windowNumber:context:subtype:data1:data2:], NSEvent.m:647\n"
     ]
    },
    {
     "name": "stdout",
     "output_type": "stream",
     "text": [
      "DDDh+\n"
     ]
    },
    {
     "name": "stderr",
     "output_type": "stream",
     "text": [
      "2023-04-21 17:16:59.382 Python[49082:550336] *** Assertion failure in +[NSEvent otherEventWithType:location:modifierFlags:timestamp:windowNumber:context:subtype:data1:data2:], NSEvent.m:647\n",
      "2023-04-21 17:16:59.399 Python[49082:550336] *** Assertion failure in +[NSEvent otherEventWithType:location:modifierFlags:timestamp:windowNumber:context:subtype:data1:data2:], NSEvent.m:647\n",
      "2023-04-21 17:16:59.416 Python[49082:550336] *** Assertion failure in +[NSEvent otherEventWithType:location:modifierFlags:timestamp:windowNumber:context:subtype:data1:data2:], NSEvent.m:647\n",
      "2023-04-21 17:16:59.434 Python[49082:550336] *** Assertion failure in +[NSEvent otherEventWithType:location:modifierFlags:timestamp:windowNumber:context:subtype:data1:data2:], NSEvent.m:647\n",
      "2023-04-21 17:16:59.453 Python[49082:550336] *** Assertion failure in +[NSEvent otherEventWithType:location:modifierFlags:timestamp:windowNumber:context:subtype:data1:data2:], NSEvent.m:647\n",
      "2023-04-21 17:16:59.471 Python[49082:550336] *** Assertion failure in +[NSEvent otherEventWithType:location:modifierFlags:timestamp:windowNumber:context:subtype:data1:data2:], NSEvent.m:647\n",
      "2023-04-21 17:16:59.490 Python[49082:550336] *** Assertion failure in +[NSEvent otherEventWithType:location:modifierFlags:timestamp:windowNumber:context:subtype:data1:data2:], NSEvent.m:647\n",
      "2023-04-21 17:16:59.509 Python[49082:550336] *** Assertion failure in +[NSEvent otherEventWithType:location:modifierFlags:timestamp:windowNumber:context:subtype:data1:data2:], NSEvent.m:647\n",
      "2023-04-21 17:16:59.529 Python[49082:550336] *** Assertion failure in +[NSEvent otherEventWithType:location:modifierFlags:timestamp:windowNumber:context:subtype:data1:data2:], NSEvent.m:647\n",
      "2023-04-21 17:16:59.548 Python[49082:550336] *** Assertion failure in +[NSEvent otherEventWithType:location:modifierFlags:timestamp:windowNumber:context:subtype:data1:data2:], NSEvent.m:647\n",
      "2023-04-21 17:16:59.568 Python[49082:550336] *** Assertion failure in +[NSEvent otherEventWithType:location:modifierFlags:timestamp:windowNumber:context:subtype:data1:data2:], NSEvent.m:647\n"
     ]
    },
    {
     "name": "stdout",
     "output_type": "stream",
     "text": [
      "DDDDD"
     ]
    },
    {
     "name": "stderr",
     "output_type": "stream",
     "text": [
      "2023-04-21 17:16:59.587 Python[49082:550336] *** Assertion failure in +[NSEvent otherEventWithType:location:modifierFlags:timestamp:windowNumber:context:subtype:data1:data2:], NSEvent.m:647\n",
      "2023-04-21 17:16:59.605 Python[49082:550336] *** Assertion failure in +[NSEvent otherEventWithType:location:modifierFlags:timestamp:windowNumber:context:subtype:data1:data2:], NSEvent.m:647\n",
      "2023-04-21 17:16:59.623 Python[49082:550336] *** Assertion failure in +[NSEvent otherEventWithType:location:modifierFlags:timestamp:windowNumber:context:subtype:data1:data2:], NSEvent.m:647\n",
      "2023-04-21 17:16:59.640 Python[49082:550336] *** Assertion failure in +[NSEvent otherEventWithType:location:modifierFlags:timestamp:windowNumber:context:subtype:data1:data2:], NSEvent.m:647\n",
      "2023-04-21 17:16:59.658 Python[49082:550336] *** Assertion failure in +[NSEvent otherEventWithType:location:modifierFlags:timestamp:windowNumber:context:subtype:data1:data2:], NSEvent.m:647\n",
      "2023-04-21 17:16:59.674 Python[49082:550336] *** Assertion failure in +[NSEvent otherEventWithType:location:modifierFlags:timestamp:windowNumber:context:subtype:data1:data2:], NSEvent.m:647\n",
      "2023-04-21 17:16:59.690 Python[49082:550336] *** Assertion failure in +[NSEvent otherEventWithType:location:modifierFlags:timestamp:windowNumber:context:subtype:data1:data2:], NSEvent.m:647\n",
      "2023-04-21 17:16:59.708 Python[49082:550336] *** Assertion failure in +[NSEvent otherEventWithType:location:modifierFlags:timestamp:windowNumber:context:subtype:data1:data2:], NSEvent.m:647\n",
      "2023-04-21 17:16:59.725 Python[49082:550336] *** Assertion failure in +[NSEvent otherEventWithType:location:modifierFlags:timestamp:windowNumber:context:subtype:data1:data2:], NSEvent.m:647\n",
      "2023-04-21 17:16:59.744 Python[49082:550336] *** Assertion failure in +[NSEvent otherEventWithType:location:modifierFlags:timestamp:windowNumber:context:subtype:data1:data2:], NSEvent.m:647\n",
      "2023-04-21 17:16:59.761 Python[49082:550336] *** Assertion failure in +[NSEvent otherEventWithType:location:modifierFlags:timestamp:windowNumber:context:subtype:data1:data2:], NSEvent.m:647\n",
      "2023-04-21 17:16:59.780 Python[49082:550336] *** Assertion failure in +[NSEvent otherEventWithType:location:modifierFlags:timestamp:windowNumber:context:subtype:data1:data2:], NSEvent.m:647\n"
     ]
    },
    {
     "name": "stdout",
     "output_type": "stream",
     "text": [
      "Dh+\n",
      "D"
     ]
    },
    {
     "name": "stderr",
     "output_type": "stream",
     "text": [
      "2023-04-21 17:16:59.798 Python[49082:550336] *** Assertion failure in +[NSEvent otherEventWithType:location:modifierFlags:timestamp:windowNumber:context:subtype:data1:data2:], NSEvent.m:647\n",
      "2023-04-21 17:16:59.817 Python[49082:550336] *** Assertion failure in +[NSEvent otherEventWithType:location:modifierFlags:timestamp:windowNumber:context:subtype:data1:data2:], NSEvent.m:647\n",
      "2023-04-21 17:16:59.835 Python[49082:550336] *** Assertion failure in +[NSEvent otherEventWithType:location:modifierFlags:timestamp:windowNumber:context:subtype:data1:data2:], NSEvent.m:647\n",
      "2023-04-21 17:16:59.854 Python[49082:550336] *** Assertion failure in +[NSEvent otherEventWithType:location:modifierFlags:timestamp:windowNumber:context:subtype:data1:data2:], NSEvent.m:647\n",
      "2023-04-21 17:16:59.872 Python[49082:550336] *** Assertion failure in +[NSEvent otherEventWithType:location:modifierFlags:timestamp:windowNumber:context:subtype:data1:data2:], NSEvent.m:647\n",
      "2023-04-21 17:16:59.890 Python[49082:550336] *** Assertion failure in +[NSEvent otherEventWithType:location:modifierFlags:timestamp:windowNumber:context:subtype:data1:data2:], NSEvent.m:647\n",
      "2023-04-21 17:16:59.909 Python[49082:550336] *** Assertion failure in +[NSEvent otherEventWithType:location:modifierFlags:timestamp:windowNumber:context:subtype:data1:data2:], NSEvent.m:647\n",
      "2023-04-21 17:16:59.928 Python[49082:550336] *** Assertion failure in +[NSEvent otherEventWithType:location:modifierFlags:timestamp:windowNumber:context:subtype:data1:data2:], NSEvent.m:647\n",
      "2023-04-21 17:16:59.947 Python[49082:550336] *** Assertion failure in +[NSEvent otherEventWithType:location:modifierFlags:timestamp:windowNumber:context:subtype:data1:data2:], NSEvent.m:647\n",
      "2023-04-21 17:16:59.965 Python[49082:550336] *** Assertion failure in +[NSEvent otherEventWithType:location:modifierFlags:timestamp:windowNumber:context:subtype:data1:data2:], NSEvent.m:647\n",
      "2023-04-21 17:16:59.983 Python[49082:550336] *** Assertion failure in +[NSEvent otherEventWithType:location:modifierFlags:timestamp:windowNumber:context:subtype:data1:data2:], NSEvent.m:647\n"
     ]
    },
    {
     "name": "stdout",
     "output_type": "stream",
     "text": [
      "DMacOSX\n",
      "nbAgg\n",
      "TkAgg\n",
      "WebAgg\n",
      "WX\n",
      "WXAgg\n",
      "agg\n",
      "pdf\n",
      "pgf\n",
      "ps\n",
      "svg\n",
      "template\n",
      "Initial backend: template\n",
      "Using backend: TkAgg\n",
      "LOGDIR=/Users/Emmanuel/Documents/GitHub/pymindaffectBCI/mindaffectBCI/decoder/../../logs/\n",
      "Trying to auto-discover the utopia-hub server\n",
      "making discovery object\n",
      "Using inteface: 192.168.1.101\n",
      "Got location: 192.168.1.101\n",
      ".\n",
      ".\n",
      ".\n",
      ".\n",
      ".\n",
      ".\n",
      "Discovery returned 1 utopia-hub servers\n",
      "Discovered utopia-hub on 192.168.1.101 ...\n",
      "Tring to connect to: 192.168.1.101:-1\n",
      "Trying to connect to: 192.168.1.101:8400\n",
      "Connected!\n",
      "\n",
      "Server: New Client Connection : /192.168.1.101:62950\n",
      "\n",
      "H+\n",
      "\n",
      "Offset Update:0.0->-1.566873401E9\n",
      "ClientInfoSubscribed /192.168.1.101:62950 to : [DEMSN]\n",
      "HDDDDh+\n"
     ]
    },
    {
     "name": "stderr",
     "output_type": "stream",
     "text": [
      "2023-04-21 17:17:00.000 Python[49082:550336] *** Assertion failure in +[NSEvent otherEventWithType:location:modifierFlags:timestamp:windowNumber:context:subtype:data1:data2:], NSEvent.m:647\n",
      "2023-04-21 17:17:00.017 Python[49082:550336] *** Assertion failure in +[NSEvent otherEventWithType:location:modifierFlags:timestamp:windowNumber:context:subtype:data1:data2:], NSEvent.m:647\n",
      "2023-04-21 17:17:00.034 Python[49082:550336] *** Assertion failure in +[NSEvent otherEventWithType:location:modifierFlags:timestamp:windowNumber:context:subtype:data1:data2:], NSEvent.m:647\n",
      "2023-04-21 17:17:00.051 Python[49082:550336] *** Assertion failure in +[NSEvent otherEventWithType:location:modifierFlags:timestamp:windowNumber:context:subtype:data1:data2:], NSEvent.m:647\n",
      "2023-04-21 17:17:00.068 Python[49082:550336] *** Assertion failure in +[NSEvent otherEventWithType:location:modifierFlags:timestamp:windowNumber:context:subtype:data1:data2:], NSEvent.m:647\n",
      "2023-04-21 17:17:00.086 Python[49082:550336] *** Assertion failure in +[NSEvent otherEventWithType:location:modifierFlags:timestamp:windowNumber:context:subtype:data1:data2:], NSEvent.m:647\n",
      "2023-04-21 17:17:00.103 Python[49082:550336] *** Assertion failure in +[NSEvent otherEventWithType:location:modifierFlags:timestamp:windowNumber:context:subtype:data1:data2:], NSEvent.m:647\n",
      "2023-04-21 17:17:00.121 Python[49082:550336] *** Assertion failure in +[NSEvent otherEventWithType:location:modifierFlags:timestamp:windowNumber:context:subtype:data1:data2:], NSEvent.m:647\n",
      "2023-04-21 17:17:00.138 Python[49082:550336] *** Assertion failure in +[NSEvent otherEventWithType:location:modifierFlags:timestamp:windowNumber:context:subtype:data1:data2:], NSEvent.m:647\n",
      "2023-04-21 17:17:00.156 Python[49082:550336] *** Assertion failure in +[NSEvent otherEventWithType:location:modifierFlags:timestamp:windowNumber:context:subtype:data1:data2:], NSEvent.m:647\n",
      "2023-04-21 17:17:00.173 Python[49082:550336] *** Assertion failure in +[NSEvent otherEventWithType:location:modifierFlags:timestamp:windowNumber:context:subtype:data1:data2:], NSEvent.m:647\n",
      "2023-04-21 17:17:00.191 Python[49082:550336] *** Assertion failure in +[NSEvent otherEventWithType:location:modifierFlags:timestamp:windowNumber:context:subtype:data1:data2:], NSEvent.m:647\n"
     ]
    },
    {
     "name": "stdout",
     "output_type": "stream",
     "text": [
      "DHDDDD"
     ]
    },
    {
     "name": "stderr",
     "output_type": "stream",
     "text": [
      "2023-04-21 17:17:00.209 Python[49082:550336] *** Assertion failure in +[NSEvent otherEventWithType:location:modifierFlags:timestamp:windowNumber:context:subtype:data1:data2:], NSEvent.m:647\n",
      "2023-04-21 17:17:00.225 Python[49082:550336] *** Assertion failure in +[NSEvent otherEventWithType:location:modifierFlags:timestamp:windowNumber:context:subtype:data1:data2:], NSEvent.m:647\n",
      "2023-04-21 17:17:00.242 Python[49082:550336] *** Assertion failure in +[NSEvent otherEventWithType:location:modifierFlags:timestamp:windowNumber:context:subtype:data1:data2:], NSEvent.m:647\n",
      "2023-04-21 17:17:00.260 Python[49082:550336] *** Assertion failure in +[NSEvent otherEventWithType:location:modifierFlags:timestamp:windowNumber:context:subtype:data1:data2:], NSEvent.m:647\n",
      "2023-04-21 17:17:00.278 Python[49082:550336] *** Assertion failure in +[NSEvent otherEventWithType:location:modifierFlags:timestamp:windowNumber:context:subtype:data1:data2:], NSEvent.m:647\n",
      "2023-04-21 17:17:00.296 Python[49082:550336] *** Assertion failure in +[NSEvent otherEventWithType:location:modifierFlags:timestamp:windowNumber:context:subtype:data1:data2:], NSEvent.m:647\n",
      "2023-04-21 17:17:00.314 Python[49082:550336] *** Assertion failure in +[NSEvent otherEventWithType:location:modifierFlags:timestamp:windowNumber:context:subtype:data1:data2:], NSEvent.m:647\n",
      "2023-04-21 17:17:00.333 Python[49082:550336] *** Assertion failure in +[NSEvent otherEventWithType:location:modifierFlags:timestamp:windowNumber:context:subtype:data1:data2:], NSEvent.m:647\n",
      "2023-04-21 17:17:00.353 Python[49082:550336] *** Assertion failure in +[NSEvent otherEventWithType:location:modifierFlags:timestamp:windowNumber:context:subtype:data1:data2:], NSEvent.m:647\n",
      "2023-04-21 17:17:00.371 Python[49082:550336] *** Assertion failure in +[NSEvent otherEventWithType:location:modifierFlags:timestamp:windowNumber:context:subtype:data1:data2:], NSEvent.m:647\n",
      "2023-04-21 17:17:00.390 Python[49082:550336] *** Assertion failure in +[NSEvent otherEventWithType:location:modifierFlags:timestamp:windowNumber:context:subtype:data1:data2:], NSEvent.m:647\n",
      "2023-04-21 17:17:00.407 Python[49082:550336] *** Assertion failure in +[NSEvent otherEventWithType:location:modifierFlags:timestamp:windowNumber:context:subtype:data1:data2:], NSEvent.m:647\n"
     ]
    },
    {
     "name": "stdout",
     "output_type": "stream",
     "text": [
      "h+\n",
      "DDDD"
     ]
    },
    {
     "name": "stderr",
     "output_type": "stream",
     "text": [
      "2023-04-21 17:17:00.425 Python[49082:550336] *** Assertion failure in +[NSEvent otherEventWithType:location:modifierFlags:timestamp:windowNumber:context:subtype:data1:data2:], NSEvent.m:647\n",
      "2023-04-21 17:17:00.442 Python[49082:550336] *** Assertion failure in +[NSEvent otherEventWithType:location:modifierFlags:timestamp:windowNumber:context:subtype:data1:data2:], NSEvent.m:647\n",
      "2023-04-21 17:17:00.461 Python[49082:550336] *** Assertion failure in +[NSEvent otherEventWithType:location:modifierFlags:timestamp:windowNumber:context:subtype:data1:data2:], NSEvent.m:647\n",
      "2023-04-21 17:17:00.479 Python[49082:550336] *** Assertion failure in +[NSEvent otherEventWithType:location:modifierFlags:timestamp:windowNumber:context:subtype:data1:data2:], NSEvent.m:647\n",
      "2023-04-21 17:17:00.498 Python[49082:550336] *** Assertion failure in +[NSEvent otherEventWithType:location:modifierFlags:timestamp:windowNumber:context:subtype:data1:data2:], NSEvent.m:647\n",
      "2023-04-21 17:17:00.517 Python[49082:550336] *** Assertion failure in +[NSEvent otherEventWithType:location:modifierFlags:timestamp:windowNumber:context:subtype:data1:data2:], NSEvent.m:647\n",
      "2023-04-21 17:17:00.535 Python[49082:550336] *** Assertion failure in +[NSEvent otherEventWithType:location:modifierFlags:timestamp:windowNumber:context:subtype:data1:data2:], NSEvent.m:647\n",
      "2023-04-21 17:17:00.552 Python[49082:550336] *** Assertion failure in +[NSEvent otherEventWithType:location:modifierFlags:timestamp:windowNumber:context:subtype:data1:data2:], NSEvent.m:647\n",
      "2023-04-21 17:17:00.570 Python[49082:550336] *** Assertion failure in +[NSEvent otherEventWithType:location:modifierFlags:timestamp:windowNumber:context:subtype:data1:data2:], NSEvent.m:647\n",
      "2023-04-21 17:17:00.588 Python[49082:550336] *** Assertion failure in +[NSEvent otherEventWithType:location:modifierFlags:timestamp:windowNumber:context:subtype:data1:data2:], NSEvent.m:647\n",
      "2023-04-21 17:17:00.607 Python[49082:550336] *** Assertion failure in +[NSEvent otherEventWithType:location:modifierFlags:timestamp:windowNumber:context:subtype:data1:data2:], NSEvent.m:647\n",
      "2023-04-21 17:17:00.625 Python[49082:550336] *** Assertion failure in +[NSEvent otherEventWithType:location:modifierFlags:timestamp:windowNumber:context:subtype:data1:data2:], NSEvent.m:647\n"
     ]
    },
    {
     "name": "stdout",
     "output_type": "stream",
     "text": [
      "DDh+\n",
      "DDD"
     ]
    },
    {
     "name": "stderr",
     "output_type": "stream",
     "text": [
      "2023-04-21 17:17:00.643 Python[49082:550336] *** Assertion failure in +[NSEvent otherEventWithType:location:modifierFlags:timestamp:windowNumber:context:subtype:data1:data2:], NSEvent.m:647\n",
      "2023-04-21 17:17:00.661 Python[49082:550336] *** Assertion failure in +[NSEvent otherEventWithType:location:modifierFlags:timestamp:windowNumber:context:subtype:data1:data2:], NSEvent.m:647\n",
      "2023-04-21 17:17:00.679 Python[49082:550336] *** Assertion failure in +[NSEvent otherEventWithType:location:modifierFlags:timestamp:windowNumber:context:subtype:data1:data2:], NSEvent.m:647\n",
      "2023-04-21 17:17:00.697 Python[49082:550336] *** Assertion failure in +[NSEvent otherEventWithType:location:modifierFlags:timestamp:windowNumber:context:subtype:data1:data2:], NSEvent.m:647\n",
      "2023-04-21 17:17:00.716 Python[49082:550336] *** Assertion failure in +[NSEvent otherEventWithType:location:modifierFlags:timestamp:windowNumber:context:subtype:data1:data2:], NSEvent.m:647\n",
      "2023-04-21 17:17:00.734 Python[49082:550336] *** Assertion failure in +[NSEvent otherEventWithType:location:modifierFlags:timestamp:windowNumber:context:subtype:data1:data2:], NSEvent.m:647\n",
      "2023-04-21 17:17:00.753 Python[49082:550336] *** Assertion failure in +[NSEvent otherEventWithType:location:modifierFlags:timestamp:windowNumber:context:subtype:data1:data2:], NSEvent.m:647\n",
      "2023-04-21 17:17:00.773 Python[49082:550336] *** Assertion failure in +[NSEvent otherEventWithType:location:modifierFlags:timestamp:windowNumber:context:subtype:data1:data2:], NSEvent.m:647\n",
      "2023-04-21 17:17:00.791 Python[49082:550336] *** Assertion failure in +[NSEvent otherEventWithType:location:modifierFlags:timestamp:windowNumber:context:subtype:data1:data2:], NSEvent.m:647\n",
      "2023-04-21 17:17:00.809 Python[49082:550336] *** Assertion failure in +[NSEvent otherEventWithType:location:modifierFlags:timestamp:windowNumber:context:subtype:data1:data2:], NSEvent.m:647\n",
      "2023-04-21 17:17:00.827 Python[49082:550336] *** Assertion failure in +[NSEvent otherEventWithType:location:modifierFlags:timestamp:windowNumber:context:subtype:data1:data2:], NSEvent.m:647\n"
     ]
    },
    {
     "name": "stdout",
     "output_type": "stream",
     "text": [
      "DDh+\n",
      "DH+\n",
      "HD"
     ]
    },
    {
     "name": "stderr",
     "output_type": "stream",
     "text": [
      "2023-04-21 17:17:00.845 Python[49082:550336] *** Assertion failure in +[NSEvent otherEventWithType:location:modifierFlags:timestamp:windowNumber:context:subtype:data1:data2:], NSEvent.m:647\n",
      "2023-04-21 17:17:00.862 Python[49082:550336] *** Assertion failure in +[NSEvent otherEventWithType:location:modifierFlags:timestamp:windowNumber:context:subtype:data1:data2:], NSEvent.m:647\n",
      "2023-04-21 17:17:00.881 Python[49082:550336] *** Assertion failure in +[NSEvent otherEventWithType:location:modifierFlags:timestamp:windowNumber:context:subtype:data1:data2:], NSEvent.m:647\n",
      "2023-04-21 17:17:00.900 Python[49082:550336] *** Assertion failure in +[NSEvent otherEventWithType:location:modifierFlags:timestamp:windowNumber:context:subtype:data1:data2:], NSEvent.m:647\n",
      "2023-04-21 17:17:00.917 Python[49082:550336] *** Assertion failure in +[NSEvent otherEventWithType:location:modifierFlags:timestamp:windowNumber:context:subtype:data1:data2:], NSEvent.m:647\n",
      "2023-04-21 17:17:00.935 Python[49082:550336] *** Assertion failure in +[NSEvent otherEventWithType:location:modifierFlags:timestamp:windowNumber:context:subtype:data1:data2:], NSEvent.m:647\n",
      "2023-04-21 17:17:00.952 Python[49082:550336] *** Assertion failure in +[NSEvent otherEventWithType:location:modifierFlags:timestamp:windowNumber:context:subtype:data1:data2:], NSEvent.m:647\n",
      "2023-04-21 17:17:00.970 Python[49082:550336] *** Assertion failure in +[NSEvent otherEventWithType:location:modifierFlags:timestamp:windowNumber:context:subtype:data1:data2:], NSEvent.m:647\n",
      "2023-04-21 17:17:00.987 Python[49082:550336] *** Assertion failure in +[NSEvent otherEventWithType:location:modifierFlags:timestamp:windowNumber:context:subtype:data1:data2:], NSEvent.m:647\n",
      "2023-04-21 17:17:01.004 Python[49082:550336] *** Assertion failure in +[NSEvent otherEventWithType:location:modifierFlags:timestamp:windowNumber:context:subtype:data1:data2:], NSEvent.m:647\n",
      "2023-04-21 17:17:01.021 Python[49082:550336] *** Assertion failure in +[NSEvent otherEventWithType:location:modifierFlags:timestamp:windowNumber:context:subtype:data1:data2:], NSEvent.m:647\n",
      "2023-04-21 17:17:01.039 Python[49082:550336] *** Assertion failure in +[NSEvent otherEventWithType:location:modifierFlags:timestamp:windowNumber:context:subtype:data1:data2:], NSEvent.m:647\n"
     ]
    },
    {
     "name": "stdout",
     "output_type": "stream",
     "text": [
      "D"
     ]
    },
    {
     "name": "stderr",
     "output_type": "stream",
     "text": [
      "2023-04-21 17:17:01.056 Python[49082:550336] *** Assertion failure in +[NSEvent otherEventWithType:location:modifierFlags:timestamp:windowNumber:context:subtype:data1:data2:], NSEvent.m:647\n",
      "2023-04-21 17:17:01.072 Python[49082:550336] *** Assertion failure in +[NSEvent otherEventWithType:location:modifierFlags:timestamp:windowNumber:context:subtype:data1:data2:], NSEvent.m:647\n",
      "2023-04-21 17:17:01.089 Python[49082:550336] *** Assertion failure in +[NSEvent otherEventWithType:location:modifierFlags:timestamp:windowNumber:context:subtype:data1:data2:], NSEvent.m:647\n",
      "2023-04-21 17:17:01.107 Python[49082:550336] *** Assertion failure in +[NSEvent otherEventWithType:location:modifierFlags:timestamp:windowNumber:context:subtype:data1:data2:], NSEvent.m:647\n",
      "2023-04-21 17:17:01.126 Python[49082:550336] *** Assertion failure in +[NSEvent otherEventWithType:location:modifierFlags:timestamp:windowNumber:context:subtype:data1:data2:], NSEvent.m:647\n",
      "2023-04-21 17:17:01.144 Python[49082:550336] *** Assertion failure in +[NSEvent otherEventWithType:location:modifierFlags:timestamp:windowNumber:context:subtype:data1:data2:], NSEvent.m:647\n",
      "2023-04-21 17:17:01.162 Python[49082:550336] *** Assertion failure in +[NSEvent otherEventWithType:location:modifierFlags:timestamp:windowNumber:context:subtype:data1:data2:], NSEvent.m:647\n",
      "2023-04-21 17:17:01.181 Python[49082:550336] *** Assertion failure in +[NSEvent otherEventWithType:location:modifierFlags:timestamp:windowNumber:context:subtype:data1:data2:], NSEvent.m:647\n",
      "2023-04-21 17:17:01.199 Python[49082:550336] *** Assertion failure in +[NSEvent otherEventWithType:location:modifierFlags:timestamp:windowNumber:context:subtype:data1:data2:], NSEvent.m:647\n",
      "2023-04-21 17:17:01.217 Python[49082:550336] *** Assertion failure in +[NSEvent otherEventWithType:location:modifierFlags:timestamp:windowNumber:context:subtype:data1:data2:], NSEvent.m:647\n",
      "2023-04-21 17:17:01.235 Python[49082:550336] *** Assertion failure in +[NSEvent otherEventWithType:location:modifierFlags:timestamp:windowNumber:context:subtype:data1:data2:], NSEvent.m:647\n",
      "2023-04-21 17:17:01.254 Python[49082:550336] *** Assertion failure in +[NSEvent otherEventWithType:location:modifierFlags:timestamp:windowNumber:context:subtype:data1:data2:], NSEvent.m:647\n"
     ]
    },
    {
     "name": "stdout",
     "output_type": "stream",
     "text": [
      "DDDHh+\n",
      "DD"
     ]
    },
    {
     "name": "stderr",
     "output_type": "stream",
     "text": [
      "2023-04-21 17:17:01.273 Python[49082:550336] *** Assertion failure in +[NSEvent otherEventWithType:location:modifierFlags:timestamp:windowNumber:context:subtype:data1:data2:], NSEvent.m:647\n",
      "2023-04-21 17:17:01.290 Python[49082:550336] *** Assertion failure in +[NSEvent otherEventWithType:location:modifierFlags:timestamp:windowNumber:context:subtype:data1:data2:], NSEvent.m:647\n",
      "2023-04-21 17:17:01.310 Python[49082:550336] *** Assertion failure in +[NSEvent otherEventWithType:location:modifierFlags:timestamp:windowNumber:context:subtype:data1:data2:], NSEvent.m:647\n",
      "2023-04-21 17:17:01.329 Python[49082:550336] *** Assertion failure in +[NSEvent otherEventWithType:location:modifierFlags:timestamp:windowNumber:context:subtype:data1:data2:], NSEvent.m:647\n",
      "2023-04-21 17:17:01.347 Python[49082:550336] *** Assertion failure in +[NSEvent otherEventWithType:location:modifierFlags:timestamp:windowNumber:context:subtype:data1:data2:], NSEvent.m:647\n",
      "2023-04-21 17:17:01.366 Python[49082:550336] *** Assertion failure in +[NSEvent otherEventWithType:location:modifierFlags:timestamp:windowNumber:context:subtype:data1:data2:], NSEvent.m:647\n",
      "2023-04-21 17:17:01.385 Python[49082:550336] *** Assertion failure in +[NSEvent otherEventWithType:location:modifierFlags:timestamp:windowNumber:context:subtype:data1:data2:], NSEvent.m:647\n",
      "2023-04-21 17:17:01.404 Python[49082:550336] *** Assertion failure in +[NSEvent otherEventWithType:location:modifierFlags:timestamp:windowNumber:context:subtype:data1:data2:], NSEvent.m:647\n",
      "2023-04-21 17:17:01.423 Python[49082:550336] *** Assertion failure in +[NSEvent otherEventWithType:location:modifierFlags:timestamp:windowNumber:context:subtype:data1:data2:], NSEvent.m:647\n",
      "2023-04-21 17:17:01.440 Python[49082:550336] *** Assertion failure in +[NSEvent otherEventWithType:location:modifierFlags:timestamp:windowNumber:context:subtype:data1:data2:], NSEvent.m:647\n",
      "2023-04-21 17:17:01.457 Python[49082:550336] *** Assertion failure in +[NSEvent otherEventWithType:location:modifierFlags:timestamp:windowNumber:context:subtype:data1:data2:], NSEvent.m:647\n"
     ]
    },
    {
     "name": "stdout",
     "output_type": "stream",
     "text": [
      "DDDh+\n",
      "DD"
     ]
    },
    {
     "name": "stderr",
     "output_type": "stream",
     "text": [
      "2023-04-21 17:17:01.482 Python[49082:550336] *** Assertion failure in +[NSEvent otherEventWithType:location:modifierFlags:timestamp:windowNumber:context:subtype:data1:data2:], NSEvent.m:647\n",
      "2023-04-21 17:17:01.497 Python[49082:550336] *** Assertion failure in +[NSEvent otherEventWithType:location:modifierFlags:timestamp:windowNumber:context:subtype:data1:data2:], NSEvent.m:647\n",
      "2023-04-21 17:17:01.512 Python[49082:550336] *** Assertion failure in +[NSEvent otherEventWithType:location:modifierFlags:timestamp:windowNumber:context:subtype:data1:data2:], NSEvent.m:647\n",
      "2023-04-21 17:17:01.532 Python[49082:550336] *** Assertion failure in +[NSEvent otherEventWithType:location:modifierFlags:timestamp:windowNumber:context:subtype:data1:data2:], NSEvent.m:647\n",
      "2023-04-21 17:17:01.550 Python[49082:550336] *** Assertion failure in +[NSEvent otherEventWithType:location:modifierFlags:timestamp:windowNumber:context:subtype:data1:data2:], NSEvent.m:647\n",
      "2023-04-21 17:17:01.570 Python[49082:550336] *** Assertion failure in +[NSEvent otherEventWithType:location:modifierFlags:timestamp:windowNumber:context:subtype:data1:data2:], NSEvent.m:647\n",
      "2023-04-21 17:17:01.588 Python[49082:550336] *** Assertion failure in +[NSEvent otherEventWithType:location:modifierFlags:timestamp:windowNumber:context:subtype:data1:data2:], NSEvent.m:647\n",
      "2023-04-21 17:17:01.607 Python[49082:550336] *** Assertion failure in +[NSEvent otherEventWithType:location:modifierFlags:timestamp:windowNumber:context:subtype:data1:data2:], NSEvent.m:647\n",
      "2023-04-21 17:17:01.626 Python[49082:550336] *** Assertion failure in +[NSEvent otherEventWithType:location:modifierFlags:timestamp:windowNumber:context:subtype:data1:data2:], NSEvent.m:647\n",
      "2023-04-21 17:17:01.645 Python[49082:550336] *** Assertion failure in +[NSEvent otherEventWithType:location:modifierFlags:timestamp:windowNumber:context:subtype:data1:data2:], NSEvent.m:647\n",
      "2023-04-21 17:17:01.663 Python[49082:550336] *** Assertion failure in +[NSEvent otherEventWithType:location:modifierFlags:timestamp:windowNumber:context:subtype:data1:data2:], NSEvent.m:647\n",
      "2023-04-21 17:17:01.680 Python[49082:550336] *** Assertion failure in +[NSEvent otherEventWithType:location:modifierFlags:timestamp:windowNumber:context:subtype:data1:data2:], NSEvent.m:647\n"
     ]
    },
    {
     "name": "stdout",
     "output_type": "stream",
     "text": [
      "DDDDh+\n",
      "D"
     ]
    },
    {
     "name": "stderr",
     "output_type": "stream",
     "text": [
      "2023-04-21 17:17:01.698 Python[49082:550336] *** Assertion failure in +[NSEvent otherEventWithType:location:modifierFlags:timestamp:windowNumber:context:subtype:data1:data2:], NSEvent.m:647\n",
      "2023-04-21 17:17:01.715 Python[49082:550336] *** Assertion failure in +[NSEvent otherEventWithType:location:modifierFlags:timestamp:windowNumber:context:subtype:data1:data2:], NSEvent.m:647\n",
      "2023-04-21 17:17:01.732 Python[49082:550336] *** Assertion failure in +[NSEvent otherEventWithType:location:modifierFlags:timestamp:windowNumber:context:subtype:data1:data2:], NSEvent.m:647\n",
      "2023-04-21 17:17:01.750 Python[49082:550336] *** Assertion failure in +[NSEvent otherEventWithType:location:modifierFlags:timestamp:windowNumber:context:subtype:data1:data2:], NSEvent.m:647\n",
      "2023-04-21 17:17:01.767 Python[49082:550336] *** Assertion failure in +[NSEvent otherEventWithType:location:modifierFlags:timestamp:windowNumber:context:subtype:data1:data2:], NSEvent.m:647\n",
      "2023-04-21 17:17:01.784 Python[49082:550336] *** Assertion failure in +[NSEvent otherEventWithType:location:modifierFlags:timestamp:windowNumber:context:subtype:data1:data2:], NSEvent.m:647\n",
      "2023-04-21 17:17:01.800 Python[49082:550336] *** Assertion failure in +[NSEvent otherEventWithType:location:modifierFlags:timestamp:windowNumber:context:subtype:data1:data2:], NSEvent.m:647\n",
      "2023-04-21 17:17:01.818 Python[49082:550336] *** Assertion failure in +[NSEvent otherEventWithType:location:modifierFlags:timestamp:windowNumber:context:subtype:data1:data2:], NSEvent.m:647\n",
      "2023-04-21 17:17:01.837 Python[49082:550336] *** Assertion failure in +[NSEvent otherEventWithType:location:modifierFlags:timestamp:windowNumber:context:subtype:data1:data2:], NSEvent.m:647\n",
      "2023-04-21 17:17:01.854 Python[49082:550336] *** Assertion failure in +[NSEvent otherEventWithType:location:modifierFlags:timestamp:windowNumber:context:subtype:data1:data2:], NSEvent.m:647\n",
      "2023-04-21 17:17:01.873 Python[49082:550336] *** Assertion failure in +[NSEvent otherEventWithType:location:modifierFlags:timestamp:windowNumber:context:subtype:data1:data2:], NSEvent.m:647\n",
      "2023-04-21 17:17:01.891 Python[49082:550336] *** Assertion failure in +[NSEvent otherEventWithType:location:modifierFlags:timestamp:windowNumber:context:subtype:data1:data2:], NSEvent.m:647\n"
     ]
    },
    {
     "name": "stdout",
     "output_type": "stream",
     "text": [
      "DDDH+\n",
      "Dh+\n",
      "H1840 184 9.149914 201.094780 (samp,blk,s,hz)\n",
      "D"
     ]
    },
    {
     "name": "stderr",
     "output_type": "stream",
     "text": [
      "2023-04-21 17:17:01.908 Python[49082:550336] *** Assertion failure in +[NSEvent otherEventWithType:location:modifierFlags:timestamp:windowNumber:context:subtype:data1:data2:], NSEvent.m:647\n",
      "2023-04-21 17:17:01.925 Python[49082:550336] *** Assertion failure in +[NSEvent otherEventWithType:location:modifierFlags:timestamp:windowNumber:context:subtype:data1:data2:], NSEvent.m:647\n",
      "2023-04-21 17:17:01.948 Python[49082:550336] *** Assertion failure in +[NSEvent otherEventWithType:location:modifierFlags:timestamp:windowNumber:context:subtype:data1:data2:], NSEvent.m:647\n",
      "2023-04-21 17:17:01.969 Python[49082:550336] *** Assertion failure in +[NSEvent otherEventWithType:location:modifierFlags:timestamp:windowNumber:context:subtype:data1:data2:], NSEvent.m:647\n",
      "2023-04-21 17:17:01.988 Python[49082:550336] *** Assertion failure in +[NSEvent otherEventWithType:location:modifierFlags:timestamp:windowNumber:context:subtype:data1:data2:], NSEvent.m:647\n",
      "2023-04-21 17:17:02.007 Python[49082:550336] *** Assertion failure in +[NSEvent otherEventWithType:location:modifierFlags:timestamp:windowNumber:context:subtype:data1:data2:], NSEvent.m:647\n",
      "2023-04-21 17:17:02.026 Python[49082:550336] *** Assertion failure in +[NSEvent otherEventWithType:location:modifierFlags:timestamp:windowNumber:context:subtype:data1:data2:], NSEvent.m:647\n",
      "2023-04-21 17:17:02.044 Python[49082:550336] *** Assertion failure in +[NSEvent otherEventWithType:location:modifierFlags:timestamp:windowNumber:context:subtype:data1:data2:], NSEvent.m:647\n",
      "2023-04-21 17:17:02.062 Python[49082:550336] *** Assertion failure in +[NSEvent otherEventWithType:location:modifierFlags:timestamp:windowNumber:context:subtype:data1:data2:], NSEvent.m:647\n",
      "2023-04-21 17:17:02.081 Python[49082:550336] *** Assertion failure in +[NSEvent otherEventWithType:location:modifierFlags:timestamp:windowNumber:context:subtype:data1:data2:], NSEvent.m:647\n",
      "2023-04-21 17:17:02.098 Python[49082:550336] *** Assertion failure in +[NSEvent otherEventWithType:location:modifierFlags:timestamp:windowNumber:context:subtype:data1:data2:], NSEvent.m:647\n"
     ]
    },
    {
     "name": "stdout",
     "output_type": "stream",
     "text": [
      "DDDDHDh+\n"
     ]
    },
    {
     "name": "stderr",
     "output_type": "stream",
     "text": [
      "2023-04-21 17:17:02.117 Python[49082:550336] *** Assertion failure in +[NSEvent otherEventWithType:location:modifierFlags:timestamp:windowNumber:context:subtype:data1:data2:], NSEvent.m:647\n",
      "2023-04-21 17:17:02.137 Python[49082:550336] *** Assertion failure in +[NSEvent otherEventWithType:location:modifierFlags:timestamp:windowNumber:context:subtype:data1:data2:], NSEvent.m:647\n",
      "2023-04-21 17:17:02.156 Python[49082:550336] *** Assertion failure in +[NSEvent otherEventWithType:location:modifierFlags:timestamp:windowNumber:context:subtype:data1:data2:], NSEvent.m:647\n",
      "2023-04-21 17:17:02.174 Python[49082:550336] *** Assertion failure in +[NSEvent otherEventWithType:location:modifierFlags:timestamp:windowNumber:context:subtype:data1:data2:], NSEvent.m:647\n",
      "2023-04-21 17:17:02.193 Python[49082:550336] *** Assertion failure in +[NSEvent otherEventWithType:location:modifierFlags:timestamp:windowNumber:context:subtype:data1:data2:], NSEvent.m:647\n",
      "2023-04-21 17:17:02.212 Python[49082:550336] *** Assertion failure in +[NSEvent otherEventWithType:location:modifierFlags:timestamp:windowNumber:context:subtype:data1:data2:], NSEvent.m:647\n",
      "2023-04-21 17:17:02.230 Python[49082:550336] *** Assertion failure in +[NSEvent otherEventWithType:location:modifierFlags:timestamp:windowNumber:context:subtype:data1:data2:], NSEvent.m:647\n",
      "2023-04-21 17:17:02.248 Python[49082:550336] *** Assertion failure in +[NSEvent otherEventWithType:location:modifierFlags:timestamp:windowNumber:context:subtype:data1:data2:], NSEvent.m:647\n",
      "2023-04-21 17:17:02.266 Python[49082:550336] *** Assertion failure in +[NSEvent otherEventWithType:location:modifierFlags:timestamp:windowNumber:context:subtype:data1:data2:], NSEvent.m:647\n",
      "2023-04-21 17:17:02.285 Python[49082:550336] *** Assertion failure in +[NSEvent otherEventWithType:location:modifierFlags:timestamp:windowNumber:context:subtype:data1:data2:], NSEvent.m:647\n",
      "2023-04-21 17:17:02.302 Python[49082:550336] *** Assertion failure in +[NSEvent otherEventWithType:location:modifierFlags:timestamp:windowNumber:context:subtype:data1:data2:], NSEvent.m:647\n"
     ]
    },
    {
     "name": "stdout",
     "output_type": "stream",
     "text": [
      "DDD"
     ]
    },
    {
     "name": "stderr",
     "output_type": "stream",
     "text": [
      "2023-04-21 17:17:02.321 Python[49082:550336] *** Assertion failure in +[NSEvent otherEventWithType:location:modifierFlags:timestamp:windowNumber:context:subtype:data1:data2:], NSEvent.m:647\n",
      "2023-04-21 17:17:02.338 Python[49082:550336] *** Assertion failure in +[NSEvent otherEventWithType:location:modifierFlags:timestamp:windowNumber:context:subtype:data1:data2:], NSEvent.m:647\n",
      "2023-04-21 17:17:02.356 Python[49082:550336] *** Assertion failure in +[NSEvent otherEventWithType:location:modifierFlags:timestamp:windowNumber:context:subtype:data1:data2:], NSEvent.m:647\n",
      "2023-04-21 17:17:02.374 Python[49082:550336] *** Assertion failure in +[NSEvent otherEventWithType:location:modifierFlags:timestamp:windowNumber:context:subtype:data1:data2:], NSEvent.m:647\n",
      "2023-04-21 17:17:02.392 Python[49082:550336] *** Assertion failure in +[NSEvent otherEventWithType:location:modifierFlags:timestamp:windowNumber:context:subtype:data1:data2:], NSEvent.m:647\n",
      "2023-04-21 17:17:02.416 Python[49082:550336] *** Assertion failure in +[NSEvent otherEventWithType:location:modifierFlags:timestamp:windowNumber:context:subtype:data1:data2:], NSEvent.m:647\n",
      "2023-04-21 17:17:02.433 Python[49082:550336] *** Assertion failure in +[NSEvent otherEventWithType:location:modifierFlags:timestamp:windowNumber:context:subtype:data1:data2:], NSEvent.m:647\n",
      "2023-04-21 17:17:02.447 Python[49082:550336] *** Assertion failure in +[NSEvent otherEventWithType:location:modifierFlags:timestamp:windowNumber:context:subtype:data1:data2:], NSEvent.m:647\n",
      "2023-04-21 17:17:02.463 Python[49082:550336] *** Assertion failure in +[NSEvent otherEventWithType:location:modifierFlags:timestamp:windowNumber:context:subtype:data1:data2:], NSEvent.m:647\n",
      "2023-04-21 17:17:02.484 Python[49082:550336] *** Assertion failure in +[NSEvent otherEventWithType:location:modifierFlags:timestamp:windowNumber:context:subtype:data1:data2:], NSEvent.m:647\n",
      "2023-04-21 17:17:02.502 Python[49082:550336] *** Assertion failure in +[NSEvent otherEventWithType:location:modifierFlags:timestamp:windowNumber:context:subtype:data1:data2:], NSEvent.m:647\n",
      "2023-04-21 17:17:02.521 Python[49082:550336] *** Assertion failure in +[NSEvent otherEventWithType:location:modifierFlags:timestamp:windowNumber:context:subtype:data1:data2:], NSEvent.m:647\n"
     ]
    },
    {
     "name": "stdout",
     "output_type": "stream",
     "text": [
      "DDh+\n",
      "DDD"
     ]
    },
    {
     "name": "stderr",
     "output_type": "stream",
     "text": [
      "2023-04-21 17:17:02.540 Python[49082:550336] *** Assertion failure in +[NSEvent otherEventWithType:location:modifierFlags:timestamp:windowNumber:context:subtype:data1:data2:], NSEvent.m:647\n",
      "2023-04-21 17:17:02.558 Python[49082:550336] *** Assertion failure in +[NSEvent otherEventWithType:location:modifierFlags:timestamp:windowNumber:context:subtype:data1:data2:], NSEvent.m:647\n",
      "2023-04-21 17:17:02.575 Python[49082:550336] *** Assertion failure in +[NSEvent otherEventWithType:location:modifierFlags:timestamp:windowNumber:context:subtype:data1:data2:], NSEvent.m:647\n",
      "2023-04-21 17:17:02.593 Python[49082:550336] *** Assertion failure in +[NSEvent otherEventWithType:location:modifierFlags:timestamp:windowNumber:context:subtype:data1:data2:], NSEvent.m:647\n",
      "2023-04-21 17:17:02.614 Python[49082:550336] *** Assertion failure in +[NSEvent otherEventWithType:location:modifierFlags:timestamp:windowNumber:context:subtype:data1:data2:], NSEvent.m:647\n",
      "2023-04-21 17:17:02.633 Python[49082:550336] *** Assertion failure in +[NSEvent otherEventWithType:location:modifierFlags:timestamp:windowNumber:context:subtype:data1:data2:], NSEvent.m:647\n",
      "2023-04-21 17:17:02.652 Python[49082:550336] *** Assertion failure in +[NSEvent otherEventWithType:location:modifierFlags:timestamp:windowNumber:context:subtype:data1:data2:], NSEvent.m:647\n",
      "2023-04-21 17:17:02.673 Python[49082:550336] *** Assertion failure in +[NSEvent otherEventWithType:location:modifierFlags:timestamp:windowNumber:context:subtype:data1:data2:], NSEvent.m:647\n",
      "2023-04-21 17:17:02.694 Python[49082:550336] *** Assertion failure in +[NSEvent otherEventWithType:location:modifierFlags:timestamp:windowNumber:context:subtype:data1:data2:], NSEvent.m:647\n",
      "2023-04-21 17:17:02.715 Python[49082:550336] *** Assertion failure in +[NSEvent otherEventWithType:location:modifierFlags:timestamp:windowNumber:context:subtype:data1:data2:], NSEvent.m:647\n",
      "2023-04-21 17:17:02.734 Python[49082:550336] *** Assertion failure in +[NSEvent otherEventWithType:location:modifierFlags:timestamp:windowNumber:context:subtype:data1:data2:], NSEvent.m:647\n"
     ]
    },
    {
     "name": "stdout",
     "output_type": "stream",
     "text": [
      "DD"
     ]
    },
    {
     "name": "stderr",
     "output_type": "stream",
     "text": [
      "2023-04-21 17:17:02.751 Python[49082:550336] *** Assertion failure in +[NSEvent otherEventWithType:location:modifierFlags:timestamp:windowNumber:context:subtype:data1:data2:], NSEvent.m:647\n",
      "2023-04-21 17:17:02.769 Python[49082:550336] *** Assertion failure in +[NSEvent otherEventWithType:location:modifierFlags:timestamp:windowNumber:context:subtype:data1:data2:], NSEvent.m:647\n",
      "2023-04-21 17:17:02.788 Python[49082:550336] *** Assertion failure in +[NSEvent otherEventWithType:location:modifierFlags:timestamp:windowNumber:context:subtype:data1:data2:], NSEvent.m:647\n",
      "2023-04-21 17:17:02.806 Python[49082:550336] *** Assertion failure in +[NSEvent otherEventWithType:location:modifierFlags:timestamp:windowNumber:context:subtype:data1:data2:], NSEvent.m:647\n",
      "2023-04-21 17:17:02.825 Python[49082:550336] *** Assertion failure in +[NSEvent otherEventWithType:location:modifierFlags:timestamp:windowNumber:context:subtype:data1:data2:], NSEvent.m:647\n",
      "2023-04-21 17:17:02.843 Python[49082:550336] *** Assertion failure in +[NSEvent otherEventWithType:location:modifierFlags:timestamp:windowNumber:context:subtype:data1:data2:], NSEvent.m:647\n",
      "2023-04-21 17:17:02.860 Python[49082:550336] *** Assertion failure in +[NSEvent otherEventWithType:location:modifierFlags:timestamp:windowNumber:context:subtype:data1:data2:], NSEvent.m:647\n",
      "2023-04-21 17:17:02.878 Python[49082:550336] *** Assertion failure in +[NSEvent otherEventWithType:location:modifierFlags:timestamp:windowNumber:context:subtype:data1:data2:], NSEvent.m:647\n",
      "2023-04-21 17:17:02.897 Python[49082:550336] *** Assertion failure in +[NSEvent otherEventWithType:location:modifierFlags:timestamp:windowNumber:context:subtype:data1:data2:], NSEvent.m:647\n",
      "2023-04-21 17:17:02.918 Python[49082:550336] *** Assertion failure in +[NSEvent otherEventWithType:location:modifierFlags:timestamp:windowNumber:context:subtype:data1:data2:], NSEvent.m:647\n",
      "2023-04-21 17:17:02.938 Python[49082:550336] *** Assertion failure in +[NSEvent otherEventWithType:location:modifierFlags:timestamp:windowNumber:context:subtype:data1:data2:], NSEvent.m:647\n"
     ]
    },
    {
     "name": "stdout",
     "output_type": "stream",
     "text": [
      "Dh+\n",
      "DDQH+\n",
      "QQDD"
     ]
    },
    {
     "name": "stderr",
     "output_type": "stream",
     "text": [
      "2023-04-21 17:17:02.958 Python[49082:550336] *** Assertion failure in +[NSEvent otherEventWithType:location:modifierFlags:timestamp:windowNumber:context:subtype:data1:data2:], NSEvent.m:647\n",
      "2023-04-21 17:17:02.976 Python[49082:550336] *** Assertion failure in +[NSEvent otherEventWithType:location:modifierFlags:timestamp:windowNumber:context:subtype:data1:data2:], NSEvent.m:647\n",
      "2023-04-21 17:17:02.994 Python[49082:550336] *** Assertion failure in +[NSEvent otherEventWithType:location:modifierFlags:timestamp:windowNumber:context:subtype:data1:data2:], NSEvent.m:647\n",
      "2023-04-21 17:17:03.010 Python[49082:550336] *** Assertion failure in +[NSEvent otherEventWithType:location:modifierFlags:timestamp:windowNumber:context:subtype:data1:data2:], NSEvent.m:647\n",
      "2023-04-21 17:17:03.025 Python[49082:550336] *** Assertion failure in +[NSEvent otherEventWithType:location:modifierFlags:timestamp:windowNumber:context:subtype:data1:data2:], NSEvent.m:647\n",
      "2023-04-21 17:17:03.040 Python[49082:550336] *** Assertion failure in +[NSEvent otherEventWithType:location:modifierFlags:timestamp:windowNumber:context:subtype:data1:data2:], NSEvent.m:647\n",
      "2023-04-21 17:17:03.054 Python[49082:550336] *** Assertion failure in +[NSEvent otherEventWithType:location:modifierFlags:timestamp:windowNumber:context:subtype:data1:data2:], NSEvent.m:647\n",
      "2023-04-21 17:17:03.070 Python[49082:550336] *** Assertion failure in +[NSEvent otherEventWithType:location:modifierFlags:timestamp:windowNumber:context:subtype:data1:data2:], NSEvent.m:647\n",
      "2023-04-21 17:17:03.086 Python[49082:550336] *** Assertion failure in +[NSEvent otherEventWithType:location:modifierFlags:timestamp:windowNumber:context:subtype:data1:data2:], NSEvent.m:647\n",
      "2023-04-21 17:17:03.101 Python[49082:550336] *** Assertion failure in +[NSEvent otherEventWithType:location:modifierFlags:timestamp:windowNumber:context:subtype:data1:data2:], NSEvent.m:647\n",
      "2023-04-21 17:17:03.116 Python[49082:550336] *** Assertion failure in +[NSEvent otherEventWithType:location:modifierFlags:timestamp:windowNumber:context:subtype:data1:data2:], NSEvent.m:647\n",
      "2023-04-21 17:17:03.131 Python[49082:550336] *** Assertion failure in +[NSEvent otherEventWithType:location:modifierFlags:timestamp:windowNumber:context:subtype:data1:data2:], NSEvent.m:647\n",
      "2023-04-21 17:17:03.148 Python[49082:550336] *** Assertion failure in +[NSEvent otherEventWithType:location:modifierFlags:timestamp:windowNumber:context:subtype:data1:data2:], NSEvent.m:647\n"
     ]
    },
    {
     "name": "stdout",
     "output_type": "stream",
     "text": [
      "geting some initial data to setup the ring buffer\n",
      "Estimated sample rate 610 samp in 3.0 s =200.0\n",
      "resample: 200.0->100.0hz rsrate=2.0\n",
      "Estimated pre-processed sample rate=100.0\n",
      "resample: 200.0->100.0hz rsrate=2.0\n",
      "SigQ:\n",
      "raw_power=([0.7124011 1.0873622 1.4740822 0.6073011]/10)\n",
      "pp_power=([0.01272032 0.09911434 0.07599939 0.00859744]/5)\n",
      "noise2sig=[55.00497473  9.97078523 18.39597395 69.63747585]\n",
      "SigQ:\n",
      "raw_power=([0.9480347 1.064054  1.0184731 0.9755628]/10)\n",
      "pp_power=([0.40167662 0.38857599 0.45592066 0.5003021 ]/5)\n",
      "noise2sig=[1.3601939  1.73834217 1.2338824  0.94994747]\n",
      "SigQ:\n",
      "raw_power=([0.9942774 1.0290264 0.9765063 1.0043101]/10)\n",
      "pp_power=([0.45043633 0.46822811 0.49774167 0.42641486]/5)\n",
      "noise2sig=[1.20736506 1.19770313 0.9618737  1.35524186]\n",
      "clsfr=MultiCCA(evtlabs=['re', 'fe'], tau=45)\n",
      ".HDHDQDDh+\n",
      "SigQ:\n",
      "raw_power=([0.9901753 1.0394572 1.0379094 1.0815556]/10)\n",
      "pp_power=([0.44996124 0.40148094 0.4414943  0.40330646]/5)\n",
      "noise2sig=[1.20057911 1.58905743 1.35090102 1.68172149]\n",
      "..DDDDH..D"
     ]
    },
    {
     "name": "stderr",
     "output_type": "stream",
     "text": [
      "2023-04-21 17:17:03.164 Python[49082:550336] *** Assertion failure in +[NSEvent otherEventWithType:location:modifierFlags:timestamp:windowNumber:context:subtype:data1:data2:], NSEvent.m:647\n",
      "2023-04-21 17:17:03.182 Python[49082:550336] *** Assertion failure in +[NSEvent otherEventWithType:location:modifierFlags:timestamp:windowNumber:context:subtype:data1:data2:], NSEvent.m:647\n",
      "2023-04-21 17:17:03.198 Python[49082:550336] *** Assertion failure in +[NSEvent otherEventWithType:location:modifierFlags:timestamp:windowNumber:context:subtype:data1:data2:], NSEvent.m:647\n",
      "2023-04-21 17:17:03.216 Python[49082:550336] *** Assertion failure in +[NSEvent otherEventWithType:location:modifierFlags:timestamp:windowNumber:context:subtype:data1:data2:], NSEvent.m:647\n",
      "2023-04-21 17:17:03.233 Python[49082:550336] *** Assertion failure in +[NSEvent otherEventWithType:location:modifierFlags:timestamp:windowNumber:context:subtype:data1:data2:], NSEvent.m:647\n",
      "2023-04-21 17:17:03.250 Python[49082:550336] *** Assertion failure in +[NSEvent otherEventWithType:location:modifierFlags:timestamp:windowNumber:context:subtype:data1:data2:], NSEvent.m:647\n",
      "2023-04-21 17:17:03.267 Python[49082:550336] *** Assertion failure in +[NSEvent otherEventWithType:location:modifierFlags:timestamp:windowNumber:context:subtype:data1:data2:], NSEvent.m:647\n",
      "2023-04-21 17:17:03.285 Python[49082:550336] *** Assertion failure in +[NSEvent otherEventWithType:location:modifierFlags:timestamp:windowNumber:context:subtype:data1:data2:], NSEvent.m:647\n",
      "2023-04-21 17:17:03.302 Python[49082:550336] *** Assertion failure in +[NSEvent otherEventWithType:location:modifierFlags:timestamp:windowNumber:context:subtype:data1:data2:], NSEvent.m:647\n",
      "2023-04-21 17:17:03.319 Python[49082:550336] *** Assertion failure in +[NSEvent otherEventWithType:location:modifierFlags:timestamp:windowNumber:context:subtype:data1:data2:], NSEvent.m:647\n",
      "2023-04-21 17:17:03.337 Python[49082:550336] *** Assertion failure in +[NSEvent otherEventWithType:location:modifierFlags:timestamp:windowNumber:context:subtype:data1:data2:], NSEvent.m:647\n",
      "2023-04-21 17:17:03.354 Python[49082:550336] *** Assertion failure in +[NSEvent otherEventWithType:location:modifierFlags:timestamp:windowNumber:context:subtype:data1:data2:], NSEvent.m:647\n"
     ]
    },
    {
     "name": "stdout",
     "output_type": "stream",
     "text": [
      "DHD.DD.DD.DDh+\n",
      "..D"
     ]
    },
    {
     "name": "stderr",
     "output_type": "stream",
     "text": [
      "2023-04-21 17:17:03.372 Python[49082:550336] *** Assertion failure in +[NSEvent otherEventWithType:location:modifierFlags:timestamp:windowNumber:context:subtype:data1:data2:], NSEvent.m:647\n",
      "2023-04-21 17:17:03.389 Python[49082:550336] *** Assertion failure in +[NSEvent otherEventWithType:location:modifierFlags:timestamp:windowNumber:context:subtype:data1:data2:], NSEvent.m:647\n",
      "2023-04-21 17:17:03.407 Python[49082:550336] *** Assertion failure in +[NSEvent otherEventWithType:location:modifierFlags:timestamp:windowNumber:context:subtype:data1:data2:], NSEvent.m:647\n",
      "2023-04-21 17:17:03.424 Python[49082:550336] *** Assertion failure in +[NSEvent otherEventWithType:location:modifierFlags:timestamp:windowNumber:context:subtype:data1:data2:], NSEvent.m:647\n",
      "2023-04-21 17:17:03.443 Python[49082:550336] *** Assertion failure in +[NSEvent otherEventWithType:location:modifierFlags:timestamp:windowNumber:context:subtype:data1:data2:], NSEvent.m:647\n",
      "2023-04-21 17:17:03.462 Python[49082:550336] *** Assertion failure in +[NSEvent otherEventWithType:location:modifierFlags:timestamp:windowNumber:context:subtype:data1:data2:], NSEvent.m:647\n",
      "2023-04-21 17:17:03.481 Python[49082:550336] *** Assertion failure in +[NSEvent otherEventWithType:location:modifierFlags:timestamp:windowNumber:context:subtype:data1:data2:], NSEvent.m:647\n",
      "2023-04-21 17:17:03.500 Python[49082:550336] *** Assertion failure in +[NSEvent otherEventWithType:location:modifierFlags:timestamp:windowNumber:context:subtype:data1:data2:], NSEvent.m:647\n",
      "2023-04-21 17:17:03.518 Python[49082:550336] *** Assertion failure in +[NSEvent otherEventWithType:location:modifierFlags:timestamp:windowNumber:context:subtype:data1:data2:], NSEvent.m:647\n",
      "2023-04-21 17:17:03.537 Python[49082:550336] *** Assertion failure in +[NSEvent otherEventWithType:location:modifierFlags:timestamp:windowNumber:context:subtype:data1:data2:], NSEvent.m:647\n",
      "2023-04-21 17:17:03.556 Python[49082:550336] *** Assertion failure in +[NSEvent otherEventWithType:location:modifierFlags:timestamp:windowNumber:context:subtype:data1:data2:], NSEvent.m:647\n"
     ]
    },
    {
     "name": "stdout",
     "output_type": "stream",
     "text": [
      "D.DD.DD.DD.DD.D"
     ]
    },
    {
     "name": "stderr",
     "output_type": "stream",
     "text": [
      "2023-04-21 17:17:03.574 Python[49082:550336] *** Assertion failure in +[NSEvent otherEventWithType:location:modifierFlags:timestamp:windowNumber:context:subtype:data1:data2:], NSEvent.m:647\n",
      "2023-04-21 17:17:03.592 Python[49082:550336] *** Assertion failure in +[NSEvent otherEventWithType:location:modifierFlags:timestamp:windowNumber:context:subtype:data1:data2:], NSEvent.m:647\n",
      "2023-04-21 17:17:03.611 Python[49082:550336] *** Assertion failure in +[NSEvent otherEventWithType:location:modifierFlags:timestamp:windowNumber:context:subtype:data1:data2:], NSEvent.m:647\n",
      "2023-04-21 17:17:03.629 Python[49082:550336] *** Assertion failure in +[NSEvent otherEventWithType:location:modifierFlags:timestamp:windowNumber:context:subtype:data1:data2:], NSEvent.m:647\n",
      "2023-04-21 17:17:03.648 Python[49082:550336] *** Assertion failure in +[NSEvent otherEventWithType:location:modifierFlags:timestamp:windowNumber:context:subtype:data1:data2:], NSEvent.m:647\n",
      "2023-04-21 17:17:03.665 Python[49082:550336] *** Assertion failure in +[NSEvent otherEventWithType:location:modifierFlags:timestamp:windowNumber:context:subtype:data1:data2:], NSEvent.m:647\n",
      "2023-04-21 17:17:03.683 Python[49082:550336] *** Assertion failure in +[NSEvent otherEventWithType:location:modifierFlags:timestamp:windowNumber:context:subtype:data1:data2:], NSEvent.m:647\n",
      "2023-04-21 17:17:03.702 Python[49082:550336] *** Assertion failure in +[NSEvent otherEventWithType:location:modifierFlags:timestamp:windowNumber:context:subtype:data1:data2:], NSEvent.m:647\n",
      "2023-04-21 17:17:03.721 Python[49082:550336] *** Assertion failure in +[NSEvent otherEventWithType:location:modifierFlags:timestamp:windowNumber:context:subtype:data1:data2:], NSEvent.m:647\n",
      "2023-04-21 17:17:03.740 Python[49082:550336] *** Assertion failure in +[NSEvent otherEventWithType:location:modifierFlags:timestamp:windowNumber:context:subtype:data1:data2:], NSEvent.m:647\n",
      "2023-04-21 17:17:03.759 Python[49082:550336] *** Assertion failure in +[NSEvent otherEventWithType:location:modifierFlags:timestamp:windowNumber:context:subtype:data1:data2:], NSEvent.m:647\n",
      "2023-04-21 17:17:03.776 Python[49082:550336] *** Assertion failure in +[NSEvent otherEventWithType:location:modifierFlags:timestamp:windowNumber:context:subtype:data1:data2:], NSEvent.m:647\n"
     ]
    },
    {
     "name": "stdout",
     "output_type": "stream",
     "text": [
      "Dh+\n",
      "..DD.DD..DD.DD"
     ]
    },
    {
     "name": "stderr",
     "output_type": "stream",
     "text": [
      "2023-04-21 17:17:03.794 Python[49082:550336] *** Assertion failure in +[NSEvent otherEventWithType:location:modifierFlags:timestamp:windowNumber:context:subtype:data1:data2:], NSEvent.m:647\n",
      "2023-04-21 17:17:03.811 Python[49082:550336] *** Assertion failure in +[NSEvent otherEventWithType:location:modifierFlags:timestamp:windowNumber:context:subtype:data1:data2:], NSEvent.m:647\n",
      "2023-04-21 17:17:03.830 Python[49082:550336] *** Assertion failure in +[NSEvent otherEventWithType:location:modifierFlags:timestamp:windowNumber:context:subtype:data1:data2:], NSEvent.m:647\n",
      "2023-04-21 17:17:03.848 Python[49082:550336] *** Assertion failure in +[NSEvent otherEventWithType:location:modifierFlags:timestamp:windowNumber:context:subtype:data1:data2:], NSEvent.m:647\n",
      "2023-04-21 17:17:03.866 Python[49082:550336] *** Assertion failure in +[NSEvent otherEventWithType:location:modifierFlags:timestamp:windowNumber:context:subtype:data1:data2:], NSEvent.m:647\n",
      "2023-04-21 17:17:03.884 Python[49082:550336] *** Assertion failure in +[NSEvent otherEventWithType:location:modifierFlags:timestamp:windowNumber:context:subtype:data1:data2:], NSEvent.m:647\n",
      "2023-04-21 17:17:03.902 Python[49082:550336] *** Assertion failure in +[NSEvent otherEventWithType:location:modifierFlags:timestamp:windowNumber:context:subtype:data1:data2:], NSEvent.m:647\n",
      "2023-04-21 17:17:03.919 Python[49082:550336] *** Assertion failure in +[NSEvent otherEventWithType:location:modifierFlags:timestamp:windowNumber:context:subtype:data1:data2:], NSEvent.m:647\n",
      "2023-04-21 17:17:03.937 Python[49082:550336] *** Assertion failure in +[NSEvent otherEventWithType:location:modifierFlags:timestamp:windowNumber:context:subtype:data1:data2:], NSEvent.m:647\n",
      "2023-04-21 17:17:03.956 Python[49082:550336] *** Assertion failure in +[NSEvent otherEventWithType:location:modifierFlags:timestamp:windowNumber:context:subtype:data1:data2:], NSEvent.m:647\n",
      "2023-04-21 17:17:03.973 Python[49082:550336] *** Assertion failure in +[NSEvent otherEventWithType:location:modifierFlags:timestamp:windowNumber:context:subtype:data1:data2:], NSEvent.m:647\n",
      "2023-04-21 17:17:03.991 Python[49082:550336] *** Assertion failure in +[NSEvent otherEventWithType:location:modifierFlags:timestamp:windowNumber:context:subtype:data1:data2:], NSEvent.m:647\n"
     ]
    },
    {
     "name": "stdout",
     "output_type": "stream",
     "text": [
      "..DDH+\n",
      ".D.HDh+\n",
      "..DHD.DQDSigQ:\n",
      "raw_power=([1.0147586  0.95809484 1.0086014  1.0209943 ]/10)\n",
      "pp_power=([0.48403499 0.40064297 0.43988096 0.4202333 ]/5)\n",
      "noise2sig=[1.09645709 1.3913931  1.29289632 1.42958925]\n",
      "..D"
     ]
    },
    {
     "name": "stderr",
     "output_type": "stream",
     "text": [
      "2023-04-21 17:17:04.009 Python[49082:550336] *** Assertion failure in +[NSEvent otherEventWithType:location:modifierFlags:timestamp:windowNumber:context:subtype:data1:data2:], NSEvent.m:647\n",
      "2023-04-21 17:17:04.026 Python[49082:550336] *** Assertion failure in +[NSEvent otherEventWithType:location:modifierFlags:timestamp:windowNumber:context:subtype:data1:data2:], NSEvent.m:647\n",
      "2023-04-21 17:17:04.045 Python[49082:550336] *** Assertion failure in +[NSEvent otherEventWithType:location:modifierFlags:timestamp:windowNumber:context:subtype:data1:data2:], NSEvent.m:647\n",
      "2023-04-21 17:17:04.064 Python[49082:550336] *** Assertion failure in +[NSEvent otherEventWithType:location:modifierFlags:timestamp:windowNumber:context:subtype:data1:data2:], NSEvent.m:647\n",
      "2023-04-21 17:17:04.082 Python[49082:550336] *** Assertion failure in +[NSEvent otherEventWithType:location:modifierFlags:timestamp:windowNumber:context:subtype:data1:data2:], NSEvent.m:647\n",
      "2023-04-21 17:17:04.100 Python[49082:550336] *** Assertion failure in +[NSEvent otherEventWithType:location:modifierFlags:timestamp:windowNumber:context:subtype:data1:data2:], NSEvent.m:647\n",
      "2023-04-21 17:17:04.119 Python[49082:550336] *** Assertion failure in +[NSEvent otherEventWithType:location:modifierFlags:timestamp:windowNumber:context:subtype:data1:data2:], NSEvent.m:647\n",
      "2023-04-21 17:17:04.137 Python[49082:550336] *** Assertion failure in +[NSEvent otherEventWithType:location:modifierFlags:timestamp:windowNumber:context:subtype:data1:data2:], NSEvent.m:647\n",
      "2023-04-21 17:17:04.156 Python[49082:550336] *** Assertion failure in +[NSEvent otherEventWithType:location:modifierFlags:timestamp:windowNumber:context:subtype:data1:data2:], NSEvent.m:647\n",
      "2023-04-21 17:17:04.173 Python[49082:550336] *** Assertion failure in +[NSEvent otherEventWithType:location:modifierFlags:timestamp:windowNumber:context:subtype:data1:data2:], NSEvent.m:647\n",
      "2023-04-21 17:17:04.190 Python[49082:550336] *** Assertion failure in +[NSEvent otherEventWithType:location:modifierFlags:timestamp:windowNumber:context:subtype:data1:data2:], NSEvent.m:647\n",
      "2023-04-21 17:17:04.207 Python[49082:550336] *** Assertion failure in +[NSEvent otherEventWithType:location:modifierFlags:timestamp:windowNumber:context:subtype:data1:data2:], NSEvent.m:647\n"
     ]
    },
    {
     "name": "stdout",
     "output_type": "stream",
     "text": [
      "D.DD..DDH.D.HDh+\n",
      ".DD.D"
     ]
    },
    {
     "name": "stderr",
     "output_type": "stream",
     "text": [
      "2023-04-21 17:17:04.225 Python[49082:550336] *** Assertion failure in +[NSEvent otherEventWithType:location:modifierFlags:timestamp:windowNumber:context:subtype:data1:data2:], NSEvent.m:647\n",
      "2023-04-21 17:17:04.242 Python[49082:550336] *** Assertion failure in +[NSEvent otherEventWithType:location:modifierFlags:timestamp:windowNumber:context:subtype:data1:data2:], NSEvent.m:647\n",
      "2023-04-21 17:17:04.260 Python[49082:550336] *** Assertion failure in +[NSEvent otherEventWithType:location:modifierFlags:timestamp:windowNumber:context:subtype:data1:data2:], NSEvent.m:647\n",
      "2023-04-21 17:17:04.277 Python[49082:550336] *** Assertion failure in +[NSEvent otherEventWithType:location:modifierFlags:timestamp:windowNumber:context:subtype:data1:data2:], NSEvent.m:647\n",
      "2023-04-21 17:17:04.294 Python[49082:550336] *** Assertion failure in +[NSEvent otherEventWithType:location:modifierFlags:timestamp:windowNumber:context:subtype:data1:data2:], NSEvent.m:647\n",
      "2023-04-21 17:17:04.310 Python[49082:550336] *** Assertion failure in +[NSEvent otherEventWithType:location:modifierFlags:timestamp:windowNumber:context:subtype:data1:data2:], NSEvent.m:647\n",
      "2023-04-21 17:17:04.328 Python[49082:550336] *** Assertion failure in +[NSEvent otherEventWithType:location:modifierFlags:timestamp:windowNumber:context:subtype:data1:data2:], NSEvent.m:647\n",
      "2023-04-21 17:17:04.345 Python[49082:550336] *** Assertion failure in +[NSEvent otherEventWithType:location:modifierFlags:timestamp:windowNumber:context:subtype:data1:data2:], NSEvent.m:647\n",
      "2023-04-21 17:17:04.362 Python[49082:550336] *** Assertion failure in +[NSEvent otherEventWithType:location:modifierFlags:timestamp:windowNumber:context:subtype:data1:data2:], NSEvent.m:647\n",
      "2023-04-21 17:17:04.380 Python[49082:550336] *** Assertion failure in +[NSEvent otherEventWithType:location:modifierFlags:timestamp:windowNumber:context:subtype:data1:data2:], NSEvent.m:647\n",
      "2023-04-21 17:17:04.398 Python[49082:550336] *** Assertion failure in +[NSEvent otherEventWithType:location:modifierFlags:timestamp:windowNumber:context:subtype:data1:data2:], NSEvent.m:647\n",
      "2023-04-21 17:17:04.416 Python[49082:550336] *** Assertion failure in +[NSEvent otherEventWithType:location:modifierFlags:timestamp:windowNumber:context:subtype:data1:data2:], NSEvent.m:647\n"
     ]
    },
    {
     "name": "stdout",
     "output_type": "stream",
     "text": [
      "D..DD.D"
     ]
    },
    {
     "name": "stderr",
     "output_type": "stream",
     "text": [
      "2023-04-21 17:17:04.434 Python[49082:550336] *** Assertion failure in +[NSEvent otherEventWithType:location:modifierFlags:timestamp:windowNumber:context:subtype:data1:data2:], NSEvent.m:647\n",
      "2023-04-21 17:17:04.450 Python[49082:550336] *** Assertion failure in +[NSEvent otherEventWithType:location:modifierFlags:timestamp:windowNumber:context:subtype:data1:data2:], NSEvent.m:647\n",
      "2023-04-21 17:17:04.468 Python[49082:550336] *** Assertion failure in +[NSEvent otherEventWithType:location:modifierFlags:timestamp:windowNumber:context:subtype:data1:data2:], NSEvent.m:647\n",
      "2023-04-21 17:17:04.485 Python[49082:550336] *** Assertion failure in +[NSEvent otherEventWithType:location:modifierFlags:timestamp:windowNumber:context:subtype:data1:data2:], NSEvent.m:647\n",
      "2023-04-21 17:17:04.502 Python[49082:550336] *** Assertion failure in +[NSEvent otherEventWithType:location:modifierFlags:timestamp:windowNumber:context:subtype:data1:data2:], NSEvent.m:647\n",
      "2023-04-21 17:17:04.520 Python[49082:550336] *** Assertion failure in +[NSEvent otherEventWithType:location:modifierFlags:timestamp:windowNumber:context:subtype:data1:data2:], NSEvent.m:647\n",
      "2023-04-21 17:17:04.537 Python[49082:550336] *** Assertion failure in +[NSEvent otherEventWithType:location:modifierFlags:timestamp:windowNumber:context:subtype:data1:data2:], NSEvent.m:647\n",
      "2023-04-21 17:17:04.554 Python[49082:550336] *** Assertion failure in +[NSEvent otherEventWithType:location:modifierFlags:timestamp:windowNumber:context:subtype:data1:data2:], NSEvent.m:647\n",
      "2023-04-21 17:17:04.571 Python[49082:550336] *** Assertion failure in +[NSEvent otherEventWithType:location:modifierFlags:timestamp:windowNumber:context:subtype:data1:data2:], NSEvent.m:647\n",
      "2023-04-21 17:17:04.587 Python[49082:550336] *** Assertion failure in +[NSEvent otherEventWithType:location:modifierFlags:timestamp:windowNumber:context:subtype:data1:data2:], NSEvent.m:647\n",
      "2023-04-21 17:17:04.604 Python[49082:550336] *** Assertion failure in +[NSEvent otherEventWithType:location:modifierFlags:timestamp:windowNumber:context:subtype:data1:data2:], NSEvent.m:647\n",
      "2023-04-21 17:17:04.623 Python[49082:550336] *** Assertion failure in +[NSEvent otherEventWithType:location:modifierFlags:timestamp:windowNumber:context:subtype:data1:data2:], NSEvent.m:647\n"
     ]
    },
    {
     "name": "stdout",
     "output_type": "stream",
     "text": [
      "D..DD.DDh+\n",
      "..DD.DD"
     ]
    },
    {
     "name": "stderr",
     "output_type": "stream",
     "text": [
      "2023-04-21 17:17:04.641 Python[49082:550336] *** Assertion failure in +[NSEvent otherEventWithType:location:modifierFlags:timestamp:windowNumber:context:subtype:data1:data2:], NSEvent.m:647\n",
      "2023-04-21 17:17:04.658 Python[49082:550336] *** Assertion failure in +[NSEvent otherEventWithType:location:modifierFlags:timestamp:windowNumber:context:subtype:data1:data2:], NSEvent.m:647\n",
      "2023-04-21 17:17:04.676 Python[49082:550336] *** Assertion failure in +[NSEvent otherEventWithType:location:modifierFlags:timestamp:windowNumber:context:subtype:data1:data2:], NSEvent.m:647\n",
      "2023-04-21 17:17:04.694 Python[49082:550336] *** Assertion failure in +[NSEvent otherEventWithType:location:modifierFlags:timestamp:windowNumber:context:subtype:data1:data2:], NSEvent.m:647\n",
      "2023-04-21 17:17:04.712 Python[49082:550336] *** Assertion failure in +[NSEvent otherEventWithType:location:modifierFlags:timestamp:windowNumber:context:subtype:data1:data2:], NSEvent.m:647\n",
      "2023-04-21 17:17:04.729 Python[49082:550336] *** Assertion failure in +[NSEvent otherEventWithType:location:modifierFlags:timestamp:windowNumber:context:subtype:data1:data2:], NSEvent.m:647\n",
      "2023-04-21 17:17:04.746 Python[49082:550336] *** Assertion failure in +[NSEvent otherEventWithType:location:modifierFlags:timestamp:windowNumber:context:subtype:data1:data2:], NSEvent.m:647\n",
      "2023-04-21 17:17:04.763 Python[49082:550336] *** Assertion failure in +[NSEvent otherEventWithType:location:modifierFlags:timestamp:windowNumber:context:subtype:data1:data2:], NSEvent.m:647\n",
      "2023-04-21 17:17:04.780 Python[49082:550336] *** Assertion failure in +[NSEvent otherEventWithType:location:modifierFlags:timestamp:windowNumber:context:subtype:data1:data2:], NSEvent.m:647\n",
      "2023-04-21 17:17:04.797 Python[49082:550336] *** Assertion failure in +[NSEvent otherEventWithType:location:modifierFlags:timestamp:windowNumber:context:subtype:data1:data2:], NSEvent.m:647\n",
      "2023-04-21 17:17:04.815 Python[49082:550336] *** Assertion failure in +[NSEvent otherEventWithType:location:modifierFlags:timestamp:windowNumber:context:subtype:data1:data2:], NSEvent.m:647\n",
      "2023-04-21 17:17:04.833 Python[49082:550336] *** Assertion failure in +[NSEvent otherEventWithType:location:modifierFlags:timestamp:windowNumber:context:subtype:data1:data2:], NSEvent.m:647\n"
     ]
    },
    {
     "name": "stdout",
     "output_type": "stream",
     "text": [
      "..DD.DD..DD.DDh+\n"
     ]
    },
    {
     "name": "stderr",
     "output_type": "stream",
     "text": [
      "2023-04-21 17:17:04.852 Python[49082:550336] *** Assertion failure in +[NSEvent otherEventWithType:location:modifierFlags:timestamp:windowNumber:context:subtype:data1:data2:], NSEvent.m:647\n",
      "2023-04-21 17:17:04.870 Python[49082:550336] *** Assertion failure in +[NSEvent otherEventWithType:location:modifierFlags:timestamp:windowNumber:context:subtype:data1:data2:], NSEvent.m:647\n",
      "2023-04-21 17:17:04.888 Python[49082:550336] *** Assertion failure in +[NSEvent otherEventWithType:location:modifierFlags:timestamp:windowNumber:context:subtype:data1:data2:], NSEvent.m:647\n",
      "2023-04-21 17:17:04.906 Python[49082:550336] *** Assertion failure in +[NSEvent otherEventWithType:location:modifierFlags:timestamp:windowNumber:context:subtype:data1:data2:], NSEvent.m:647\n",
      "2023-04-21 17:17:04.923 Python[49082:550336] *** Assertion failure in +[NSEvent otherEventWithType:location:modifierFlags:timestamp:windowNumber:context:subtype:data1:data2:], NSEvent.m:647\n",
      "2023-04-21 17:17:04.941 Python[49082:550336] *** Assertion failure in +[NSEvent otherEventWithType:location:modifierFlags:timestamp:windowNumber:context:subtype:data1:data2:], NSEvent.m:647\n",
      "2023-04-21 17:17:04.960 Python[49082:550336] *** Assertion failure in +[NSEvent otherEventWithType:location:modifierFlags:timestamp:windowNumber:context:subtype:data1:data2:], NSEvent.m:647\n",
      "2023-04-21 17:17:04.978 Python[49082:550336] *** Assertion failure in +[NSEvent otherEventWithType:location:modifierFlags:timestamp:windowNumber:context:subtype:data1:data2:], NSEvent.m:647\n",
      "2023-04-21 17:17:04.996 Python[49082:550336] *** Assertion failure in +[NSEvent otherEventWithType:location:modifierFlags:timestamp:windowNumber:context:subtype:data1:data2:], NSEvent.m:647\n",
      "2023-04-21 17:17:05.012 Python[49082:550336] *** Assertion failure in +[NSEvent otherEventWithType:location:modifierFlags:timestamp:windowNumber:context:subtype:data1:data2:], NSEvent.m:647\n",
      "2023-04-21 17:17:05.029 Python[49082:550336] *** Assertion failure in +[NSEvent otherEventWithType:location:modifierFlags:timestamp:windowNumber:context:subtype:data1:data2:], NSEvent.m:647\n",
      "2023-04-21 17:17:05.046 Python[49082:550336] *** Assertion failure in +[NSEvent otherEventWithType:location:modifierFlags:timestamp:windowNumber:context:subtype:data1:data2:], NSEvent.m:647\n"
     ]
    },
    {
     "name": "stdout",
     "output_type": "stream",
     "text": [
      "..DD.DH+\n",
      ".H.\n",
      "D.DH2450 245 12.199088 200.834680 (samp,blk,s,hz)\n",
      "D.DD"
     ]
    },
    {
     "name": "stderr",
     "output_type": "stream",
     "text": [
      "2023-04-21 17:17:05.062 Python[49082:550336] *** Assertion failure in +[NSEvent otherEventWithType:location:modifierFlags:timestamp:windowNumber:context:subtype:data1:data2:], NSEvent.m:647\n",
      "2023-04-21 17:17:05.079 Python[49082:550336] *** Assertion failure in +[NSEvent otherEventWithType:location:modifierFlags:timestamp:windowNumber:context:subtype:data1:data2:], NSEvent.m:647\n",
      "2023-04-21 17:17:05.097 Python[49082:550336] *** Assertion failure in +[NSEvent otherEventWithType:location:modifierFlags:timestamp:windowNumber:context:subtype:data1:data2:], NSEvent.m:647\n",
      "2023-04-21 17:17:05.115 Python[49082:550336] *** Assertion failure in +[NSEvent otherEventWithType:location:modifierFlags:timestamp:windowNumber:context:subtype:data1:data2:], NSEvent.m:647\n",
      "2023-04-21 17:17:05.133 Python[49082:550336] *** Assertion failure in +[NSEvent otherEventWithType:location:modifierFlags:timestamp:windowNumber:context:subtype:data1:data2:], NSEvent.m:647\n",
      "2023-04-21 17:17:05.151 Python[49082:550336] *** Assertion failure in +[NSEvent otherEventWithType:location:modifierFlags:timestamp:windowNumber:context:subtype:data1:data2:], NSEvent.m:647\n",
      "2023-04-21 17:17:05.170 Python[49082:550336] *** Assertion failure in +[NSEvent otherEventWithType:location:modifierFlags:timestamp:windowNumber:context:subtype:data1:data2:], NSEvent.m:647\n",
      "2023-04-21 17:17:05.188 Python[49082:550336] *** Assertion failure in +[NSEvent otherEventWithType:location:modifierFlags:timestamp:windowNumber:context:subtype:data1:data2:], NSEvent.m:647\n",
      "2023-04-21 17:17:05.207 Python[49082:550336] *** Assertion failure in +[NSEvent otherEventWithType:location:modifierFlags:timestamp:windowNumber:context:subtype:data1:data2:], NSEvent.m:647\n",
      "2023-04-21 17:17:05.226 Python[49082:550336] *** Assertion failure in +[NSEvent otherEventWithType:location:modifierFlags:timestamp:windowNumber:context:subtype:data1:data2:], NSEvent.m:647\n",
      "2023-04-21 17:17:05.245 Python[49082:550336] *** Assertion failure in +[NSEvent otherEventWithType:location:modifierFlags:timestamp:windowNumber:context:subtype:data1:data2:], NSEvent.m:647\n",
      "2023-04-21 17:17:05.263 Python[49082:550336] *** Assertion failure in +[NSEvent otherEventWithType:location:modifierFlags:timestamp:windowNumber:context:subtype:data1:data2:], NSEvent.m:647\n"
     ]
    },
    {
     "name": "stdout",
     "output_type": "stream",
     "text": [
      "..DQDSigQ:\n",
      "raw_power=([1.040591  0.8966403 1.0962101 0.9743886]/10)\n",
      "pp_power=([0.49673601 0.39819624 0.49124831 0.45696359]/5)\n",
      "noise2sig=[1.09485717 1.2517548  1.23147865 1.13231122]\n",
      ".DDh+\n",
      "..DD.DDH"
     ]
    },
    {
     "name": "stderr",
     "output_type": "stream",
     "text": [
      "2023-04-21 17:17:05.282 Python[49082:550336] *** Assertion failure in +[NSEvent otherEventWithType:location:modifierFlags:timestamp:windowNumber:context:subtype:data1:data2:], NSEvent.m:647\n",
      "2023-04-21 17:17:05.301 Python[49082:550336] *** Assertion failure in +[NSEvent otherEventWithType:location:modifierFlags:timestamp:windowNumber:context:subtype:data1:data2:], NSEvent.m:647\n",
      "2023-04-21 17:17:05.320 Python[49082:550336] *** Assertion failure in +[NSEvent otherEventWithType:location:modifierFlags:timestamp:windowNumber:context:subtype:data1:data2:], NSEvent.m:647\n",
      "2023-04-21 17:17:05.338 Python[49082:550336] *** Assertion failure in +[NSEvent otherEventWithType:location:modifierFlags:timestamp:windowNumber:context:subtype:data1:data2:], NSEvent.m:647\n",
      "2023-04-21 17:17:05.354 Python[49082:550336] *** Assertion failure in +[NSEvent otherEventWithType:location:modifierFlags:timestamp:windowNumber:context:subtype:data1:data2:], NSEvent.m:647\n",
      "2023-04-21 17:17:05.371 Python[49082:550336] *** Assertion failure in +[NSEvent otherEventWithType:location:modifierFlags:timestamp:windowNumber:context:subtype:data1:data2:], NSEvent.m:647\n",
      "2023-04-21 17:17:05.388 Python[49082:550336] *** Assertion failure in +[NSEvent otherEventWithType:location:modifierFlags:timestamp:windowNumber:context:subtype:data1:data2:], NSEvent.m:647\n",
      "2023-04-21 17:17:05.406 Python[49082:550336] *** Assertion failure in +[NSEvent otherEventWithType:location:modifierFlags:timestamp:windowNumber:context:subtype:data1:data2:], NSEvent.m:647\n",
      "2023-04-21 17:17:05.423 Python[49082:550336] *** Assertion failure in +[NSEvent otherEventWithType:location:modifierFlags:timestamp:windowNumber:context:subtype:data1:data2:], NSEvent.m:647\n",
      "2023-04-21 17:17:05.441 Python[49082:550336] *** Assertion failure in +[NSEvent otherEventWithType:location:modifierFlags:timestamp:windowNumber:context:subtype:data1:data2:], NSEvent.m:647\n",
      "2023-04-21 17:17:05.458 Python[49082:550336] *** Assertion failure in +[NSEvent otherEventWithType:location:modifierFlags:timestamp:windowNumber:context:subtype:data1:data2:], NSEvent.m:647\n",
      "2023-04-21 17:17:05.478 Python[49082:550336] *** Assertion failure in +[NSEvent otherEventWithType:location:modifierFlags:timestamp:windowNumber:context:subtype:data1:data2:], NSEvent.m:647\n"
     ]
    },
    {
     "name": "stdout",
     "output_type": "stream",
     "text": [
      "..DHD.DD..DD.DDh+\n"
     ]
    },
    {
     "name": "stderr",
     "output_type": "stream",
     "text": [
      "2023-04-21 17:17:05.495 Python[49082:550336] *** Assertion failure in +[NSEvent otherEventWithType:location:modifierFlags:timestamp:windowNumber:context:subtype:data1:data2:], NSEvent.m:647\n",
      "2023-04-21 17:17:05.512 Python[49082:550336] *** Assertion failure in +[NSEvent otherEventWithType:location:modifierFlags:timestamp:windowNumber:context:subtype:data1:data2:], NSEvent.m:647\n",
      "2023-04-21 17:17:05.529 Python[49082:550336] *** Assertion failure in +[NSEvent otherEventWithType:location:modifierFlags:timestamp:windowNumber:context:subtype:data1:data2:], NSEvent.m:647\n",
      "2023-04-21 17:17:05.545 Python[49082:550336] *** Assertion failure in +[NSEvent otherEventWithType:location:modifierFlags:timestamp:windowNumber:context:subtype:data1:data2:], NSEvent.m:647\n",
      "2023-04-21 17:17:05.562 Python[49082:550336] *** Assertion failure in +[NSEvent otherEventWithType:location:modifierFlags:timestamp:windowNumber:context:subtype:data1:data2:], NSEvent.m:647\n",
      "2023-04-21 17:17:05.579 Python[49082:550336] *** Assertion failure in +[NSEvent otherEventWithType:location:modifierFlags:timestamp:windowNumber:context:subtype:data1:data2:], NSEvent.m:647\n",
      "2023-04-21 17:17:05.597 Python[49082:550336] *** Assertion failure in +[NSEvent otherEventWithType:location:modifierFlags:timestamp:windowNumber:context:subtype:data1:data2:], NSEvent.m:647\n",
      "2023-04-21 17:17:05.614 Python[49082:550336] *** Assertion failure in +[NSEvent otherEventWithType:location:modifierFlags:timestamp:windowNumber:context:subtype:data1:data2:], NSEvent.m:647\n",
      "2023-04-21 17:17:05.632 Python[49082:550336] *** Assertion failure in +[NSEvent otherEventWithType:location:modifierFlags:timestamp:windowNumber:context:subtype:data1:data2:], NSEvent.m:647\n",
      "2023-04-21 17:17:05.649 Python[49082:550336] *** Assertion failure in +[NSEvent otherEventWithType:location:modifierFlags:timestamp:windowNumber:context:subtype:data1:data2:], NSEvent.m:647\n",
      "2023-04-21 17:17:05.666 Python[49082:550336] *** Assertion failure in +[NSEvent otherEventWithType:location:modifierFlags:timestamp:windowNumber:context:subtype:data1:data2:], NSEvent.m:647\n",
      "2023-04-21 17:17:05.684 Python[49082:550336] *** Assertion failure in +[NSEvent otherEventWithType:location:modifierFlags:timestamp:windowNumber:context:subtype:data1:data2:], NSEvent.m:647\n"
     ]
    },
    {
     "name": "stdout",
     "output_type": "stream",
     "text": [
      "..DD.DD..DD.DD"
     ]
    },
    {
     "name": "stderr",
     "output_type": "stream",
     "text": [
      "2023-04-21 17:17:05.703 Python[49082:550336] *** Assertion failure in +[NSEvent otherEventWithType:location:modifierFlags:timestamp:windowNumber:context:subtype:data1:data2:], NSEvent.m:647\n",
      "2023-04-21 17:17:05.721 Python[49082:550336] *** Assertion failure in +[NSEvent otherEventWithType:location:modifierFlags:timestamp:windowNumber:context:subtype:data1:data2:], NSEvent.m:647\n",
      "2023-04-21 17:17:05.740 Python[49082:550336] *** Assertion failure in +[NSEvent otherEventWithType:location:modifierFlags:timestamp:windowNumber:context:subtype:data1:data2:], NSEvent.m:647\n",
      "2023-04-21 17:17:05.757 Python[49082:550336] *** Assertion failure in +[NSEvent otherEventWithType:location:modifierFlags:timestamp:windowNumber:context:subtype:data1:data2:], NSEvent.m:647\n",
      "2023-04-21 17:17:05.775 Python[49082:550336] *** Assertion failure in +[NSEvent otherEventWithType:location:modifierFlags:timestamp:windowNumber:context:subtype:data1:data2:], NSEvent.m:647\n",
      "2023-04-21 17:17:05.794 Python[49082:550336] *** Assertion failure in +[NSEvent otherEventWithType:location:modifierFlags:timestamp:windowNumber:context:subtype:data1:data2:], NSEvent.m:647\n",
      "2023-04-21 17:17:05.813 Python[49082:550336] *** Assertion failure in +[NSEvent otherEventWithType:location:modifierFlags:timestamp:windowNumber:context:subtype:data1:data2:], NSEvent.m:647\n",
      "2023-04-21 17:17:05.833 Python[49082:550336] *** Assertion failure in +[NSEvent otherEventWithType:location:modifierFlags:timestamp:windowNumber:context:subtype:data1:data2:], NSEvent.m:647\n",
      "2023-04-21 17:17:05.850 Python[49082:550336] *** Assertion failure in +[NSEvent otherEventWithType:location:modifierFlags:timestamp:windowNumber:context:subtype:data1:data2:], NSEvent.m:647\n",
      "2023-04-21 17:17:05.869 Python[49082:550336] *** Assertion failure in +[NSEvent otherEventWithType:location:modifierFlags:timestamp:windowNumber:context:subtype:data1:data2:], NSEvent.m:647\n",
      "2023-04-21 17:17:05.886 Python[49082:550336] *** Assertion failure in +[NSEvent otherEventWithType:location:modifierFlags:timestamp:windowNumber:context:subtype:data1:data2:], NSEvent.m:647\n",
      "2023-04-21 17:17:05.904 Python[49082:550336] *** Assertion failure in +[NSEvent otherEventWithType:location:modifierFlags:timestamp:windowNumber:context:subtype:data1:data2:], NSEvent.m:647\n"
     ]
    },
    {
     "name": "stdout",
     "output_type": "stream",
     "text": [
      "..DD.DDh+\n",
      "..DD.DD"
     ]
    },
    {
     "name": "stderr",
     "output_type": "stream",
     "text": [
      "2023-04-21 17:17:05.921 Python[49082:550336] *** Assertion failure in +[NSEvent otherEventWithType:location:modifierFlags:timestamp:windowNumber:context:subtype:data1:data2:], NSEvent.m:647\n",
      "2023-04-21 17:17:05.938 Python[49082:550336] *** Assertion failure in +[NSEvent otherEventWithType:location:modifierFlags:timestamp:windowNumber:context:subtype:data1:data2:], NSEvent.m:647\n",
      "2023-04-21 17:17:05.956 Python[49082:550336] *** Assertion failure in +[NSEvent otherEventWithType:location:modifierFlags:timestamp:windowNumber:context:subtype:data1:data2:], NSEvent.m:647\n",
      "2023-04-21 17:17:05.973 Python[49082:550336] *** Assertion failure in +[NSEvent otherEventWithType:location:modifierFlags:timestamp:windowNumber:context:subtype:data1:data2:], NSEvent.m:647\n",
      "2023-04-21 17:17:05.990 Python[49082:550336] *** Assertion failure in +[NSEvent otherEventWithType:location:modifierFlags:timestamp:windowNumber:context:subtype:data1:data2:], NSEvent.m:647\n",
      "2023-04-21 17:17:06.006 Python[49082:550336] *** Assertion failure in +[NSEvent otherEventWithType:location:modifierFlags:timestamp:windowNumber:context:subtype:data1:data2:], NSEvent.m:647\n",
      "2023-04-21 17:17:06.024 Python[49082:550336] *** Assertion failure in +[NSEvent otherEventWithType:location:modifierFlags:timestamp:windowNumber:context:subtype:data1:data2:], NSEvent.m:647\n",
      "2023-04-21 17:17:06.042 Python[49082:550336] *** Assertion failure in +[NSEvent otherEventWithType:location:modifierFlags:timestamp:windowNumber:context:subtype:data1:data2:], NSEvent.m:647\n",
      "2023-04-21 17:17:06.060 Python[49082:550336] *** Assertion failure in +[NSEvent otherEventWithType:location:modifierFlags:timestamp:windowNumber:context:subtype:data1:data2:], NSEvent.m:647\n",
      "2023-04-21 17:17:06.077 Python[49082:550336] *** Assertion failure in +[NSEvent otherEventWithType:location:modifierFlags:timestamp:windowNumber:context:subtype:data1:data2:], NSEvent.m:647\n",
      "2023-04-21 17:17:06.096 Python[49082:550336] *** Assertion failure in +[NSEvent otherEventWithType:location:modifierFlags:timestamp:windowNumber:context:subtype:data1:data2:], NSEvent.m:647\n",
      "2023-04-21 17:17:06.112 Python[49082:550336] *** Assertion failure in +[NSEvent otherEventWithType:location:modifierFlags:timestamp:windowNumber:context:subtype:data1:data2:], NSEvent.m:647\n"
     ]
    },
    {
     "name": "stdout",
     "output_type": "stream",
     "text": [
      "..DD.DDH+\n",
      "..DHHD.DDh+\n",
      "..D"
     ]
    },
    {
     "name": "stderr",
     "output_type": "stream",
     "text": [
      "2023-04-21 17:17:06.129 Python[49082:550336] *** Assertion failure in +[NSEvent otherEventWithType:location:modifierFlags:timestamp:windowNumber:context:subtype:data1:data2:], NSEvent.m:647\n",
      "2023-04-21 17:17:06.151 Python[49082:550336] *** Assertion failure in +[NSEvent otherEventWithType:location:modifierFlags:timestamp:windowNumber:context:subtype:data1:data2:], NSEvent.m:647\n",
      "2023-04-21 17:17:06.172 Python[49082:550336] *** Assertion failure in +[NSEvent otherEventWithType:location:modifierFlags:timestamp:windowNumber:context:subtype:data1:data2:], NSEvent.m:647\n",
      "2023-04-21 17:17:06.190 Python[49082:550336] *** Assertion failure in +[NSEvent otherEventWithType:location:modifierFlags:timestamp:windowNumber:context:subtype:data1:data2:], NSEvent.m:647\n",
      "2023-04-21 17:17:06.211 Python[49082:550336] *** Assertion failure in +[NSEvent otherEventWithType:location:modifierFlags:timestamp:windowNumber:context:subtype:data1:data2:], NSEvent.m:647\n",
      "2023-04-21 17:17:06.228 Python[49082:550336] *** Assertion failure in +[NSEvent otherEventWithType:location:modifierFlags:timestamp:windowNumber:context:subtype:data1:data2:], NSEvent.m:647\n",
      "2023-04-21 17:17:06.249 Python[49082:550336] *** Assertion failure in +[NSEvent otherEventWithType:location:modifierFlags:timestamp:windowNumber:context:subtype:data1:data2:], NSEvent.m:647\n",
      "2023-04-21 17:17:06.269 Python[49082:550336] *** Assertion failure in +[NSEvent otherEventWithType:location:modifierFlags:timestamp:windowNumber:context:subtype:data1:data2:], NSEvent.m:647\n",
      "2023-04-21 17:17:06.289 Python[49082:550336] *** Assertion failure in +[NSEvent otherEventWithType:location:modifierFlags:timestamp:windowNumber:context:subtype:data1:data2:], NSEvent.m:647\n",
      "2023-04-21 17:17:06.307 Python[49082:550336] *** Assertion failure in +[NSEvent otherEventWithType:location:modifierFlags:timestamp:windowNumber:context:subtype:data1:data2:], NSEvent.m:647\n",
      "2023-04-21 17:17:06.325 Python[49082:550336] *** Assertion failure in +[NSEvent otherEventWithType:location:modifierFlags:timestamp:windowNumber:context:subtype:data1:data2:], NSEvent.m:647\n"
     ]
    },
    {
     "name": "stdout",
     "output_type": "stream",
     "text": [
      "D.DQDSigQ:\n",
      "raw_power=([1.0226845 0.9610798 1.0880668 1.0119903]/10)\n",
      "pp_power=([0.46379801 0.47367507 0.44402097 0.49479403]/5)\n",
      "noise2sig=[1.20502121 1.02898535 1.45048519 1.0452759 ]\n",
      "..DD.DD..DDH.Dh+\n"
     ]
    },
    {
     "name": "stderr",
     "output_type": "stream",
     "text": [
      "2023-04-21 17:17:06.344 Python[49082:550336] *** Assertion failure in +[NSEvent otherEventWithType:location:modifierFlags:timestamp:windowNumber:context:subtype:data1:data2:], NSEvent.m:647\n",
      "2023-04-21 17:17:06.361 Python[49082:550336] *** Assertion failure in +[NSEvent otherEventWithType:location:modifierFlags:timestamp:windowNumber:context:subtype:data1:data2:], NSEvent.m:647\n",
      "2023-04-21 17:17:06.379 Python[49082:550336] *** Assertion failure in +[NSEvent otherEventWithType:location:modifierFlags:timestamp:windowNumber:context:subtype:data1:data2:], NSEvent.m:647\n",
      "2023-04-21 17:17:06.398 Python[49082:550336] *** Assertion failure in +[NSEvent otherEventWithType:location:modifierFlags:timestamp:windowNumber:context:subtype:data1:data2:], NSEvent.m:647\n",
      "2023-04-21 17:17:06.415 Python[49082:550336] *** Assertion failure in +[NSEvent otherEventWithType:location:modifierFlags:timestamp:windowNumber:context:subtype:data1:data2:], NSEvent.m:647\n",
      "2023-04-21 17:17:06.433 Python[49082:550336] *** Assertion failure in +[NSEvent otherEventWithType:location:modifierFlags:timestamp:windowNumber:context:subtype:data1:data2:], NSEvent.m:647\n",
      "2023-04-21 17:17:06.451 Python[49082:550336] *** Assertion failure in +[NSEvent otherEventWithType:location:modifierFlags:timestamp:windowNumber:context:subtype:data1:data2:], NSEvent.m:647\n",
      "2023-04-21 17:17:06.470 Python[49082:550336] *** Assertion failure in +[NSEvent otherEventWithType:location:modifierFlags:timestamp:windowNumber:context:subtype:data1:data2:], NSEvent.m:647\n",
      "2023-04-21 17:17:06.488 Python[49082:550336] *** Assertion failure in +[NSEvent otherEventWithType:location:modifierFlags:timestamp:windowNumber:context:subtype:data1:data2:], NSEvent.m:647\n",
      "2023-04-21 17:17:06.507 Python[49082:550336] *** Assertion failure in +[NSEvent otherEventWithType:location:modifierFlags:timestamp:windowNumber:context:subtype:data1:data2:], NSEvent.m:647\n",
      "2023-04-21 17:17:06.524 Python[49082:550336] *** Assertion failure in +[NSEvent otherEventWithType:location:modifierFlags:timestamp:windowNumber:context:subtype:data1:data2:], NSEvent.m:647\n",
      "2023-04-21 17:17:06.543 Python[49082:550336] *** Assertion failure in +[NSEvent otherEventWithType:location:modifierFlags:timestamp:windowNumber:context:subtype:data1:data2:], NSEvent.m:647\n"
     ]
    },
    {
     "name": "stdout",
     "output_type": "stream",
     "text": [
      ".HD..DD.DD..DD.D"
     ]
    },
    {
     "name": "stderr",
     "output_type": "stream",
     "text": [
      "2023-04-21 17:17:06.561 Python[49082:550336] *** Assertion failure in +[NSEvent otherEventWithType:location:modifierFlags:timestamp:windowNumber:context:subtype:data1:data2:], NSEvent.m:647\n",
      "2023-04-21 17:17:06.579 Python[49082:550336] *** Assertion failure in +[NSEvent otherEventWithType:location:modifierFlags:timestamp:windowNumber:context:subtype:data1:data2:], NSEvent.m:647\n",
      "2023-04-21 17:17:06.597 Python[49082:550336] *** Assertion failure in +[NSEvent otherEventWithType:location:modifierFlags:timestamp:windowNumber:context:subtype:data1:data2:], NSEvent.m:647\n",
      "2023-04-21 17:17:06.616 Python[49082:550336] *** Assertion failure in +[NSEvent otherEventWithType:location:modifierFlags:timestamp:windowNumber:context:subtype:data1:data2:], NSEvent.m:647\n",
      "2023-04-21 17:17:06.634 Python[49082:550336] *** Assertion failure in +[NSEvent otherEventWithType:location:modifierFlags:timestamp:windowNumber:context:subtype:data1:data2:], NSEvent.m:647\n",
      "2023-04-21 17:17:06.651 Python[49082:550336] *** Assertion failure in +[NSEvent otherEventWithType:location:modifierFlags:timestamp:windowNumber:context:subtype:data1:data2:], NSEvent.m:647\n",
      "2023-04-21 17:17:06.668 Python[49082:550336] *** Assertion failure in +[NSEvent otherEventWithType:location:modifierFlags:timestamp:windowNumber:context:subtype:data1:data2:], NSEvent.m:647\n",
      "2023-04-21 17:17:06.687 Python[49082:550336] *** Assertion failure in +[NSEvent otherEventWithType:location:modifierFlags:timestamp:windowNumber:context:subtype:data1:data2:], NSEvent.m:647\n",
      "2023-04-21 17:17:06.706 Python[49082:550336] *** Assertion failure in +[NSEvent otherEventWithType:location:modifierFlags:timestamp:windowNumber:context:subtype:data1:data2:], NSEvent.m:647\n",
      "2023-04-21 17:17:06.723 Python[49082:550336] *** Assertion failure in +[NSEvent otherEventWithType:location:modifierFlags:timestamp:windowNumber:context:subtype:data1:data2:], NSEvent.m:647\n",
      "2023-04-21 17:17:06.742 Python[49082:550336] *** Assertion failure in +[NSEvent otherEventWithType:location:modifierFlags:timestamp:windowNumber:context:subtype:data1:data2:], NSEvent.m:647\n",
      "2023-04-21 17:17:06.760 Python[49082:550336] *** Assertion failure in +[NSEvent otherEventWithType:location:modifierFlags:timestamp:windowNumber:context:subtype:data1:data2:], NSEvent.m:647\n"
     ]
    },
    {
     "name": "stdout",
     "output_type": "stream",
     "text": [
      "D..DDh+\n",
      ".DD..DD.DD"
     ]
    },
    {
     "name": "stderr",
     "output_type": "stream",
     "text": [
      "2023-04-21 17:17:06.777 Python[49082:550336] *** Assertion failure in +[NSEvent otherEventWithType:location:modifierFlags:timestamp:windowNumber:context:subtype:data1:data2:], NSEvent.m:647\n",
      "2023-04-21 17:17:06.794 Python[49082:550336] *** Assertion failure in +[NSEvent otherEventWithType:location:modifierFlags:timestamp:windowNumber:context:subtype:data1:data2:], NSEvent.m:647\n",
      "2023-04-21 17:17:06.812 Python[49082:550336] *** Assertion failure in +[NSEvent otherEventWithType:location:modifierFlags:timestamp:windowNumber:context:subtype:data1:data2:], NSEvent.m:647\n",
      "2023-04-21 17:17:06.829 Python[49082:550336] *** Assertion failure in +[NSEvent otherEventWithType:location:modifierFlags:timestamp:windowNumber:context:subtype:data1:data2:], NSEvent.m:647\n",
      "2023-04-21 17:17:06.847 Python[49082:550336] *** Assertion failure in +[NSEvent otherEventWithType:location:modifierFlags:timestamp:windowNumber:context:subtype:data1:data2:], NSEvent.m:647\n",
      "2023-04-21 17:17:06.864 Python[49082:550336] *** Assertion failure in +[NSEvent otherEventWithType:location:modifierFlags:timestamp:windowNumber:context:subtype:data1:data2:], NSEvent.m:647\n",
      "2023-04-21 17:17:06.882 Python[49082:550336] *** Assertion failure in +[NSEvent otherEventWithType:location:modifierFlags:timestamp:windowNumber:context:subtype:data1:data2:], NSEvent.m:647\n",
      "2023-04-21 17:17:06.898 Python[49082:550336] *** Assertion failure in +[NSEvent otherEventWithType:location:modifierFlags:timestamp:windowNumber:context:subtype:data1:data2:], NSEvent.m:647\n",
      "2023-04-21 17:17:06.917 Python[49082:550336] *** Assertion failure in +[NSEvent otherEventWithType:location:modifierFlags:timestamp:windowNumber:context:subtype:data1:data2:], NSEvent.m:647\n",
      "2023-04-21 17:17:06.934 Python[49082:550336] *** Assertion failure in +[NSEvent otherEventWithType:location:modifierFlags:timestamp:windowNumber:context:subtype:data1:data2:], NSEvent.m:647\n",
      "2023-04-21 17:17:06.951 Python[49082:550336] *** Assertion failure in +[NSEvent otherEventWithType:location:modifierFlags:timestamp:windowNumber:context:subtype:data1:data2:], NSEvent.m:647\n",
      "2023-04-21 17:17:06.969 Python[49082:550336] *** Assertion failure in +[NSEvent otherEventWithType:location:modifierFlags:timestamp:windowNumber:context:subtype:data1:data2:], NSEvent.m:647\n"
     ]
    },
    {
     "name": "stdout",
     "output_type": "stream",
     "text": [
      "..DD.DDh+\n",
      "..DD.D.\n",
      "DH+\n"
     ]
    },
    {
     "name": "stderr",
     "output_type": "stream",
     "text": [
      "2023-04-21 17:17:06.988 Python[49082:550336] *** Assertion failure in +[NSEvent otherEventWithType:location:modifierFlags:timestamp:windowNumber:context:subtype:data1:data2:], NSEvent.m:647\n",
      "2023-04-21 17:17:07.006 Python[49082:550336] *** Assertion failure in +[NSEvent otherEventWithType:location:modifierFlags:timestamp:windowNumber:context:subtype:data1:data2:], NSEvent.m:647\n",
      "2023-04-21 17:17:07.025 Python[49082:550336] *** Assertion failure in +[NSEvent otherEventWithType:location:modifierFlags:timestamp:windowNumber:context:subtype:data1:data2:], NSEvent.m:647\n",
      "2023-04-21 17:17:07.043 Python[49082:550336] *** Assertion failure in +[NSEvent otherEventWithType:location:modifierFlags:timestamp:windowNumber:context:subtype:data1:data2:], NSEvent.m:647\n",
      "2023-04-21 17:17:07.060 Python[49082:550336] *** Assertion failure in +[NSEvent otherEventWithType:location:modifierFlags:timestamp:windowNumber:context:subtype:data1:data2:], NSEvent.m:647\n",
      "2023-04-21 17:17:07.078 Python[49082:550336] *** Assertion failure in +[NSEvent otherEventWithType:location:modifierFlags:timestamp:windowNumber:context:subtype:data1:data2:], NSEvent.m:647\n",
      "2023-04-21 17:17:07.096 Python[49082:550336] *** Assertion failure in +[NSEvent otherEventWithType:location:modifierFlags:timestamp:windowNumber:context:subtype:data1:data2:], NSEvent.m:647\n",
      "2023-04-21 17:17:07.114 Python[49082:550336] *** Assertion failure in +[NSEvent otherEventWithType:location:modifierFlags:timestamp:windowNumber:context:subtype:data1:data2:], NSEvent.m:647\n",
      "2023-04-21 17:17:07.132 Python[49082:550336] *** Assertion failure in +[NSEvent otherEventWithType:location:modifierFlags:timestamp:windowNumber:context:subtype:data1:data2:], NSEvent.m:647\n",
      "2023-04-21 17:17:07.149 Python[49082:550336] *** Assertion failure in +[NSEvent otherEventWithType:location:modifierFlags:timestamp:windowNumber:context:subtype:data1:data2:], NSEvent.m:647\n",
      "2023-04-21 17:17:07.167 Python[49082:550336] *** Assertion failure in +[NSEvent otherEventWithType:location:modifierFlags:timestamp:windowNumber:context:subtype:data1:data2:], NSEvent.m:647\n",
      "2023-04-21 17:17:07.185 Python[49082:550336] *** Assertion failure in +[NSEvent otherEventWithType:location:modifierFlags:timestamp:windowNumber:context:subtype:data1:data2:], NSEvent.m:647\n"
     ]
    },
    {
     "name": "stdout",
     "output_type": "stream",
     "text": [
      ".DHDH.DD..DD.DDh+\n",
      "..DD"
     ]
    },
    {
     "name": "stderr",
     "output_type": "stream",
     "text": [
      "2023-04-21 17:17:07.203 Python[49082:550336] *** Assertion failure in +[NSEvent otherEventWithType:location:modifierFlags:timestamp:windowNumber:context:subtype:data1:data2:], NSEvent.m:647\n",
      "2023-04-21 17:17:07.221 Python[49082:550336] *** Assertion failure in +[NSEvent otherEventWithType:location:modifierFlags:timestamp:windowNumber:context:subtype:data1:data2:], NSEvent.m:647\n",
      "2023-04-21 17:17:07.239 Python[49082:550336] *** Assertion failure in +[NSEvent otherEventWithType:location:modifierFlags:timestamp:windowNumber:context:subtype:data1:data2:], NSEvent.m:647\n",
      "2023-04-21 17:17:07.258 Python[49082:550336] *** Assertion failure in +[NSEvent otherEventWithType:location:modifierFlags:timestamp:windowNumber:context:subtype:data1:data2:], NSEvent.m:647\n",
      "2023-04-21 17:17:07.277 Python[49082:550336] *** Assertion failure in +[NSEvent otherEventWithType:location:modifierFlags:timestamp:windowNumber:context:subtype:data1:data2:], NSEvent.m:647\n",
      "2023-04-21 17:17:07.294 Python[49082:550336] *** Assertion failure in +[NSEvent otherEventWithType:location:modifierFlags:timestamp:windowNumber:context:subtype:data1:data2:], NSEvent.m:647\n",
      "2023-04-21 17:17:07.312 Python[49082:550336] *** Assertion failure in +[NSEvent otherEventWithType:location:modifierFlags:timestamp:windowNumber:context:subtype:data1:data2:], NSEvent.m:647\n",
      "2023-04-21 17:17:07.330 Python[49082:550336] *** Assertion failure in +[NSEvent otherEventWithType:location:modifierFlags:timestamp:windowNumber:context:subtype:data1:data2:], NSEvent.m:647\n",
      "2023-04-21 17:17:07.348 Python[49082:550336] *** Assertion failure in +[NSEvent otherEventWithType:location:modifierFlags:timestamp:windowNumber:context:subtype:data1:data2:], NSEvent.m:647\n",
      "2023-04-21 17:17:07.366 Python[49082:550336] *** Assertion failure in +[NSEvent otherEventWithType:location:modifierFlags:timestamp:windowNumber:context:subtype:data1:data2:], NSEvent.m:647\n",
      "2023-04-21 17:17:07.384 Python[49082:550336] *** Assertion failure in +[NSEvent otherEventWithType:location:modifierFlags:timestamp:windowNumber:context:subtype:data1:data2:], NSEvent.m:647\n",
      "2023-04-21 17:17:07.402 Python[49082:550336] *** Assertion failure in +[NSEvent otherEventWithType:location:modifierFlags:timestamp:windowNumber:context:subtype:data1:data2:], NSEvent.m:647\n"
     ]
    },
    {
     "name": "stdout",
     "output_type": "stream",
     "text": [
      "QSigQ:\n",
      "raw_power=([0.96597564 0.9718296  0.9953105  1.0211381 ]/10)\n",
      "pp_power=([0.40960196 0.4999559  0.49279566 0.42945411]/5)\n",
      "noise2sig=[1.35832766 0.94383065 1.01972249 1.3777583 ]\n",
      ".DD..DD.DDHD"
     ]
    },
    {
     "name": "stderr",
     "output_type": "stream",
     "text": [
      "2023-04-21 17:17:07.420 Python[49082:550336] *** Assertion failure in +[NSEvent otherEventWithType:location:modifierFlags:timestamp:windowNumber:context:subtype:data1:data2:], NSEvent.m:647\n",
      "2023-04-21 17:17:07.438 Python[49082:550336] *** Assertion failure in +[NSEvent otherEventWithType:location:modifierFlags:timestamp:windowNumber:context:subtype:data1:data2:], NSEvent.m:647\n",
      "2023-04-21 17:17:07.456 Python[49082:550336] *** Assertion failure in +[NSEvent otherEventWithType:location:modifierFlags:timestamp:windowNumber:context:subtype:data1:data2:], NSEvent.m:647\n",
      "2023-04-21 17:17:07.473 Python[49082:550336] *** Assertion failure in +[NSEvent otherEventWithType:location:modifierFlags:timestamp:windowNumber:context:subtype:data1:data2:], NSEvent.m:647\n",
      "2023-04-21 17:17:07.491 Python[49082:550336] *** Assertion failure in +[NSEvent otherEventWithType:location:modifierFlags:timestamp:windowNumber:context:subtype:data1:data2:], NSEvent.m:647\n",
      "2023-04-21 17:17:07.510 Python[49082:550336] *** Assertion failure in +[NSEvent otherEventWithType:location:modifierFlags:timestamp:windowNumber:context:subtype:data1:data2:], NSEvent.m:647\n",
      "2023-04-21 17:17:07.527 Python[49082:550336] *** Assertion failure in +[NSEvent otherEventWithType:location:modifierFlags:timestamp:windowNumber:context:subtype:data1:data2:], NSEvent.m:647\n",
      "2023-04-21 17:17:07.545 Python[49082:550336] *** Assertion failure in +[NSEvent otherEventWithType:location:modifierFlags:timestamp:windowNumber:context:subtype:data1:data2:], NSEvent.m:647\n",
      "2023-04-21 17:17:07.564 Python[49082:550336] *** Assertion failure in +[NSEvent otherEventWithType:location:modifierFlags:timestamp:windowNumber:context:subtype:data1:data2:], NSEvent.m:647\n",
      "2023-04-21 17:17:07.584 Python[49082:550336] *** Assertion failure in +[NSEvent otherEventWithType:location:modifierFlags:timestamp:windowNumber:context:subtype:data1:data2:], NSEvent.m:647\n",
      "2023-04-21 17:17:07.602 Python[49082:550336] *** Assertion failure in +[NSEvent otherEventWithType:location:modifierFlags:timestamp:windowNumber:context:subtype:data1:data2:], NSEvent.m:647\n",
      "2023-04-21 17:17:07.621 Python[49082:550336] *** Assertion failure in +[NSEvent otherEventWithType:location:modifierFlags:timestamp:windowNumber:context:subtype:data1:data2:], NSEvent.m:647\n"
     ]
    },
    {
     "name": "stdout",
     "output_type": "stream",
     "text": [
      "..DHDDh+\n",
      "D..DDDD..D"
     ]
    },
    {
     "name": "stderr",
     "output_type": "stream",
     "text": [
      "2023-04-21 17:17:07.639 Python[49082:550336] *** Assertion failure in +[NSEvent otherEventWithType:location:modifierFlags:timestamp:windowNumber:context:subtype:data1:data2:], NSEvent.m:647\n",
      "2023-04-21 17:17:07.656 Python[49082:550336] *** Assertion failure in +[NSEvent otherEventWithType:location:modifierFlags:timestamp:windowNumber:context:subtype:data1:data2:], NSEvent.m:647\n",
      "2023-04-21 17:17:07.675 Python[49082:550336] *** Assertion failure in +[NSEvent otherEventWithType:location:modifierFlags:timestamp:windowNumber:context:subtype:data1:data2:], NSEvent.m:647\n",
      "2023-04-21 17:17:07.693 Python[49082:550336] *** Assertion failure in +[NSEvent otherEventWithType:location:modifierFlags:timestamp:windowNumber:context:subtype:data1:data2:], NSEvent.m:647\n",
      "2023-04-21 17:17:07.712 Python[49082:550336] *** Assertion failure in +[NSEvent otherEventWithType:location:modifierFlags:timestamp:windowNumber:context:subtype:data1:data2:], NSEvent.m:647\n",
      "2023-04-21 17:17:07.730 Python[49082:550336] *** Assertion failure in +[NSEvent otherEventWithType:location:modifierFlags:timestamp:windowNumber:context:subtype:data1:data2:], NSEvent.m:647\n",
      "2023-04-21 17:17:07.748 Python[49082:550336] *** Assertion failure in +[NSEvent otherEventWithType:location:modifierFlags:timestamp:windowNumber:context:subtype:data1:data2:], NSEvent.m:647\n",
      "2023-04-21 17:17:07.767 Python[49082:550336] *** Assertion failure in +[NSEvent otherEventWithType:location:modifierFlags:timestamp:windowNumber:context:subtype:data1:data2:], NSEvent.m:647\n",
      "2023-04-21 17:17:07.785 Python[49082:550336] *** Assertion failure in +[NSEvent otherEventWithType:location:modifierFlags:timestamp:windowNumber:context:subtype:data1:data2:], NSEvent.m:647\n",
      "2023-04-21 17:17:07.803 Python[49082:550336] *** Assertion failure in +[NSEvent otherEventWithType:location:modifierFlags:timestamp:windowNumber:context:subtype:data1:data2:], NSEvent.m:647\n",
      "2023-04-21 17:17:07.822 Python[49082:550336] *** Assertion failure in +[NSEvent otherEventWithType:location:modifierFlags:timestamp:windowNumber:context:subtype:data1:data2:], NSEvent.m:647\n"
     ]
    },
    {
     "name": "stdout",
     "output_type": "stream",
     "text": [
      "DDD..DDDh+\n",
      "D..D"
     ]
    },
    {
     "name": "stderr",
     "output_type": "stream",
     "text": [
      "2023-04-21 17:17:07.842 Python[49082:550336] *** Assertion failure in +[NSEvent otherEventWithType:location:modifierFlags:timestamp:windowNumber:context:subtype:data1:data2:], NSEvent.m:647\n",
      "2023-04-21 17:17:07.861 Python[49082:550336] *** Assertion failure in +[NSEvent otherEventWithType:location:modifierFlags:timestamp:windowNumber:context:subtype:data1:data2:], NSEvent.m:647\n",
      "2023-04-21 17:17:07.880 Python[49082:550336] *** Assertion failure in +[NSEvent otherEventWithType:location:modifierFlags:timestamp:windowNumber:context:subtype:data1:data2:], NSEvent.m:647\n",
      "2023-04-21 17:17:07.899 Python[49082:550336] *** Assertion failure in +[NSEvent otherEventWithType:location:modifierFlags:timestamp:windowNumber:context:subtype:data1:data2:], NSEvent.m:647\n",
      "2023-04-21 17:17:07.918 Python[49082:550336] *** Assertion failure in +[NSEvent otherEventWithType:location:modifierFlags:timestamp:windowNumber:context:subtype:data1:data2:], NSEvent.m:647\n",
      "2023-04-21 17:17:07.937 Python[49082:550336] *** Assertion failure in +[NSEvent otherEventWithType:location:modifierFlags:timestamp:windowNumber:context:subtype:data1:data2:], NSEvent.m:647\n",
      "2023-04-21 17:17:07.954 Python[49082:550336] *** Assertion failure in +[NSEvent otherEventWithType:location:modifierFlags:timestamp:windowNumber:context:subtype:data1:data2:], NSEvent.m:647\n",
      "2023-04-21 17:17:07.973 Python[49082:550336] *** Assertion failure in +[NSEvent otherEventWithType:location:modifierFlags:timestamp:windowNumber:context:subtype:data1:data2:], NSEvent.m:647\n",
      "2023-04-21 17:17:07.991 Python[49082:550336] *** Assertion failure in +[NSEvent otherEventWithType:location:modifierFlags:timestamp:windowNumber:context:subtype:data1:data2:], NSEvent.m:647\n",
      "2023-04-21 17:17:08.008 Python[49082:550336] *** Assertion failure in +[NSEvent otherEventWithType:location:modifierFlags:timestamp:windowNumber:context:subtype:data1:data2:], NSEvent.m:647\n",
      "2023-04-21 17:17:08.026 Python[49082:550336] *** Assertion failure in +[NSEvent otherEventWithType:location:modifierFlags:timestamp:windowNumber:context:subtype:data1:data2:], NSEvent.m:647\n"
     ]
    },
    {
     "name": "stdout",
     "output_type": "stream",
     "text": [
      "DDD..DD\n",
      "Offset Update:-1.566873401E9->-1.566873402E9\n",
      "DDH+\n",
      "..DHh+\n"
     ]
    },
    {
     "name": "stderr",
     "output_type": "stream",
     "text": [
      "2023-04-21 17:17:08.045 Python[49082:550336] *** Assertion failure in +[NSEvent otherEventWithType:location:modifierFlags:timestamp:windowNumber:context:subtype:data1:data2:], NSEvent.m:647\n",
      "2023-04-21 17:17:08.064 Python[49082:550336] *** Assertion failure in +[NSEvent otherEventWithType:location:modifierFlags:timestamp:windowNumber:context:subtype:data1:data2:], NSEvent.m:647\n",
      "2023-04-21 17:17:08.082 Python[49082:550336] *** Assertion failure in +[NSEvent otherEventWithType:location:modifierFlags:timestamp:windowNumber:context:subtype:data1:data2:], NSEvent.m:647\n",
      "2023-04-21 17:17:08.100 Python[49082:550336] *** Assertion failure in +[NSEvent otherEventWithType:location:modifierFlags:timestamp:windowNumber:context:subtype:data1:data2:], NSEvent.m:647\n",
      "2023-04-21 17:17:08.117 Python[49082:550336] *** Assertion failure in +[NSEvent otherEventWithType:location:modifierFlags:timestamp:windowNumber:context:subtype:data1:data2:], NSEvent.m:647\n",
      "2023-04-21 17:17:08.136 Python[49082:550336] *** Assertion failure in +[NSEvent otherEventWithType:location:modifierFlags:timestamp:windowNumber:context:subtype:data1:data2:], NSEvent.m:647\n",
      "2023-04-21 17:17:08.153 Python[49082:550336] *** Assertion failure in +[NSEvent otherEventWithType:location:modifierFlags:timestamp:windowNumber:context:subtype:data1:data2:], NSEvent.m:647\n",
      "2023-04-21 17:17:08.172 Python[49082:550336] *** Assertion failure in +[NSEvent otherEventWithType:location:modifierFlags:timestamp:windowNumber:context:subtype:data1:data2:], NSEvent.m:647\n",
      "2023-04-21 17:17:08.191 Python[49082:550336] *** Assertion failure in +[NSEvent otherEventWithType:location:modifierFlags:timestamp:windowNumber:context:subtype:data1:data2:], NSEvent.m:647\n",
      "2023-04-21 17:17:08.209 Python[49082:550336] *** Assertion failure in +[NSEvent otherEventWithType:location:modifierFlags:timestamp:windowNumber:context:subtype:data1:data2:], NSEvent.m:647\n",
      "2023-04-21 17:17:08.227 Python[49082:550336] *** Assertion failure in +[NSEvent otherEventWithType:location:modifierFlags:timestamp:windowNumber:context:subtype:data1:data2:], NSEvent.m:647\n",
      "2023-04-21 17:17:08.245 Python[49082:550336] *** Assertion failure in +[NSEvent otherEventWithType:location:modifierFlags:timestamp:windowNumber:context:subtype:data1:data2:], NSEvent.m:647\n"
     ]
    },
    {
     "name": "stdout",
     "output_type": "stream",
     "text": [
      "DH3060 306 15.249402 200.663603 (samp,blk,s,hz)\n",
      "DD..DDD.DD"
     ]
    },
    {
     "name": "stderr",
     "output_type": "stream",
     "text": [
      "2023-04-21 17:17:08.264 Python[49082:550336] *** Assertion failure in +[NSEvent otherEventWithType:location:modifierFlags:timestamp:windowNumber:context:subtype:data1:data2:], NSEvent.m:647\n",
      "2023-04-21 17:17:08.283 Python[49082:550336] *** Assertion failure in +[NSEvent otherEventWithType:location:modifierFlags:timestamp:windowNumber:context:subtype:data1:data2:], NSEvent.m:647\n",
      "2023-04-21 17:17:08.303 Python[49082:550336] *** Assertion failure in +[NSEvent otherEventWithType:location:modifierFlags:timestamp:windowNumber:context:subtype:data1:data2:], NSEvent.m:647\n",
      "2023-04-21 17:17:08.323 Python[49082:550336] *** Assertion failure in +[NSEvent otherEventWithType:location:modifierFlags:timestamp:windowNumber:context:subtype:data1:data2:], NSEvent.m:647\n",
      "2023-04-21 17:17:08.343 Python[49082:550336] *** Assertion failure in +[NSEvent otherEventWithType:location:modifierFlags:timestamp:windowNumber:context:subtype:data1:data2:], NSEvent.m:647\n",
      "2023-04-21 17:17:08.360 Python[49082:550336] *** Assertion failure in +[NSEvent otherEventWithType:location:modifierFlags:timestamp:windowNumber:context:subtype:data1:data2:], NSEvent.m:647\n",
      "2023-04-21 17:17:08.381 Python[49082:550336] *** Assertion failure in +[NSEvent otherEventWithType:location:modifierFlags:timestamp:windowNumber:context:subtype:data1:data2:], NSEvent.m:647\n",
      "2023-04-21 17:17:08.401 Python[49082:550336] *** Assertion failure in +[NSEvent otherEventWithType:location:modifierFlags:timestamp:windowNumber:context:subtype:data1:data2:], NSEvent.m:647\n",
      "2023-04-21 17:17:08.421 Python[49082:550336] *** Assertion failure in +[NSEvent otherEventWithType:location:modifierFlags:timestamp:windowNumber:context:subtype:data1:data2:], NSEvent.m:647\n",
      "2023-04-21 17:17:08.440 Python[49082:550336] *** Assertion failure in +[NSEvent otherEventWithType:location:modifierFlags:timestamp:windowNumber:context:subtype:data1:data2:], NSEvent.m:647\n",
      "2023-04-21 17:17:08.458 Python[49082:550336] *** Assertion failure in +[NSEvent otherEventWithType:location:modifierFlags:timestamp:windowNumber:context:subtype:data1:data2:], NSEvent.m:647\n"
     ]
    },
    {
     "name": "stdout",
     "output_type": "stream",
     "text": [
      ".DQDSigQ:\n",
      "raw_power=([0.93764937 0.96854454 0.95745283 1.0464269 ]/10)\n",
      "pp_power=([0.34690142 0.40214283 0.40116541 0.43073061]/5)\n",
      "noise2sig=[1.70292744 1.40845908 1.38667843 1.42942307]\n",
      ".DDh+\n",
      ".DD.DDH.DH"
     ]
    },
    {
     "name": "stderr",
     "output_type": "stream",
     "text": [
      "2023-04-21 17:17:08.478 Python[49082:550336] *** Assertion failure in +[NSEvent otherEventWithType:location:modifierFlags:timestamp:windowNumber:context:subtype:data1:data2:], NSEvent.m:647\n",
      "2023-04-21 17:17:08.496 Python[49082:550336] *** Assertion failure in +[NSEvent otherEventWithType:location:modifierFlags:timestamp:windowNumber:context:subtype:data1:data2:], NSEvent.m:647\n",
      "2023-04-21 17:17:08.513 Python[49082:550336] *** Assertion failure in +[NSEvent otherEventWithType:location:modifierFlags:timestamp:windowNumber:context:subtype:data1:data2:], NSEvent.m:647\n",
      "2023-04-21 17:17:08.532 Python[49082:550336] *** Assertion failure in +[NSEvent otherEventWithType:location:modifierFlags:timestamp:windowNumber:context:subtype:data1:data2:], NSEvent.m:647\n",
      "2023-04-21 17:17:08.551 Python[49082:550336] *** Assertion failure in +[NSEvent otherEventWithType:location:modifierFlags:timestamp:windowNumber:context:subtype:data1:data2:], NSEvent.m:647\n",
      "2023-04-21 17:17:08.569 Python[49082:550336] *** Assertion failure in +[NSEvent otherEventWithType:location:modifierFlags:timestamp:windowNumber:context:subtype:data1:data2:], NSEvent.m:647\n",
      "2023-04-21 17:17:08.588 Python[49082:550336] *** Assertion failure in +[NSEvent otherEventWithType:location:modifierFlags:timestamp:windowNumber:context:subtype:data1:data2:], NSEvent.m:647\n",
      "2023-04-21 17:17:08.607 Python[49082:550336] *** Assertion failure in +[NSEvent otherEventWithType:location:modifierFlags:timestamp:windowNumber:context:subtype:data1:data2:], NSEvent.m:647\n",
      "2023-04-21 17:17:08.624 Python[49082:550336] *** Assertion failure in +[NSEvent otherEventWithType:location:modifierFlags:timestamp:windowNumber:context:subtype:data1:data2:], NSEvent.m:647\n",
      "2023-04-21 17:17:08.642 Python[49082:550336] *** Assertion failure in +[NSEvent otherEventWithType:location:modifierFlags:timestamp:windowNumber:context:subtype:data1:data2:], NSEvent.m:647\n",
      "2023-04-21 17:17:08.661 Python[49082:550336] *** Assertion failure in +[NSEvent otherEventWithType:location:modifierFlags:timestamp:windowNumber:context:subtype:data1:data2:], NSEvent.m:647\n",
      "2023-04-21 17:17:08.679 Python[49082:550336] *** Assertion failure in +[NSEvent otherEventWithType:location:modifierFlags:timestamp:windowNumber:context:subtype:data1:data2:], NSEvent.m:647\n"
     ]
    },
    {
     "name": "stdout",
     "output_type": "stream",
     "text": [
      "D.DD..DD.DDh+\n",
      "..DD.D"
     ]
    },
    {
     "name": "stderr",
     "output_type": "stream",
     "text": [
      "2023-04-21 17:17:08.697 Python[49082:550336] *** Assertion failure in +[NSEvent otherEventWithType:location:modifierFlags:timestamp:windowNumber:context:subtype:data1:data2:], NSEvent.m:647\n",
      "2023-04-21 17:17:08.714 Python[49082:550336] *** Assertion failure in +[NSEvent otherEventWithType:location:modifierFlags:timestamp:windowNumber:context:subtype:data1:data2:], NSEvent.m:647\n",
      "2023-04-21 17:17:08.733 Python[49082:550336] *** Assertion failure in +[NSEvent otherEventWithType:location:modifierFlags:timestamp:windowNumber:context:subtype:data1:data2:], NSEvent.m:647\n",
      "2023-04-21 17:17:08.751 Python[49082:550336] *** Assertion failure in +[NSEvent otherEventWithType:location:modifierFlags:timestamp:windowNumber:context:subtype:data1:data2:], NSEvent.m:647\n",
      "2023-04-21 17:17:08.770 Python[49082:550336] *** Assertion failure in +[NSEvent otherEventWithType:location:modifierFlags:timestamp:windowNumber:context:subtype:data1:data2:], NSEvent.m:647\n",
      "2023-04-21 17:17:08.788 Python[49082:550336] *** Assertion failure in +[NSEvent otherEventWithType:location:modifierFlags:timestamp:windowNumber:context:subtype:data1:data2:], NSEvent.m:647\n",
      "2023-04-21 17:17:08.806 Python[49082:550336] *** Assertion failure in +[NSEvent otherEventWithType:location:modifierFlags:timestamp:windowNumber:context:subtype:data1:data2:], NSEvent.m:647\n",
      "2023-04-21 17:17:08.824 Python[49082:550336] *** Assertion failure in +[NSEvent otherEventWithType:location:modifierFlags:timestamp:windowNumber:context:subtype:data1:data2:], NSEvent.m:647\n",
      "2023-04-21 17:17:08.844 Python[49082:550336] *** Assertion failure in +[NSEvent otherEventWithType:location:modifierFlags:timestamp:windowNumber:context:subtype:data1:data2:], NSEvent.m:647\n",
      "2023-04-21 17:17:08.862 Python[49082:550336] *** Assertion failure in +[NSEvent otherEventWithType:location:modifierFlags:timestamp:windowNumber:context:subtype:data1:data2:], NSEvent.m:647\n",
      "2023-04-21 17:17:08.879 Python[49082:550336] *** Assertion failure in +[NSEvent otherEventWithType:location:modifierFlags:timestamp:windowNumber:context:subtype:data1:data2:], NSEvent.m:647\n",
      "2023-04-21 17:17:08.897 Python[49082:550336] *** Assertion failure in +[NSEvent otherEventWithType:location:modifierFlags:timestamp:windowNumber:context:subtype:data1:data2:], NSEvent.m:647\n"
     ]
    }
   ],
   "source": [
    "config['presentation']=None\n",
    "#uncomment the following line to use to the fakedata acquisition\n",
    "config['acquisition']='fakedata'\n",
    "mindaffectBCI.online_bci.run(**config)"
   ]
  },
  {
   "cell_type": "code",
   "execution_count": 4,
   "id": "7b7ae9c8",
   "metadata": {},
   "outputs": [
    {
     "name": "stdout",
     "output_type": "stream",
     "text": [
      "D..DD.DD..D"
     ]
    },
    {
     "name": "stderr",
     "output_type": "stream",
     "text": [
      "2023-04-21 17:17:08.915 Python[49082:550336] *** Assertion failure in +[NSEvent otherEventWithType:location:modifierFlags:timestamp:windowNumber:context:subtype:data1:data2:], NSEvent.m:647\n"
     ]
    },
    {
     "data": {
      "text/plain": [
       "True"
      ]
     },
     "execution_count": 4,
     "metadata": {},
     "output_type": "execute_result"
    },
    {
     "name": "stdout",
     "output_type": "stream",
     "text": [
      "D.DDh+\n"
     ]
    },
    {
     "name": "stderr",
     "output_type": "stream",
     "text": [
      "2023-04-21 17:17:08.968 Python[49082:550336] *** Assertion failure in +[NSEvent otherEventWithType:location:modifierFlags:timestamp:windowNumber:context:subtype:data1:data2:], NSEvent.m:647\n",
      "2023-04-21 17:17:08.983 Python[49082:550336] *** Assertion failure in +[NSEvent otherEventWithType:location:modifierFlags:timestamp:windowNumber:context:subtype:data1:data2:], NSEvent.m:647\n",
      "2023-04-21 17:17:08.999 Python[49082:550336] *** Assertion failure in +[NSEvent otherEventWithType:location:modifierFlags:timestamp:windowNumber:context:subtype:data1:data2:], NSEvent.m:647\n",
      "2023-04-21 17:17:09.014 Python[49082:550336] *** Assertion failure in +[NSEvent otherEventWithType:location:modifierFlags:timestamp:windowNumber:context:subtype:data1:data2:], NSEvent.m:647\n",
      "2023-04-21 17:17:09.030 Python[49082:550336] *** Assertion failure in +[NSEvent otherEventWithType:location:modifierFlags:timestamp:windowNumber:context:subtype:data1:data2:], NSEvent.m:647\n",
      "2023-04-21 17:17:09.045 Python[49082:550336] *** Assertion failure in +[NSEvent otherEventWithType:location:modifierFlags:timestamp:windowNumber:context:subtype:data1:data2:], NSEvent.m:647\n",
      "2023-04-21 17:17:09.061 Python[49082:550336] *** Assertion failure in +[NSEvent otherEventWithType:location:modifierFlags:timestamp:windowNumber:context:subtype:data1:data2:], NSEvent.m:647\n",
      "2023-04-21 17:17:09.077 Python[49082:550336] *** Assertion failure in +[NSEvent otherEventWithType:location:modifierFlags:timestamp:windowNumber:context:subtype:data1:data2:], NSEvent.m:647\n",
      "2023-04-21 17:17:09.093 Python[49082:550336] *** Assertion failure in +[NSEvent otherEventWithType:location:modifierFlags:timestamp:windowNumber:context:subtype:data1:data2:], NSEvent.m:647\n",
      "2023-04-21 17:17:09.108 Python[49082:550336] *** Assertion failure in +[NSEvent otherEventWithType:location:modifierFlags:timestamp:windowNumber:context:subtype:data1:data2:], NSEvent.m:647\n"
     ]
    },
    {
     "name": "stdout",
     "output_type": "stream",
     "text": [
      "..DD.D.\n",
      "D.DHH+\n",
      ".HD.D"
     ]
    },
    {
     "name": "stderr",
     "output_type": "stream",
     "text": [
      "2023-04-21 17:17:09.124 Python[49082:550336] *** Assertion failure in +[NSEvent otherEventWithType:location:modifierFlags:timestamp:windowNumber:context:subtype:data1:data2:], NSEvent.m:647\n",
      "2023-04-21 17:17:09.140 Python[49082:550336] *** Assertion failure in +[NSEvent otherEventWithType:location:modifierFlags:timestamp:windowNumber:context:subtype:data1:data2:], NSEvent.m:647\n",
      "2023-04-21 17:17:09.157 Python[49082:550336] *** Assertion failure in +[NSEvent otherEventWithType:location:modifierFlags:timestamp:windowNumber:context:subtype:data1:data2:], NSEvent.m:647\n"
     ]
    },
    {
     "name": "stdout",
     "output_type": "stream",
     "text": [
      "D..D"
     ]
    },
    {
     "name": "stderr",
     "output_type": "stream",
     "text": [
      "2023-04-21 17:17:09.174 Python[49082:550336] *** Assertion failure in +[NSEvent otherEventWithType:location:modifierFlags:timestamp:windowNumber:context:subtype:data1:data2:], NSEvent.m:647\n",
      "2023-04-21 17:17:09.190 Python[49082:550336] *** Assertion failure in +[NSEvent otherEventWithType:location:modifierFlags:timestamp:windowNumber:context:subtype:data1:data2:], NSEvent.m:647\n",
      "2023-04-21 17:17:09.208 Python[49082:550336] *** Assertion failure in +[NSEvent otherEventWithType:location:modifierFlags:timestamp:windowNumber:context:subtype:data1:data2:], NSEvent.m:647\n",
      "2023-04-21 17:17:09.225 Python[49082:550336] *** Assertion failure in +[NSEvent otherEventWithType:location:modifierFlags:timestamp:windowNumber:context:subtype:data1:data2:], NSEvent.m:647\n",
      "2023-04-21 17:17:09.242 Python[49082:550336] *** Assertion failure in +[NSEvent otherEventWithType:location:modifierFlags:timestamp:windowNumber:context:subtype:data1:data2:], NSEvent.m:647\n",
      "2023-04-21 17:17:09.260 Python[49082:550336] *** Assertion failure in +[NSEvent otherEventWithType:location:modifierFlags:timestamp:windowNumber:context:subtype:data1:data2:], NSEvent.m:647\n",
      "2023-04-21 17:17:09.278 Python[49082:550336] *** Assertion failure in +[NSEvent otherEventWithType:location:modifierFlags:timestamp:windowNumber:context:subtype:data1:data2:], NSEvent.m:647\n",
      "2023-04-21 17:17:09.294 Python[49082:550336] *** Assertion failure in +[NSEvent otherEventWithType:location:modifierFlags:timestamp:windowNumber:context:subtype:data1:data2:], NSEvent.m:647\n",
      "2023-04-21 17:17:09.312 Python[49082:550336] *** Assertion failure in +[NSEvent otherEventWithType:location:modifierFlags:timestamp:windowNumber:context:subtype:data1:data2:], NSEvent.m:647\n",
      "2023-04-21 17:17:09.329 Python[49082:550336] *** Assertion failure in +[NSEvent otherEventWithType:location:modifierFlags:timestamp:windowNumber:context:subtype:data1:data2:], NSEvent.m:647\n",
      "2023-04-21 17:17:09.347 Python[49082:550336] *** Assertion failure in +[NSEvent otherEventWithType:location:modifierFlags:timestamp:windowNumber:context:subtype:data1:data2:], NSEvent.m:647\n",
      "2023-04-21 17:17:09.365 Python[49082:550336] *** Assertion failure in +[NSEvent otherEventWithType:location:modifierFlags:timestamp:windowNumber:context:subtype:data1:data2:], NSEvent.m:647\n"
     ]
    },
    {
     "name": "stdout",
     "output_type": "stream",
     "text": [
      "D.DDh+\n",
      "..DQDSigQ:\n",
      "raw_power=([1.0267065  0.9751216  0.97613907 1.0357467 ]/10)\n",
      "pp_power=([0.39398194 0.44970867 0.43609133 0.46232444]/5)\n",
      "noise2sig=[1.60597339 1.16834069 1.23838218 1.24030269]\n",
      ".DD..DD.D"
     ]
    },
    {
     "name": "stderr",
     "output_type": "stream",
     "text": [
      "2023-04-21 17:17:09.383 Python[49082:550336] *** Assertion failure in +[NSEvent otherEventWithType:location:modifierFlags:timestamp:windowNumber:context:subtype:data1:data2:], NSEvent.m:647\n",
      "2023-04-21 17:17:09.403 Python[49082:550336] *** Assertion failure in +[NSEvent otherEventWithType:location:modifierFlags:timestamp:windowNumber:context:subtype:data1:data2:], NSEvent.m:647\n",
      "2023-04-21 17:17:09.421 Python[49082:550336] *** Assertion failure in +[NSEvent otherEventWithType:location:modifierFlags:timestamp:windowNumber:context:subtype:data1:data2:], NSEvent.m:647\n",
      "2023-04-21 17:17:09.438 Python[49082:550336] *** Assertion failure in +[NSEvent otherEventWithType:location:modifierFlags:timestamp:windowNumber:context:subtype:data1:data2:], NSEvent.m:647\n",
      "2023-04-21 17:17:09.455 Python[49082:550336] *** Assertion failure in +[NSEvent otherEventWithType:location:modifierFlags:timestamp:windowNumber:context:subtype:data1:data2:], NSEvent.m:647\n",
      "2023-04-21 17:17:09.474 Python[49082:550336] *** Assertion failure in +[NSEvent otherEventWithType:location:modifierFlags:timestamp:windowNumber:context:subtype:data1:data2:], NSEvent.m:647\n",
      "2023-04-21 17:17:09.491 Python[49082:550336] *** Assertion failure in +[NSEvent otherEventWithType:location:modifierFlags:timestamp:windowNumber:context:subtype:data1:data2:], NSEvent.m:647\n",
      "2023-04-21 17:17:09.510 Python[49082:550336] *** Assertion failure in +[NSEvent otherEventWithType:location:modifierFlags:timestamp:windowNumber:context:subtype:data1:data2:], NSEvent.m:647\n",
      "2023-04-21 17:17:09.527 Python[49082:550336] *** Assertion failure in +[NSEvent otherEventWithType:location:modifierFlags:timestamp:windowNumber:context:subtype:data1:data2:], NSEvent.m:647\n",
      "2023-04-21 17:17:09.544 Python[49082:550336] *** Assertion failure in +[NSEvent otherEventWithType:location:modifierFlags:timestamp:windowNumber:context:subtype:data1:data2:], NSEvent.m:647\n",
      "2023-04-21 17:17:09.561 Python[49082:550336] *** Assertion failure in +[NSEvent otherEventWithType:location:modifierFlags:timestamp:windowNumber:context:subtype:data1:data2:], NSEvent.m:647\n",
      "2023-04-21 17:17:09.580 Python[49082:550336] *** Assertion failure in +[NSEvent otherEventWithType:location:modifierFlags:timestamp:windowNumber:context:subtype:data1:data2:], NSEvent.m:647\n"
     ]
    },
    {
     "name": "stdout",
     "output_type": "stream",
     "text": [
      "D..DDH.D.HDh+\n",
      "..DD.DD"
     ]
    },
    {
     "name": "stderr",
     "output_type": "stream",
     "text": [
      "2023-04-21 17:17:09.598 Python[49082:550336] *** Assertion failure in +[NSEvent otherEventWithType:location:modifierFlags:timestamp:windowNumber:context:subtype:data1:data2:], NSEvent.m:647\n",
      "2023-04-21 17:17:09.614 Python[49082:550336] *** Assertion failure in +[NSEvent otherEventWithType:location:modifierFlags:timestamp:windowNumber:context:subtype:data1:data2:], NSEvent.m:647\n",
      "2023-04-21 17:17:09.633 Python[49082:550336] *** Assertion failure in +[NSEvent otherEventWithType:location:modifierFlags:timestamp:windowNumber:context:subtype:data1:data2:], NSEvent.m:647\n",
      "2023-04-21 17:17:09.650 Python[49082:550336] *** Assertion failure in +[NSEvent otherEventWithType:location:modifierFlags:timestamp:windowNumber:context:subtype:data1:data2:], NSEvent.m:647\n",
      "2023-04-21 17:17:09.668 Python[49082:550336] *** Assertion failure in +[NSEvent otherEventWithType:location:modifierFlags:timestamp:windowNumber:context:subtype:data1:data2:], NSEvent.m:647\n",
      "2023-04-21 17:17:09.685 Python[49082:550336] *** Assertion failure in +[NSEvent otherEventWithType:location:modifierFlags:timestamp:windowNumber:context:subtype:data1:data2:], NSEvent.m:647\n",
      "2023-04-21 17:17:09.703 Python[49082:550336] *** Assertion failure in +[NSEvent otherEventWithType:location:modifierFlags:timestamp:windowNumber:context:subtype:data1:data2:], NSEvent.m:647\n",
      "2023-04-21 17:17:09.721 Python[49082:550336] *** Assertion failure in +[NSEvent otherEventWithType:location:modifierFlags:timestamp:windowNumber:context:subtype:data1:data2:], NSEvent.m:647\n",
      "2023-04-21 17:17:09.739 Python[49082:550336] *** Assertion failure in +[NSEvent otherEventWithType:location:modifierFlags:timestamp:windowNumber:context:subtype:data1:data2:], NSEvent.m:647\n",
      "2023-04-21 17:17:09.756 Python[49082:550336] *** Assertion failure in +[NSEvent otherEventWithType:location:modifierFlags:timestamp:windowNumber:context:subtype:data1:data2:], NSEvent.m:647\n",
      "2023-04-21 17:17:09.773 Python[49082:550336] *** Assertion failure in +[NSEvent otherEventWithType:location:modifierFlags:timestamp:windowNumber:context:subtype:data1:data2:], NSEvent.m:647\n",
      "2023-04-21 17:17:09.791 Python[49082:550336] *** Assertion failure in +[NSEvent otherEventWithType:location:modifierFlags:timestamp:windowNumber:context:subtype:data1:data2:], NSEvent.m:647\n"
     ]
    },
    {
     "name": "stdout",
     "output_type": "stream",
     "text": [
      "..DD.DD..DD.DDh+\n"
     ]
    },
    {
     "name": "stderr",
     "output_type": "stream",
     "text": [
      "2023-04-21 17:17:09.808 Python[49082:550336] *** Assertion failure in +[NSEvent otherEventWithType:location:modifierFlags:timestamp:windowNumber:context:subtype:data1:data2:], NSEvent.m:647\n",
      "2023-04-21 17:17:09.825 Python[49082:550336] *** Assertion failure in +[NSEvent otherEventWithType:location:modifierFlags:timestamp:windowNumber:context:subtype:data1:data2:], NSEvent.m:647\n",
      "2023-04-21 17:17:09.843 Python[49082:550336] *** Assertion failure in +[NSEvent otherEventWithType:location:modifierFlags:timestamp:windowNumber:context:subtype:data1:data2:], NSEvent.m:647\n",
      "2023-04-21 17:17:09.861 Python[49082:550336] *** Assertion failure in +[NSEvent otherEventWithType:location:modifierFlags:timestamp:windowNumber:context:subtype:data1:data2:], NSEvent.m:647\n",
      "2023-04-21 17:17:09.879 Python[49082:550336] *** Assertion failure in +[NSEvent otherEventWithType:location:modifierFlags:timestamp:windowNumber:context:subtype:data1:data2:], NSEvent.m:647\n",
      "2023-04-21 17:17:09.897 Python[49082:550336] *** Assertion failure in +[NSEvent otherEventWithType:location:modifierFlags:timestamp:windowNumber:context:subtype:data1:data2:], NSEvent.m:647\n",
      "2023-04-21 17:17:09.915 Python[49082:550336] *** Assertion failure in +[NSEvent otherEventWithType:location:modifierFlags:timestamp:windowNumber:context:subtype:data1:data2:], NSEvent.m:647\n",
      "2023-04-21 17:17:09.933 Python[49082:550336] *** Assertion failure in +[NSEvent otherEventWithType:location:modifierFlags:timestamp:windowNumber:context:subtype:data1:data2:], NSEvent.m:647\n",
      "2023-04-21 17:17:09.951 Python[49082:550336] *** Assertion failure in +[NSEvent otherEventWithType:location:modifierFlags:timestamp:windowNumber:context:subtype:data1:data2:], NSEvent.m:647\n",
      "2023-04-21 17:17:09.970 Python[49082:550336] *** Assertion failure in +[NSEvent otherEventWithType:location:modifierFlags:timestamp:windowNumber:context:subtype:data1:data2:], NSEvent.m:647\n",
      "2023-04-21 17:17:09.988 Python[49082:550336] *** Assertion failure in +[NSEvent otherEventWithType:location:modifierFlags:timestamp:windowNumber:context:subtype:data1:data2:], NSEvent.m:647\n",
      "2023-04-21 17:17:10.007 Python[49082:550336] *** Assertion failure in +[NSEvent otherEventWithType:location:modifierFlags:timestamp:windowNumber:context:subtype:data1:data2:], NSEvent.m:647\n"
     ]
    },
    {
     "name": "stdout",
     "output_type": "stream",
     "text": [
      "..DD.DD..DD.DD"
     ]
    },
    {
     "name": "stderr",
     "output_type": "stream",
     "text": [
      "2023-04-21 17:17:10.025 Python[49082:550336] *** Assertion failure in +[NSEvent otherEventWithType:location:modifierFlags:timestamp:windowNumber:context:subtype:data1:data2:], NSEvent.m:647\n",
      "2023-04-21 17:17:10.043 Python[49082:550336] *** Assertion failure in +[NSEvent otherEventWithType:location:modifierFlags:timestamp:windowNumber:context:subtype:data1:data2:], NSEvent.m:647\n",
      "2023-04-21 17:17:10.060 Python[49082:550336] *** Assertion failure in +[NSEvent otherEventWithType:location:modifierFlags:timestamp:windowNumber:context:subtype:data1:data2:], NSEvent.m:647\n",
      "2023-04-21 17:17:10.078 Python[49082:550336] *** Assertion failure in +[NSEvent otherEventWithType:location:modifierFlags:timestamp:windowNumber:context:subtype:data1:data2:], NSEvent.m:647\n",
      "2023-04-21 17:17:10.097 Python[49082:550336] *** Assertion failure in +[NSEvent otherEventWithType:location:modifierFlags:timestamp:windowNumber:context:subtype:data1:data2:], NSEvent.m:647\n",
      "2023-04-21 17:17:10.115 Python[49082:550336] *** Assertion failure in +[NSEvent otherEventWithType:location:modifierFlags:timestamp:windowNumber:context:subtype:data1:data2:], NSEvent.m:647\n",
      "2023-04-21 17:17:10.134 Python[49082:550336] *** Assertion failure in +[NSEvent otherEventWithType:location:modifierFlags:timestamp:windowNumber:context:subtype:data1:data2:], NSEvent.m:647\n",
      "2023-04-21 17:17:10.154 Python[49082:550336] *** Assertion failure in +[NSEvent otherEventWithType:location:modifierFlags:timestamp:windowNumber:context:subtype:data1:data2:], NSEvent.m:647\n",
      "2023-04-21 17:17:10.171 Python[49082:550336] *** Assertion failure in +[NSEvent otherEventWithType:location:modifierFlags:timestamp:windowNumber:context:subtype:data1:data2:], NSEvent.m:647\n",
      "2023-04-21 17:17:10.191 Python[49082:550336] *** Assertion failure in +[NSEvent otherEventWithType:location:modifierFlags:timestamp:windowNumber:context:subtype:data1:data2:], NSEvent.m:647\n",
      "2023-04-21 17:17:10.209 Python[49082:550336] *** Assertion failure in +[NSEvent otherEventWithType:location:modifierFlags:timestamp:windowNumber:context:subtype:data1:data2:], NSEvent.m:647\n"
     ]
    },
    {
     "name": "stdout",
     "output_type": "stream",
     "text": [
      "..D\n",
      "Offset Update:-1.566873401E9->-1.566873402E9\n",
      "HH+\n",
      ".HD.DDh+\n",
      "..DD.DD..D"
     ]
    },
    {
     "name": "stderr",
     "output_type": "stream",
     "text": [
      "2023-04-21 17:17:10.227 Python[49082:550336] *** Assertion failure in +[NSEvent otherEventWithType:location:modifierFlags:timestamp:windowNumber:context:subtype:data1:data2:], NSEvent.m:647\n",
      "2023-04-21 17:17:10.243 Python[49082:550336] *** Assertion failure in +[NSEvent otherEventWithType:location:modifierFlags:timestamp:windowNumber:context:subtype:data1:data2:], NSEvent.m:647\n",
      "2023-04-21 17:17:10.258 Python[49082:550336] *** Assertion failure in +[NSEvent otherEventWithType:location:modifierFlags:timestamp:windowNumber:context:subtype:data1:data2:], NSEvent.m:647\n",
      "2023-04-21 17:17:10.274 Python[49082:550336] *** Assertion failure in +[NSEvent otherEventWithType:location:modifierFlags:timestamp:windowNumber:context:subtype:data1:data2:], NSEvent.m:647\n",
      "2023-04-21 17:17:10.291 Python[49082:550336] *** Assertion failure in +[NSEvent otherEventWithType:location:modifierFlags:timestamp:windowNumber:context:subtype:data1:data2:], NSEvent.m:647\n",
      "2023-04-21 17:17:10.310 Python[49082:550336] *** Assertion failure in +[NSEvent otherEventWithType:location:modifierFlags:timestamp:windowNumber:context:subtype:data1:data2:], NSEvent.m:647\n",
      "2023-04-21 17:17:10.324 Python[49082:550336] *** Assertion failure in +[NSEvent otherEventWithType:location:modifierFlags:timestamp:windowNumber:context:subtype:data1:data2:], NSEvent.m:647\n",
      "2023-04-21 17:17:10.341 Python[49082:550336] *** Assertion failure in +[NSEvent otherEventWithType:location:modifierFlags:timestamp:windowNumber:context:subtype:data1:data2:], NSEvent.m:647\n",
      "2023-04-21 17:17:10.358 Python[49082:550336] *** Assertion failure in +[NSEvent otherEventWithType:location:modifierFlags:timestamp:windowNumber:context:subtype:data1:data2:], NSEvent.m:647\n",
      "2023-04-21 17:17:10.374 Python[49082:550336] *** Assertion failure in +[NSEvent otherEventWithType:location:modifierFlags:timestamp:windowNumber:context:subtype:data1:data2:], NSEvent.m:647\n",
      "2023-04-21 17:17:10.391 Python[49082:550336] *** Assertion failure in +[NSEvent otherEventWithType:location:modifierFlags:timestamp:windowNumber:context:subtype:data1:data2:], NSEvent.m:647\n",
      "2023-04-21 17:17:10.408 Python[49082:550336] *** Assertion failure in +[NSEvent otherEventWithType:location:modifierFlags:timestamp:windowNumber:context:subtype:data1:data2:], NSEvent.m:647\n",
      "2023-04-21 17:17:10.425 Python[49082:550336] *** Assertion failure in +[NSEvent otherEventWithType:location:modifierFlags:timestamp:windowNumber:context:subtype:data1:data2:], NSEvent.m:647\n"
     ]
    },
    {
     "name": "stdout",
     "output_type": "stream",
     "text": [
      "D.DQDSigQ:\n",
      "raw_power=([1.0241948  0.99969256 0.9842585  1.0062675 ]/10)\n",
      "pp_power=([0.42321657 0.37669608 0.46476286 0.38695492]/5)\n",
      "noise2sig=[1.42002537 1.65384378 1.11776489 1.60047746]\n",
      "..DD.DDh+\n",
      "..DD.D"
     ]
    },
    {
     "name": "stderr",
     "output_type": "stream",
     "text": [
      "2023-04-21 17:17:10.439 Python[49082:550336] *** Assertion failure in +[NSEvent otherEventWithType:location:modifierFlags:timestamp:windowNumber:context:subtype:data1:data2:], NSEvent.m:647\n",
      "2023-04-21 17:17:10.457 Python[49082:550336] *** Assertion failure in +[NSEvent otherEventWithType:location:modifierFlags:timestamp:windowNumber:context:subtype:data1:data2:], NSEvent.m:647\n",
      "2023-04-21 17:17:10.474 Python[49082:550336] *** Assertion failure in +[NSEvent otherEventWithType:location:modifierFlags:timestamp:windowNumber:context:subtype:data1:data2:], NSEvent.m:647\n",
      "2023-04-21 17:17:10.493 Python[49082:550336] *** Assertion failure in +[NSEvent otherEventWithType:location:modifierFlags:timestamp:windowNumber:context:subtype:data1:data2:], NSEvent.m:647\n",
      "2023-04-21 17:17:10.511 Python[49082:550336] *** Assertion failure in +[NSEvent otherEventWithType:location:modifierFlags:timestamp:windowNumber:context:subtype:data1:data2:], NSEvent.m:647\n",
      "2023-04-21 17:17:10.529 Python[49082:550336] *** Assertion failure in +[NSEvent otherEventWithType:location:modifierFlags:timestamp:windowNumber:context:subtype:data1:data2:], NSEvent.m:647\n",
      "2023-04-21 17:17:10.548 Python[49082:550336] *** Assertion failure in +[NSEvent otherEventWithType:location:modifierFlags:timestamp:windowNumber:context:subtype:data1:data2:], NSEvent.m:647\n",
      "2023-04-21 17:17:10.566 Python[49082:550336] *** Assertion failure in +[NSEvent otherEventWithType:location:modifierFlags:timestamp:windowNumber:context:subtype:data1:data2:], NSEvent.m:647\n",
      "2023-04-21 17:17:10.586 Python[49082:550336] *** Assertion failure in +[NSEvent otherEventWithType:location:modifierFlags:timestamp:windowNumber:context:subtype:data1:data2:], NSEvent.m:647\n",
      "2023-04-21 17:17:10.604 Python[49082:550336] *** Assertion failure in +[NSEvent otherEventWithType:location:modifierFlags:timestamp:windowNumber:context:subtype:data1:data2:], NSEvent.m:647\n",
      "2023-04-21 17:17:10.622 Python[49082:550336] *** Assertion failure in +[NSEvent otherEventWithType:location:modifierFlags:timestamp:windowNumber:context:subtype:data1:data2:], NSEvent.m:647\n",
      "2023-04-21 17:17:10.639 Python[49082:550336] *** Assertion failure in +[NSEvent otherEventWithType:location:modifierFlags:timestamp:windowNumber:context:subtype:data1:data2:], NSEvent.m:647\n"
     ]
    },
    {
     "name": "stdout",
     "output_type": "stream",
     "text": [
      "DH..D"
     ]
    },
    {
     "name": "stderr",
     "output_type": "stream",
     "text": [
      "2023-04-21 17:17:10.657 Python[49082:550336] *** Assertion failure in +[NSEvent otherEventWithType:location:modifierFlags:timestamp:windowNumber:context:subtype:data1:data2:], NSEvent.m:647\n",
      "2023-04-21 17:17:10.675 Python[49082:550336] *** Assertion failure in +[NSEvent otherEventWithType:location:modifierFlags:timestamp:windowNumber:context:subtype:data1:data2:], NSEvent.m:647\n",
      "2023-04-21 17:17:10.692 Python[49082:550336] *** Assertion failure in +[NSEvent otherEventWithType:location:modifierFlags:timestamp:windowNumber:context:subtype:data1:data2:], NSEvent.m:647\n",
      "2023-04-21 17:17:10.711 Python[49082:550336] *** Assertion failure in +[NSEvent otherEventWithType:location:modifierFlags:timestamp:windowNumber:context:subtype:data1:data2:], NSEvent.m:647\n",
      "2023-04-21 17:17:10.730 Python[49082:550336] *** Assertion failure in +[NSEvent otherEventWithType:location:modifierFlags:timestamp:windowNumber:context:subtype:data1:data2:], NSEvent.m:647\n",
      "2023-04-21 17:17:10.747 Python[49082:550336] *** Assertion failure in +[NSEvent otherEventWithType:location:modifierFlags:timestamp:windowNumber:context:subtype:data1:data2:], NSEvent.m:647\n",
      "2023-04-21 17:17:10.765 Python[49082:550336] *** Assertion failure in +[NSEvent otherEventWithType:location:modifierFlags:timestamp:windowNumber:context:subtype:data1:data2:], NSEvent.m:647\n",
      "2023-04-21 17:17:10.784 Python[49082:550336] *** Assertion failure in +[NSEvent otherEventWithType:location:modifierFlags:timestamp:windowNumber:context:subtype:data1:data2:], NSEvent.m:647\n",
      "2023-04-21 17:17:10.803 Python[49082:550336] *** Assertion failure in +[NSEvent otherEventWithType:location:modifierFlags:timestamp:windowNumber:context:subtype:data1:data2:], NSEvent.m:647\n"
     ]
    },
    {
     "name": "stdout",
     "output_type": "stream",
     "text": [
      "HD.DD..DDh+\n",
      ".DD"
     ]
    },
    {
     "name": "stderr",
     "output_type": "stream",
     "text": [
      "2023-04-21 17:17:10.820 Python[49082:550336] *** Assertion failure in +[NSEvent otherEventWithType:location:modifierFlags:timestamp:windowNumber:context:subtype:data1:data2:], NSEvent.m:647\n",
      "2023-04-21 17:17:10.839 Python[49082:550336] *** Assertion failure in +[NSEvent otherEventWithType:location:modifierFlags:timestamp:windowNumber:context:subtype:data1:data2:], NSEvent.m:647\n",
      "2023-04-21 17:17:10.857 Python[49082:550336] *** Assertion failure in +[NSEvent otherEventWithType:location:modifierFlags:timestamp:windowNumber:context:subtype:data1:data2:], NSEvent.m:647\n",
      "2023-04-21 17:17:10.876 Python[49082:550336] *** Assertion failure in +[NSEvent otherEventWithType:location:modifierFlags:timestamp:windowNumber:context:subtype:data1:data2:], NSEvent.m:647\n",
      "2023-04-21 17:17:10.894 Python[49082:550336] *** Assertion failure in +[NSEvent otherEventWithType:location:modifierFlags:timestamp:windowNumber:context:subtype:data1:data2:], NSEvent.m:647\n",
      "2023-04-21 17:17:10.912 Python[49082:550336] *** Assertion failure in +[NSEvent otherEventWithType:location:modifierFlags:timestamp:windowNumber:context:subtype:data1:data2:], NSEvent.m:647\n",
      "2023-04-21 17:17:10.930 Python[49082:550336] *** Assertion failure in +[NSEvent otherEventWithType:location:modifierFlags:timestamp:windowNumber:context:subtype:data1:data2:], NSEvent.m:647\n",
      "2023-04-21 17:17:10.948 Python[49082:550336] *** Assertion failure in +[NSEvent otherEventWithType:location:modifierFlags:timestamp:windowNumber:context:subtype:data1:data2:], NSEvent.m:647\n",
      "2023-04-21 17:17:10.967 Python[49082:550336] *** Assertion failure in +[NSEvent otherEventWithType:location:modifierFlags:timestamp:windowNumber:context:subtype:data1:data2:], NSEvent.m:647\n",
      "2023-04-21 17:17:10.984 Python[49082:550336] *** Assertion failure in +[NSEvent otherEventWithType:location:modifierFlags:timestamp:windowNumber:context:subtype:data1:data2:], NSEvent.m:647\n",
      "2023-04-21 17:17:11.002 Python[49082:550336] *** Assertion failure in +[NSEvent otherEventWithType:location:modifierFlags:timestamp:windowNumber:context:subtype:data1:data2:], NSEvent.m:647\n",
      "2023-04-21 17:17:11.021 Python[49082:550336] *** Assertion failure in +[NSEvent otherEventWithType:location:modifierFlags:timestamp:windowNumber:context:subtype:data1:data2:], NSEvent.m:647\n"
     ]
    },
    {
     "name": "stdout",
     "output_type": "stream",
     "text": [
      "..DD.DD..DD.DD"
     ]
    },
    {
     "name": "stderr",
     "output_type": "stream",
     "text": [
      "2023-04-21 17:17:11.037 Python[49082:550336] *** Assertion failure in +[NSEvent otherEventWithType:location:modifierFlags:timestamp:windowNumber:context:subtype:data1:data2:], NSEvent.m:647\n",
      "2023-04-21 17:17:11.054 Python[49082:550336] *** Assertion failure in +[NSEvent otherEventWithType:location:modifierFlags:timestamp:windowNumber:context:subtype:data1:data2:], NSEvent.m:647\n",
      "2023-04-21 17:17:11.072 Python[49082:550336] *** Assertion failure in +[NSEvent otherEventWithType:location:modifierFlags:timestamp:windowNumber:context:subtype:data1:data2:], NSEvent.m:647\n",
      "2023-04-21 17:17:11.091 Python[49082:550336] *** Assertion failure in +[NSEvent otherEventWithType:location:modifierFlags:timestamp:windowNumber:context:subtype:data1:data2:], NSEvent.m:647\n",
      "2023-04-21 17:17:11.109 Python[49082:550336] *** Assertion failure in +[NSEvent otherEventWithType:location:modifierFlags:timestamp:windowNumber:context:subtype:data1:data2:], NSEvent.m:647\n",
      "2023-04-21 17:17:11.128 Python[49082:550336] *** Assertion failure in +[NSEvent otherEventWithType:location:modifierFlags:timestamp:windowNumber:context:subtype:data1:data2:], NSEvent.m:647\n",
      "2023-04-21 17:17:11.146 Python[49082:550336] *** Assertion failure in +[NSEvent otherEventWithType:location:modifierFlags:timestamp:windowNumber:context:subtype:data1:data2:], NSEvent.m:647\n",
      "2023-04-21 17:17:11.165 Python[49082:550336] *** Assertion failure in +[NSEvent otherEventWithType:location:modifierFlags:timestamp:windowNumber:context:subtype:data1:data2:], NSEvent.m:647\n",
      "2023-04-21 17:17:11.183 Python[49082:550336] *** Assertion failure in +[NSEvent otherEventWithType:location:modifierFlags:timestamp:windowNumber:context:subtype:data1:data2:], NSEvent.m:647\n",
      "2023-04-21 17:17:11.201 Python[49082:550336] *** Assertion failure in +[NSEvent otherEventWithType:location:modifierFlags:timestamp:windowNumber:context:subtype:data1:data2:], NSEvent.m:647\n",
      "2023-04-21 17:17:11.220 Python[49082:550336] *** Assertion failure in +[NSEvent otherEventWithType:location:modifierFlags:timestamp:windowNumber:context:subtype:data1:data2:], NSEvent.m:647\n"
     ]
    },
    {
     "name": "stdout",
     "output_type": "stream",
     "text": [
      "..DDh+\n",
      ".D.\n",
      "D.DHH+\n",
      ".H3660 366 18.249647 200.551823 (samp,blk,s,hz)\n",
      "D.DD"
     ]
    },
    {
     "name": "stderr",
     "output_type": "stream",
     "text": [
      "2023-04-21 17:17:11.240 Python[49082:550336] *** Assertion failure in +[NSEvent otherEventWithType:location:modifierFlags:timestamp:windowNumber:context:subtype:data1:data2:], NSEvent.m:647\n",
      "2023-04-21 17:17:11.259 Python[49082:550336] *** Assertion failure in +[NSEvent otherEventWithType:location:modifierFlags:timestamp:windowNumber:context:subtype:data1:data2:], NSEvent.m:647\n",
      "2023-04-21 17:17:11.276 Python[49082:550336] *** Assertion failure in +[NSEvent otherEventWithType:location:modifierFlags:timestamp:windowNumber:context:subtype:data1:data2:], NSEvent.m:647\n",
      "2023-04-21 17:17:11.295 Python[49082:550336] *** Assertion failure in +[NSEvent otherEventWithType:location:modifierFlags:timestamp:windowNumber:context:subtype:data1:data2:], NSEvent.m:647\n",
      "2023-04-21 17:17:11.313 Python[49082:550336] *** Assertion failure in +[NSEvent otherEventWithType:location:modifierFlags:timestamp:windowNumber:context:subtype:data1:data2:], NSEvent.m:647\n",
      "2023-04-21 17:17:11.332 Python[49082:550336] *** Assertion failure in +[NSEvent otherEventWithType:location:modifierFlags:timestamp:windowNumber:context:subtype:data1:data2:], NSEvent.m:647\n",
      "2023-04-21 17:17:11.351 Python[49082:550336] *** Assertion failure in +[NSEvent otherEventWithType:location:modifierFlags:timestamp:windowNumber:context:subtype:data1:data2:], NSEvent.m:647\n",
      "2023-04-21 17:17:11.368 Python[49082:550336] *** Assertion failure in +[NSEvent otherEventWithType:location:modifierFlags:timestamp:windowNumber:context:subtype:data1:data2:], NSEvent.m:647\n",
      "2023-04-21 17:17:11.387 Python[49082:550336] *** Assertion failure in +[NSEvent otherEventWithType:location:modifierFlags:timestamp:windowNumber:context:subtype:data1:data2:], NSEvent.m:647\n",
      "2023-04-21 17:17:11.404 Python[49082:550336] *** Assertion failure in +[NSEvent otherEventWithType:location:modifierFlags:timestamp:windowNumber:context:subtype:data1:data2:], NSEvent.m:647\n",
      "2023-04-21 17:17:11.421 Python[49082:550336] *** Assertion failure in +[NSEvent otherEventWithType:location:modifierFlags:timestamp:windowNumber:context:subtype:data1:data2:], NSEvent.m:647\n",
      "2023-04-21 17:17:11.438 Python[49082:550336] *** Assertion failure in +[NSEvent otherEventWithType:location:modifierFlags:timestamp:windowNumber:context:subtype:data1:data2:], NSEvent.m:647\n"
     ]
    },
    {
     "name": "stdout",
     "output_type": "stream",
     "text": [
      "..DD.DDh+\n",
      "..DD.DQD"
     ]
    },
    {
     "name": "stderr",
     "output_type": "stream",
     "text": [
      "2023-04-21 17:17:11.456 Python[49082:550336] *** Assertion failure in +[NSEvent otherEventWithType:location:modifierFlags:timestamp:windowNumber:context:subtype:data1:data2:], NSEvent.m:647\n",
      "2023-04-21 17:17:11.474 Python[49082:550336] *** Assertion failure in +[NSEvent otherEventWithType:location:modifierFlags:timestamp:windowNumber:context:subtype:data1:data2:], NSEvent.m:647\n",
      "2023-04-21 17:17:11.491 Python[49082:550336] *** Assertion failure in +[NSEvent otherEventWithType:location:modifierFlags:timestamp:windowNumber:context:subtype:data1:data2:], NSEvent.m:647\n"
     ]
    },
    {
     "name": "stdout",
     "output_type": "stream",
     "text": [
      "SigQ:\n",
      "raw_power=([0.9942562  1.0121304  1.0011948  0.96861213]/10)\n",
      "pp_power=([0.42706846 0.37986755 0.50248758 0.41357211]/5)\n",
      "noise2sig=[1.32809557 1.66442968 0.99247676 1.34206348]\n",
      "..DD.DD..DD.DDh+\n"
     ]
    },
    {
     "name": "stderr",
     "output_type": "stream",
     "text": [
      "2023-04-21 17:17:11.510 Python[49082:550336] *** Assertion failure in +[NSEvent otherEventWithType:location:modifierFlags:timestamp:windowNumber:context:subtype:data1:data2:], NSEvent.m:647\n",
      "2023-04-21 17:17:11.528 Python[49082:550336] *** Assertion failure in +[NSEvent otherEventWithType:location:modifierFlags:timestamp:windowNumber:context:subtype:data1:data2:], NSEvent.m:647\n",
      "2023-04-21 17:17:11.545 Python[49082:550336] *** Assertion failure in +[NSEvent otherEventWithType:location:modifierFlags:timestamp:windowNumber:context:subtype:data1:data2:], NSEvent.m:647\n",
      "2023-04-21 17:17:11.564 Python[49082:550336] *** Assertion failure in +[NSEvent otherEventWithType:location:modifierFlags:timestamp:windowNumber:context:subtype:data1:data2:], NSEvent.m:647\n",
      "2023-04-21 17:17:11.584 Python[49082:550336] *** Assertion failure in +[NSEvent otherEventWithType:location:modifierFlags:timestamp:windowNumber:context:subtype:data1:data2:], NSEvent.m:647\n",
      "2023-04-21 17:17:11.603 Python[49082:550336] *** Assertion failure in +[NSEvent otherEventWithType:location:modifierFlags:timestamp:windowNumber:context:subtype:data1:data2:], NSEvent.m:647\n",
      "2023-04-21 17:17:11.620 Python[49082:550336] *** Assertion failure in +[NSEvent otherEventWithType:location:modifierFlags:timestamp:windowNumber:context:subtype:data1:data2:], NSEvent.m:647\n",
      "2023-04-21 17:17:11.638 Python[49082:550336] *** Assertion failure in +[NSEvent otherEventWithType:location:modifierFlags:timestamp:windowNumber:context:subtype:data1:data2:], NSEvent.m:647\n",
      "2023-04-21 17:17:11.655 Python[49082:550336] *** Assertion failure in +[NSEvent otherEventWithType:location:modifierFlags:timestamp:windowNumber:context:subtype:data1:data2:], NSEvent.m:647\n",
      "2023-04-21 17:17:11.673 Python[49082:550336] *** Assertion failure in +[NSEvent otherEventWithType:location:modifierFlags:timestamp:windowNumber:context:subtype:data1:data2:], NSEvent.m:647\n",
      "2023-04-21 17:17:11.689 Python[49082:550336] *** Assertion failure in +[NSEvent otherEventWithType:location:modifierFlags:timestamp:windowNumber:context:subtype:data1:data2:], NSEvent.m:647\n",
      "2023-04-21 17:17:11.706 Python[49082:550336] *** Assertion failure in +[NSEvent otherEventWithType:location:modifierFlags:timestamp:windowNumber:context:subtype:data1:data2:], NSEvent.m:647\n"
     ]
    },
    {
     "name": "stdout",
     "output_type": "stream",
     "text": [
      "..DDH.DHD..DD.DD..D"
     ]
    },
    {
     "name": "stderr",
     "output_type": "stream",
     "text": [
      "2023-04-21 17:17:11.724 Python[49082:550336] *** Assertion failure in +[NSEvent otherEventWithType:location:modifierFlags:timestamp:windowNumber:context:subtype:data1:data2:], NSEvent.m:647\n",
      "2023-04-21 17:17:11.742 Python[49082:550336] *** Assertion failure in +[NSEvent otherEventWithType:location:modifierFlags:timestamp:windowNumber:context:subtype:data1:data2:], NSEvent.m:647\n",
      "2023-04-21 17:17:11.760 Python[49082:550336] *** Assertion failure in +[NSEvent otherEventWithType:location:modifierFlags:timestamp:windowNumber:context:subtype:data1:data2:], NSEvent.m:647\n",
      "2023-04-21 17:17:11.778 Python[49082:550336] *** Assertion failure in +[NSEvent otherEventWithType:location:modifierFlags:timestamp:windowNumber:context:subtype:data1:data2:], NSEvent.m:647\n",
      "2023-04-21 17:17:11.796 Python[49082:550336] *** Assertion failure in +[NSEvent otherEventWithType:location:modifierFlags:timestamp:windowNumber:context:subtype:data1:data2:], NSEvent.m:647\n",
      "2023-04-21 17:17:11.814 Python[49082:550336] *** Assertion failure in +[NSEvent otherEventWithType:location:modifierFlags:timestamp:windowNumber:context:subtype:data1:data2:], NSEvent.m:647\n",
      "2023-04-21 17:17:11.833 Python[49082:550336] *** Assertion failure in +[NSEvent otherEventWithType:location:modifierFlags:timestamp:windowNumber:context:subtype:data1:data2:], NSEvent.m:647\n",
      "2023-04-21 17:17:11.852 Python[49082:550336] *** Assertion failure in +[NSEvent otherEventWithType:location:modifierFlags:timestamp:windowNumber:context:subtype:data1:data2:], NSEvent.m:647\n",
      "2023-04-21 17:17:11.871 Python[49082:550336] *** Assertion failure in +[NSEvent otherEventWithType:location:modifierFlags:timestamp:windowNumber:context:subtype:data1:data2:], NSEvent.m:647\n",
      "2023-04-21 17:17:11.890 Python[49082:550336] *** Assertion failure in +[NSEvent otherEventWithType:location:modifierFlags:timestamp:windowNumber:context:subtype:data1:data2:], NSEvent.m:647\n",
      "2023-04-21 17:17:11.907 Python[49082:550336] *** Assertion failure in +[NSEvent otherEventWithType:location:modifierFlags:timestamp:windowNumber:context:subtype:data1:data2:], NSEvent.m:647\n",
      "2023-04-21 17:17:11.925 Python[49082:550336] *** Assertion failure in +[NSEvent otherEventWithType:location:modifierFlags:timestamp:windowNumber:context:subtype:data1:data2:], NSEvent.m:647\n"
     ]
    },
    {
     "name": "stdout",
     "output_type": "stream",
     "text": [
      "D.DDh+\n",
      "..DD.DD..DD.D"
     ]
    },
    {
     "name": "stderr",
     "output_type": "stream",
     "text": [
      "2023-04-21 17:17:11.942 Python[49082:550336] *** Assertion failure in +[NSEvent otherEventWithType:location:modifierFlags:timestamp:windowNumber:context:subtype:data1:data2:], NSEvent.m:647\n",
      "2023-04-21 17:17:11.960 Python[49082:550336] *** Assertion failure in +[NSEvent otherEventWithType:location:modifierFlags:timestamp:windowNumber:context:subtype:data1:data2:], NSEvent.m:647\n",
      "2023-04-21 17:17:11.979 Python[49082:550336] *** Assertion failure in +[NSEvent otherEventWithType:location:modifierFlags:timestamp:windowNumber:context:subtype:data1:data2:], NSEvent.m:647\n",
      "2023-04-21 17:17:11.997 Python[49082:550336] *** Assertion failure in +[NSEvent otherEventWithType:location:modifierFlags:timestamp:windowNumber:context:subtype:data1:data2:], NSEvent.m:647\n",
      "2023-04-21 17:17:12.014 Python[49082:550336] *** Assertion failure in +[NSEvent otherEventWithType:location:modifierFlags:timestamp:windowNumber:context:subtype:data1:data2:], NSEvent.m:647\n",
      "2023-04-21 17:17:12.033 Python[49082:550336] *** Assertion failure in +[NSEvent otherEventWithType:location:modifierFlags:timestamp:windowNumber:context:subtype:data1:data2:], NSEvent.m:647\n",
      "2023-04-21 17:17:12.052 Python[49082:550336] *** Assertion failure in +[NSEvent otherEventWithType:location:modifierFlags:timestamp:windowNumber:context:subtype:data1:data2:], NSEvent.m:647\n",
      "2023-04-21 17:17:12.071 Python[49082:550336] *** Assertion failure in +[NSEvent otherEventWithType:location:modifierFlags:timestamp:windowNumber:context:subtype:data1:data2:], NSEvent.m:647\n",
      "2023-04-21 17:17:12.091 Python[49082:550336] *** Assertion failure in +[NSEvent otherEventWithType:location:modifierFlags:timestamp:windowNumber:context:subtype:data1:data2:], NSEvent.m:647\n",
      "2023-04-21 17:17:12.109 Python[49082:550336] *** Assertion failure in +[NSEvent otherEventWithType:location:modifierFlags:timestamp:windowNumber:context:subtype:data1:data2:], NSEvent.m:647\n",
      "2023-04-21 17:17:12.127 Python[49082:550336] *** Assertion failure in +[NSEvent otherEventWithType:location:modifierFlags:timestamp:windowNumber:context:subtype:data1:data2:], NSEvent.m:647\n",
      "2023-04-21 17:17:12.144 Python[49082:550336] *** Assertion failure in +[NSEvent otherEventWithType:location:modifierFlags:timestamp:windowNumber:context:subtype:data1:data2:], NSEvent.m:647\n",
      "2023-04-21 17:17:12.164 Python[49082:550336] *** Assertion failure in +[NSEvent otherEventWithType:location:modifierFlags:timestamp:windowNumber:context:subtype:data1:data2:], NSEvent.m:647\n",
      "2023-04-21 17:17:12.182 Python[49082:550336] *** Assertion failure in +[NSEvent otherEventWithType:location:modifierFlags:timestamp:windowNumber:context:subtype:data1:data2:], NSEvent.m:647\n",
      "2023-04-21 17:17:12.200 Python[49082:550336] *** Assertion failure in +[NSEvent otherEventWithType:location:modifierFlags:timestamp:windowNumber:context:subtype:data1:data2:], NSEvent.m:647\n",
      "2023-04-21 17:17:12.219 Python[49082:550336] *** Assertion failure in +[NSEvent otherEventWithType:location:modifierFlags:timestamp:windowNumber:context:subtype:data1:data2:], NSEvent.m:647\n",
      "2023-04-21 17:17:12.237 Python[49082:550336] *** Assertion failure in +[NSEvent otherEventWithType:location:modifierFlags:timestamp:windowNumber:context:subtype:data1:data2:], NSEvent.m:647\n",
      "2023-04-21 17:17:12.254 Python[49082:550336] *** Assertion failure in +[NSEvent otherEventWithType:location:modifierFlags:timestamp:windowNumber:context:subtype:data1:data2:], NSEvent.m:647\n",
      "2023-04-21 17:17:12.272 Python[49082:550336] *** Assertion failure in +[NSEvent otherEventWithType:location:modifierFlags:timestamp:windowNumber:context:subtype:data1:data2:], NSEvent.m:647\n",
      "2023-04-21 17:17:12.289 Python[49082:550336] *** Assertion failure in +[NSEvent otherEventWithType:location:modifierFlags:timestamp:windowNumber:context:subtype:data1:data2:], NSEvent.m:647\n",
      "2023-04-21 17:17:12.307 Python[49082:550336] *** Assertion failure in +[NSEvent otherEventWithType:location:modifierFlags:timestamp:windowNumber:context:subtype:data1:data2:], NSEvent.m:647\n"
     ]
    },
    {
     "name": "stdout",
     "output_type": "stream",
     "text": [
      "D..DDH+\n",
      "H.DHDh+\n",
      "D..DDD"
     ]
    },
    {
     "name": "stderr",
     "output_type": "stream",
     "text": [
      "2023-04-21 17:17:12.325 Python[49082:550336] *** Assertion failure in +[NSEvent otherEventWithType:location:modifierFlags:timestamp:windowNumber:context:subtype:data1:data2:], NSEvent.m:647\n",
      "2023-04-21 17:17:12.342 Python[49082:550336] *** Assertion failure in +[NSEvent otherEventWithType:location:modifierFlags:timestamp:windowNumber:context:subtype:data1:data2:], NSEvent.m:647\n",
      "2023-04-21 17:17:12.359 Python[49082:550336] *** Assertion failure in +[NSEvent otherEventWithType:location:modifierFlags:timestamp:windowNumber:context:subtype:data1:data2:], NSEvent.m:647\n",
      "2023-04-21 17:17:12.376 Python[49082:550336] *** Assertion failure in +[NSEvent otherEventWithType:location:modifierFlags:timestamp:windowNumber:context:subtype:data1:data2:], NSEvent.m:647\n",
      "2023-04-21 17:17:12.392 Python[49082:550336] *** Assertion failure in +[NSEvent otherEventWithType:location:modifierFlags:timestamp:windowNumber:context:subtype:data1:data2:], NSEvent.m:647\n",
      "2023-04-21 17:17:12.410 Python[49082:550336] *** Assertion failure in +[NSEvent otherEventWithType:location:modifierFlags:timestamp:windowNumber:context:subtype:data1:data2:], NSEvent.m:647\n",
      "2023-04-21 17:17:12.427 Python[49082:550336] *** Assertion failure in +[NSEvent otherEventWithType:location:modifierFlags:timestamp:windowNumber:context:subtype:data1:data2:], NSEvent.m:647\n",
      "2023-04-21 17:17:12.445 Python[49082:550336] *** Assertion failure in +[NSEvent otherEventWithType:location:modifierFlags:timestamp:windowNumber:context:subtype:data1:data2:], NSEvent.m:647\n",
      "2023-04-21 17:17:12.464 Python[49082:550336] *** Assertion failure in +[NSEvent otherEventWithType:location:modifierFlags:timestamp:windowNumber:context:subtype:data1:data2:], NSEvent.m:647\n",
      "2023-04-21 17:17:12.481 Python[49082:550336] *** Assertion failure in +[NSEvent otherEventWithType:location:modifierFlags:timestamp:windowNumber:context:subtype:data1:data2:], NSEvent.m:647\n",
      "2023-04-21 17:17:12.499 Python[49082:550336] *** Assertion failure in +[NSEvent otherEventWithType:location:modifierFlags:timestamp:windowNumber:context:subtype:data1:data2:], NSEvent.m:647\n",
      "2023-04-21 17:17:12.517 Python[49082:550336] *** Assertion failure in +[NSEvent otherEventWithType:location:modifierFlags:timestamp:windowNumber:context:subtype:data1:data2:], NSEvent.m:647\n",
      "2023-04-21 17:17:12.534 Python[49082:550336] *** Assertion failure in +[NSEvent otherEventWithType:location:modifierFlags:timestamp:windowNumber:context:subtype:data1:data2:], NSEvent.m:647\n",
      "2023-04-21 17:17:12.552 Python[49082:550336] *** Assertion failure in +[NSEvent otherEventWithType:location:modifierFlags:timestamp:windowNumber:context:subtype:data1:data2:], NSEvent.m:647\n"
     ]
    },
    {
     "name": "stdout",
     "output_type": "stream",
     "text": [
      "D..DDDD..DQh+\n",
      "SigQ:\n",
      "raw_power=([1.0483274  0.94790906 1.0079217  0.9837903 ]/10)\n",
      "pp_power=([0.45687073 0.41019548 0.45332087 0.41961389]/5)\n",
      "noise2sig=[1.29458219 1.31087155 1.22341779 1.34451311]\n",
      "DDD"
     ]
    },
    {
     "name": "stderr",
     "output_type": "stream",
     "text": [
      "2023-04-21 17:17:12.569 Python[49082:550336] *** Assertion failure in +[NSEvent otherEventWithType:location:modifierFlags:timestamp:windowNumber:context:subtype:data1:data2:], NSEvent.m:647\n",
      "2023-04-21 17:17:12.586 Python[49082:550336] *** Assertion failure in +[NSEvent otherEventWithType:location:modifierFlags:timestamp:windowNumber:context:subtype:data1:data2:], NSEvent.m:647\n",
      "2023-04-21 17:17:12.603 Python[49082:550336] *** Assertion failure in +[NSEvent otherEventWithType:location:modifierFlags:timestamp:windowNumber:context:subtype:data1:data2:], NSEvent.m:647\n",
      "2023-04-21 17:17:12.621 Python[49082:550336] *** Assertion failure in +[NSEvent otherEventWithType:location:modifierFlags:timestamp:windowNumber:context:subtype:data1:data2:], NSEvent.m:647\n",
      "2023-04-21 17:17:12.637 Python[49082:550336] *** Assertion failure in +[NSEvent otherEventWithType:location:modifierFlags:timestamp:windowNumber:context:subtype:data1:data2:], NSEvent.m:647\n",
      "2023-04-21 17:17:12.654 Python[49082:550336] *** Assertion failure in +[NSEvent otherEventWithType:location:modifierFlags:timestamp:windowNumber:context:subtype:data1:data2:], NSEvent.m:647\n",
      "2023-04-21 17:17:12.675 Python[49082:550336] *** Assertion failure in +[NSEvent otherEventWithType:location:modifierFlags:timestamp:windowNumber:context:subtype:data1:data2:], NSEvent.m:647\n",
      "2023-04-21 17:17:12.692 Python[49082:550336] *** Assertion failure in +[NSEvent otherEventWithType:location:modifierFlags:timestamp:windowNumber:context:subtype:data1:data2:], NSEvent.m:647\n",
      "2023-04-21 17:17:12.709 Python[49082:550336] *** Assertion failure in +[NSEvent otherEventWithType:location:modifierFlags:timestamp:windowNumber:context:subtype:data1:data2:], NSEvent.m:647\n",
      "2023-04-21 17:17:12.727 Python[49082:550336] *** Assertion failure in +[NSEvent otherEventWithType:location:modifierFlags:timestamp:windowNumber:context:subtype:data1:data2:], NSEvent.m:647\n"
     ]
    },
    {
     "name": "stdout",
     "output_type": "stream",
     "text": [
      "..DDDDH..DDHDDh+\n",
      "..D"
     ]
    },
    {
     "name": "stderr",
     "output_type": "stream",
     "text": [
      "2023-04-21 17:17:12.746 Python[49082:550336] *** Assertion failure in +[NSEvent otherEventWithType:location:modifierFlags:timestamp:windowNumber:context:subtype:data1:data2:], NSEvent.m:647\n",
      "2023-04-21 17:17:12.764 Python[49082:550336] *** Assertion failure in +[NSEvent otherEventWithType:location:modifierFlags:timestamp:windowNumber:context:subtype:data1:data2:], NSEvent.m:647\n",
      "2023-04-21 17:17:12.781 Python[49082:550336] *** Assertion failure in +[NSEvent otherEventWithType:location:modifierFlags:timestamp:windowNumber:context:subtype:data1:data2:], NSEvent.m:647\n",
      "2023-04-21 17:17:12.800 Python[49082:550336] *** Assertion failure in +[NSEvent otherEventWithType:location:modifierFlags:timestamp:windowNumber:context:subtype:data1:data2:], NSEvent.m:647\n",
      "2023-04-21 17:17:12.818 Python[49082:550336] *** Assertion failure in +[NSEvent otherEventWithType:location:modifierFlags:timestamp:windowNumber:context:subtype:data1:data2:], NSEvent.m:647\n",
      "2023-04-21 17:17:12.836 Python[49082:550336] *** Assertion failure in +[NSEvent otherEventWithType:location:modifierFlags:timestamp:windowNumber:context:subtype:data1:data2:], NSEvent.m:647\n",
      "2023-04-21 17:17:12.853 Python[49082:550336] *** Assertion failure in +[NSEvent otherEventWithType:location:modifierFlags:timestamp:windowNumber:context:subtype:data1:data2:], NSEvent.m:647\n",
      "2023-04-21 17:17:12.871 Python[49082:550336] *** Assertion failure in +[NSEvent otherEventWithType:location:modifierFlags:timestamp:windowNumber:context:subtype:data1:data2:], NSEvent.m:647\n",
      "2023-04-21 17:17:12.889 Python[49082:550336] *** Assertion failure in +[NSEvent otherEventWithType:location:modifierFlags:timestamp:windowNumber:context:subtype:data1:data2:], NSEvent.m:647\n",
      "2023-04-21 17:17:12.907 Python[49082:550336] *** Assertion failure in +[NSEvent otherEventWithType:location:modifierFlags:timestamp:windowNumber:context:subtype:data1:data2:], NSEvent.m:647\n",
      "2023-04-21 17:17:12.925 Python[49082:550336] *** Assertion failure in +[NSEvent otherEventWithType:location:modifierFlags:timestamp:windowNumber:context:subtype:data1:data2:], NSEvent.m:647\n",
      "2023-04-21 17:17:12.943 Python[49082:550336] *** Assertion failure in +[NSEvent otherEventWithType:location:modifierFlags:timestamp:windowNumber:context:subtype:data1:data2:], NSEvent.m:647\n"
     ]
    },
    {
     "name": "stdout",
     "output_type": "stream",
     "text": [
      "DDD..DDDD"
     ]
    },
    {
     "name": "stderr",
     "output_type": "stream",
     "text": [
      "2023-04-21 17:17:12.962 Python[49082:550336] *** Assertion failure in +[NSEvent otherEventWithType:location:modifierFlags:timestamp:windowNumber:context:subtype:data1:data2:], NSEvent.m:647\n",
      "2023-04-21 17:17:12.979 Python[49082:550336] *** Assertion failure in +[NSEvent otherEventWithType:location:modifierFlags:timestamp:windowNumber:context:subtype:data1:data2:], NSEvent.m:647\n",
      "2023-04-21 17:17:12.995 Python[49082:550336] *** Assertion failure in +[NSEvent otherEventWithType:location:modifierFlags:timestamp:windowNumber:context:subtype:data1:data2:], NSEvent.m:647\n",
      "2023-04-21 17:17:13.014 Python[49082:550336] *** Assertion failure in +[NSEvent otherEventWithType:location:modifierFlags:timestamp:windowNumber:context:subtype:data1:data2:], NSEvent.m:647\n",
      "2023-04-21 17:17:13.032 Python[49082:550336] *** Assertion failure in +[NSEvent otherEventWithType:location:modifierFlags:timestamp:windowNumber:context:subtype:data1:data2:], NSEvent.m:647\n",
      "2023-04-21 17:17:13.051 Python[49082:550336] *** Assertion failure in +[NSEvent otherEventWithType:location:modifierFlags:timestamp:windowNumber:context:subtype:data1:data2:], NSEvent.m:647\n",
      "2023-04-21 17:17:13.069 Python[49082:550336] *** Assertion failure in +[NSEvent otherEventWithType:location:modifierFlags:timestamp:windowNumber:context:subtype:data1:data2:], NSEvent.m:647\n",
      "2023-04-21 17:17:13.087 Python[49082:550336] *** Assertion failure in +[NSEvent otherEventWithType:location:modifierFlags:timestamp:windowNumber:context:subtype:data1:data2:], NSEvent.m:647\n",
      "2023-04-21 17:17:13.105 Python[49082:550336] *** Assertion failure in +[NSEvent otherEventWithType:location:modifierFlags:timestamp:windowNumber:context:subtype:data1:data2:], NSEvent.m:647\n",
      "2023-04-21 17:17:13.123 Python[49082:550336] *** Assertion failure in +[NSEvent otherEventWithType:location:modifierFlags:timestamp:windowNumber:context:subtype:data1:data2:], NSEvent.m:647\n",
      "2023-04-21 17:17:13.141 Python[49082:550336] *** Assertion failure in +[NSEvent otherEventWithType:location:modifierFlags:timestamp:windowNumber:context:subtype:data1:data2:], NSEvent.m:647\n",
      "2023-04-21 17:17:13.159 Python[49082:550336] *** Assertion failure in +[NSEvent otherEventWithType:location:modifierFlags:timestamp:windowNumber:context:subtype:data1:data2:], NSEvent.m:647\n"
     ]
    },
    {
     "name": "stdout",
     "output_type": "stream",
     "text": [
      "..DDD.DDh+\n",
      ".DD.D\n",
      "D"
     ]
    },
    {
     "name": "stderr",
     "output_type": "stream",
     "text": [
      "2023-04-21 17:17:13.177 Python[49082:550336] *** Assertion failure in +[NSEvent otherEventWithType:location:modifierFlags:timestamp:windowNumber:context:subtype:data1:data2:], NSEvent.m:647\n",
      "2023-04-21 17:17:13.194 Python[49082:550336] *** Assertion failure in +[NSEvent otherEventWithType:location:modifierFlags:timestamp:windowNumber:context:subtype:data1:data2:], NSEvent.m:647\n"
     ]
    },
    {
     "name": "stdout",
     "output_type": "stream",
     "text": [
      ".DHH+\n",
      ".HD.DD..DDh+\n",
      ".DD.D"
     ]
    },
    {
     "name": "stderr",
     "output_type": "stream",
     "text": [
      "2023-04-21 17:17:13.212 Python[49082:550336] *** Assertion failure in +[NSEvent otherEventWithType:location:modifierFlags:timestamp:windowNumber:context:subtype:data1:data2:], NSEvent.m:647\n",
      "2023-04-21 17:17:13.230 Python[49082:550336] *** Assertion failure in +[NSEvent otherEventWithType:location:modifierFlags:timestamp:windowNumber:context:subtype:data1:data2:], NSEvent.m:647\n",
      "2023-04-21 17:17:13.250 Python[49082:550336] *** Assertion failure in +[NSEvent otherEventWithType:location:modifierFlags:timestamp:windowNumber:context:subtype:data1:data2:], NSEvent.m:647\n",
      "2023-04-21 17:17:13.269 Python[49082:550336] *** Assertion failure in +[NSEvent otherEventWithType:location:modifierFlags:timestamp:windowNumber:context:subtype:data1:data2:], NSEvent.m:647\n",
      "2023-04-21 17:17:13.288 Python[49082:550336] *** Assertion failure in +[NSEvent otherEventWithType:location:modifierFlags:timestamp:windowNumber:context:subtype:data1:data2:], NSEvent.m:647\n",
      "2023-04-21 17:17:13.307 Python[49082:550336] *** Assertion failure in +[NSEvent otherEventWithType:location:modifierFlags:timestamp:windowNumber:context:subtype:data1:data2:], NSEvent.m:647\n",
      "2023-04-21 17:17:13.326 Python[49082:550336] *** Assertion failure in +[NSEvent otherEventWithType:location:modifierFlags:timestamp:windowNumber:context:subtype:data1:data2:], NSEvent.m:647\n",
      "2023-04-21 17:17:13.346 Python[49082:550336] *** Assertion failure in +[NSEvent otherEventWithType:location:modifierFlags:timestamp:windowNumber:context:subtype:data1:data2:], NSEvent.m:647\n",
      "2023-04-21 17:17:13.364 Python[49082:550336] *** Assertion failure in +[NSEvent otherEventWithType:location:modifierFlags:timestamp:windowNumber:context:subtype:data1:data2:], NSEvent.m:647\n",
      "2023-04-21 17:17:13.383 Python[49082:550336] *** Assertion failure in +[NSEvent otherEventWithType:location:modifierFlags:timestamp:windowNumber:context:subtype:data1:data2:], NSEvent.m:647\n",
      "2023-04-21 17:17:13.402 Python[49082:550336] *** Assertion failure in +[NSEvent otherEventWithType:location:modifierFlags:timestamp:windowNumber:context:subtype:data1:data2:], NSEvent.m:647\n",
      "2023-04-21 17:17:13.420 Python[49082:550336] *** Assertion failure in +[NSEvent otherEventWithType:location:modifierFlags:timestamp:windowNumber:context:subtype:data1:data2:], NSEvent.m:647\n",
      "2023-04-21 17:17:13.438 Python[49082:550336] *** Assertion failure in +[NSEvent otherEventWithType:location:modifierFlags:timestamp:windowNumber:context:subtype:data1:data2:], NSEvent.m:647\n",
      "2023-04-21 17:17:13.455 Python[49082:550336] *** Assertion failure in +[NSEvent otherEventWithType:location:modifierFlags:timestamp:windowNumber:context:subtype:data1:data2:], NSEvent.m:647\n",
      "2023-04-21 17:17:13.474 Python[49082:550336] *** Assertion failure in +[NSEvent otherEventWithType:location:modifierFlags:timestamp:windowNumber:context:subtype:data1:data2:], NSEvent.m:647\n",
      "2023-04-21 17:17:13.491 Python[49082:550336] *** Assertion failure in +[NSEvent otherEventWithType:location:modifierFlags:timestamp:windowNumber:context:subtype:data1:data2:], NSEvent.m:647\n",
      "2023-04-21 17:17:13.509 Python[49082:550336] *** Assertion failure in +[NSEvent otherEventWithType:location:modifierFlags:timestamp:windowNumber:context:subtype:data1:data2:], NSEvent.m:647\n",
      "2023-04-21 17:17:13.526 Python[49082:550336] *** Assertion failure in +[NSEvent otherEventWithType:location:modifierFlags:timestamp:windowNumber:context:subtype:data1:data2:], NSEvent.m:647\n",
      "2023-04-21 17:17:13.545 Python[49082:550336] *** Assertion failure in +[NSEvent otherEventWithType:location:modifierFlags:timestamp:windowNumber:context:subtype:data1:data2:], NSEvent.m:647\n",
      "2023-04-21 17:17:13.564 Python[49082:550336] *** Assertion failure in +[NSEvent otherEventWithType:location:modifierFlags:timestamp:windowNumber:context:subtype:data1:data2:], NSEvent.m:647\n",
      "2023-04-21 17:17:13.581 Python[49082:550336] *** Assertion failure in +[NSEvent otherEventWithType:location:modifierFlags:timestamp:windowNumber:context:subtype:data1:data2:], NSEvent.m:647\n"
     ]
    },
    {
     "name": "stdout",
     "output_type": "stream",
     "text": [
      "D.DD..DQDSigQ:\n",
      "raw_power=([1.0498323 0.9199432 0.9448691 0.9318827]/10)\n",
      "pp_power=([0.49954725 0.39147247 0.39928975 0.46759543]/5)\n",
      "noise2sig=[1.10156765 1.34995632 1.36637455 0.99292512]\n",
      ".DD..DD"
     ]
    },
    {
     "name": "stderr",
     "output_type": "stream",
     "text": [
      "2023-04-21 17:17:13.600 Python[49082:550336] *** Assertion failure in +[NSEvent otherEventWithType:location:modifierFlags:timestamp:windowNumber:context:subtype:data1:data2:], NSEvent.m:647\n",
      "2023-04-21 17:17:13.618 Python[49082:550336] *** Assertion failure in +[NSEvent otherEventWithType:location:modifierFlags:timestamp:windowNumber:context:subtype:data1:data2:], NSEvent.m:647\n",
      "2023-04-21 17:17:13.636 Python[49082:550336] *** Assertion failure in +[NSEvent otherEventWithType:location:modifierFlags:timestamp:windowNumber:context:subtype:data1:data2:], NSEvent.m:647\n",
      "2023-04-21 17:17:13.653 Python[49082:550336] *** Assertion failure in +[NSEvent otherEventWithType:location:modifierFlags:timestamp:windowNumber:context:subtype:data1:data2:], NSEvent.m:647\n",
      "2023-04-21 17:17:13.670 Python[49082:550336] *** Assertion failure in +[NSEvent otherEventWithType:location:modifierFlags:timestamp:windowNumber:context:subtype:data1:data2:], NSEvent.m:647\n",
      "2023-04-21 17:17:13.689 Python[49082:550336] *** Assertion failure in +[NSEvent otherEventWithType:location:modifierFlags:timestamp:windowNumber:context:subtype:data1:data2:], NSEvent.m:647\n",
      "2023-04-21 17:17:13.706 Python[49082:550336] *** Assertion failure in +[NSEvent otherEventWithType:location:modifierFlags:timestamp:windowNumber:context:subtype:data1:data2:], NSEvent.m:647\n",
      "2023-04-21 17:17:13.724 Python[49082:550336] *** Assertion failure in +[NSEvent otherEventWithType:location:modifierFlags:timestamp:windowNumber:context:subtype:data1:data2:], NSEvent.m:647\n",
      "2023-04-21 17:17:13.743 Python[49082:550336] *** Assertion failure in +[NSEvent otherEventWithType:location:modifierFlags:timestamp:windowNumber:context:subtype:data1:data2:], NSEvent.m:647\n",
      "2023-04-21 17:17:13.761 Python[49082:550336] *** Assertion failure in +[NSEvent otherEventWithType:location:modifierFlags:timestamp:windowNumber:context:subtype:data1:data2:], NSEvent.m:647\n",
      "2023-04-21 17:17:13.779 Python[49082:550336] *** Assertion failure in +[NSEvent otherEventWithType:location:modifierFlags:timestamp:windowNumber:context:subtype:data1:data2:], NSEvent.m:647\n",
      "2023-04-21 17:17:13.798 Python[49082:550336] *** Assertion failure in +[NSEvent otherEventWithType:location:modifierFlags:timestamp:windowNumber:context:subtype:data1:data2:], NSEvent.m:647\n"
     ]
    },
    {
     "name": "stdout",
     "output_type": "stream",
     "text": [
      "h+\n",
      ".DD..DDH.D.HD..DD.D"
     ]
    },
    {
     "name": "stderr",
     "output_type": "stream",
     "text": [
      "2023-04-21 17:17:13.817 Python[49082:550336] *** Assertion failure in +[NSEvent otherEventWithType:location:modifierFlags:timestamp:windowNumber:context:subtype:data1:data2:], NSEvent.m:647\n",
      "2023-04-21 17:17:13.836 Python[49082:550336] *** Assertion failure in +[NSEvent otherEventWithType:location:modifierFlags:timestamp:windowNumber:context:subtype:data1:data2:], NSEvent.m:647\n",
      "2023-04-21 17:17:13.854 Python[49082:550336] *** Assertion failure in +[NSEvent otherEventWithType:location:modifierFlags:timestamp:windowNumber:context:subtype:data1:data2:], NSEvent.m:647\n",
      "2023-04-21 17:17:13.873 Python[49082:550336] *** Assertion failure in +[NSEvent otherEventWithType:location:modifierFlags:timestamp:windowNumber:context:subtype:data1:data2:], NSEvent.m:647\n",
      "2023-04-21 17:17:13.891 Python[49082:550336] *** Assertion failure in +[NSEvent otherEventWithType:location:modifierFlags:timestamp:windowNumber:context:subtype:data1:data2:], NSEvent.m:647\n",
      "2023-04-21 17:17:13.908 Python[49082:550336] *** Assertion failure in +[NSEvent otherEventWithType:location:modifierFlags:timestamp:windowNumber:context:subtype:data1:data2:], NSEvent.m:647\n",
      "2023-04-21 17:17:13.925 Python[49082:550336] *** Assertion failure in +[NSEvent otherEventWithType:location:modifierFlags:timestamp:windowNumber:context:subtype:data1:data2:], NSEvent.m:647\n",
      "2023-04-21 17:17:13.943 Python[49082:550336] *** Assertion failure in +[NSEvent otherEventWithType:location:modifierFlags:timestamp:windowNumber:context:subtype:data1:data2:], NSEvent.m:647\n",
      "2023-04-21 17:17:13.962 Python[49082:550336] *** Assertion failure in +[NSEvent otherEventWithType:location:modifierFlags:timestamp:windowNumber:context:subtype:data1:data2:], NSEvent.m:647\n",
      "2023-04-21 17:17:13.980 Python[49082:550336] *** Assertion failure in +[NSEvent otherEventWithType:location:modifierFlags:timestamp:windowNumber:context:subtype:data1:data2:], NSEvent.m:647\n",
      "2023-04-21 17:17:13.999 Python[49082:550336] *** Assertion failure in +[NSEvent otherEventWithType:location:modifierFlags:timestamp:windowNumber:context:subtype:data1:data2:], NSEvent.m:647\n",
      "2023-04-21 17:17:14.017 Python[49082:550336] *** Assertion failure in +[NSEvent otherEventWithType:location:modifierFlags:timestamp:windowNumber:context:subtype:data1:data2:], NSEvent.m:647\n",
      "2023-04-21 17:17:14.034 Python[49082:550336] *** Assertion failure in +[NSEvent otherEventWithType:location:modifierFlags:timestamp:windowNumber:context:subtype:data1:data2:], NSEvent.m:647\n",
      "2023-04-21 17:17:14.053 Python[49082:550336] *** Assertion failure in +[NSEvent otherEventWithType:location:modifierFlags:timestamp:windowNumber:context:subtype:data1:data2:], NSEvent.m:647\n"
     ]
    },
    {
     "name": "stdout",
     "output_type": "stream",
     "text": [
      "D..DDh+\n",
      ".DD..DD.DD"
     ]
    },
    {
     "name": "stderr",
     "output_type": "stream",
     "text": [
      "2023-04-21 17:17:14.070 Python[49082:550336] *** Assertion failure in +[NSEvent otherEventWithType:location:modifierFlags:timestamp:windowNumber:context:subtype:data1:data2:], NSEvent.m:647\n",
      "2023-04-21 17:17:14.088 Python[49082:550336] *** Assertion failure in +[NSEvent otherEventWithType:location:modifierFlags:timestamp:windowNumber:context:subtype:data1:data2:], NSEvent.m:647\n",
      "2023-04-21 17:17:14.107 Python[49082:550336] *** Assertion failure in +[NSEvent otherEventWithType:location:modifierFlags:timestamp:windowNumber:context:subtype:data1:data2:], NSEvent.m:647\n",
      "2023-04-21 17:17:14.125 Python[49082:550336] *** Assertion failure in +[NSEvent otherEventWithType:location:modifierFlags:timestamp:windowNumber:context:subtype:data1:data2:], NSEvent.m:647\n",
      "2023-04-21 17:17:14.143 Python[49082:550336] *** Assertion failure in +[NSEvent otherEventWithType:location:modifierFlags:timestamp:windowNumber:context:subtype:data1:data2:], NSEvent.m:647\n",
      "2023-04-21 17:17:14.161 Python[49082:550336] *** Assertion failure in +[NSEvent otherEventWithType:location:modifierFlags:timestamp:windowNumber:context:subtype:data1:data2:], NSEvent.m:647\n",
      "2023-04-21 17:17:14.179 Python[49082:550336] *** Assertion failure in +[NSEvent otherEventWithType:location:modifierFlags:timestamp:windowNumber:context:subtype:data1:data2:], NSEvent.m:647\n",
      "2023-04-21 17:17:14.197 Python[49082:550336] *** Assertion failure in +[NSEvent otherEventWithType:location:modifierFlags:timestamp:windowNumber:context:subtype:data1:data2:], NSEvent.m:647\n",
      "2023-04-21 17:17:14.215 Python[49082:550336] *** Assertion failure in +[NSEvent otherEventWithType:location:modifierFlags:timestamp:windowNumber:context:subtype:data1:data2:], NSEvent.m:647\n",
      "2023-04-21 17:17:14.232 Python[49082:550336] *** Assertion failure in +[NSEvent otherEventWithType:location:modifierFlags:timestamp:windowNumber:context:subtype:data1:data2:], NSEvent.m:647\n",
      "2023-04-21 17:17:14.250 Python[49082:550336] *** Assertion failure in +[NSEvent otherEventWithType:location:modifierFlags:timestamp:windowNumber:context:subtype:data1:data2:], NSEvent.m:647\n",
      "2023-04-21 17:17:14.269 Python[49082:550336] *** Assertion failure in +[NSEvent otherEventWithType:location:modifierFlags:timestamp:windowNumber:context:subtype:data1:data2:], NSEvent.m:647\n"
     ]
    },
    {
     "name": "stdout",
     "output_type": "stream",
     "text": [
      "..DD.DD..DHh+\n",
      "H+\n",
      ".H4270 427 21.299118 200.477782 (samp,blk,s,hz)\n",
      "D.DD..D"
     ]
    },
    {
     "name": "stderr",
     "output_type": "stream",
     "text": [
      "2023-04-21 17:17:14.287 Python[49082:550336] *** Assertion failure in +[NSEvent otherEventWithType:location:modifierFlags:timestamp:windowNumber:context:subtype:data1:data2:], NSEvent.m:647\n",
      "2023-04-21 17:17:14.305 Python[49082:550336] *** Assertion failure in +[NSEvent otherEventWithType:location:modifierFlags:timestamp:windowNumber:context:subtype:data1:data2:], NSEvent.m:647\n",
      "2023-04-21 17:17:14.323 Python[49082:550336] *** Assertion failure in +[NSEvent otherEventWithType:location:modifierFlags:timestamp:windowNumber:context:subtype:data1:data2:], NSEvent.m:647\n",
      "2023-04-21 17:17:14.342 Python[49082:550336] *** Assertion failure in +[NSEvent otherEventWithType:location:modifierFlags:timestamp:windowNumber:context:subtype:data1:data2:], NSEvent.m:647\n",
      "2023-04-21 17:17:14.359 Python[49082:550336] *** Assertion failure in +[NSEvent otherEventWithType:location:modifierFlags:timestamp:windowNumber:context:subtype:data1:data2:], NSEvent.m:647\n",
      "2023-04-21 17:17:14.377 Python[49082:550336] *** Assertion failure in +[NSEvent otherEventWithType:location:modifierFlags:timestamp:windowNumber:context:subtype:data1:data2:], NSEvent.m:647\n",
      "2023-04-21 17:17:14.395 Python[49082:550336] *** Assertion failure in +[NSEvent otherEventWithType:location:modifierFlags:timestamp:windowNumber:context:subtype:data1:data2:], NSEvent.m:647\n",
      "2023-04-21 17:17:14.414 Python[49082:550336] *** Assertion failure in +[NSEvent otherEventWithType:location:modifierFlags:timestamp:windowNumber:context:subtype:data1:data2:], NSEvent.m:647\n",
      "2023-04-21 17:17:14.433 Python[49082:550336] *** Assertion failure in +[NSEvent otherEventWithType:location:modifierFlags:timestamp:windowNumber:context:subtype:data1:data2:], NSEvent.m:647\n",
      "2023-04-21 17:17:14.452 Python[49082:550336] *** Assertion failure in +[NSEvent otherEventWithType:location:modifierFlags:timestamp:windowNumber:context:subtype:data1:data2:], NSEvent.m:647\n",
      "2023-04-21 17:17:14.471 Python[49082:550336] *** Assertion failure in +[NSEvent otherEventWithType:location:modifierFlags:timestamp:windowNumber:context:subtype:data1:data2:], NSEvent.m:647\n",
      "2023-04-21 17:17:14.488 Python[49082:550336] *** Assertion failure in +[NSEvent otherEventWithType:location:modifierFlags:timestamp:windowNumber:context:subtype:data1:data2:], NSEvent.m:647\n"
     ]
    },
    {
     "name": "stdout",
     "output_type": "stream",
     "text": [
      "D.DD..DD.DDh+\n",
      "..DD.DQ"
     ]
    },
    {
     "name": "stderr",
     "output_type": "stream",
     "text": [
      "2023-04-21 17:17:14.506 Python[49082:550336] *** Assertion failure in +[NSEvent otherEventWithType:location:modifierFlags:timestamp:windowNumber:context:subtype:data1:data2:], NSEvent.m:647\n",
      "2023-04-21 17:17:14.523 Python[49082:550336] *** Assertion failure in +[NSEvent otherEventWithType:location:modifierFlags:timestamp:windowNumber:context:subtype:data1:data2:], NSEvent.m:647\n",
      "2023-04-21 17:17:14.540 Python[49082:550336] *** Assertion failure in +[NSEvent otherEventWithType:location:modifierFlags:timestamp:windowNumber:context:subtype:data1:data2:], NSEvent.m:647\n",
      "2023-04-21 17:17:14.557 Python[49082:550336] *** Assertion failure in +[NSEvent otherEventWithType:location:modifierFlags:timestamp:windowNumber:context:subtype:data1:data2:], NSEvent.m:647\n",
      "2023-04-21 17:17:14.573 Python[49082:550336] *** Assertion failure in +[NSEvent otherEventWithType:location:modifierFlags:timestamp:windowNumber:context:subtype:data1:data2:], NSEvent.m:647\n",
      "2023-04-21 17:17:14.590 Python[49082:550336] *** Assertion failure in +[NSEvent otherEventWithType:location:modifierFlags:timestamp:windowNumber:context:subtype:data1:data2:], NSEvent.m:647\n",
      "2023-04-21 17:17:14.608 Python[49082:550336] *** Assertion failure in +[NSEvent otherEventWithType:location:modifierFlags:timestamp:windowNumber:context:subtype:data1:data2:], NSEvent.m:647\n",
      "2023-04-21 17:17:14.625 Python[49082:550336] *** Assertion failure in +[NSEvent otherEventWithType:location:modifierFlags:timestamp:windowNumber:context:subtype:data1:data2:], NSEvent.m:647\n",
      "2023-04-21 17:17:14.642 Python[49082:550336] *** Assertion failure in +[NSEvent otherEventWithType:location:modifierFlags:timestamp:windowNumber:context:subtype:data1:data2:], NSEvent.m:647\n",
      "2023-04-21 17:17:14.659 Python[49082:550336] *** Assertion failure in +[NSEvent otherEventWithType:location:modifierFlags:timestamp:windowNumber:context:subtype:data1:data2:], NSEvent.m:647\n",
      "2023-04-21 17:17:14.677 Python[49082:550336] *** Assertion failure in +[NSEvent otherEventWithType:location:modifierFlags:timestamp:windowNumber:context:subtype:data1:data2:], NSEvent.m:647\n",
      "2023-04-21 17:17:14.694 Python[49082:550336] *** Assertion failure in +[NSEvent otherEventWithType:location:modifierFlags:timestamp:windowNumber:context:subtype:data1:data2:], NSEvent.m:647\n"
     ]
    },
    {
     "name": "stdout",
     "output_type": "stream",
     "text": [
      "DSigQ:\n",
      "raw_power=([0.99262965 0.9148138  1.0423945  0.95661414]/10)\n",
      "pp_power=([0.43853997 0.4102726  0.4641275  0.46293887]/5)\n",
      "noise2sig=[1.26348731 1.22977066 1.24592276 1.06639406]\n",
      "..DD.DD..DD.DDHh+\n"
     ]
    },
    {
     "name": "stderr",
     "output_type": "stream",
     "text": [
      "2023-04-21 17:17:14.710 Python[49082:550336] *** Assertion failure in +[NSEvent otherEventWithType:location:modifierFlags:timestamp:windowNumber:context:subtype:data1:data2:], NSEvent.m:647\n",
      "2023-04-21 17:17:14.727 Python[49082:550336] *** Assertion failure in +[NSEvent otherEventWithType:location:modifierFlags:timestamp:windowNumber:context:subtype:data1:data2:], NSEvent.m:647\n",
      "2023-04-21 17:17:14.744 Python[49082:550336] *** Assertion failure in +[NSEvent otherEventWithType:location:modifierFlags:timestamp:windowNumber:context:subtype:data1:data2:], NSEvent.m:647\n",
      "2023-04-21 17:17:14.764 Python[49082:550336] *** Assertion failure in +[NSEvent otherEventWithType:location:modifierFlags:timestamp:windowNumber:context:subtype:data1:data2:], NSEvent.m:647\n",
      "2023-04-21 17:17:14.782 Python[49082:550336] *** Assertion failure in +[NSEvent otherEventWithType:location:modifierFlags:timestamp:windowNumber:context:subtype:data1:data2:], NSEvent.m:647\n",
      "2023-04-21 17:17:14.799 Python[49082:550336] *** Assertion failure in +[NSEvent otherEventWithType:location:modifierFlags:timestamp:windowNumber:context:subtype:data1:data2:], NSEvent.m:647\n",
      "2023-04-21 17:17:14.819 Python[49082:550336] *** Assertion failure in +[NSEvent otherEventWithType:location:modifierFlags:timestamp:windowNumber:context:subtype:data1:data2:], NSEvent.m:647\n",
      "2023-04-21 17:17:14.839 Python[49082:550336] *** Assertion failure in +[NSEvent otherEventWithType:location:modifierFlags:timestamp:windowNumber:context:subtype:data1:data2:], NSEvent.m:647\n",
      "2023-04-21 17:17:14.858 Python[49082:550336] *** Assertion failure in +[NSEvent otherEventWithType:location:modifierFlags:timestamp:windowNumber:context:subtype:data1:data2:], NSEvent.m:647\n",
      "2023-04-21 17:17:14.879 Python[49082:550336] *** Assertion failure in +[NSEvent otherEventWithType:location:modifierFlags:timestamp:windowNumber:context:subtype:data1:data2:], NSEvent.m:647\n",
      "2023-04-21 17:17:14.897 Python[49082:550336] *** Assertion failure in +[NSEvent otherEventWithType:location:modifierFlags:timestamp:windowNumber:context:subtype:data1:data2:], NSEvent.m:647\n"
     ]
    },
    {
     "name": "stdout",
     "output_type": "stream",
     "text": [
      "..DHD.DD..DD.DD"
     ]
    },
    {
     "name": "stderr",
     "output_type": "stream",
     "text": [
      "2023-04-21 17:17:14.916 Python[49082:550336] *** Assertion failure in +[NSEvent otherEventWithType:location:modifierFlags:timestamp:windowNumber:context:subtype:data1:data2:], NSEvent.m:647\n",
      "2023-04-21 17:17:14.934 Python[49082:550336] *** Assertion failure in +[NSEvent otherEventWithType:location:modifierFlags:timestamp:windowNumber:context:subtype:data1:data2:], NSEvent.m:647\n",
      "2023-04-21 17:17:14.951 Python[49082:550336] *** Assertion failure in +[NSEvent otherEventWithType:location:modifierFlags:timestamp:windowNumber:context:subtype:data1:data2:], NSEvent.m:647\n",
      "2023-04-21 17:17:14.968 Python[49082:550336] *** Assertion failure in +[NSEvent otherEventWithType:location:modifierFlags:timestamp:windowNumber:context:subtype:data1:data2:], NSEvent.m:647\n",
      "2023-04-21 17:17:14.987 Python[49082:550336] *** Assertion failure in +[NSEvent otherEventWithType:location:modifierFlags:timestamp:windowNumber:context:subtype:data1:data2:], NSEvent.m:647\n",
      "2023-04-21 17:17:15.005 Python[49082:550336] *** Assertion failure in +[NSEvent otherEventWithType:location:modifierFlags:timestamp:windowNumber:context:subtype:data1:data2:], NSEvent.m:647\n",
      "2023-04-21 17:17:15.024 Python[49082:550336] *** Assertion failure in +[NSEvent otherEventWithType:location:modifierFlags:timestamp:windowNumber:context:subtype:data1:data2:], NSEvent.m:647\n",
      "2023-04-21 17:17:15.042 Python[49082:550336] *** Assertion failure in +[NSEvent otherEventWithType:location:modifierFlags:timestamp:windowNumber:context:subtype:data1:data2:], NSEvent.m:647\n",
      "2023-04-21 17:17:15.062 Python[49082:550336] *** Assertion failure in +[NSEvent otherEventWithType:location:modifierFlags:timestamp:windowNumber:context:subtype:data1:data2:], NSEvent.m:647\n",
      "2023-04-21 17:17:15.082 Python[49082:550336] *** Assertion failure in +[NSEvent otherEventWithType:location:modifierFlags:timestamp:windowNumber:context:subtype:data1:data2:], NSEvent.m:647\n",
      "2023-04-21 17:17:15.102 Python[49082:550336] *** Assertion failure in +[NSEvent otherEventWithType:location:modifierFlags:timestamp:windowNumber:context:subtype:data1:data2:], NSEvent.m:647\n"
     ]
    },
    {
     "name": "stdout",
     "output_type": "stream",
     "text": [
      "..DD.DDh+\n",
      "..DD.D.\n",
      "D"
     ]
    },
    {
     "name": "stderr",
     "output_type": "stream",
     "text": [
      "2023-04-21 17:17:15.119 Python[49082:550336] *** Assertion failure in +[NSEvent otherEventWithType:location:modifierFlags:timestamp:windowNumber:context:subtype:data1:data2:], NSEvent.m:647\n",
      "2023-04-21 17:17:15.138 Python[49082:550336] *** Assertion failure in +[NSEvent otherEventWithType:location:modifierFlags:timestamp:windowNumber:context:subtype:data1:data2:], NSEvent.m:647\n",
      "2023-04-21 17:17:15.156 Python[49082:550336] *** Assertion failure in +[NSEvent otherEventWithType:location:modifierFlags:timestamp:windowNumber:context:subtype:data1:data2:], NSEvent.m:647\n",
      "2023-04-21 17:17:15.174 Python[49082:550336] *** Assertion failure in +[NSEvent otherEventWithType:location:modifierFlags:timestamp:windowNumber:context:subtype:data1:data2:], NSEvent.m:647\n",
      "2023-04-21 17:17:15.193 Python[49082:550336] *** Assertion failure in +[NSEvent otherEventWithType:location:modifierFlags:timestamp:windowNumber:context:subtype:data1:data2:], NSEvent.m:647\n",
      "2023-04-21 17:17:15.212 Python[49082:550336] *** Assertion failure in +[NSEvent otherEventWithType:location:modifierFlags:timestamp:windowNumber:context:subtype:data1:data2:], NSEvent.m:647\n",
      "2023-04-21 17:17:15.230 Python[49082:550336] *** Assertion failure in +[NSEvent otherEventWithType:location:modifierFlags:timestamp:windowNumber:context:subtype:data1:data2:], NSEvent.m:647\n",
      "2023-04-21 17:17:15.249 Python[49082:550336] *** Assertion failure in +[NSEvent otherEventWithType:location:modifierFlags:timestamp:windowNumber:context:subtype:data1:data2:], NSEvent.m:647\n",
      "2023-04-21 17:17:15.268 Python[49082:550336] *** Assertion failure in +[NSEvent otherEventWithType:location:modifierFlags:timestamp:windowNumber:context:subtype:data1:data2:], NSEvent.m:647\n",
      "2023-04-21 17:17:15.286 Python[49082:550336] *** Assertion failure in +[NSEvent otherEventWithType:location:modifierFlags:timestamp:windowNumber:context:subtype:data1:data2:], NSEvent.m:647\n",
      "2023-04-21 17:17:15.304 Python[49082:550336] *** Assertion failure in +[NSEvent otherEventWithType:location:modifierFlags:timestamp:windowNumber:context:subtype:data1:data2:], NSEvent.m:647\n"
     ]
    },
    {
     "name": "stdout",
     "output_type": "stream",
     "text": [
      ".DHH+\n",
      ".HD.DD..DD.DDh+\n"
     ]
    },
    {
     "name": "stderr",
     "output_type": "stream",
     "text": [
      "2023-04-21 17:17:15.322 Python[49082:550336] *** Assertion failure in +[NSEvent otherEventWithType:location:modifierFlags:timestamp:windowNumber:context:subtype:data1:data2:], NSEvent.m:647\n",
      "2023-04-21 17:17:15.339 Python[49082:550336] *** Assertion failure in +[NSEvent otherEventWithType:location:modifierFlags:timestamp:windowNumber:context:subtype:data1:data2:], NSEvent.m:647\n",
      "2023-04-21 17:17:15.355 Python[49082:550336] *** Assertion failure in +[NSEvent otherEventWithType:location:modifierFlags:timestamp:windowNumber:context:subtype:data1:data2:], NSEvent.m:647\n",
      "2023-04-21 17:17:15.372 Python[49082:550336] *** Assertion failure in +[NSEvent otherEventWithType:location:modifierFlags:timestamp:windowNumber:context:subtype:data1:data2:], NSEvent.m:647\n",
      "2023-04-21 17:17:15.390 Python[49082:550336] *** Assertion failure in +[NSEvent otherEventWithType:location:modifierFlags:timestamp:windowNumber:context:subtype:data1:data2:], NSEvent.m:647\n",
      "2023-04-21 17:17:15.407 Python[49082:550336] *** Assertion failure in +[NSEvent otherEventWithType:location:modifierFlags:timestamp:windowNumber:context:subtype:data1:data2:], NSEvent.m:647\n",
      "2023-04-21 17:17:15.425 Python[49082:550336] *** Assertion failure in +[NSEvent otherEventWithType:location:modifierFlags:timestamp:windowNumber:context:subtype:data1:data2:], NSEvent.m:647\n",
      "2023-04-21 17:17:15.442 Python[49082:550336] *** Assertion failure in +[NSEvent otherEventWithType:location:modifierFlags:timestamp:windowNumber:context:subtype:data1:data2:], NSEvent.m:647\n",
      "2023-04-21 17:17:15.459 Python[49082:550336] *** Assertion failure in +[NSEvent otherEventWithType:location:modifierFlags:timestamp:windowNumber:context:subtype:data1:data2:], NSEvent.m:647\n",
      "2023-04-21 17:17:15.477 Python[49082:550336] *** Assertion failure in +[NSEvent otherEventWithType:location:modifierFlags:timestamp:windowNumber:context:subtype:data1:data2:], NSEvent.m:647\n",
      "2023-04-21 17:17:15.495 Python[49082:550336] *** Assertion failure in +[NSEvent otherEventWithType:location:modifierFlags:timestamp:windowNumber:context:subtype:data1:data2:], NSEvent.m:647\n",
      "2023-04-21 17:17:15.512 Python[49082:550336] *** Assertion failure in +[NSEvent otherEventWithType:location:modifierFlags:timestamp:windowNumber:context:subtype:data1:data2:], NSEvent.m:647\n"
     ]
    },
    {
     "name": "stdout",
     "output_type": "stream",
     "text": [
      "..DD.DD..DD.DQDServer:Read error:Connection reset\n"
     ]
    }
   ],
   "source": [
    "mindaffectBCI.online_bci.check_is_running()"
   ]
  },
  {
   "cell_type": "code",
   "execution_count": 1,
   "id": "3ae66557",
   "metadata": {},
   "outputs": [
    {
     "name": "stdout",
     "output_type": "stream",
     "text": [
      "Trying to auto-discover the utopia-hub server\n",
      "making discovery object\n",
      "Using inteface: 192.168.1.101\n",
      ".\n",
      ".\n",
      ".\n",
      ".\n",
      ".\n",
      "Discovery returned 0 utopia-hub servers\n",
      "Error:: couldnt autodiscover the decoder!\n",
      "Tring to connect to: localhost:-1\n",
      "Trying to connect to: localhost:8400\n",
      "Connection refused...  Waiting\n",
      "[Errno 61] Connection refused\n",
      "Tring to connect to: localhost:-1\n",
      "Trying to connect to: localhost:8400\n",
      "Connection refused...  Waiting\n",
      "[Errno 61] Connection refused\n",
      "Tring to connect to: localhost:-1\n",
      "Trying to connect to: localhost:8400\n",
      "Connection refused...  Waiting\n",
      "[Errno 61] Connection refused\n",
      "Tring to connect to: localhost:-1\n",
      "Trying to connect to: localhost:8400\n",
      "Connection refused...  Waiting\n",
      "[Errno 61] Connection refused\n",
      "Tring to connect to: localhost:-1\n",
      "Trying to connect to: localhost:8400\n",
      "Connection refused...  Waiting\n",
      "[Errno 61] Connection refused\n",
      "Could not auto-connect.  Trying manual\n"
     ]
    },
    {
     "ename": "KeyboardInterrupt",
     "evalue": "Interrupted by user",
     "output_type": "error",
     "traceback": [
      "\u001b[0;31m---------------------------------------------------------------------------\u001b[0m",
      "\u001b[0;31mKeyboardInterrupt\u001b[0m                         Traceback (most recent call last)",
      "Cell \u001b[0;32mIn[1], line 2\u001b[0m\n\u001b[1;32m      1\u001b[0m \u001b[38;5;66;03m# import and run the presentation\u001b[39;00m\n\u001b[0;32m----> 2\u001b[0m \u001b[38;5;28;01mfrom\u001b[39;00m \u001b[38;5;21;01mmindaffectBCI\u001b[39;00m\u001b[38;5;21;01m.\u001b[39;00m\u001b[38;5;21;01mexamples\u001b[39;00m\u001b[38;5;21;01m.\u001b[39;00m\u001b[38;5;21;01mpresentation\u001b[39;00m \u001b[38;5;28;01mimport\u001b[39;00m minimal_presentation\n",
      "File \u001b[0;32m~/Documents/GitHub/pymindaffectBCI/mindaffectBCI/examples/presentation/minimal_presentation.py:86\u001b[0m\n\u001b[1;32m     84\u001b[0m \u001b[38;5;66;03m# Initialize the noise-tagging connection\u001b[39;00m\n\u001b[1;32m     85\u001b[0m nt \u001b[38;5;241m=\u001b[39m Noisetag()\n\u001b[0;32m---> 86\u001b[0m \u001b[43mnt\u001b[49m\u001b[38;5;241;43m.\u001b[39;49m\u001b[43mconnect\u001b[49m\u001b[43m(\u001b[49m\u001b[43mtimeout_ms\u001b[49m\u001b[38;5;241;43m=\u001b[39;49m\u001b[38;5;241;43m5000\u001b[39;49m\u001b[43m)\u001b[49m\n\u001b[1;32m     87\u001b[0m nt\u001b[38;5;241m.\u001b[39maddSelectionHandler(selectionHandler)\n\u001b[1;32m     88\u001b[0m \u001b[38;5;66;03m# tell the noisetag framework to run a full : calibrate->prediction sequence\u001b[39;00m\n",
      "File \u001b[0;32m~/Documents/GitHub/pymindaffectBCI/mindaffectBCI/noisetag.py:725\u001b[0m, in \u001b[0;36mNoisetag.connect\u001b[0;34m(self, host, port, queryifhostnotfound, timeout_ms)\u001b[0m\n\u001b[1;32m    723\u001b[0m \u001b[38;5;28;01mif\u001b[39;00m \u001b[38;5;28mself\u001b[39m\u001b[38;5;241m.\u001b[39mutopiaController\u001b[38;5;241m.\u001b[39misConnected() :\n\u001b[1;32m    724\u001b[0m     \u001b[38;5;28;01mreturn\u001b[39;00m \u001b[38;5;28;01mTrue\u001b[39;00m\n\u001b[0;32m--> 725\u001b[0m \u001b[38;5;28;43mself\u001b[39;49m\u001b[38;5;241;43m.\u001b[39;49m\u001b[43mutopiaController\u001b[49m\u001b[38;5;241;43m.\u001b[39;49m\u001b[43mautoconnect\u001b[49m\u001b[43m(\u001b[49m\u001b[43mhost\u001b[49m\u001b[43m,\u001b[49m\u001b[43mport\u001b[49m\u001b[43m,\u001b[49m\n\u001b[1;32m    726\u001b[0m \u001b[43m                                  \u001b[49m\u001b[43mqueryifhostnotfound\u001b[49m\u001b[38;5;241;43m=\u001b[39;49m\u001b[43mqueryifhostnotfound\u001b[49m\u001b[43m,\u001b[49m\n\u001b[1;32m    727\u001b[0m \u001b[43m                                  \u001b[49m\u001b[43mlocalhostifhostnotfound\u001b[49m\u001b[38;5;241;43m=\u001b[39;49m\u001b[38;5;28;43;01mTrue\u001b[39;49;00m\u001b[43m,\u001b[49m\n\u001b[1;32m    728\u001b[0m \u001b[43m                                  \u001b[49m\u001b[43mtimeout_ms\u001b[49m\u001b[38;5;241;43m=\u001b[39;49m\u001b[43mtimeout_ms\u001b[49m\u001b[43m)\u001b[49m\n\u001b[1;32m    729\u001b[0m \u001b[38;5;28;01mreturn\u001b[39;00m \u001b[38;5;28mself\u001b[39m\u001b[38;5;241m.\u001b[39mutopiaController\u001b[38;5;241m.\u001b[39misConnected()\n",
      "File \u001b[0;32m~/Documents/GitHub/pymindaffectBCI/mindaffectBCI/utopiaController.py:110\u001b[0m, in \u001b[0;36mUtopiaController.autoconnect\u001b[0;34m(self, host, port, timeout_ms, localhostifhostnotfound, queryifhostnotfound, scanifhostnotfound)\u001b[0m\n\u001b[1;32m     99\u001b[0m \u001b[38;5;250m\u001b[39m\u001b[38;5;124;03m\"\"\"[summary]\u001b[39;00m\n\u001b[1;32m    100\u001b[0m \n\u001b[1;32m    101\u001b[0m \u001b[38;5;124;03mArgs:\u001b[39;00m\n\u001b[0;32m   (...)\u001b[0m\n\u001b[1;32m    107\u001b[0m \u001b[38;5;124;03m    scanifhostnotfound (bool, optional): [description]. Defaults to False.\u001b[39;00m\n\u001b[1;32m    108\u001b[0m \u001b[38;5;124;03m\"\"\"\u001b[39;00m                    \n\u001b[1;32m    109\u001b[0m \u001b[38;5;28;01mtry\u001b[39;00m:\n\u001b[0;32m--> 110\u001b[0m     \u001b[38;5;28;43mself\u001b[39;49m\u001b[38;5;241;43m.\u001b[39;49m\u001b[43mclient\u001b[49m\u001b[38;5;241;43m.\u001b[39;49m\u001b[43mautoconnect\u001b[49m\u001b[43m(\u001b[49m\u001b[43mhost\u001b[49m\u001b[43m,\u001b[49m\u001b[43m \u001b[49m\u001b[43mport\u001b[49m\u001b[43m,\u001b[49m\u001b[43m \u001b[49m\u001b[43mtimeout_ms\u001b[49m\u001b[38;5;241;43m=\u001b[39;49m\u001b[43mtimeout_ms\u001b[49m\u001b[43m,\u001b[49m\u001b[43m \u001b[49m\u001b[43mlocalhostifhostnotfound\u001b[49m\u001b[38;5;241;43m=\u001b[39;49m\u001b[43mlocalhostifhostnotfound\u001b[49m\u001b[43m,\u001b[49m\u001b[43m \u001b[49m\u001b[43mqueryifhostnotfound\u001b[49m\u001b[38;5;241;43m=\u001b[39;49m\u001b[43mqueryifhostnotfound\u001b[49m\u001b[43m,\u001b[49m\u001b[43m \u001b[49m\u001b[43mscanifhostnotfound\u001b[49m\u001b[38;5;241;43m=\u001b[39;49m\u001b[43mscanifhostnotfound\u001b[49m\u001b[43m)\u001b[49m\n\u001b[1;32m    111\u001b[0m \u001b[38;5;28;01mexcept\u001b[39;00m socket\u001b[38;5;241m.\u001b[39merror \u001b[38;5;28;01mas\u001b[39;00m ex:\n\u001b[1;32m    112\u001b[0m     \u001b[38;5;28mprint\u001b[39m(\u001b[38;5;124m\"\u001b[39m\u001b[38;5;124mSocket error connecting: \u001b[39m\u001b[38;5;124m\"\u001b[39m)\n",
      "File \u001b[0;32m~/Documents/GitHub/pymindaffectBCI/mindaffectBCI/utopiaclient.py:1141\u001b[0m, in \u001b[0;36mUtopiaClient.autoconnect\u001b[0;34m(self, hostname, port, timeout_ms, queryifhostnotfound, localhostifhostnotfound, scanifhostnotfound)\u001b[0m\n\u001b[1;32m   1138\u001b[0m \u001b[38;5;28;01mif\u001b[39;00m \u001b[38;5;129;01mnot\u001b[39;00m \u001b[38;5;28mself\u001b[39m\u001b[38;5;241m.\u001b[39misConnected \u001b[38;5;129;01mand\u001b[39;00m queryifhostnotfound:\n\u001b[1;32m   1139\u001b[0m     \u001b[38;5;66;03m# ask user for host\u001b[39;00m\n\u001b[1;32m   1140\u001b[0m     \u001b[38;5;28mprint\u001b[39m(\u001b[38;5;124m\"\u001b[39m\u001b[38;5;124mCould not auto-connect.  Trying manual\u001b[39m\u001b[38;5;124m\"\u001b[39m)\n\u001b[0;32m-> 1141\u001b[0m     hostname \u001b[38;5;241m=\u001b[39m \u001b[38;5;28;43minput\u001b[39;49m\u001b[43m(\u001b[49m\u001b[38;5;124;43m\"\u001b[39;49m\u001b[38;5;124;43mEnter the hostname/IP of the Utopia-HUB: \u001b[39;49m\u001b[38;5;124;43m\"\u001b[39;49m\u001b[43m)\u001b[49m\n\u001b[1;32m   1142\u001b[0m     \u001b[38;5;28mself\u001b[39m\u001b[38;5;241m.\u001b[39mtry_connect(hostname,port,timeout_ms)\n\u001b[1;32m   1144\u001b[0m \u001b[38;5;28;01mif\u001b[39;00m \u001b[38;5;129;01mnot\u001b[39;00m \u001b[38;5;28mself\u001b[39m\u001b[38;5;241m.\u001b[39misConnected \u001b[38;5;129;01mand\u001b[39;00m scanifhostnotfound:\n",
      "File \u001b[0;32m/Library/Frameworks/Python.framework/Versions/3.10/lib/python3.10/site-packages/ipykernel/kernelbase.py:1182\u001b[0m, in \u001b[0;36mKernel.raw_input\u001b[0;34m(self, prompt)\u001b[0m\n\u001b[1;32m   1180\u001b[0m     msg \u001b[38;5;241m=\u001b[39m \u001b[38;5;124m\"\u001b[39m\u001b[38;5;124mraw_input was called, but this frontend does not support input requests.\u001b[39m\u001b[38;5;124m\"\u001b[39m\n\u001b[1;32m   1181\u001b[0m     \u001b[38;5;28;01mraise\u001b[39;00m StdinNotImplementedError(msg)\n\u001b[0;32m-> 1182\u001b[0m \u001b[38;5;28;01mreturn\u001b[39;00m \u001b[38;5;28;43mself\u001b[39;49m\u001b[38;5;241;43m.\u001b[39;49m\u001b[43m_input_request\u001b[49m\u001b[43m(\u001b[49m\n\u001b[1;32m   1183\u001b[0m \u001b[43m    \u001b[49m\u001b[38;5;28;43mstr\u001b[39;49m\u001b[43m(\u001b[49m\u001b[43mprompt\u001b[49m\u001b[43m)\u001b[49m\u001b[43m,\u001b[49m\n\u001b[1;32m   1184\u001b[0m \u001b[43m    \u001b[49m\u001b[38;5;28;43mself\u001b[39;49m\u001b[38;5;241;43m.\u001b[39;49m\u001b[43m_parent_ident\u001b[49m\u001b[43m[\u001b[49m\u001b[38;5;124;43m\"\u001b[39;49m\u001b[38;5;124;43mshell\u001b[39;49m\u001b[38;5;124;43m\"\u001b[39;49m\u001b[43m]\u001b[49m\u001b[43m,\u001b[49m\n\u001b[1;32m   1185\u001b[0m \u001b[43m    \u001b[49m\u001b[38;5;28;43mself\u001b[39;49m\u001b[38;5;241;43m.\u001b[39;49m\u001b[43mget_parent\u001b[49m\u001b[43m(\u001b[49m\u001b[38;5;124;43m\"\u001b[39;49m\u001b[38;5;124;43mshell\u001b[39;49m\u001b[38;5;124;43m\"\u001b[39;49m\u001b[43m)\u001b[49m\u001b[43m,\u001b[49m\n\u001b[1;32m   1186\u001b[0m \u001b[43m    \u001b[49m\u001b[43mpassword\u001b[49m\u001b[38;5;241;43m=\u001b[39;49m\u001b[38;5;28;43;01mFalse\u001b[39;49;00m\u001b[43m,\u001b[49m\n\u001b[1;32m   1187\u001b[0m \u001b[43m\u001b[49m\u001b[43m)\u001b[49m\n",
      "File \u001b[0;32m/Library/Frameworks/Python.framework/Versions/3.10/lib/python3.10/site-packages/ipykernel/kernelbase.py:1225\u001b[0m, in \u001b[0;36mKernel._input_request\u001b[0;34m(self, prompt, ident, parent, password)\u001b[0m\n\u001b[1;32m   1222\u001b[0m \u001b[38;5;28;01mexcept\u001b[39;00m \u001b[38;5;167;01mKeyboardInterrupt\u001b[39;00m:\n\u001b[1;32m   1223\u001b[0m     \u001b[38;5;66;03m# re-raise KeyboardInterrupt, to truncate traceback\u001b[39;00m\n\u001b[1;32m   1224\u001b[0m     msg \u001b[38;5;241m=\u001b[39m \u001b[38;5;124m\"\u001b[39m\u001b[38;5;124mInterrupted by user\u001b[39m\u001b[38;5;124m\"\u001b[39m\n\u001b[0;32m-> 1225\u001b[0m     \u001b[38;5;28;01mraise\u001b[39;00m \u001b[38;5;167;01mKeyboardInterrupt\u001b[39;00m(msg) \u001b[38;5;28;01mfrom\u001b[39;00m \u001b[38;5;28mNone\u001b[39m\n\u001b[1;32m   1226\u001b[0m \u001b[38;5;28;01mexcept\u001b[39;00m \u001b[38;5;167;01mException\u001b[39;00m:\n\u001b[1;32m   1227\u001b[0m     \u001b[38;5;28mself\u001b[39m\u001b[38;5;241m.\u001b[39mlog\u001b[38;5;241m.\u001b[39mwarning(\u001b[38;5;124m\"\u001b[39m\u001b[38;5;124mInvalid Message:\u001b[39m\u001b[38;5;124m\"\u001b[39m, exc_info\u001b[38;5;241m=\u001b[39m\u001b[38;5;28;01mTrue\u001b[39;00m)\n",
      "\u001b[0;31mKeyboardInterrupt\u001b[0m: Interrupted by user"
     ]
    }
   ],
   "source": [
    "# import and run the presentation\n",
    "from mindaffectBCI.examples.presentation import minimal_presentation\n"
   ]
  },
  {
   "cell_type": "code",
   "execution_count": null,
   "id": "8cab4172",
   "metadata": {},
   "outputs": [],
   "source": [
    "mindaffectBCI.online_bci.shutdown()"
   ]
  }
 ],
 "metadata": {
  "kernelspec": {
   "display_name": "Python 3 (ipykernel)",
   "language": "python",
   "name": "python3"
  },
  "language_info": {
   "codemirror_mode": {
    "name": "ipython",
    "version": 3
   },
   "file_extension": ".py",
   "mimetype": "text/x-python",
   "name": "python",
   "nbconvert_exporter": "python",
   "pygments_lexer": "ipython3",
   "version": "3.10.7"
  }
 },
 "nbformat": 4,
 "nbformat_minor": 5
}
