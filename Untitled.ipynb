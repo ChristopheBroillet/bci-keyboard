{
 "cells": [
  {
   "cell_type": "code",
   "execution_count": 3,
   "id": "fe72243f",
   "metadata": {},
   "outputs": [
    {
     "name": "stdout",
     "output_type": "stream",
     "text": [
      "The autoreload extension is already loaded. To reload it, use:\n",
      "  %reload_ext autoreload\n"
     ]
    }
   ],
   "source": [
    "# Import the mindaffectBCI decoder and other required modules.\n",
    "%load_ext autoreload\n",
    "%autoreload 2\n",
    "import mindaffectBCI.online_bci"
   ]
  },
  {
   "cell_type": "code",
   "execution_count": 2,
   "id": "4100375b",
   "metadata": {},
   "outputs": [
    {
     "name": "stdout",
     "output_type": "stream",
     "text": [
      "Saving to /Users/Emmanuel/Documents/GitHub/pymindaffectBCI/mindaffectBCI/decoder/../../logs\n",
      "Running command: ('java', '-jar', 'UtopiaServer.jar', '8400', '0', '/Users/Emmanuel/Documents/GitHub/pymindaffectBCI/mindaffectBCI/decoder/../../logs/mindaffectBCI_online_bci.txt')\n",
      "Server:cons\n",
      "Server:open server ports\n",
      "Server: Opening Port:8400\n",
      "Server: Couldn't setup TCP server socket\n",
      "Address already in use\n"
     ]
    }
   ],
   "source": [
    "#--------------------------- HUB ------------------------------\n",
    "# start the utopia-hub process\n",
    "hub_process = mindaffectBCI.online_bci.startHubProcess()"
   ]
  },
  {
   "cell_type": "code",
   "execution_count": null,
   "id": "8027f86f",
   "metadata": {},
   "outputs": [],
   "source": [
    "# start the ganglion acquisition process\n",
    "# Using brainflow for the acquisition driver.\n",
    "#  so change the board_id and other args to use other boards\n",
    "acq_args =dict(board_id=1, serial_port='com4') # connect to the ganglion\n",
    "acq_process = mindaffectBCI.online_bci.startacquisitionProcess('brainflow', acq_args)"
   ]
  },
  {
   "cell_type": "code",
   "execution_count": null,
   "id": "104f1beb",
   "metadata": {},
   "outputs": [],
   "source": [
    "# start a fake-data stream\n",
    "# with 4-channels running at 200Hz\n",
    "acq_args=dict(host='localhost', nch=4, fs=200)\n",
    "acq_process = mindaffectBCI.online_bci.startacquisitionProcess('fakedata', acq_args)"
   ]
  },
  {
   "cell_type": "code",
   "execution_count": null,
   "id": "eeb73c4b",
   "metadata": {},
   "outputs": [],
   "source": [
    "# start the decoder process, wih default args for noise-tagging\n",
    "decoder_args = dict(\n",
    "        stopband=((45,65),(3,25,'bandpass')),  # frequency filter parameters\n",
    "        out_fs=100,  # sample rate after pre-processing\n",
    "        evtlabs=(\"re\",\"fe\"),  # use rising-edge and falling-edge as brain response triggers\n",
    "        tau_ms=450, # use 450ms as the brain response duration\n",
    "        calplots=True, # make the end-of-calibration model plots\n",
    "        predplots=False # don't make plots during prediction\n",
    "    )\n",
    "decoder_process = mindaffectBCI.online_bci.startDecoderProcess('decoder', decoder_args)"
   ]
  },
  {
   "cell_type": "code",
   "execution_count": null,
   "id": "72753660",
   "metadata": {},
   "outputs": [],
   "source": [
    "# check all is running?\n",
    "print(\"Hub running {}\".format(hub_process.poll() is None))\n",
    "print(\"Acquisition running {}\".format(acq_process.is_alive()))\n",
    "print(\"Decoder running {}\".format(decoder_process.is_alive()))\n",
    "print(\"Everything running? {}\".format(mindaffectBCI.online_bci.check_is_running(hub_process,acq_process,decoder_process)))\n"
   ]
  },
  {
   "cell_type": "code",
   "execution_count": null,
   "id": "a1fd72a7",
   "metadata": {},
   "outputs": [],
   "source": [
    "\n",
    "symbols=[[\"I'm happy\",\"I'm sad\"], [\"I want to play\",\"I want to sleep\"]],\n",
    "\n",
    "#or alternatively  ->symbols=\"symbols.txt\"\n",
    "\n",
    "# run the presentation, with our matrix and default parameters for a noise tag\n",
    "from mindaffectBCI.examples.presentation import selectionMatrix\n",
    "selectionMatrix.run(symbols=symbols, stimfile=\"mgold_65_6532_psk_60hz.png\")\n",
    "\n",
    "# shutdown the background processes\n",
    "# N.B. only needed if something went wrong..\n",
    "mindaffectBCI.online_bci.shutdown(hub_process, acq_process, decoder_process)\n",
    "\n",
    "\n",
    "config = mindaffectBCI.online_bci.load_config('noisetag_bci')\n",
    "# uncomment this line to use fakedata\n",
    "#config['acquisition']='fakedata'\n",
    "mindaffectBCI.online_bci.run(**config)\n"
   ]
  },
  {
   "cell_type": "code",
   "execution_count": null,
   "id": "b826bbd4",
   "metadata": {},
   "outputs": [],
   "source": []
  }
 ],
 "metadata": {
  "kernelspec": {
   "display_name": "Python 3 (ipykernel)",
   "language": "python",
   "name": "python3"
  },
  "language_info": {
   "codemirror_mode": {
    "name": "ipython",
    "version": 3
   },
   "file_extension": ".py",
   "mimetype": "text/x-python",
   "name": "python",
   "nbconvert_exporter": "python",
   "pygments_lexer": "ipython3",
   "version": "3.10.7"
  }
 },
 "nbformat": 4,
 "nbformat_minor": 5
}
